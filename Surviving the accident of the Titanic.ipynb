{
 "cells": [
  {
   "cell_type": "markdown",
   "metadata": {},
   "source": [
    "# Binary Classifier of likelihood of Surviving the Titanic"
   ]
  },
  {
   "cell_type": "code",
   "execution_count": 1,
   "metadata": {
    "collapsed": true
   },
   "outputs": [],
   "source": [
    "import numpy as np \n",
    "import pandas as pd\n",
    "import seaborn as sns\n",
    "import scipy as sp\n",
    "import matplotlib.pyplot as plt\n",
    "%matplotlib inline"
   ]
  },
  {
   "cell_type": "markdown",
   "metadata": {},
   "source": [
    "# Importing the data"
   ]
  },
  {
   "cell_type": "code",
   "execution_count": 2,
   "metadata": {},
   "outputs": [
    {
     "data": {
      "text/html": [
       "<div>\n",
       "<style>\n",
       "    .dataframe thead tr:only-child th {\n",
       "        text-align: right;\n",
       "    }\n",
       "\n",
       "    .dataframe thead th {\n",
       "        text-align: left;\n",
       "    }\n",
       "\n",
       "    .dataframe tbody tr th {\n",
       "        vertical-align: top;\n",
       "    }\n",
       "</style>\n",
       "<table border=\"1\" class=\"dataframe\">\n",
       "  <thead>\n",
       "    <tr style=\"text-align: right;\">\n",
       "      <th></th>\n",
       "      <th>Survived</th>\n",
       "      <th>Pclass</th>\n",
       "      <th>Name</th>\n",
       "      <th>Sex</th>\n",
       "      <th>Age</th>\n",
       "      <th>Siblings/Spouses Aboard</th>\n",
       "      <th>Parents/Children Aboard</th>\n",
       "      <th>Fare</th>\n",
       "    </tr>\n",
       "  </thead>\n",
       "  <tbody>\n",
       "    <tr>\n",
       "      <th>0</th>\n",
       "      <td>0</td>\n",
       "      <td>3</td>\n",
       "      <td>Mr. Owen Harris Braund</td>\n",
       "      <td>male</td>\n",
       "      <td>22.0</td>\n",
       "      <td>1</td>\n",
       "      <td>0</td>\n",
       "      <td>7.2500</td>\n",
       "    </tr>\n",
       "    <tr>\n",
       "      <th>1</th>\n",
       "      <td>1</td>\n",
       "      <td>1</td>\n",
       "      <td>Mrs. John Bradley (Florence Briggs Thayer) Cum...</td>\n",
       "      <td>female</td>\n",
       "      <td>38.0</td>\n",
       "      <td>1</td>\n",
       "      <td>0</td>\n",
       "      <td>71.2833</td>\n",
       "    </tr>\n",
       "    <tr>\n",
       "      <th>2</th>\n",
       "      <td>1</td>\n",
       "      <td>3</td>\n",
       "      <td>Miss. Laina Heikkinen</td>\n",
       "      <td>female</td>\n",
       "      <td>26.0</td>\n",
       "      <td>0</td>\n",
       "      <td>0</td>\n",
       "      <td>7.9250</td>\n",
       "    </tr>\n",
       "    <tr>\n",
       "      <th>3</th>\n",
       "      <td>1</td>\n",
       "      <td>1</td>\n",
       "      <td>Mrs. Jacques Heath (Lily May Peel) Futrelle</td>\n",
       "      <td>female</td>\n",
       "      <td>35.0</td>\n",
       "      <td>1</td>\n",
       "      <td>0</td>\n",
       "      <td>53.1000</td>\n",
       "    </tr>\n",
       "    <tr>\n",
       "      <th>4</th>\n",
       "      <td>0</td>\n",
       "      <td>3</td>\n",
       "      <td>Mr. William Henry Allen</td>\n",
       "      <td>male</td>\n",
       "      <td>35.0</td>\n",
       "      <td>0</td>\n",
       "      <td>0</td>\n",
       "      <td>8.0500</td>\n",
       "    </tr>\n",
       "  </tbody>\n",
       "</table>\n",
       "</div>"
      ],
      "text/plain": [
       "   Survived  Pclass                                               Name  \\\n",
       "0         0       3                             Mr. Owen Harris Braund   \n",
       "1         1       1  Mrs. John Bradley (Florence Briggs Thayer) Cum...   \n",
       "2         1       3                              Miss. Laina Heikkinen   \n",
       "3         1       1        Mrs. Jacques Heath (Lily May Peel) Futrelle   \n",
       "4         0       3                            Mr. William Henry Allen   \n",
       "\n",
       "      Sex   Age  Siblings/Spouses Aboard  Parents/Children Aboard     Fare  \n",
       "0    male  22.0                        1                        0   7.2500  \n",
       "1  female  38.0                        1                        0  71.2833  \n",
       "2  female  26.0                        0                        0   7.9250  \n",
       "3  female  35.0                        1                        0  53.1000  \n",
       "4    male  35.0                        0                        0   8.0500  "
      ]
     },
     "execution_count": 2,
     "metadata": {},
     "output_type": "execute_result"
    }
   ],
   "source": [
    "training_data = pd.read_csv(r'titanic.csv')\n",
    "training_data.head()"
   ]
  },
  {
   "cell_type": "code",
   "execution_count": 3,
   "metadata": {},
   "outputs": [
    {
     "data": {
      "text/html": [
       "<div>\n",
       "<style>\n",
       "    .dataframe thead tr:only-child th {\n",
       "        text-align: right;\n",
       "    }\n",
       "\n",
       "    .dataframe thead th {\n",
       "        text-align: left;\n",
       "    }\n",
       "\n",
       "    .dataframe tbody tr th {\n",
       "        vertical-align: top;\n",
       "    }\n",
       "</style>\n",
       "<table border=\"1\" class=\"dataframe\">\n",
       "  <thead>\n",
       "    <tr style=\"text-align: right;\">\n",
       "      <th></th>\n",
       "      <th>Pclass</th>\n",
       "      <th>Sex</th>\n",
       "      <th>Age</th>\n",
       "      <th>Siblings/Spouses Aboard</th>\n",
       "      <th>Parents/Children Aboard</th>\n",
       "      <th>Fare</th>\n",
       "    </tr>\n",
       "  </thead>\n",
       "  <tbody>\n",
       "    <tr>\n",
       "      <th>0</th>\n",
       "      <td>3</td>\n",
       "      <td>male</td>\n",
       "      <td>22.0</td>\n",
       "      <td>1</td>\n",
       "      <td>0</td>\n",
       "      <td>7.2500</td>\n",
       "    </tr>\n",
       "    <tr>\n",
       "      <th>1</th>\n",
       "      <td>1</td>\n",
       "      <td>female</td>\n",
       "      <td>38.0</td>\n",
       "      <td>1</td>\n",
       "      <td>0</td>\n",
       "      <td>71.2833</td>\n",
       "    </tr>\n",
       "    <tr>\n",
       "      <th>2</th>\n",
       "      <td>3</td>\n",
       "      <td>female</td>\n",
       "      <td>26.0</td>\n",
       "      <td>0</td>\n",
       "      <td>0</td>\n",
       "      <td>7.9250</td>\n",
       "    </tr>\n",
       "    <tr>\n",
       "      <th>3</th>\n",
       "      <td>1</td>\n",
       "      <td>female</td>\n",
       "      <td>35.0</td>\n",
       "      <td>1</td>\n",
       "      <td>0</td>\n",
       "      <td>53.1000</td>\n",
       "    </tr>\n",
       "    <tr>\n",
       "      <th>4</th>\n",
       "      <td>3</td>\n",
       "      <td>male</td>\n",
       "      <td>35.0</td>\n",
       "      <td>0</td>\n",
       "      <td>0</td>\n",
       "      <td>8.0500</td>\n",
       "    </tr>\n",
       "  </tbody>\n",
       "</table>\n",
       "</div>"
      ],
      "text/plain": [
       "   Pclass     Sex   Age  Siblings/Spouses Aboard  Parents/Children Aboard  \\\n",
       "0       3    male  22.0                        1                        0   \n",
       "1       1  female  38.0                        1                        0   \n",
       "2       3  female  26.0                        0                        0   \n",
       "3       1  female  35.0                        1                        0   \n",
       "4       3    male  35.0                        0                        0   \n",
       "\n",
       "      Fare  \n",
       "0   7.2500  \n",
       "1  71.2833  \n",
       "2   7.9250  \n",
       "3  53.1000  \n",
       "4   8.0500  "
      ]
     },
     "execution_count": 3,
     "metadata": {},
     "output_type": "execute_result"
    }
   ],
   "source": [
    "#Only including the features/factors, excluding the \"Name\" column\n",
    "X=training_data.iloc[:,[1,3,4,5,6,7]]\n",
    "X.head()"
   ]
  },
  {
   "cell_type": "code",
   "execution_count": 4,
   "metadata": {},
   "outputs": [
    {
     "data": {
      "text/html": [
       "<div>\n",
       "<style>\n",
       "    .dataframe thead tr:only-child th {\n",
       "        text-align: right;\n",
       "    }\n",
       "\n",
       "    .dataframe thead th {\n",
       "        text-align: left;\n",
       "    }\n",
       "\n",
       "    .dataframe tbody tr th {\n",
       "        vertical-align: top;\n",
       "    }\n",
       "</style>\n",
       "<table border=\"1\" class=\"dataframe\">\n",
       "  <thead>\n",
       "    <tr style=\"text-align: right;\">\n",
       "      <th></th>\n",
       "      <th>female</th>\n",
       "      <th>male</th>\n",
       "    </tr>\n",
       "  </thead>\n",
       "  <tbody>\n",
       "    <tr>\n",
       "      <th>0</th>\n",
       "      <td>0</td>\n",
       "      <td>1</td>\n",
       "    </tr>\n",
       "    <tr>\n",
       "      <th>1</th>\n",
       "      <td>1</td>\n",
       "      <td>0</td>\n",
       "    </tr>\n",
       "    <tr>\n",
       "      <th>2</th>\n",
       "      <td>1</td>\n",
       "      <td>0</td>\n",
       "    </tr>\n",
       "    <tr>\n",
       "      <th>3</th>\n",
       "      <td>1</td>\n",
       "      <td>0</td>\n",
       "    </tr>\n",
       "    <tr>\n",
       "      <th>4</th>\n",
       "      <td>0</td>\n",
       "      <td>1</td>\n",
       "    </tr>\n",
       "  </tbody>\n",
       "</table>\n",
       "</div>"
      ],
      "text/plain": [
       "   female  male\n",
       "0       0     1\n",
       "1       1     0\n",
       "2       1     0\n",
       "3       1     0\n",
       "4       0     1"
      ]
     },
     "execution_count": 4,
     "metadata": {},
     "output_type": "execute_result"
    }
   ],
   "source": [
    "#Categorising and creating dummy variables\n",
    "indicator=pd.get_dummies(training_data[\"Sex\"])\n",
    "indicator.head()"
   ]
  },
  {
   "cell_type": "markdown",
   "metadata": {},
   "source": [
    "Final dataset with unnormalised data"
   ]
  },
  {
   "cell_type": "code",
   "execution_count": 5,
   "metadata": {},
   "outputs": [
    {
     "data": {
      "text/html": [
       "<div>\n",
       "<style>\n",
       "    .dataframe thead tr:only-child th {\n",
       "        text-align: right;\n",
       "    }\n",
       "\n",
       "    .dataframe thead th {\n",
       "        text-align: left;\n",
       "    }\n",
       "\n",
       "    .dataframe tbody tr th {\n",
       "        vertical-align: top;\n",
       "    }\n",
       "</style>\n",
       "<table border=\"1\" class=\"dataframe\">\n",
       "  <thead>\n",
       "    <tr style=\"text-align: right;\">\n",
       "      <th></th>\n",
       "      <th>Pclass</th>\n",
       "      <th>Age</th>\n",
       "      <th>Siblings/Spouses Aboard</th>\n",
       "      <th>Parents/Children Aboard</th>\n",
       "      <th>Fare</th>\n",
       "      <th>Gender</th>\n",
       "    </tr>\n",
       "  </thead>\n",
       "  <tbody>\n",
       "    <tr>\n",
       "      <th>0</th>\n",
       "      <td>3</td>\n",
       "      <td>22.0</td>\n",
       "      <td>1</td>\n",
       "      <td>0</td>\n",
       "      <td>7.2500</td>\n",
       "      <td>0</td>\n",
       "    </tr>\n",
       "    <tr>\n",
       "      <th>1</th>\n",
       "      <td>1</td>\n",
       "      <td>38.0</td>\n",
       "      <td>1</td>\n",
       "      <td>0</td>\n",
       "      <td>71.2833</td>\n",
       "      <td>1</td>\n",
       "    </tr>\n",
       "    <tr>\n",
       "      <th>2</th>\n",
       "      <td>3</td>\n",
       "      <td>26.0</td>\n",
       "      <td>0</td>\n",
       "      <td>0</td>\n",
       "      <td>7.9250</td>\n",
       "      <td>1</td>\n",
       "    </tr>\n",
       "    <tr>\n",
       "      <th>3</th>\n",
       "      <td>1</td>\n",
       "      <td>35.0</td>\n",
       "      <td>1</td>\n",
       "      <td>0</td>\n",
       "      <td>53.1000</td>\n",
       "      <td>1</td>\n",
       "    </tr>\n",
       "    <tr>\n",
       "      <th>4</th>\n",
       "      <td>3</td>\n",
       "      <td>35.0</td>\n",
       "      <td>0</td>\n",
       "      <td>0</td>\n",
       "      <td>8.0500</td>\n",
       "      <td>0</td>\n",
       "    </tr>\n",
       "  </tbody>\n",
       "</table>\n",
       "</div>"
      ],
      "text/plain": [
       "   Pclass   Age  Siblings/Spouses Aboard  Parents/Children Aboard     Fare  \\\n",
       "0       3  22.0                        1                        0   7.2500   \n",
       "1       1  38.0                        1                        0  71.2833   \n",
       "2       3  26.0                        0                        0   7.9250   \n",
       "3       1  35.0                        1                        0  53.1000   \n",
       "4       3  35.0                        0                        0   8.0500   \n",
       "\n",
       "   Gender  \n",
       "0       0  \n",
       "1       1  \n",
       "2       1  \n",
       "3       1  \n",
       "4       0  "
      ]
     },
     "execution_count": 5,
     "metadata": {},
     "output_type": "execute_result"
    }
   ],
   "source": [
    "#Final dataset with unnormalised data\n",
    "X2=pd.concat([X,indicator],axis=1)\n",
    "X3=X2.iloc[:,[0,2,3,4,5,6]]\n",
    "Final=X3.rename(columns={'female':'Gender'})\n",
    "Final.head()"
   ]
  },
  {
   "cell_type": "code",
   "execution_count": 6,
   "metadata": {
    "collapsed": true
   },
   "outputs": [],
   "source": [
    "#The observed values for the \"Survived\" column\n",
    "Output=training_data.iloc[:,0]"
   ]
  },
  {
   "cell_type": "code",
   "execution_count": 7,
   "metadata": {},
   "outputs": [
    {
     "data": {
      "text/html": [
       "<div>\n",
       "<style>\n",
       "    .dataframe thead tr:only-child th {\n",
       "        text-align: right;\n",
       "    }\n",
       "\n",
       "    .dataframe thead th {\n",
       "        text-align: left;\n",
       "    }\n",
       "\n",
       "    .dataframe tbody tr th {\n",
       "        vertical-align: top;\n",
       "    }\n",
       "</style>\n",
       "<table border=\"1\" class=\"dataframe\">\n",
       "  <thead>\n",
       "    <tr style=\"text-align: right;\">\n",
       "      <th></th>\n",
       "      <th>Pclass</th>\n",
       "      <th>Age</th>\n",
       "      <th>Siblings/Spouses Aboard</th>\n",
       "      <th>Parents/Children Aboard</th>\n",
       "      <th>Fare</th>\n",
       "      <th>Gender</th>\n",
       "      <th>Survived</th>\n",
       "    </tr>\n",
       "  </thead>\n",
       "  <tbody>\n",
       "    <tr>\n",
       "      <th>0</th>\n",
       "      <td>3</td>\n",
       "      <td>22.0</td>\n",
       "      <td>1</td>\n",
       "      <td>0</td>\n",
       "      <td>7.2500</td>\n",
       "      <td>0</td>\n",
       "      <td>0</td>\n",
       "    </tr>\n",
       "    <tr>\n",
       "      <th>1</th>\n",
       "      <td>1</td>\n",
       "      <td>38.0</td>\n",
       "      <td>1</td>\n",
       "      <td>0</td>\n",
       "      <td>71.2833</td>\n",
       "      <td>1</td>\n",
       "      <td>1</td>\n",
       "    </tr>\n",
       "    <tr>\n",
       "      <th>2</th>\n",
       "      <td>3</td>\n",
       "      <td>26.0</td>\n",
       "      <td>0</td>\n",
       "      <td>0</td>\n",
       "      <td>7.9250</td>\n",
       "      <td>1</td>\n",
       "      <td>1</td>\n",
       "    </tr>\n",
       "    <tr>\n",
       "      <th>3</th>\n",
       "      <td>1</td>\n",
       "      <td>35.0</td>\n",
       "      <td>1</td>\n",
       "      <td>0</td>\n",
       "      <td>53.1000</td>\n",
       "      <td>1</td>\n",
       "      <td>1</td>\n",
       "    </tr>\n",
       "    <tr>\n",
       "      <th>4</th>\n",
       "      <td>3</td>\n",
       "      <td>35.0</td>\n",
       "      <td>0</td>\n",
       "      <td>0</td>\n",
       "      <td>8.0500</td>\n",
       "      <td>0</td>\n",
       "      <td>0</td>\n",
       "    </tr>\n",
       "  </tbody>\n",
       "</table>\n",
       "</div>"
      ],
      "text/plain": [
       "   Pclass   Age  Siblings/Spouses Aboard  Parents/Children Aboard     Fare  \\\n",
       "0       3  22.0                        1                        0   7.2500   \n",
       "1       1  38.0                        1                        0  71.2833   \n",
       "2       3  26.0                        0                        0   7.9250   \n",
       "3       1  35.0                        1                        0  53.1000   \n",
       "4       3  35.0                        0                        0   8.0500   \n",
       "\n",
       "   Gender  Survived  \n",
       "0       0         0  \n",
       "1       1         1  \n",
       "2       1         1  \n",
       "3       1         1  \n",
       "4       0         0  "
      ]
     },
     "execution_count": 7,
     "metadata": {},
     "output_type": "execute_result"
    }
   ],
   "source": [
    "Combine=pd.concat([Final,Output],axis=1)\n",
    "Combine.head()"
   ]
  },
  {
   "cell_type": "markdown",
   "metadata": {
    "collapsed": true
   },
   "source": [
    "# Insights from the data"
   ]
  },
  {
   "cell_type": "code",
   "execution_count": 8,
   "metadata": {},
   "outputs": [
    {
     "data": {
      "image/png": "[encoded data removed]",
      "text/plain": [
       "<matplotlib.figure.Figure at 0x10b44a4a8>"
      ]
     },
     "metadata": {},
     "output_type": "display_data"
    }
   ],
   "source": [
    "g = sns.pairplot(Combine, hue='Survived')\n",
    "for i, j in zip(*np.triu_indices_from(g.axes, 1)):\n",
    "    g.axes[i, j].set_visible(False)"
   ]
  },
  {
   "cell_type": "code",
   "execution_count": 9,
   "metadata": {},
   "outputs": [
    {
     "data": {
      "image/png": "[encoded data removed]",
      "text/plain": [
       "<matplotlib.figure.Figure at 0x1a1e59c4a8>"
      ]
     },
     "metadata": {},
     "output_type": "display_data"
    }
   ],
   "source": [
    "sns.heatmap(Final.corr())\n",
    "plt.show()"
   ]
  },
  {
   "cell_type": "code",
   "execution_count": 10,
   "metadata": {},
   "outputs": [
    {
     "data": {
      "text/html": [
       "<div>\n",
       "<style>\n",
       "    .dataframe thead tr:only-child th {\n",
       "        text-align: right;\n",
       "    }\n",
       "\n",
       "    .dataframe thead th {\n",
       "        text-align: left;\n",
       "    }\n",
       "\n",
       "    .dataframe tbody tr th {\n",
       "        vertical-align: top;\n",
       "    }\n",
       "</style>\n",
       "<table border=\"1\" class=\"dataframe\">\n",
       "  <thead>\n",
       "    <tr style=\"text-align: right;\">\n",
       "      <th></th>\n",
       "      <th>Pclass</th>\n",
       "      <th>Age</th>\n",
       "      <th>Siblings/Spouses Aboard</th>\n",
       "      <th>Parents/Children Aboard</th>\n",
       "      <th>Fare</th>\n",
       "      <th>Gender</th>\n",
       "      <th>Survived</th>\n",
       "    </tr>\n",
       "  </thead>\n",
       "  <tbody>\n",
       "    <tr>\n",
       "      <th>Pclass</th>\n",
       "      <td>1.000000</td>\n",
       "      <td>-0.391492</td>\n",
       "      <td>0.085026</td>\n",
       "      <td>0.020252</td>\n",
       "      <td>-0.548919</td>\n",
       "      <td>-0.129507</td>\n",
       "      <td>-0.336528</td>\n",
       "    </tr>\n",
       "    <tr>\n",
       "      <th>Age</th>\n",
       "      <td>-0.391492</td>\n",
       "      <td>1.000000</td>\n",
       "      <td>-0.297669</td>\n",
       "      <td>-0.193741</td>\n",
       "      <td>0.112329</td>\n",
       "      <td>-0.091875</td>\n",
       "      <td>-0.059665</td>\n",
       "    </tr>\n",
       "    <tr>\n",
       "      <th>Siblings/Spouses Aboard</th>\n",
       "      <td>0.085026</td>\n",
       "      <td>-0.297669</td>\n",
       "      <td>1.000000</td>\n",
       "      <td>0.414244</td>\n",
       "      <td>0.158839</td>\n",
       "      <td>0.113249</td>\n",
       "      <td>-0.037082</td>\n",
       "    </tr>\n",
       "    <tr>\n",
       "      <th>Parents/Children Aboard</th>\n",
       "      <td>0.020252</td>\n",
       "      <td>-0.193741</td>\n",
       "      <td>0.414244</td>\n",
       "      <td>1.000000</td>\n",
       "      <td>0.215470</td>\n",
       "      <td>0.244337</td>\n",
       "      <td>0.080097</td>\n",
       "    </tr>\n",
       "    <tr>\n",
       "      <th>Fare</th>\n",
       "      <td>-0.548919</td>\n",
       "      <td>0.112329</td>\n",
       "      <td>0.158839</td>\n",
       "      <td>0.215470</td>\n",
       "      <td>1.000000</td>\n",
       "      <td>0.181137</td>\n",
       "      <td>0.256179</td>\n",
       "    </tr>\n",
       "    <tr>\n",
       "      <th>Gender</th>\n",
       "      <td>-0.129507</td>\n",
       "      <td>-0.091875</td>\n",
       "      <td>0.113249</td>\n",
       "      <td>0.244337</td>\n",
       "      <td>0.181137</td>\n",
       "      <td>1.000000</td>\n",
       "      <td>0.542152</td>\n",
       "    </tr>\n",
       "    <tr>\n",
       "      <th>Survived</th>\n",
       "      <td>-0.336528</td>\n",
       "      <td>-0.059665</td>\n",
       "      <td>-0.037082</td>\n",
       "      <td>0.080097</td>\n",
       "      <td>0.256179</td>\n",
       "      <td>0.542152</td>\n",
       "      <td>1.000000</td>\n",
       "    </tr>\n",
       "  </tbody>\n",
       "</table>\n",
       "</div>"
      ],
      "text/plain": [
       "                           Pclass       Age  Siblings/Spouses Aboard  \\\n",
       "Pclass                   1.000000 -0.391492                 0.085026   \n",
       "Age                     -0.391492  1.000000                -0.297669   \n",
       "Siblings/Spouses Aboard  0.085026 -0.297669                 1.000000   \n",
       "Parents/Children Aboard  0.020252 -0.193741                 0.414244   \n",
       "Fare                    -0.548919  0.112329                 0.158839   \n",
       "Gender                  -0.129507 -0.091875                 0.113249   \n",
       "Survived                -0.336528 -0.059665                -0.037082   \n",
       "\n",
       "                         Parents/Children Aboard      Fare    Gender  Survived  \n",
       "Pclass                                  0.020252 -0.548919 -0.129507 -0.336528  \n",
       "Age                                    -0.193741  0.112329 -0.091875 -0.059665  \n",
       "Siblings/Spouses Aboard                 0.414244  0.158839  0.113249 -0.037082  \n",
       "Parents/Children Aboard                 1.000000  0.215470  0.244337  0.080097  \n",
       "Fare                                    0.215470  1.000000  0.181137  0.256179  \n",
       "Gender                                  0.244337  0.181137  1.000000  0.542152  \n",
       "Survived                                0.080097  0.256179  0.542152  1.000000  "
      ]
     },
     "execution_count": 10,
     "metadata": {},
     "output_type": "execute_result"
    }
   ],
   "source": [
    "Combine.corr(method ='pearson')"
   ]
  },
  {
   "cell_type": "markdown",
   "metadata": {},
   "source": [
    "Top most correlated features with survived are Gender, Pclass and Fare. Also, the Pclass and Fare have a negative correlation. "
   ]
  },
  {
   "cell_type": "code",
   "execution_count": 11,
   "metadata": {},
   "outputs": [
    {
     "data": {
      "text/plain": [
       "<matplotlib.axes._subplots.AxesSubplot at 0x1a1fc5a940>"
      ]
     },
     "execution_count": 11,
     "metadata": {},
     "output_type": "execute_result"
    },
    {
     "data": {
      "image/png": "[encoded data removed]",
      "text/plain": [
       "<matplotlib.figure.Figure at 0x1a1c5898d0>"
      ]
     },
     "metadata": {},
     "output_type": "display_data"
    }
   ],
   "source": [
    "sns.barplot(x='Pclass', y='Survived', data=training_data)"
   ]
  },
  {
   "cell_type": "code",
   "execution_count": 12,
   "metadata": {},
   "outputs": [
    {
     "data": {
      "text/plain": [
       "<matplotlib.axes._subplots.AxesSubplot at 0x1a1dd4b9e8>"
      ]
     },
     "execution_count": 12,
     "metadata": {},
     "output_type": "execute_result"
    },
    {
     "data": {
      "image/png": "[encoded data removed]",
      "text/plain": [
       "<matplotlib.figure.Figure at 0x1a1e737978>"
      ]
     },
     "metadata": {},
     "output_type": "display_data"
    }
   ],
   "source": [
    "sns.barplot(x='Siblings/Spouses Aboard', y='Survived', data=training_data)"
   ]
  },
  {
   "cell_type": "code",
   "execution_count": 13,
   "metadata": {},
   "outputs": [
    {
     "data": {
      "text/plain": [
       "<matplotlib.axes._subplots.AxesSubplot at 0x1a1fbc3a20>"
      ]
     },
     "execution_count": 13,
     "metadata": {},
     "output_type": "execute_result"
    },
    {
     "data": {
      "image/png": "[encoded data removed]",
      "text/plain": [
       "<matplotlib.figure.Figure at 0x1a1e63fc88>"
      ]
     },
     "metadata": {},
     "output_type": "display_data"
    }
   ],
   "source": [
    "sns.barplot(x='Parents/Children Aboard', y='Survived', data=training_data)"
   ]
  },
  {
   "cell_type": "code",
   "execution_count": 14,
   "metadata": {},
   "outputs": [
    {
     "data": {
      "text/plain": [
       "<matplotlib.axes._subplots.AxesSubplot at 0x1a1fe38b70>"
      ]
     },
     "execution_count": 14,
     "metadata": {},
     "output_type": "execute_result"
    },
    {
     "data": {
      "image/png": "[encoded data removed]",
      "text/plain": [
       "<matplotlib.figure.Figure at 0x1a13c38470>"
      ]
     },
     "metadata": {},
     "output_type": "display_data"
    }
   ],
   "source": [
    "sns.barplot(x='Sex', y='Survived', data=training_data)"
   ]
  },
  {
   "cell_type": "code",
   "execution_count": 15,
   "metadata": {},
   "outputs": [
    {
     "data": {
      "image/png": "[encoded data removed]",
      "text/plain": [
       "<matplotlib.figure.Figure at 0x1a1ff455f8>"
      ]
     },
     "metadata": {},
     "output_type": "display_data"
    }
   ],
   "source": [
    "X = Final.iloc[:,:] \n",
    "y = training_data.iloc[:,0]\n",
    "survived = Final.loc[y == 1]\n",
    "not_survived = Final.loc[y == 0]\n",
    "plt.scatter(survived.iloc[:, 1], survived.iloc[:, 2], s=10, label='survived')\n",
    "plt.scatter(not_survived.iloc[:, 1], not_survived.iloc[:, 2], s=10, label='Not survived')\n",
    "plt.xlabel('Age')\n",
    "plt.ylabel('Siblings/Spouses Aboard')\n",
    "plt.legend()\n",
    "plt.show()"
   ]
  },
  {
   "cell_type": "code",
   "execution_count": 16,
   "metadata": {},
   "outputs": [
    {
     "data": {
      "text/plain": [
       "<function matplotlib.pyplot.show>"
      ]
     },
     "execution_count": 16,
     "metadata": {},
     "output_type": "execute_result"
    },
    {
     "data": {
      "image/png": "[encoded data removed]",
      "text/plain": [
       "<matplotlib.figure.Figure at 0x1a1ff7e128>"
      ]
     },
     "metadata": {},
     "output_type": "display_data"
    }
   ],
   "source": [
    "X = Final.iloc[:,:]\n",
    "y = training_data.iloc[:,0]\n",
    "survived = Final.loc[y == 1]\n",
    "not_survived = Final.loc[y == 0]\n",
    "plt.scatter(survived.iloc[:, 1], survived.iloc[:, 5], s=10, label='survived')\n",
    "plt.scatter(not_survived.iloc[:, 1], not_survived.iloc[:, 5], s=10, label='Not survived')\n",
    "plt.xlabel('Age')\n",
    "plt.ylabel('Gender')\n",
    "plt.legend()\n",
    "plt.show"
   ]
  },
  {
   "cell_type": "code",
   "execution_count": 17,
   "metadata": {},
   "outputs": [
    {
     "data": {
      "text/plain": [
       "<function matplotlib.pyplot.show>"
      ]
     },
     "execution_count": 17,
     "metadata": {},
     "output_type": "execute_result"
    },
    {
     "data": {
      "image/png": "[encoded data removed]",
      "text/plain": [
       "<matplotlib.figure.Figure at 0x1a200c6f28>"
      ]
     },
     "metadata": {},
     "output_type": "display_data"
    }
   ],
   "source": [
    "X = Final.iloc[:,:]\n",
    "y = training_data.iloc[:,0]\n",
    "survived = Final.loc[y == 1]\n",
    "not_survived = Final.loc[y == 0]\n",
    "plt.scatter(survived.iloc[:, 1], survived.iloc[:, 4], s=10, label='survived')\n",
    "plt.scatter(not_survived.iloc[:, 1], not_survived.iloc[:, 4], s=10, label='Not survived')\n",
    "plt.xlabel('Age')\n",
    "plt.ylabel('Fare')\n",
    "plt.legend()\n",
    "plt.show"
   ]
  },
  {
   "cell_type": "code",
   "execution_count": 18,
   "metadata": {},
   "outputs": [
    {
     "data": {
      "text/plain": [
       "<function matplotlib.pyplot.show>"
      ]
     },
     "execution_count": 18,
     "metadata": {},
     "output_type": "execute_result"
    },
    {
     "data": {
      "image/png": "[encoded data removed]",
      "text/plain": [
       "<matplotlib.figure.Figure at 0x1a1fff8a90>"
      ]
     },
     "metadata": {},
     "output_type": "display_data"
    }
   ],
   "source": [
    "X = Final.iloc[:,:]\n",
    "y = training_data.iloc[:,0]\n",
    "survived = Final.loc[y == 1]\n",
    "not_survived = Final.loc[y == 0]\n",
    "plt.scatter(survived.iloc[:, 0], survived.iloc[:, 4], s=10, label='survived')\n",
    "plt.scatter(not_survived.iloc[:, 0], not_survived.iloc[:, 4], s=10, label='Not survived')\n",
    "plt.xlabel('Pclass')\n",
    "plt.ylabel('Fare')\n",
    "plt.legend()\n",
    "plt.show"
   ]
  },
  {
   "cell_type": "code",
   "execution_count": 19,
   "metadata": {},
   "outputs": [
    {
     "data": {
      "text/html": [
       "<div>\n",
       "<style>\n",
       "    .dataframe thead tr:only-child th {\n",
       "        text-align: right;\n",
       "    }\n",
       "\n",
       "    .dataframe thead th {\n",
       "        text-align: left;\n",
       "    }\n",
       "\n",
       "    .dataframe tbody tr th {\n",
       "        vertical-align: top;\n",
       "    }\n",
       "</style>\n",
       "<table border=\"1\" class=\"dataframe\">\n",
       "  <thead>\n",
       "    <tr style=\"text-align: right;\">\n",
       "      <th></th>\n",
       "      <th>Pclass</th>\n",
       "      <th>Age</th>\n",
       "      <th>Siblings/Spouses Aboard</th>\n",
       "      <th>Parents/Children Aboard</th>\n",
       "      <th>Fare</th>\n",
       "      <th>Gender</th>\n",
       "    </tr>\n",
       "  </thead>\n",
       "  <tbody>\n",
       "    <tr>\n",
       "      <th>count</th>\n",
       "      <td>887.000000</td>\n",
       "      <td>887.000000</td>\n",
       "      <td>887.000000</td>\n",
       "      <td>887.000000</td>\n",
       "      <td>887.00000</td>\n",
       "      <td>887.000000</td>\n",
       "    </tr>\n",
       "    <tr>\n",
       "      <th>mean</th>\n",
       "      <td>2.305524</td>\n",
       "      <td>29.471443</td>\n",
       "      <td>0.525366</td>\n",
       "      <td>0.383315</td>\n",
       "      <td>32.30542</td>\n",
       "      <td>0.354002</td>\n",
       "    </tr>\n",
       "    <tr>\n",
       "      <th>std</th>\n",
       "      <td>0.836662</td>\n",
       "      <td>14.121908</td>\n",
       "      <td>1.104669</td>\n",
       "      <td>0.807466</td>\n",
       "      <td>49.78204</td>\n",
       "      <td>0.478480</td>\n",
       "    </tr>\n",
       "    <tr>\n",
       "      <th>min</th>\n",
       "      <td>1.000000</td>\n",
       "      <td>0.420000</td>\n",
       "      <td>0.000000</td>\n",
       "      <td>0.000000</td>\n",
       "      <td>0.00000</td>\n",
       "      <td>0.000000</td>\n",
       "    </tr>\n",
       "    <tr>\n",
       "      <th>25%</th>\n",
       "      <td>2.000000</td>\n",
       "      <td>20.250000</td>\n",
       "      <td>0.000000</td>\n",
       "      <td>0.000000</td>\n",
       "      <td>7.92500</td>\n",
       "      <td>0.000000</td>\n",
       "    </tr>\n",
       "    <tr>\n",
       "      <th>50%</th>\n",
       "      <td>3.000000</td>\n",
       "      <td>28.000000</td>\n",
       "      <td>0.000000</td>\n",
       "      <td>0.000000</td>\n",
       "      <td>14.45420</td>\n",
       "      <td>0.000000</td>\n",
       "    </tr>\n",
       "    <tr>\n",
       "      <th>75%</th>\n",
       "      <td>3.000000</td>\n",
       "      <td>38.000000</td>\n",
       "      <td>1.000000</td>\n",
       "      <td>0.000000</td>\n",
       "      <td>31.13750</td>\n",
       "      <td>1.000000</td>\n",
       "    </tr>\n",
       "    <tr>\n",
       "      <th>max</th>\n",
       "      <td>3.000000</td>\n",
       "      <td>80.000000</td>\n",
       "      <td>8.000000</td>\n",
       "      <td>6.000000</td>\n",
       "      <td>512.32920</td>\n",
       "      <td>1.000000</td>\n",
       "    </tr>\n",
       "  </tbody>\n",
       "</table>\n",
       "</div>"
      ],
      "text/plain": [
       "           Pclass         Age  Siblings/Spouses Aboard  \\\n",
       "count  887.000000  887.000000               887.000000   \n",
       "mean     2.305524   29.471443                 0.525366   \n",
       "std      0.836662   14.121908                 1.104669   \n",
       "min      1.000000    0.420000                 0.000000   \n",
       "25%      2.000000   20.250000                 0.000000   \n",
       "50%      3.000000   28.000000                 0.000000   \n",
       "75%      3.000000   38.000000                 1.000000   \n",
       "max      3.000000   80.000000                 8.000000   \n",
       "\n",
       "       Parents/Children Aboard       Fare      Gender  \n",
       "count               887.000000  887.00000  887.000000  \n",
       "mean                  0.383315   32.30542    0.354002  \n",
       "std                   0.807466   49.78204    0.478480  \n",
       "min                   0.000000    0.00000    0.000000  \n",
       "25%                   0.000000    7.92500    0.000000  \n",
       "50%                   0.000000   14.45420    0.000000  \n",
       "75%                   0.000000   31.13750    1.000000  \n",
       "max                   6.000000  512.32920    1.000000  "
      ]
     },
     "execution_count": 19,
     "metadata": {},
     "output_type": "execute_result"
    }
   ],
   "source": [
    "Final.describe()"
   ]
  },
  {
   "cell_type": "markdown",
   "metadata": {},
   "source": [
    "# Counts"
   ]
  },
  {
   "cell_type": "markdown",
   "metadata": {},
   "source": [
    "Counting the number of people in each category"
   ]
  },
  {
   "cell_type": "code",
   "execution_count": 20,
   "metadata": {},
   "outputs": [
    {
     "data": {
      "text/plain": [
       "1    216\n",
       "2    184\n",
       "3    487\n",
       "Name: Pclass, dtype: int64"
      ]
     },
     "execution_count": 20,
     "metadata": {},
     "output_type": "execute_result"
    }
   ],
   "source": [
    "training_data['Pclass'].value_counts(sort=False, ascending=True)"
   ]
  },
  {
   "cell_type": "code",
   "execution_count": 21,
   "metadata": {},
   "outputs": [
    {
     "data": {
      "text/plain": [
       "22.00    39\n",
       "28.00    37\n",
       "18.00    36\n",
       "21.00    34\n",
       "24.00    34\n",
       "19.00    33\n",
       "30.00    33\n",
       "27.00    26\n",
       "29.00    25\n",
       "23.00    25\n",
       "25.00    24\n",
       "20.00    23\n",
       "36.00    23\n",
       "26.00    21\n",
       "35.00    21\n",
       "32.00    21\n",
       "16.00    20\n",
       "31.00    19\n",
       "40.00    18\n",
       "39.00    18\n",
       "34.00    17\n",
       "33.00    17\n",
       "42.00    17\n",
       "17.00    16\n",
       "45.00    14\n",
       "37.00    12\n",
       "48.00    12\n",
       "38.00    12\n",
       "4.00     11\n",
       "2.00     11\n",
       "         ..\n",
       "66.00     2\n",
       "59.00     2\n",
       "28.50     2\n",
       "45.50     2\n",
       "0.83      2\n",
       "30.50     2\n",
       "70.00     2\n",
       "0.75      2\n",
       "10.00     2\n",
       "63.00     2\n",
       "13.00     2\n",
       "40.50     2\n",
       "32.50     2\n",
       "71.00     2\n",
       "12.00     2\n",
       "0.67      1\n",
       "0.92      1\n",
       "74.00     1\n",
       "34.50     1\n",
       "14.50     1\n",
       "24.50     1\n",
       "80.00     1\n",
       "20.50     1\n",
       "53.00     1\n",
       "69.00     1\n",
       "70.50     1\n",
       "36.50     1\n",
       "23.50     1\n",
       "55.50     1\n",
       "0.42      1\n",
       "Name: Age, Length: 89, dtype: int64"
      ]
     },
     "execution_count": 21,
     "metadata": {},
     "output_type": "execute_result"
    }
   ],
   "source": [
    "training_data['Age'].value_counts(sort=True, ascending=False)"
   ]
  },
  {
   "cell_type": "code",
   "execution_count": 22,
   "metadata": {},
   "outputs": [
    {
     "data": {
      "text/plain": [
       "(0.41999999999999998, 80.0)"
      ]
     },
     "execution_count": 22,
     "metadata": {},
     "output_type": "execute_result"
    }
   ],
   "source": [
    "min(training_data['Age']), max(training_data['Age'])"
   ]
  },
  {
   "cell_type": "code",
   "execution_count": 23,
   "metadata": {},
   "outputs": [
    {
     "name": "stdout",
     "output_type": "stream",
     "text": [
      "Age<=10: 73\n",
      "10<Age<=20: 149\n",
      "20<Age<=30: 303\n",
      "30<Age<=40: 184\n",
      "40<Age<=50: 106\n",
      "50<Age<=60: 46\n",
      "60<Age<=70: 21\n",
      "70<Age<=80: 5\n",
      "Age>80: 0\n"
     ]
    }
   ],
   "source": [
    "print(\"Age<=10:\",len(np.array(np.where(Final['Age']<=10)).T))\n",
    "print(\"10<Age<=20:\",len(np.array(np.where(Final['Age']<=20)).T)-len(np.array(np.where(Final['Age']<=10)).T))\n",
    "print(\"20<Age<=30:\",len(np.array(np.where(Final['Age']<=30)).T)-len(np.array(np.where(Final['Age']<=20)).T))\n",
    "print(\"30<Age<=40:\",len(np.array(np.where(Final['Age']<=40)).T)-len(np.array(np.where(Final['Age']<=30)).T))\n",
    "print(\"40<Age<=50:\",len(np.array(np.where(Final['Age']<=50)).T)-len(np.array(np.where(Final['Age']<=40)).T))\n",
    "print(\"50<Age<=60:\",len(np.array(np.where(Final['Age']<=60)).T)-len(np.array(np.where(Final['Age']<=50)).T))\n",
    "print(\"60<Age<=70:\",len(np.array(np.where(Final['Age']<=70)).T)-len(np.array(np.where(Final['Age']<=60)).T))\n",
    "print(\"70<Age<=80:\",len(np.array(np.where(Final['Age']<=80)).T)-len(np.array(np.where(Final['Age']<=70)).T))\n",
    "print(\"Age>80:\",len(np.array(np.where(Final['Age']>80)).T))"
   ]
  },
  {
   "cell_type": "code",
   "execution_count": 24,
   "metadata": {},
   "outputs": [
    {
     "data": {
      "text/plain": [
       "0    604\n",
       "1    209\n",
       "2     28\n",
       "3     16\n",
       "4     18\n",
       "5      5\n",
       "8      7\n",
       "Name: Siblings/Spouses Aboard, dtype: int64"
      ]
     },
     "execution_count": 24,
     "metadata": {},
     "output_type": "execute_result"
    }
   ],
   "source": [
    "training_data['Siblings/Spouses Aboard'].value_counts(sort=False, ascending=True)"
   ]
  },
  {
   "cell_type": "code",
   "execution_count": 25,
   "metadata": {},
   "outputs": [
    {
     "data": {
      "text/plain": [
       "0    674\n",
       "1    118\n",
       "2     80\n",
       "3      5\n",
       "4      4\n",
       "5      5\n",
       "6      1\n",
       "Name: Parents/Children Aboard, dtype: int64"
      ]
     },
     "execution_count": 25,
     "metadata": {},
     "output_type": "execute_result"
    }
   ],
   "source": [
    "training_data['Parents/Children Aboard'].value_counts(sort=False, ascending=True)"
   ]
  },
  {
   "cell_type": "code",
   "execution_count": 26,
   "metadata": {},
   "outputs": [
    {
     "data": {
      "text/plain": [
       "8.0500      43\n",
       "13.0000     42\n",
       "7.8958      36\n",
       "7.7500      33\n",
       "26.0000     31\n",
       "10.5000     24\n",
       "7.9250      18\n",
       "7.7750      16\n",
       "26.5500     15\n",
       "0.0000      15\n",
       "7.2292      15\n",
       "7.8542      13\n",
       "8.6625      13\n",
       "7.2500      13\n",
       "7.2250      12\n",
       "16.1000      9\n",
       "9.5000       9\n",
       "24.1500      8\n",
       "56.4958      7\n",
       "15.5000      7\n",
       "52.0000      7\n",
       "14.5000      7\n",
       "14.4542      7\n",
       "69.5500      7\n",
       "7.0500       7\n",
       "31.2750      7\n",
       "46.9000      6\n",
       "30.0000      6\n",
       "7.7958       6\n",
       "39.6875      6\n",
       "            ..\n",
       "7.1417       1\n",
       "42.4000      1\n",
       "211.5000     1\n",
       "12.2750      1\n",
       "61.1750      1\n",
       "8.4333       1\n",
       "51.4792      1\n",
       "7.8875       1\n",
       "8.6833       1\n",
       "7.5208       1\n",
       "34.6542      1\n",
       "28.7125      1\n",
       "25.5875      1\n",
       "7.7292       1\n",
       "12.2875      1\n",
       "8.6542       1\n",
       "8.7125       1\n",
       "61.3792      1\n",
       "6.9500       1\n",
       "9.8417       1\n",
       "8.3000       1\n",
       "13.7917      1\n",
       "9.4750       1\n",
       "13.4167      1\n",
       "26.3875      1\n",
       "8.4583       1\n",
       "9.8375       1\n",
       "8.3625       1\n",
       "14.1083      1\n",
       "17.4000      1\n",
       "Name: Fare, Length: 248, dtype: int64"
      ]
     },
     "execution_count": 26,
     "metadata": {},
     "output_type": "execute_result"
    }
   ],
   "source": [
    "training_data['Fare'].value_counts(sort=True, ascending=False)"
   ]
  },
  {
   "cell_type": "code",
   "execution_count": 27,
   "metadata": {},
   "outputs": [
    {
     "data": {
      "text/plain": [
       "(0.0, 512.32920000000001)"
      ]
     },
     "execution_count": 27,
     "metadata": {},
     "output_type": "execute_result"
    }
   ],
   "source": [
    "min(training_data['Fare']), max(training_data['Fare'])"
   ]
  },
  {
   "cell_type": "code",
   "execution_count": 28,
   "metadata": {},
   "outputs": [
    {
     "name": "stdout",
     "output_type": "stream",
     "text": [
      "Fare<=5: 17\n",
      "5<Fare<=10: 316\n",
      "10<Fare<=15: 122\n",
      "15<Fare<=30: 198\n",
      "30<Fare<=50: 74\n",
      "50<Fare<=100: 107\n",
      "100<Fare<=150: 24\n",
      "150<Fare<=200: 9\n",
      "200<Fare<=513: 20\n",
      "Fare>513: 0\n"
     ]
    }
   ],
   "source": [
    "print(\"Fare<=5:\",len(np.array(np.where(Final['Fare']<=5)).T))\n",
    "print(\"5<Fare<=10:\",len(np.array(np.where(Final['Fare']<=10)).T)-len(np.array(np.where(Final['Fare']<=5)).T))\n",
    "print(\"10<Fare<=15:\",len(np.array(np.where(Final['Fare']<=15)).T)-len(np.array(np.where(Final['Fare']<=10)).T))\n",
    "print(\"15<Fare<=30:\",len(np.array(np.where(Final['Fare']<=30)).T)-len(np.array(np.where(Final['Fare']<=15)).T))\n",
    "print(\"30<Fare<=50:\",len(np.array(np.where(Final['Fare']<=50)).T)-len(np.array(np.where(Final['Fare']<=30)).T))\n",
    "print(\"50<Fare<=100:\",len(np.array(np.where(Final['Fare']<=100)).T)-len(np.array(np.where(Final['Fare']<=50)).T))\n",
    "print(\"100<Fare<=150:\",len(np.array(np.where(Final['Fare']<=150)).T)-len(np.array(np.where(Final['Fare']<=100)).T))\n",
    "print(\"150<Fare<=200:\",len(np.array(np.where(Final['Fare']<=200)).T)-len(np.array(np.where(Final['Fare']<=150)).T))\n",
    "print(\"200<Fare<=513:\",len(np.array(np.where(Final['Fare']<=513)).T)-len(np.array(np.where(Final['Fare']<=200)).T))\n",
    "print(\"Fare>513:\",len(np.array(np.where(Final['Fare']>513)).T))"
   ]
  },
  {
   "cell_type": "code",
   "execution_count": 29,
   "metadata": {},
   "outputs": [
    {
     "data": {
      "text/plain": [
       "male      573\n",
       "female    314\n",
       "Name: Sex, dtype: int64"
      ]
     },
     "execution_count": 29,
     "metadata": {},
     "output_type": "execute_result"
    }
   ],
   "source": [
    "training_data['Sex'].value_counts()"
   ]
  },
  {
   "cell_type": "code",
   "execution_count": 30,
   "metadata": {},
   "outputs": [
    {
     "data": {
      "text/plain": [
       "0    545\n",
       "1    342\n",
       "Name: Survived, dtype: int64"
      ]
     },
     "execution_count": 30,
     "metadata": {},
     "output_type": "execute_result"
    }
   ],
   "source": [
    "training_data['Survived'].value_counts()"
   ]
  },
  {
   "cell_type": "markdown",
   "metadata": {},
   "source": [
    "# Finding the proportion survived in each category"
   ]
  },
  {
   "cell_type": "code",
   "execution_count": 31,
   "metadata": {},
   "outputs": [
    {
     "name": "stdout",
     "output_type": "stream",
     "text": [
      "Proportion of Pclass 1 survived: 0.62962962963\n",
      "Proportion of Pclass 2 survived: 0.472826086957\n",
      "Proportion of Pclass 3 survived: 0.244353182752\n"
     ]
    }
   ],
   "source": [
    "def proportions_pclass_survived():\n",
    "    X = Final.iloc[:,:] \n",
    "    y = training_data.iloc[:,0]\n",
    "    survived = Final.loc[y == 1]\n",
    "    not_survived = Final.loc[y == 0]\n",
    "\n",
    "    S1= (np.array(np.where((survived.iloc[:, 0]==1))).shape)[1]\n",
    "    S2= (np.array(np.where((survived.iloc[:, 0]==2))).shape)[1]\n",
    "    S3= (np.array(np.where((survived.iloc[:, 0]==3))).shape)[1]\n",
    "\n",
    "    P1=np.array(Final['Pclass'].value_counts(sort=False, ascending=True))[0]\n",
    "    P2=np.array(Final['Pclass'].value_counts(sort=False, ascending=True))[1]\n",
    "    P3=np.array(Final['Pclass'].value_counts(sort=False, ascending=True))[2]\n",
    "    \n",
    "    print(\"Proportion of Pclass 1 survived:\",S1/P1)\n",
    "    print(\"Proportion of Pclass 2 survived:\",S2/P2)\n",
    "    print(\"Proportion of Pclass 3 survived:\",S3/P3)\n",
    "\n",
    "proportions_pclass_survived()"
   ]
  },
  {
   "cell_type": "code",
   "execution_count": 32,
   "metadata": {},
   "outputs": [
    {
     "name": "stdout",
     "output_type": "stream",
     "text": [
      "Proportion of Age<=10 survived: 0.5616438356164384\n",
      "Proportion of 10<Age<=20 survived: 0.348993288590604\n",
      "Proportion of 20<Age<=30 survived: 0.3432343234323432\n",
      "Proportion of 30<Age<=40 survived: 0.43478260869565216\n",
      "Proportion of 40<Age<=50 survived: 0.4056603773584906\n",
      "Proportion of 50<Age<=60 survived: 0.3695652173913043\n",
      "Proportion of 60<Age<=70 survived: 0.19047619047619047\n",
      "Proportion of 70<Age<=80 survived: 0.2\n"
     ]
    }
   ],
   "source": [
    "def proportions_age_survived():\n",
    "    X = Final.iloc[:,:] \n",
    "    y = training_data.iloc[:,0]\n",
    "    survived = Final.loc[y == 1]\n",
    "    not_survived = Final.loc[y == 0]\n",
    "    \n",
    "    S1= (np.array(np.where((survived.iloc[:, 1]<=10))).shape)[1]\n",
    "    S2= (np.array(np.where((survived.iloc[:, 1]<=20))).shape)[1] -(np.array(np.where((survived.iloc[:, 1]<=10))).shape)[1]\n",
    "    S3= (np.array(np.where((survived.iloc[:, 1]<=30))).shape)[1] -(np.array(np.where((survived.iloc[:, 1]<=20))).shape)[1]\n",
    "    S4= (np.array(np.where((survived.iloc[:, 1]<=40))).shape)[1] -(np.array(np.where((survived.iloc[:, 1]<=30))).shape)[1]\n",
    "    S5= (np.array(np.where((survived.iloc[:, 1]<=50))).shape)[1] -(np.array(np.where((survived.iloc[:, 1]<=40))).shape)[1]\n",
    "    S6= (np.array(np.where((survived.iloc[:, 1]<=60))).shape)[1] -(np.array(np.where((survived.iloc[:, 1]<=50))).shape)[1]\n",
    "    S7= (np.array(np.where((survived.iloc[:, 1]<=70))).shape)[1] -(np.array(np.where((survived.iloc[:, 1]<=60))).shape)[1]\n",
    "    S8= (np.array(np.where((survived.iloc[:, 1]<=80))).shape)[1] -(np.array(np.where((survived.iloc[:, 1]<=70))).shape)[1]\n",
    "    \n",
    "    P1= len(np.array(np.where(Final['Age']<=10)).T)\n",
    "    P2= len(np.array(np.where(Final['Age']<=20)).T)-len(np.array(np.where(Final['Age']<=10)).T)\n",
    "    P3= len(np.array(np.where(Final['Age']<=30)).T)-len(np.array(np.where(Final['Age']<=20)).T)\n",
    "    P4= len(np.array(np.where(Final['Age']<=40)).T)-len(np.array(np.where(Final['Age']<=30)).T)\n",
    "    P5= len(np.array(np.where(Final['Age']<=50)).T)-len(np.array(np.where(Final['Age']<=40)).T)\n",
    "    P6= len(np.array(np.where(Final['Age']<=60)).T)-len(np.array(np.where(Final['Age']<=50)).T)\n",
    "    P7= len(np.array(np.where(Final['Age']<=70)).T)-len(np.array(np.where(Final['Age']<=60)).T)\n",
    "    P8= len(np.array(np.where(Final['Age']<=80)).T)-len(np.array(np.where(Final['Age']<=70)).T)\n",
    "    \n",
    "    print(\"Proportion of Age<=10 survived:\",S1/P1)\n",
    "    print(\"Proportion of 10<Age<=20 survived:\",S2/P2)\n",
    "    print(\"Proportion of 20<Age<=30 survived:\",S3/P3)\n",
    "    print(\"Proportion of 30<Age<=40 survived:\",S4/P4)\n",
    "    print(\"Proportion of 40<Age<=50 survived:\",S5/P5)\n",
    "    print(\"Proportion of 50<Age<=60 survived:\",S6/P6)\n",
    "    print(\"Proportion of 60<Age<=70 survived:\",S7/P7)\n",
    "    print(\"Proportion of 70<Age<=80 survived:\",S8/P8)\n",
    "\n",
    "proportions_age_survived()"
   ]
  },
  {
   "cell_type": "code",
   "execution_count": 33,
   "metadata": {},
   "outputs": [
    {
     "name": "stdout",
     "output_type": "stream",
     "text": [
      "Proportion of 0 Siblings/Spouses Aboard survived: 0.347682119205\n",
      "Proportion of 1 Siblings/Spouses Aboard survived: 0.535885167464\n",
      "Proportion of 2 Siblings/Spouses Aboard survived: 0.0622009569378\n",
      "Proportion of 3 Siblings/Spouses Aboard survived: 0.0191387559809\n",
      "Proportion of 4 Siblings/Spouses Aboard survived: 0.0143540669856\n",
      "Proportion of 5 Siblings/Spouses Aboard survived: 0.0\n",
      "Proportion of 8 Siblings/Spouses Aboard survived: 0.0\n"
     ]
    }
   ],
   "source": [
    "def proportions_Siblings_Spouses_Aboard_survived():\n",
    "    X = Final.iloc[:,:] \n",
    "    y = training_data.iloc[:,0]\n",
    "    survived = Final.loc[y == 1]\n",
    "    not_survived = Final.loc[y == 0]\n",
    "\n",
    "    S1= (np.array(np.where((survived.iloc[:, 2]==0))).shape)[1]\n",
    "    S2= (np.array(np.where((survived.iloc[:, 2]==1))).shape)[1]\n",
    "    S3= (np.array(np.where((survived.iloc[:, 2]==2))).shape)[1]\n",
    "    S4= (np.array(np.where((survived.iloc[:, 2]==3))).shape)[1]\n",
    "    S5= (np.array(np.where((survived.iloc[:, 2]==4))).shape)[1]\n",
    "    S6= (np.array(np.where((survived.iloc[:, 2]==5))).shape)[1]\n",
    "    S7= (np.array(np.where((survived.iloc[:, 2]==8))).shape)[1]\n",
    "\n",
    "    P1=np.array(Final['Siblings/Spouses Aboard'].value_counts(sort=False, ascending=True))[0]\n",
    "    P2=np.array(Final['Siblings/Spouses Aboard'].value_counts(sort=False, ascending=True))[1]\n",
    "    P3=np.array(Final['Siblings/Spouses Aboard'].value_counts(sort=False, ascending=True))[1]\n",
    "    P4=np.array(Final['Siblings/Spouses Aboard'].value_counts(sort=False, ascending=True))[1]\n",
    "    P5=np.array(Final['Siblings/Spouses Aboard'].value_counts(sort=False, ascending=True))[1]\n",
    "    P6=np.array(Final['Siblings/Spouses Aboard'].value_counts(sort=False, ascending=True))[1]\n",
    "    P7=np.array(Final['Siblings/Spouses Aboard'].value_counts(sort=False, ascending=True))[1]\n",
    "\n",
    "    print(\"Proportion of 0 Siblings/Spouses Aboard survived:\",S1/P1)\n",
    "    print(\"Proportion of 1 Siblings/Spouses Aboard survived:\",S2/P2)\n",
    "    print(\"Proportion of 2 Siblings/Spouses Aboard survived:\",S3/P3)\n",
    "    print(\"Proportion of 3 Siblings/Spouses Aboard survived:\",S4/P4)\n",
    "    print(\"Proportion of 4 Siblings/Spouses Aboard survived:\",S5/P5)\n",
    "    print(\"Proportion of 5 Siblings/Spouses Aboard survived:\",S6/P6)\n",
    "    print(\"Proportion of 8 Siblings/Spouses Aboard survived:\",S7/P7)\n",
    "    \n",
    "proportions_Siblings_Spouses_Aboard_survived()"
   ]
  },
  {
   "cell_type": "code",
   "execution_count": 34,
   "metadata": {},
   "outputs": [
    {
     "name": "stdout",
     "output_type": "stream",
     "text": [
      "Proportion of 0 Parents/Children Aboard survived: 0.345697329377\n",
      "Proportion of 1 Parents/Children Aboard survived: 0.550847457627\n",
      "Proportion of 2 Parents/Children Aboard survived: 0.338983050847\n",
      "Proportion of 3 Parents/Children Aboard survived: 0.0254237288136\n",
      "Proportion of 4 Parents/Children Aboard survived: 0.0\n",
      "Proportion of 5 Parents/Children Aboard survived: 0.00847457627119\n",
      "Proportion of 6 Parents/Children Aboard survived: 0.0\n"
     ]
    }
   ],
   "source": [
    "def proportions_Parents_Children_Aboard_survived():\n",
    "    X = Final.iloc[:,:] \n",
    "    y = training_data.iloc[:,0]\n",
    "    survived = Final.loc[y == 1]\n",
    "    not_survived = Final.loc[y == 0]\n",
    "\n",
    "    S1= (np.array(np.where((survived.iloc[:, 3]==0))).shape)[1]\n",
    "    S2= (np.array(np.where((survived.iloc[:, 3]==1))).shape)[1]\n",
    "    S3= (np.array(np.where((survived.iloc[:, 3]==2))).shape)[1]\n",
    "    S4= (np.array(np.where((survived.iloc[:, 3]==3))).shape)[1]\n",
    "    S5= (np.array(np.where((survived.iloc[:, 3]==4))).shape)[1]\n",
    "    S6= (np.array(np.where((survived.iloc[:, 3]==5))).shape)[1]\n",
    "    S7= (np.array(np.where((survived.iloc[:, 3]==6))).shape)[1]\n",
    "\n",
    "    P1=np.array(Final['Parents/Children Aboard'].value_counts(sort=False, ascending=True))[0]\n",
    "    P2=np.array(Final['Parents/Children Aboard'].value_counts(sort=False, ascending=True))[1]\n",
    "    P3=np.array(Final['Parents/Children Aboard'].value_counts(sort=False, ascending=True))[1]\n",
    "    P4=np.array(Final['Parents/Children Aboard'].value_counts(sort=False, ascending=True))[1]\n",
    "    P5=np.array(Final['Parents/Children Aboard'].value_counts(sort=False, ascending=True))[1]\n",
    "    P6=np.array(Final['Parents/Children Aboard'].value_counts(sort=False, ascending=True))[1]\n",
    "    P7=np.array(Final['Parents/Children Aboard'].value_counts(sort=False, ascending=True))[1]\n",
    "\n",
    "    print(\"Proportion of 0 Parents/Children Aboard survived:\",S1/P1)\n",
    "    print(\"Proportion of 1 Parents/Children Aboard survived:\",S2/P2)\n",
    "    print(\"Proportion of 2 Parents/Children Aboard survived:\",S3/P3)\n",
    "    print(\"Proportion of 3 Parents/Children Aboard survived:\",S4/P4)\n",
    "    print(\"Proportion of 4 Parents/Children Aboard survived:\",S5/P5)\n",
    "    print(\"Proportion of 5 Parents/Children Aboard survived:\",S6/P6)\n",
    "    print(\"Proportion of 6 Parents/Children Aboard survived:\",S7/P7)\n",
    "\n",
    "proportions_Parents_Children_Aboard_survived()"
   ]
  },
  {
   "cell_type": "code",
   "execution_count": 35,
   "metadata": {},
   "outputs": [
    {
     "name": "stdout",
     "output_type": "stream",
     "text": [
      "Proportion of Fare<=5 survived: 0.058823529411764705\n",
      "Proportion of 5<Fare<=10 survived: 0.2088607594936709\n",
      "Proportion of 10<Fare<=15 survived: 0.38524590163934425\n",
      "Proportion of 15<Fare<=30 survived: 0.46464646464646464\n",
      "Proportion of 30<Fare<=50 survived: 0.36486486486486486\n",
      "Proportion of 50<Fare<=100 survived: 0.6542056074766355\n",
      "Proportion of 100<Fare<=150 survived: 0.7916666666666666\n",
      "Proportion of 150<Fare<=200 survived: 0.6666666666666666\n",
      "Proportion of 200<Fare<=513 survived: 0.7\n"
     ]
    }
   ],
   "source": [
    "def proportions_fare_survived():\n",
    "    X = Final.iloc[:,:] \n",
    "    y = training_data.iloc[:,0]\n",
    "    survived = Final.loc[y == 1]\n",
    "    not_survived = Final.loc[y == 0]\n",
    "    \n",
    "    S1= (np.array(np.where((survived.iloc[:, 4]<=5))).shape)[1]\n",
    "    S2= (np.array(np.where((survived.iloc[:, 4]<=10))).shape)[1] -(np.array(np.where((survived.iloc[:, 4]<=5))).shape)[1]\n",
    "    S3= (np.array(np.where((survived.iloc[:, 4]<=15))).shape)[1] -(np.array(np.where((survived.iloc[:, 4]<=10))).shape)[1]\n",
    "    S4= (np.array(np.where((survived.iloc[:, 4]<=30))).shape)[1] -(np.array(np.where((survived.iloc[:, 4]<=15))).shape)[1]\n",
    "    S5= (np.array(np.where((survived.iloc[:, 4]<=50))).shape)[1] -(np.array(np.where((survived.iloc[:, 4]<=30))).shape)[1]\n",
    "    S6= (np.array(np.where((survived.iloc[:, 4]<=100))).shape)[1] -(np.array(np.where((survived.iloc[:, 4]<=50))).shape)[1]\n",
    "    S7= (np.array(np.where((survived.iloc[:, 4]<=150))).shape)[1] -(np.array(np.where((survived.iloc[:, 4]<=100))).shape)[1]\n",
    "    S8= (np.array(np.where((survived.iloc[:, 4]<=200))).shape)[1] -(np.array(np.where((survived.iloc[:, 4]<=150))).shape)[1]\n",
    "    S9= (np.array(np.where((survived.iloc[:, 4]<=513))).shape)[1] -(np.array(np.where((survived.iloc[:, 4]<=200))).shape)[1]\n",
    "    \n",
    "    P1= len(np.array(np.where(Final['Fare']<=5)).T)\n",
    "    P2= len(np.array(np.where(Final['Fare']<=10)).T)-len(np.array(np.where(Final['Fare']<=5)).T)\n",
    "    P3= len(np.array(np.where(Final['Fare']<=15)).T)-len(np.array(np.where(Final['Fare']<=10)).T)\n",
    "    P4= len(np.array(np.where(Final['Fare']<=30)).T)-len(np.array(np.where(Final['Fare']<=15)).T)\n",
    "    P5= len(np.array(np.where(Final['Fare']<=50)).T)-len(np.array(np.where(Final['Fare']<=30)).T)\n",
    "    P6= len(np.array(np.where(Final['Fare']<=100)).T)-len(np.array(np.where(Final['Fare']<=50)).T)\n",
    "    P7= len(np.array(np.where(Final['Fare']<=150)).T)-len(np.array(np.where(Final['Fare']<=100)).T)\n",
    "    P8= len(np.array(np.where(Final['Fare']<=200)).T)-len(np.array(np.where(Final['Fare']<=150)).T)\n",
    "    P9= len(np.array(np.where(Final['Fare']<=513)).T)-len(np.array(np.where(Final['Fare']<=200)).T)\n",
    "    \n",
    "    print(\"Proportion of Fare<=5 survived:\",S1/P1)\n",
    "    print(\"Proportion of 5<Fare<=10 survived:\",S2/P2)\n",
    "    print(\"Proportion of 10<Fare<=15 survived:\",S3/P3)\n",
    "    print(\"Proportion of 15<Fare<=30 survived:\",S4/P4)\n",
    "    print(\"Proportion of 30<Fare<=50 survived:\",S5/P5)\n",
    "    print(\"Proportion of 50<Fare<=100 survived:\",S6/P6)\n",
    "    print(\"Proportion of 100<Fare<=150 survived:\",S7/P7)\n",
    "    print(\"Proportion of 150<Fare<=200 survived:\",S8/P8)\n",
    "    print(\"Proportion of 200<Fare<=513 survived:\",S9/P9)\n",
    "\n",
    "proportions_fare_survived()"
   ]
  },
  {
   "cell_type": "code",
   "execution_count": 36,
   "metadata": {},
   "outputs": [
    {
     "name": "stdout",
     "output_type": "stream",
     "text": [
      "Proportion of Male survived: 0.190226876091\n",
      "Number of male survived: 109 and total male: 573\n",
      "Proportion of Female survived: 0.742038216561\n",
      "Number of female survived: 233 and total female: 314\n"
     ]
    }
   ],
   "source": [
    "def proportions_gender_survived():\n",
    "    X = Final.iloc[:,:] \n",
    "    y = training_data.iloc[:,0]\n",
    "    survived = Final.loc[y == 1]\n",
    "    not_survived = Final.loc[y == 0]\n",
    "\n",
    "    S1= (np.array(np.where((survived.iloc[:, 5]==0))).shape)[1]\n",
    "    S2= (np.array(np.where((survived.iloc[:, 5]==1))).shape)[1]\n",
    "\n",
    "    P1=np.array(Final['Gender'].value_counts(sort=False, ascending=True))[0]\n",
    "    P2=np.array(Final['Gender'].value_counts(sort=False, ascending=True))[1]\n",
    "\n",
    "    print(\"Proportion of Male survived:\",S1/P1)\n",
    "    print(\"Number of male survived:\",S1,\"and\",\"total male:\",P1)\n",
    "    print(\"Proportion of Female survived:\",S2/P2)\n",
    "    print(\"Number of female survived:\",S2,\"and\",\"total female:\",P2)\n",
    "    \n",
    "proportions_gender_survived()"
   ]
  },
  {
   "cell_type": "markdown",
   "metadata": {},
   "source": [
    "Finding mean, median and mode for Fare and Age"
   ]
  },
  {
   "cell_type": "code",
   "execution_count": 37,
   "metadata": {},
   "outputs": [
    {
     "name": "stdout",
     "output_type": "stream",
     "text": [
      "mean of fare: 32.30542018038328\n",
      "median of fare: 14.4542\n",
      "mode of fare: 0    8.05\n",
      "dtype: float64\n"
     ]
    }
   ],
   "source": [
    "print(\"mean of fare:\", training_data['Fare'].mean())\n",
    "print(\"median of fare:\", training_data['Fare'].median()) \n",
    "print(\"mode of fare:\", training_data['Fare'].mode())"
   ]
  },
  {
   "cell_type": "markdown",
   "metadata": {},
   "source": [
    "Fare is positively skewed"
   ]
  },
  {
   "cell_type": "code",
   "execution_count": 38,
   "metadata": {},
   "outputs": [
    {
     "name": "stdout",
     "output_type": "stream",
     "text": [
      "mean of age: 29.471443066516347\n",
      "median of age: 28.0\n",
      "mode of age: 0    22.0\n",
      "dtype: float64\n"
     ]
    }
   ],
   "source": [
    "print(\"mean of age:\", training_data['Age'].mean())\n",
    "print(\"median of age:\", training_data['Age'].median()) \n",
    "print(\"mode of age:\", training_data['Age'].mode())"
   ]
  },
  {
   "cell_type": "markdown",
   "metadata": {},
   "source": [
    "Age is positively skewed"
   ]
  },
  {
   "cell_type": "markdown",
   "metadata": {},
   "source": [
    "# Minmax normalisation\n",
    "\n",
    "We want to normalise the dataset so that some features don't converge faster than other features in the gradient descent."
   ]
  },
  {
   "cell_type": "code",
   "execution_count": 39,
   "metadata": {
    "collapsed": true
   },
   "outputs": [],
   "source": [
    "def normalise(X):\n",
    "    mins = np.min(X, axis = 0) \n",
    "    maxs = np.max(X, axis = 0) \n",
    "    rng = maxs - mins \n",
    "    norm_X = (X-mins)/rng \n",
    "    return norm_X "
   ]
  },
  {
   "cell_type": "markdown",
   "metadata": {},
   "source": [
    "We now normalise the Final dataset. Below is the first 5 rows of the dataset."
   ]
  },
  {
   "cell_type": "code",
   "execution_count": 40,
   "metadata": {},
   "outputs": [
    {
     "data": {
      "text/html": [
       "<div>\n",
       "<style>\n",
       "    .dataframe thead tr:only-child th {\n",
       "        text-align: right;\n",
       "    }\n",
       "\n",
       "    .dataframe thead th {\n",
       "        text-align: left;\n",
       "    }\n",
       "\n",
       "    .dataframe tbody tr th {\n",
       "        vertical-align: top;\n",
       "    }\n",
       "</style>\n",
       "<table border=\"1\" class=\"dataframe\">\n",
       "  <thead>\n",
       "    <tr style=\"text-align: right;\">\n",
       "      <th></th>\n",
       "      <th>Pclass</th>\n",
       "      <th>Age</th>\n",
       "      <th>Siblings/Spouses Aboard</th>\n",
       "      <th>Parents/Children Aboard</th>\n",
       "      <th>Fare</th>\n",
       "      <th>Gender</th>\n",
       "    </tr>\n",
       "  </thead>\n",
       "  <tbody>\n",
       "    <tr>\n",
       "      <th>0</th>\n",
       "      <td>1.0</td>\n",
       "      <td>0.271174</td>\n",
       "      <td>0.125</td>\n",
       "      <td>0.0</td>\n",
       "      <td>0.014151</td>\n",
       "      <td>0.0</td>\n",
       "    </tr>\n",
       "    <tr>\n",
       "      <th>1</th>\n",
       "      <td>0.0</td>\n",
       "      <td>0.472229</td>\n",
       "      <td>0.125</td>\n",
       "      <td>0.0</td>\n",
       "      <td>0.139136</td>\n",
       "      <td>1.0</td>\n",
       "    </tr>\n",
       "    <tr>\n",
       "      <th>2</th>\n",
       "      <td>1.0</td>\n",
       "      <td>0.321438</td>\n",
       "      <td>0.000</td>\n",
       "      <td>0.0</td>\n",
       "      <td>0.015469</td>\n",
       "      <td>1.0</td>\n",
       "    </tr>\n",
       "    <tr>\n",
       "      <th>3</th>\n",
       "      <td>0.0</td>\n",
       "      <td>0.434531</td>\n",
       "      <td>0.125</td>\n",
       "      <td>0.0</td>\n",
       "      <td>0.103644</td>\n",
       "      <td>1.0</td>\n",
       "    </tr>\n",
       "    <tr>\n",
       "      <th>4</th>\n",
       "      <td>1.0</td>\n",
       "      <td>0.434531</td>\n",
       "      <td>0.000</td>\n",
       "      <td>0.0</td>\n",
       "      <td>0.015713</td>\n",
       "      <td>0.0</td>\n",
       "    </tr>\n",
       "  </tbody>\n",
       "</table>\n",
       "</div>"
      ],
      "text/plain": [
       "   Pclass       Age  Siblings/Spouses Aboard  Parents/Children Aboard  \\\n",
       "0     1.0  0.271174                    0.125                      0.0   \n",
       "1     0.0  0.472229                    0.125                      0.0   \n",
       "2     1.0  0.321438                    0.000                      0.0   \n",
       "3     0.0  0.434531                    0.125                      0.0   \n",
       "4     1.0  0.434531                    0.000                      0.0   \n",
       "\n",
       "       Fare  Gender  \n",
       "0  0.014151     0.0  \n",
       "1  0.139136     1.0  \n",
       "2  0.015469     1.0  \n",
       "3  0.103644     1.0  \n",
       "4  0.015713     0.0  "
      ]
     },
     "execution_count": 40,
     "metadata": {},
     "output_type": "execute_result"
    }
   ],
   "source": [
    "Data_Norm=normalise(Final)\n",
    "Data_Norm.head()"
   ]
  },
  {
   "cell_type": "markdown",
   "metadata": {},
   "source": [
    "# Getting the matrix"
   ]
  },
  {
   "cell_type": "markdown",
   "metadata": {},
   "source": [
    " We now want to arrange our normalised dataset, Data_Norm, into a Matrix."
   ]
  },
  {
   "cell_type": "code",
   "execution_count": 41,
   "metadata": {},
   "outputs": [
    {
     "data": {
      "text/plain": [
       "(array([[ 1.        ,  1.        ,  0.27117366, ...,  0.        ,\n",
       "          0.01415106,  0.        ],\n",
       "        [ 1.        ,  0.        ,  0.4722292 , ...,  0.        ,\n",
       "          0.13913574,  1.        ],\n",
       "        [ 1.        ,  1.        ,  0.32143755, ...,  0.        ,\n",
       "          0.01546857,  1.        ],\n",
       "        ..., \n",
       "        [ 1.        ,  1.        ,  0.08268409, ...,  0.33333333,\n",
       "          0.04577135,  1.        ],\n",
       "        [ 1.        ,  0.        ,  0.32143755, ...,  0.        ,\n",
       "          0.0585561 ,  0.        ],\n",
       "        [ 1.        ,  1.        ,  0.39683338, ...,  0.        ,\n",
       "          0.01512699,  0.        ]]), (887, 7))"
      ]
     },
     "execution_count": 41,
     "metadata": {},
     "output_type": "execute_result"
    }
   ],
   "source": [
    "Matrix=np.c_[np.ones((Data_Norm.shape[0],1)),Data_Norm]\n",
    "Matrix, Matrix.shape"
   ]
  },
  {
   "cell_type": "code",
   "execution_count": 42,
   "metadata": {},
   "outputs": [
    {
     "data": {
      "text/plain": [
       "(array([[ 1.        ,  1.        ,  0.27117366, ...,  0.01415106,\n",
       "          0.        ,  0.        ],\n",
       "        [ 1.        ,  0.        ,  0.4722292 , ...,  0.13913574,\n",
       "          1.        ,  1.        ],\n",
       "        [ 1.        ,  1.        ,  0.32143755, ...,  0.01546857,\n",
       "          1.        ,  1.        ],\n",
       "        ..., \n",
       "        [ 1.        ,  1.        ,  0.08268409, ...,  0.04577135,\n",
       "          1.        ,  0.        ],\n",
       "        [ 1.        ,  0.        ,  0.32143755, ...,  0.0585561 ,\n",
       "          0.        ,  1.        ],\n",
       "        [ 1.        ,  1.        ,  0.39683338, ...,  0.01512699,\n",
       "          0.        ,  0.        ]]), (887, 8))"
      ]
     },
     "execution_count": 42,
     "metadata": {},
     "output_type": "execute_result"
    }
   ],
   "source": [
    "Combine_matrix=np.array(pd.concat([Data_Norm,Output],axis=1))\n",
    "Matrix_Combine=np.insert(Combine_matrix,0,np.array((np.ones(887))),1) #adding ones column so that we can take the matrix product\n",
    "Matrix_Combine, Matrix_Combine.shape"
   ]
  },
  {
   "cell_type": "markdown",
   "metadata": {},
   "source": [
    "An array of normalised features, with the ones column, and the output column, for use in train-test split."
   ]
  },
  {
   "cell_type": "markdown",
   "metadata": {},
   "source": [
    "# Building a model"
   ]
  },
  {
   "cell_type": "code",
   "execution_count": 43,
   "metadata": {
    "collapsed": true
   },
   "outputs": [],
   "source": [
    "#Initial weights\n",
    "w=np.array([1,2,3,4,5,6,7])"
   ]
  },
  {
   "cell_type": "code",
   "execution_count": 44,
   "metadata": {
    "collapsed": true
   },
   "outputs": [],
   "source": [
    "#Probability of surviving\n",
    "def sigmoid(m,w): \n",
    "    return 1.0/(1 + np.exp(-np.dot(m,w))) "
   ]
  },
  {
   "cell_type": "markdown",
   "metadata": {},
   "source": [
    "We want to minimise the average cost"
   ]
  },
  {
   "cell_type": "code",
   "execution_count": 45,
   "metadata": {
    "collapsed": true
   },
   "outputs": [],
   "source": [
    "def compute_cost(y,m,w): #Scalar\n",
    "    h=sigmoid(m,w)\n",
    "    arg= (y*np.log(h)+(1-y)*np.log(1-h)) \n",
    "    return -(arg.T.dot(arg))/len(y) "
   ]
  },
  {
   "cell_type": "markdown",
   "metadata": {},
   "source": [
    "Differentiating the cost function"
   ]
  },
  {
   "cell_type": "code",
   "execution_count": 46,
   "metadata": {
    "collapsed": true
   },
   "outputs": [],
   "source": [
    "def compute_gradient(y,m,w): #procedure to find the gradient vector\n",
    "    err = sigmoid(m,w)-y\n",
    "    grad = (m.T.dot(err))/len(y) \n",
    "    return grad, err"
   ]
  },
  {
   "cell_type": "markdown",
   "metadata": {},
   "source": [
    "Using gradient descent: find updated weights from the training data, as there are no closed form solutions to grad=0"
   ]
  },
  {
   "cell_type": "code",
   "execution_count": 47,
   "metadata": {
    "collapsed": true
   },
   "outputs": [],
   "source": [
    "def gradient_descent(y, m, initial_w, max_iters, tau):\n",
    "    ws = [initial_w]\n",
    "    losses = []\n",
    "    w = initial_w\n",
    "    for n_iter in range(max_iters):\n",
    "        # compute loss, gradient\n",
    "        grad, err = compute_gradient(y, m, w)\n",
    "        loss = compute_cost(y,m,w)\n",
    "        # gradient descent update\n",
    "        w = w - tau * grad\n",
    "        # store w and loss\n",
    "        ws.append(w)\n",
    "        losses.append(loss)\n",
    "        print(\"Gradient Descent({bi}/{ti}): loss={l}, w0={w0}, w1={w1}, w2={w2}, w3={w3}, w4={w4}, w5={w5}, w6={w6}\".format(\n",
    "              bi=n_iter, ti=max_iters - 1, l=loss,  w0=w[0], w1=w[1], w2=w[2], w3=w[3], w4=w[4], w5=w[5], w6=w[6]))\n",
    "    return losses, ws"
   ]
  },
  {
   "cell_type": "code",
   "execution_count": 48,
   "metadata": {
    "collapsed": true
   },
   "outputs": [],
   "source": [
    "def last_iter_parameters(y, m, initial_w, max_iters, tau):\n",
    "    ws = [initial_w]\n",
    "    losses = np.array([])\n",
    "    w = initial_w\n",
    "    for n_iter in range(max_iters):\n",
    "        # compute loss, gradient\n",
    "        grad, err = compute_gradient(y, m, w)\n",
    "        # gradient descent update\n",
    "        w = w - tau * grad\n",
    "        # store w and loss\n",
    "        ws.append(w)\n",
    "    return [w[0],w[1], w[2], w[3], w[4], w[5], w[6]] #gives a list of parameters for the last iterate"
   ]
  },
  {
   "cell_type": "markdown",
   "metadata": {},
   "source": [
    "The procedure below shows the losses for each iteration so that we know it converges."
   ]
  },
  {
   "cell_type": "code",
   "execution_count": 49,
   "metadata": {
    "collapsed": true
   },
   "outputs": [],
   "source": [
    "def losses(y, m, initial_w, max_iters, tau):\n",
    "    ws = [initial_w]\n",
    "    losses = []\n",
    "    w = initial_w\n",
    "    for n_iter in range(max_iters):\n",
    "        # compute loss, gradient\n",
    "        grad, err = compute_gradient(y, m, w)\n",
    "        loss = compute_cost(y,m,w)\n",
    "        # gradient descent update\n",
    "        w = w - tau * grad\n",
    "        # store w and loss\n",
    "        losses.append(loss)\n",
    "        print (np.asarray(loss))"
   ]
  },
  {
   "cell_type": "markdown",
   "metadata": {},
   "source": [
    "Plot of losses function to check if the cost converges with the number of iterations"
   ]
  },
  {
   "cell_type": "code",
   "execution_count": 50,
   "metadata": {
    "collapsed": true
   },
   "outputs": [],
   "source": [
    "def lossesplot(y, m, initial_w, max_iters, tau):\n",
    "    ws = [initial_w]\n",
    "    losses = []\n",
    "    w = initial_w\n",
    "    for n_iter in range(max_iters):\n",
    "        # compute loss, gradient\n",
    "        grad, err = compute_gradient(y, m, w)\n",
    "        loss = compute_cost(y,m,w)\n",
    "        # gradient descent update\n",
    "        w = w - tau * grad\n",
    "        # store w and loss\n",
    "        losses.append(loss)\n",
    "    cost = list(losses)\n",
    "    n_iterations = [x for x in range(1,max_iters+1)]\n",
    "    plt.plot(n_iterations, cost)\n",
    "    plt.xlabel('No. of iterations')\n",
    "    plt.ylabel('Cost')"
   ]
  },
  {
   "cell_type": "markdown",
   "metadata": {
    "collapsed": true
   },
   "source": [
    "# Building a classifier"
   ]
  },
  {
   "cell_type": "code",
   "execution_count": 51,
   "metadata": {
    "collapsed": true
   },
   "outputs": [],
   "source": [
    "def predictions(X,w):\n",
    "    preds=[]\n",
    "    for i in sigmoid(X, w):\n",
    "        if i> 0.5:\n",
    "            preds.append(1)\n",
    "        if i < 0.5:\n",
    "            preds.append(0)\n",
    "    return np.array(preds)\n",
    "\n",
    "#Using the parameters found from training set and the Matrix we find the probability of survival \n",
    "#i.e if probability is less than 0.5 then Survived =0."
   ]
  },
  {
   "cell_type": "markdown",
   "metadata": {},
   "source": [
    "# Find the accuracy of predictions"
   ]
  },
  {
   "cell_type": "code",
   "execution_count": 52,
   "metadata": {
    "collapsed": true
   },
   "outputs": [],
   "source": [
    "#Gives test accuracy for the parameters, i.e. how many predictions were correct\n",
    "def accuracy(X,w,y):\n",
    "    return len(np.array((np.where(predictions(X,w)==y))).T)/len(y)"
   ]
  },
  {
   "cell_type": "markdown",
   "metadata": {},
   "source": [
    "To help choose the number of iterations for a certain stepsize, tau "
   ]
  },
  {
   "cell_type": "code",
   "execution_count": 53,
   "metadata": {
    "collapsed": true
   },
   "outputs": [],
   "source": [
    "def parameters_accuracies(y,x,tau,xt,yt):\n",
    "    for i in range (500,5000,500):\n",
    "        a= last_iter_parameters(y,x,w,i,tau)\n",
    "        b=accuracy(xt,a,yt)\n",
    "        print(\"with\", i,\"iterations and stepsize=\", tau, \"we get the following test accuracy:\", b)"
   ]
  },
  {
   "cell_type": "markdown",
   "metadata": {},
   "source": [
    "# Train-test data split (for out of sample validation)"
   ]
  },
  {
   "cell_type": "code",
   "execution_count": 54,
   "metadata": {},
   "outputs": [
    {
     "data": {
      "text/plain": [
       "177"
      ]
     },
     "execution_count": 54,
     "metadata": {},
     "output_type": "execute_result"
    }
   ],
   "source": [
    "#Finding 20% of the number of observations\n",
    "int((Matrix_Combine[:,0].shape[0])/5) "
   ]
  },
  {
   "cell_type": "code",
   "execution_count": 55,
   "metadata": {
    "collapsed": true
   },
   "outputs": [],
   "source": [
    "#out of sample validation\n",
    "np.random.seed(10) #20-80 split\n",
    "perm=np.random.permutation(887)\n",
    "x_train,x_test= Matrix_Combine[perm][177:][:,0:7],Matrix_Combine[perm][:177][:,0:7]\n",
    "y_train,y_test=Matrix_Combine[perm][177:][:,-1],Matrix_Combine[perm][:177][:,-1]"
   ]
  },
  {
   "cell_type": "code",
   "execution_count": 56,
   "metadata": {},
   "outputs": [
    {
     "data": {
      "text/plain": [
       "((710, 7), (177, 7), (710,), (177,))"
      ]
     },
     "execution_count": 56,
     "metadata": {},
     "output_type": "execute_result"
    }
   ],
   "source": [
    "x_train.shape, x_test.shape, y_train.shape, y_test.shape"
   ]
  },
  {
   "cell_type": "markdown",
   "metadata": {},
   "source": [
    "To decide the number of iterations and stepsize"
   ]
  },
  {
   "cell_type": "code",
   "execution_count": 57,
   "metadata": {},
   "outputs": [
    {
     "name": "stdout",
     "output_type": "stream",
     "text": [
      "with 500 iterations and stepsize= 0.1 we get the following test accuracy: 0.7909604519774012\n",
      "with 1000 iterations and stepsize= 0.1 we get the following test accuracy: 0.7627118644067796\n",
      "with 1500 iterations and stepsize= 0.1 we get the following test accuracy: 0.7627118644067796\n",
      "with 2000 iterations and stepsize= 0.1 we get the following test accuracy: 0.7853107344632768\n",
      "with 2500 iterations and stepsize= 0.1 we get the following test accuracy: 0.7966101694915254\n",
      "with 3000 iterations and stepsize= 0.1 we get the following test accuracy: 0.8022598870056498\n",
      "with 3500 iterations and stepsize= 0.1 we get the following test accuracy: 0.8022598870056498\n",
      "with 4000 iterations and stepsize= 0.1 we get the following test accuracy: 0.8022598870056498\n",
      "with 4500 iterations and stepsize= 0.1 we get the following test accuracy: 0.7966101694915254\n",
      "None\n",
      "with 500 iterations and stepsize= 0.2 we get the following test accuracy: 0.7627118644067796\n",
      "with 1000 iterations and stepsize= 0.2 we get the following test accuracy: 0.7853107344632768\n",
      "with 1500 iterations and stepsize= 0.2 we get the following test accuracy: 0.8022598870056498\n",
      "with 2000 iterations and stepsize= 0.2 we get the following test accuracy: 0.8022598870056498\n",
      "with 2500 iterations and stepsize= 0.2 we get the following test accuracy: 0.8022598870056498\n",
      "with 3000 iterations and stepsize= 0.2 we get the following test accuracy: 0.807909604519774\n",
      "with 3500 iterations and stepsize= 0.2 we get the following test accuracy: 0.8135593220338984\n",
      "with 4000 iterations and stepsize= 0.2 we get the following test accuracy: 0.8135593220338984\n",
      "with 4500 iterations and stepsize= 0.2 we get the following test accuracy: 0.8135593220338984\n",
      "None\n",
      "with 500 iterations and stepsize= 0.3 we get the following test accuracy: 0.7627118644067796\n",
      "with 1000 iterations and stepsize= 0.3 we get the following test accuracy: 0.8022598870056498\n",
      "with 1500 iterations and stepsize= 0.3 we get the following test accuracy: 0.7966101694915254\n",
      "with 2000 iterations and stepsize= 0.3 we get the following test accuracy: 0.807909604519774\n",
      "with 2500 iterations and stepsize= 0.3 we get the following test accuracy: 0.8135593220338984\n",
      "with 3000 iterations and stepsize= 0.3 we get the following test accuracy: 0.8135593220338984\n",
      "with 3500 iterations and stepsize= 0.3 we get the following test accuracy: 0.8192090395480226\n",
      "with 4000 iterations and stepsize= 0.3 we get the following test accuracy: 0.8135593220338984\n",
      "with 4500 iterations and stepsize= 0.3 we get the following test accuracy: 0.807909604519774\n",
      "None\n",
      "with 500 iterations and stepsize= 0.4 we get the following test accuracy: 0.7853107344632768\n",
      "with 1000 iterations and stepsize= 0.4 we get the following test accuracy: 0.8022598870056498\n",
      "with 1500 iterations and stepsize= 0.4 we get the following test accuracy: 0.807909604519774\n",
      "with 2000 iterations and stepsize= 0.4 we get the following test accuracy: 0.8135593220338984\n",
      "with 2500 iterations and stepsize= 0.4 we get the following test accuracy: 0.8192090395480226\n",
      "with 3000 iterations and stepsize= 0.4 we get the following test accuracy: 0.8135593220338984\n",
      "with 3500 iterations and stepsize= 0.4 we get the following test accuracy: 0.807909604519774\n",
      "with 4000 iterations and stepsize= 0.4 we get the following test accuracy: 0.8135593220338984\n",
      "with 4500 iterations and stepsize= 0.4 we get the following test accuracy: 0.8135593220338984\n",
      "None\n",
      "with 500 iterations and stepsize= 0.5 we get the following test accuracy: 0.7966101694915254\n",
      "with 1000 iterations and stepsize= 0.5 we get the following test accuracy: 0.8022598870056498\n",
      "with 1500 iterations and stepsize= 0.5 we get the following test accuracy: 0.8135593220338984\n",
      "with 2000 iterations and stepsize= 0.5 we get the following test accuracy: 0.8192090395480226\n",
      "with 2500 iterations and stepsize= 0.5 we get the following test accuracy: 0.8135593220338984\n",
      "with 3000 iterations and stepsize= 0.5 we get the following test accuracy: 0.8135593220338984\n",
      "with 3500 iterations and stepsize= 0.5 we get the following test accuracy: 0.8135593220338984\n",
      "with 4000 iterations and stepsize= 0.5 we get the following test accuracy: 0.8135593220338984\n",
      "with 4500 iterations and stepsize= 0.5 we get the following test accuracy: 0.8135593220338984\n",
      "None\n",
      "with 500 iterations and stepsize= 0.6 we get the following test accuracy: 0.8022598870056498\n",
      "with 1000 iterations and stepsize= 0.6 we get the following test accuracy: 0.807909604519774\n",
      "with 1500 iterations and stepsize= 0.6 we get the following test accuracy: 0.8135593220338984\n",
      "with 2000 iterations and stepsize= 0.6 we get the following test accuracy: 0.8135593220338984\n",
      "with 2500 iterations and stepsize= 0.6 we get the following test accuracy: 0.8135593220338984\n",
      "with 3000 iterations and stepsize= 0.6 we get the following test accuracy: 0.8135593220338984\n",
      "with 3500 iterations and stepsize= 0.6 we get the following test accuracy: 0.8135593220338984\n",
      "with 4000 iterations and stepsize= 0.6 we get the following test accuracy: 0.8135593220338984\n",
      "with 4500 iterations and stepsize= 0.6 we get the following test accuracy: 0.8135593220338984\n",
      "None\n",
      "with 500 iterations and stepsize= 0.7 we get the following test accuracy: 0.8022598870056498\n",
      "with 1000 iterations and stepsize= 0.7 we get the following test accuracy: 0.8135593220338984\n",
      "with 1500 iterations and stepsize= 0.7 we get the following test accuracy: 0.8192090395480226\n",
      "with 2000 iterations and stepsize= 0.7 we get the following test accuracy: 0.807909604519774\n",
      "with 2500 iterations and stepsize= 0.7 we get the following test accuracy: 0.8135593220338984\n",
      "with 3000 iterations and stepsize= 0.7 we get the following test accuracy: 0.8135593220338984\n",
      "with 3500 iterations and stepsize= 0.7 we get the following test accuracy: 0.8135593220338984\n",
      "with 4000 iterations and stepsize= 0.7 we get the following test accuracy: 0.8135593220338984\n",
      "with 4500 iterations and stepsize= 0.7 we get the following test accuracy: 0.8135593220338984\n",
      "None\n",
      "with 500 iterations and stepsize= 0.8 we get the following test accuracy: 0.8022598870056498\n",
      "with 1000 iterations and stepsize= 0.8 we get the following test accuracy: 0.8135593220338984\n",
      "with 1500 iterations and stepsize= 0.8 we get the following test accuracy: 0.8135593220338984\n",
      "with 2000 iterations and stepsize= 0.8 we get the following test accuracy: 0.8135593220338984\n",
      "with 2500 iterations and stepsize= 0.8 we get the following test accuracy: 0.8135593220338984\n",
      "with 3000 iterations and stepsize= 0.8 we get the following test accuracy: 0.8135593220338984\n",
      "with 3500 iterations and stepsize= 0.8 we get the following test accuracy: 0.8135593220338984\n",
      "with 4000 iterations and stepsize= 0.8 we get the following test accuracy: 0.8135593220338984\n",
      "with 4500 iterations and stepsize= 0.8 we get the following test accuracy: 0.8135593220338984\n",
      "None\n",
      "with 500 iterations and stepsize= 0.9 we get the following test accuracy: 0.7966101694915254\n",
      "with 1000 iterations and stepsize= 0.9 we get the following test accuracy: 0.8135593220338984\n",
      "with 1500 iterations and stepsize= 0.9 we get the following test accuracy: 0.807909604519774\n",
      "with 2000 iterations and stepsize= 0.9 we get the following test accuracy: 0.8135593220338984\n",
      "with 2500 iterations and stepsize= 0.9 we get the following test accuracy: 0.8135593220338984\n",
      "with 3000 iterations and stepsize= 0.9 we get the following test accuracy: 0.8135593220338984\n",
      "with 3500 iterations and stepsize= 0.9 we get the following test accuracy: 0.8135593220338984\n",
      "with 4000 iterations and stepsize= 0.9 we get the following test accuracy: 0.8135593220338984\n",
      "with 4500 iterations and stepsize= 0.9 we get the following test accuracy: 0.8135593220338984\n",
      "None\n",
      "with 500 iterations and stepsize= 1.0 we get the following test accuracy: 0.8022598870056498\n",
      "with 1000 iterations and stepsize= 1.0 we get the following test accuracy: 0.8192090395480226\n",
      "with 1500 iterations and stepsize= 1.0 we get the following test accuracy: 0.8135593220338984\n",
      "with 2000 iterations and stepsize= 1.0 we get the following test accuracy: 0.8135593220338984\n",
      "with 2500 iterations and stepsize= 1.0 we get the following test accuracy: 0.8135593220338984\n",
      "with 3000 iterations and stepsize= 1.0 we get the following test accuracy: 0.8135593220338984\n"
     ]
    },
    {
     "name": "stdout",
     "output_type": "stream",
     "text": [
      "with 3500 iterations and stepsize= 1.0 we get the following test accuracy: 0.8135593220338984\n",
      "with 4000 iterations and stepsize= 1.0 we get the following test accuracy: 0.8135593220338984\n",
      "with 4500 iterations and stepsize= 1.0 we get the following test accuracy: 0.8135593220338984\n",
      "None\n",
      "with 500 iterations and stepsize= 1.1 we get the following test accuracy: 0.8022598870056498\n",
      "with 1000 iterations and stepsize= 1.1 we get the following test accuracy: 0.8192090395480226\n",
      "with 1500 iterations and stepsize= 1.1 we get the following test accuracy: 0.8135593220338984\n",
      "with 2000 iterations and stepsize= 1.1 we get the following test accuracy: 0.8135593220338984\n",
      "with 2500 iterations and stepsize= 1.1 we get the following test accuracy: 0.8135593220338984\n",
      "with 3000 iterations and stepsize= 1.1 we get the following test accuracy: 0.8135593220338984\n",
      "with 3500 iterations and stepsize= 1.1 we get the following test accuracy: 0.8135593220338984\n",
      "with 4000 iterations and stepsize= 1.1 we get the following test accuracy: 0.8135593220338984\n",
      "with 4500 iterations and stepsize= 1.1 we get the following test accuracy: 0.8135593220338984\n",
      "None\n",
      "with 500 iterations and stepsize= 1.2 we get the following test accuracy: 0.807909604519774\n",
      "with 1000 iterations and stepsize= 1.2 we get the following test accuracy: 0.8135593220338984\n",
      "with 1500 iterations and stepsize= 1.2 we get the following test accuracy: 0.8135593220338984\n",
      "with 2000 iterations and stepsize= 1.2 we get the following test accuracy: 0.8135593220338984\n",
      "with 2500 iterations and stepsize= 1.2 we get the following test accuracy: 0.8135593220338984\n",
      "with 3000 iterations and stepsize= 1.2 we get the following test accuracy: 0.8135593220338984\n",
      "with 3500 iterations and stepsize= 1.2 we get the following test accuracy: 0.8135593220338984\n",
      "with 4000 iterations and stepsize= 1.2 we get the following test accuracy: 0.8135593220338984\n",
      "with 4500 iterations and stepsize= 1.2 we get the following test accuracy: 0.8135593220338984\n",
      "None\n",
      "with 500 iterations and stepsize= 1.3 we get the following test accuracy: 0.807909604519774\n",
      "with 1000 iterations and stepsize= 1.3 we get the following test accuracy: 0.8135593220338984\n",
      "with 1500 iterations and stepsize= 1.3 we get the following test accuracy: 0.8135593220338984\n",
      "with 2000 iterations and stepsize= 1.3 we get the following test accuracy: 0.8135593220338984\n",
      "with 2500 iterations and stepsize= 1.3 we get the following test accuracy: 0.8135593220338984\n",
      "with 3000 iterations and stepsize= 1.3 we get the following test accuracy: 0.8135593220338984\n",
      "with 3500 iterations and stepsize= 1.3 we get the following test accuracy: 0.8135593220338984\n",
      "with 4000 iterations and stepsize= 1.3 we get the following test accuracy: 0.8135593220338984\n",
      "with 4500 iterations and stepsize= 1.3 we get the following test accuracy: 0.8135593220338984\n",
      "None\n",
      "with 500 iterations and stepsize= 1.4 we get the following test accuracy: 0.8135593220338984\n",
      "with 1000 iterations and stepsize= 1.4 we get the following test accuracy: 0.807909604519774\n",
      "with 1500 iterations and stepsize= 1.4 we get the following test accuracy: 0.8135593220338984\n",
      "with 2000 iterations and stepsize= 1.4 we get the following test accuracy: 0.8135593220338984\n",
      "with 2500 iterations and stepsize= 1.4 we get the following test accuracy: 0.8135593220338984\n",
      "with 3000 iterations and stepsize= 1.4 we get the following test accuracy: 0.8135593220338984\n",
      "with 3500 iterations and stepsize= 1.4 we get the following test accuracy: 0.8135593220338984\n",
      "with 4000 iterations and stepsize= 1.4 we get the following test accuracy: 0.8135593220338984\n",
      "with 4500 iterations and stepsize= 1.4 we get the following test accuracy: 0.8135593220338984\n",
      "None\n",
      "with 500 iterations and stepsize= 1.5 we get the following test accuracy: 0.8135593220338984\n",
      "with 1000 iterations and stepsize= 1.5 we get the following test accuracy: 0.8135593220338984\n",
      "with 1500 iterations and stepsize= 1.5 we get the following test accuracy: 0.8135593220338984\n",
      "with 2000 iterations and stepsize= 1.5 we get the following test accuracy: 0.8135593220338984\n",
      "with 2500 iterations and stepsize= 1.5 we get the following test accuracy: 0.8135593220338984\n",
      "with 3000 iterations and stepsize= 1.5 we get the following test accuracy: 0.8135593220338984\n",
      "with 3500 iterations and stepsize= 1.5 we get the following test accuracy: 0.8135593220338984\n",
      "with 4000 iterations and stepsize= 1.5 we get the following test accuracy: 0.8135593220338984\n",
      "with 4500 iterations and stepsize= 1.5 we get the following test accuracy: 0.8135593220338984\n",
      "None\n",
      "with 500 iterations and stepsize= 1.6 we get the following test accuracy: 0.8135593220338984\n",
      "with 1000 iterations and stepsize= 1.6 we get the following test accuracy: 0.8135593220338984\n",
      "with 1500 iterations and stepsize= 1.6 we get the following test accuracy: 0.8135593220338984\n",
      "with 2000 iterations and stepsize= 1.6 we get the following test accuracy: 0.8135593220338984\n",
      "with 2500 iterations and stepsize= 1.6 we get the following test accuracy: 0.8135593220338984\n",
      "with 3000 iterations and stepsize= 1.6 we get the following test accuracy: 0.8135593220338984\n",
      "with 3500 iterations and stepsize= 1.6 we get the following test accuracy: 0.8135593220338984\n",
      "with 4000 iterations and stepsize= 1.6 we get the following test accuracy: 0.8135593220338984\n",
      "with 4500 iterations and stepsize= 1.6 we get the following test accuracy: 0.8135593220338984\n",
      "None\n",
      "with 500 iterations and stepsize= 1.7 we get the following test accuracy: 0.8135593220338984\n",
      "with 1000 iterations and stepsize= 1.7 we get the following test accuracy: 0.8135593220338984\n",
      "with 1500 iterations and stepsize= 1.7 we get the following test accuracy: 0.8135593220338984\n",
      "with 2000 iterations and stepsize= 1.7 we get the following test accuracy: 0.8135593220338984\n",
      "with 2500 iterations and stepsize= 1.7 we get the following test accuracy: 0.8135593220338984\n",
      "with 3000 iterations and stepsize= 1.7 we get the following test accuracy: 0.8135593220338984\n",
      "with 3500 iterations and stepsize= 1.7 we get the following test accuracy: 0.8135593220338984\n",
      "with 4000 iterations and stepsize= 1.7 we get the following test accuracy: 0.8135593220338984\n",
      "with 4500 iterations and stepsize= 1.7 we get the following test accuracy: 0.8135593220338984\n",
      "None\n",
      "with 500 iterations and stepsize= 1.8 we get the following test accuracy: 0.8135593220338984\n",
      "with 1000 iterations and stepsize= 1.8 we get the following test accuracy: 0.8135593220338984\n",
      "with 1500 iterations and stepsize= 1.8 we get the following test accuracy: 0.8135593220338984\n",
      "with 2000 iterations and stepsize= 1.8 we get the following test accuracy: 0.8135593220338984\n",
      "with 2500 iterations and stepsize= 1.8 we get the following test accuracy: 0.8135593220338984\n",
      "with 3000 iterations and stepsize= 1.8 we get the following test accuracy: 0.8135593220338984\n",
      "with 3500 iterations and stepsize= 1.8 we get the following test accuracy: 0.8135593220338984\n",
      "with 4000 iterations and stepsize= 1.8 we get the following test accuracy: 0.8135593220338984\n",
      "with 4500 iterations and stepsize= 1.8 we get the following test accuracy: 0.8135593220338984\n",
      "None\n",
      "with 500 iterations and stepsize= 1.9 we get the following test accuracy: 0.8192090395480226\n",
      "with 1000 iterations and stepsize= 1.9 we get the following test accuracy: 0.8135593220338984\n",
      "with 1500 iterations and stepsize= 1.9 we get the following test accuracy: 0.8135593220338984\n",
      "with 2000 iterations and stepsize= 1.9 we get the following test accuracy: 0.8135593220338984\n",
      "with 2500 iterations and stepsize= 1.9 we get the following test accuracy: 0.8135593220338984\n",
      "with 3000 iterations and stepsize= 1.9 we get the following test accuracy: 0.8135593220338984\n",
      "with 3500 iterations and stepsize= 1.9 we get the following test accuracy: 0.8135593220338984\n",
      "with 4000 iterations and stepsize= 1.9 we get the following test accuracy: 0.8135593220338984\n",
      "with 4500 iterations and stepsize= 1.9 we get the following test accuracy: 0.8135593220338984\n",
      "None\n"
     ]
    }
   ],
   "source": [
    "for i in np.arange(0.1,2,0.1):\n",
    "    print(parameters_accuracies(y_train,x_train,i,x_test,y_test)) #choose gamma=1.9, max_iters=500"
   ]
  },
  {
   "cell_type": "markdown",
   "metadata": {},
   "source": [
    "Choose stepsize, tau=1.9, max_iters=500"
   ]
  },
  {
   "cell_type": "code",
   "execution_count": 58,
   "metadata": {},
   "outputs": [
    {
     "name": "stdout",
     "output_type": "stream",
     "text": [
      "Gradient Descent(0/499): loss=-25.54935547662346, w0=-0.13361691524718355, w1=1.1137775151848084, w2=2.570044586640156, w3=3.922173244073798, w4=4.9356071984352985, w5=5.952796635156053, w6=6.818039716065224\n",
      "Gradient Descent(1/499): loss=-13.859355322734316, w0=-1.1558339511530056, w1=0.3056622852445027, w2=2.1805789662302755, w3=3.8463075526161394, w4=4.872366713836063, w5=5.90921138265668, w6=6.636146354404791\n",
      "Gradient Descent(2/499): loss=-7.551189948344418, w0=-1.8347903518742323, w1=-0.23435658695861383, w2=1.9173566320322157, w3=3.7780221173491655, w4=4.81357355398487, w5=5.876030046174744, w6=6.454673025319569\n",
      "Gradient Descent(3/499): loss=-4.984044521393974, w0=-2.2150690372376727, w1=-0.5443995413943019, w2=1.7690237581028876, w3=3.720343588098924, w4=4.761594631832302, w5=5.853218815612455, w6=6.2745976535739105\n",
      "Gradient Descent(4/499): loss=-3.8811204165886637, w0=-2.461540749255681, w1=-0.7582760438992979, w2=1.6732586971419512, w3=3.6700486003495767, w4=4.714772067233664, w5=5.836122386299532, w6=6.097032515673697\n",
      "Gradient Descent(5/499): loss=-3.2561654133744073, w0=-2.63702575619779, w1=-0.9237740827272501, w2=1.6051890572310064, w3=3.6248592297051196, w4=4.671659170349825, w5=5.822533431869686, w6=5.923229001103462\n",
      "Gradient Descent(6/499): loss=-2.8479329011473378, w0=-2.7670771422348315, w1=-1.0590375767760964, w2=1.554499138587052, w3=3.5834586975345237, w4=4.631360305832293, w5=5.811382073766344, w6=5.754630797083912\n",
      "Gradient Descent(7/499): loss=-2.5626950186040687, w0=-2.864049031823523, w1=-1.17219940951273, w2=1.5161161070246534, w3=3.5450168222716036, w4=4.593293198489675, w5=5.802059179492695, w6=5.592783902591192\n",
      "Gradient Descent(8/499): loss=-2.3563816087321845, w0=-2.9347209569733317, w1=-1.2673443832466713, w2=1.487201687915376, w3=3.5089654428396697, w4=4.557052141873934, w5=5.79417189671148, w6=5.439158042647603\n",
      "Gradient Descent(9/499): loss=-2.2039159407770725, w0=-2.983342718260834, w1=-1.3468276841782867, w2=1.4659567262995987, w3=3.4748840137944117, w4=4.522332796480979, w5=5.787437748815464, w6=5.294923332186392\n",
      "Gradient Descent(10/499): loss=-2.0889455946514683, w0=-3.0130691955298206, w1=-1.4123526951407464, w2=1.4510657670360938, w3=3.4424362492164007, w4=4.488888774762823, w5=5.781632579280154, w6=5.160757142108633\n",
      "Gradient Descent(11/499): loss=-1.9999205813609127, w0=-3.0266514886251534, w1=-1.4654796643515837, w2=1.4414287463239217, w3=3.411335360046685, w4=4.456507124002732, w5=5.776564708158774, w6=5.036757022710646\n",
      "Gradient Descent(12/499): loss=-1.928486821535468, w0=-3.026706182808843, w1=-1.507806728403739, w2=1.4360482300439656, w3=3.381327555132353, w4=4.424996558680912, w5=5.7720639326193615, w6=4.922488392169014\n",
      "Gradient Descent(13/499): loss=-1.8687149646681127, w0=-3.0157469143849753, w1=-1.5409651756172702, w2=1.434002229877477, w3=3.352186791094981, w4=4.394184042242891, w5=5.767978723408555, w6=4.81713291338984\n",
      "Gradient Descent(14/499): loss=-1.8165751356667488, w0=-2.996114658898216, w1=-1.5665383182943278, w2=1.4344547894716484, w3=3.32371492842456, w4=4.363915674918662, w5=5.764176876090085, w6=4.719670862221379\n",
      "Gradient Descent(15/499): loss=-1.7694704281148421, w0=-2.9698967089368935, w1=-1.585976818156505, w2=1.4366737893209025, w3=3.295743028054137, w4=4.334058619473465, w5=5.760546569283325, w6=4.629040447521265\n",
      "Gradient Descent(16/499): loss=-1.7258155960015233, w0=-2.9388764751500784, w1=-1.600543773478334, w2=1.4400414164391138, w3=3.2681315333800005, w4=4.304502139668247, w5=5.756996417939777, w6=4.544247150655589\n",
      "Gradient Descent(17/499): loss=-1.6846900840436285, w0=-2.904521857721032, w1=-1.6112945056127583, w2=1.4440540045026093, w3=3.2407687539085552, w4=4.275157128981083, w5=5.7534542800236395, w6=4.464422267904698\n",
      "Gradient Descent(18/499): loss=-1.6455808742675364, w0=-2.8680033894354575, w1=-1.6190827201528109, w2=1.4483134561247841, w3=3.213567994203287, w4=4.245954328623638, w5=5.749865147592464, w6=4.388842794705303\n",
      "Gradient Descent(19/499): loss=-1.6082088382920001, w0=-2.830229517914493, w1=-1.6245820285614783, w2=1.4525138850282096, w3=3.1864639585409247, w4=4.2168417465240395, w5=5.746188587946059, w6=4.316927156196055\n",
      "Gradient Descent(20/499): loss=-1.572420379021376, w0=-2.791888513119425, w1=-1.6283138982540848, w2=1.4564265945937702, w3=3.1594089960019205, w4=4.187781780420106, w5=5.7423961209250685, w6=4.248218563125145\n",
      "Gradient Descent(21/499): loss=-1.538124344308646, w0=-2.7534901085975387, w1=-1.6306762517639408, w2=1.4598854544511264, w3=3.132369567298419, w4=4.158748409865136, w5=5.738468780591846, w6=4.182363861542502\n",
      "Gradient Descent(22/499): loss=-1.5052576621313543, w0=-2.715403141048557, w1=-1.6319695898900137, w2=1.4627737884881036, w3=3.105323136897272, w4=4.129724669526859, w5=5.7343949871856115, w6=4.119092415621715\n",
      "Gradient Descent(23/499): loss=-1.4737679450963517, w0=-2.6778876343886684, w1=-1.6324193108851728, w2=1.4650132229430841, w3=3.0782555641122746, w4=4.100700496912188, w5=5.730168769717086, w6=4.058197255456392\n",
      "Gradient Descent(24/499): loss=-1.4436055071251483, w0=-2.641121080356635, w1=-1.632193957330752, w2=1.4665545423240862, w3=3.0511589867624562, w4=4.071670969937724, w5=5.725788328519212, w6=3.9995193146377397\n",
      "Gradient Descent(25/499): loss=-1.4147202757771828, w0=-2.605219351649661, w1=-1.631419671244068, w2=1.467370390339253, w3=3.024030148953871, w4=4.042634906271581, w5=5.721254901197974, w6=3.942934813433345\n",
      "Gradient Descent(26/499): loss=-1.387061059841614, w0=-2.570252978099739, w1=-1.630191373352939, w2=1.4674495629468824, w3=2.996869107424927, w4=4.013593776426135, w5=5.716571885605175, w6=3.8883454754509574\n",
      "Gradient Descent(27/499): loss=-1.3605758231321217, w0=-2.5362595888464248, w1=-1.6285812422102366, w2=1.4667926198789007, w3=2.96967824838594, w4=3.984550877021779, w5=5.711744172838916, w6=3.8356711286826006\n",
      "Gradient Descent(28/499): loss=-1.3352122923713492, w0=-2.503253280986983, w1=-1.626645039258941, w2=1.4654085564105084, w3=2.942461551900904, w4=3.9555107129527047, w5=5.706777647352007, w6=3.7848442270012\n",
      "Gradient Descent(29/499): loss=-1.3109185919151156, w0=-2.4712315814527237, w1=-1.6244267573670401, w2=1.4633123088350586, w3=2.9152240492953623, w4=3.9264785432052105, w5=5.701678817273576, w6=3.735805871032606\n",
      "Gradient Descent(30/499): loss=-1.287643784240082, w0=-2.4401805594160018, w1=-1.621961990224144, w2=1.4605229038148981, w3=2.8879714283630094, w4=3.8974600523548912, w5=5.696454544478059, w6=3.688502971942588\n",
      "Gradient Descent(31/499): loss=-1.2653382839432759, w0=-2.410078539879053, w1=-1.6192803423032107, w2=1.4570620975822142, w3=2.86070974998792, w4=3.8684611169696397, w5=5.69111184996774, w6=3.6428862693776756\n",
      "Gradient Descent(32/499): loss=-1.2439541513170365, w0=-2.380898773859139, w1=-1.61640713015104, w2=1.4529533830400307, w3=2.8334452476011776, w4=3.8394876426249906, w5=5.685657775411402, w6=3.5989089767654665\n",
      "Gradient Descent(33/499): loss=-1.223445285089486, w0=-2.3526113398839974, w1=-1.6133645677201462, w2=1.4482212701060044, w3=2.806184187450679, w4=3.810545452749116, w5=5.680099286094035, w6=3.5565258799991977\n",
      "Gradient Descent(34/499): loss=-1.2037675361658713, w0=-2.325184485538885, w1=-1.6101725812787848, w2=1.442890767049731, w3=2.778932772995615, w4=3.781640215026091, w5=5.67444320410551, w6=3.5156927585884343\n",
      "Gradient Descent(35/499): loss=-1.1848787619298415, w0=-2.2985855653114973, w1=-1.6068493621028663, w2=1.4369870084801246, w3=2.7516970809615837, w4=3.752777394676369, w5=5.668696163418243, w6=3.476366032375574\n",
      "Gradient Descent(36/499): loss=-1.1667388370509002, w0=-2.27278169011252, w1=-1.6034117362354177, w2=1.4305349896360604, w3=2.7244830198692136, w4=3.723962226727606, w5=5.662864580687957, w6=3.4385025631601573\n",
      "Gradient Descent(37/499): loss=-1.1493096331657897, w0=-2.2477401726184936, w1=-1.5998754086049505, w2=1.4235593773708395, w3=2.6972963043458735, w4=3.6951997015234603, w5=5.656954637272768, w6=3.4020595604269706\n",
      "Gradient Descent(38/499): loss=-1.1325549767526837, w0=-2.223428829105894, w1=-1.596255122335904, w2=1.4160843763229742, w3=2.6701424404025067, w4=3.666494559322436, w5=5.650972269210018, w6=3.3669945551462592\n",
      "Gradient Descent(39/499): loss=-1.1164405920994103, w0=-2.1998161810564274, w1=-1.5925647619516856, w2=1.4081336347888656, w3=2.6430267182420026, w4=3.6378512910277054, w5=5.6449231628096035, w6=3.3332654164434348\n",
      "Gradient Descent(40/499): loss=-1.1009340344238845, w0=-2.1768715871093174, w1=-1.5888174203521637, w2=1.3997301792303938, w3=2.615954210175818, w4=3.6092741429584225, w5=5.638812754193504, w6=3.3008303937662467\n",
      "Gradient Descent(41/499): loss=-1.0860046168319553, w0=-2.154565326771979, w1=-1.5850254431239774, w2=1.3908963695505745, w3=2.5889297719540085, w4=3.5807671242015697, w5=5.632646231595621, w6=3.269648172767402\n",
      "Gradient Descent(42/499): loss=-1.0716233337883496, w0=-2.1328686507675743, w1=-1.5812004592677433, w2=1.3816538695629126, w3=2.5619580463332645, w4=3.5523340155327707, w5=5.626428539582291, w6=3.2396779370620807\n",
      "Gradient Descent(43/499): loss=-1.057762783039367, w0=-2.1117538082922227, w1=-1.577353404302474, w2=1.3720236287060654, w3=2.5350434680741376, w4=3.5239783792125863, w5=5.620164384599367, w6=3.2108794307653357\n",
      "Gradient Descent(44/499): loss=-1.0443970873890702, w0=-2.091194058240847, w1=-1.5734945395564963, w2=1.362025872198796, w3=2.5081902698149467, w4=3.4957035691879295, w5=5.613858241424681, w6=3.18321301860358\n",
      "Gradient Descent(45/499): loss=-1.0315018173393409, w0=-2.071163669239192, w1=-1.569633469994588, w2=1.3516800976286063, w3=2.48140248844751, w4=3.467512741383416, w5=5.60751436022581, w6=3.1566397416779512\n",
      "Gradient Descent(46/499): loss=-1.0190539153177405, w0=-2.051637911797051, w1=-1.5657791619566974, w2=1.34100507652224, w3=2.454683971742085, w4=3.4394088638746276, w5=5.601136774007821, w6=3.131121367817493\n",
      "Gradient Descent(47/499): loss=-1.0070316220063835, w0=-2.0325930448618905, w1=-1.5619399615454839, w2=1.330018859830835, w3=2.42803838505245, w4=3.4113947268087617, w5=5.594729306294803, w6=3.106620436027568\n",
      "Gradient Descent(48/499): loss=-0.9954144051287864, w0=-2.0140062983514344, w1=-1.5581236139917691, w2=1.3187387865293863, w3=2.4014692179888786, w4=3.383472951988285, w5=5.588295578930562, w6=3.083100294906215\n",
      "Gradient Descent(49/499): loss=-0.9841828909348859, w0=-1.9958558527717831, w1=-1.5543372840741023, w2=1.3071814947163116, w3=2.3749797909852735, w4=3.355646002067243, w5=5.581839019913149, w6=3.060525135133048\n",
      "Gradient Descent(50/499): loss=-0.9733187985363794, w0=-1.9781208167100799, w1=-1.5505875775190257, w2=1.2953629347300382, w3=2.3485732617127466, w4=3.3279161893329055, w5=5.575362871198874, w6=3.0388600162765567\n",
      "Gradient Descent(51/499): loss=-0.9628048771776679, w0=-1.9607812027766958, w1=-1.546880563226611, w2=1.2832983838934027, w3=2.32225263130957, w4=3.3002856840609343, w5=5.56887019642664, w6=3.0180708882469442\n",
      "Gradient Descent(52/499): loss=-0.9526248464765237, w0=-1.9438179024266813, w1=-1.543221796127176, w2=1.2710024625652938, w3=2.2960207504093506, w4=3.2727565224426782, w5=5.562363888524696, w6=2.9981246077637365\n",
      "Gradient Descent(53/499): loss=-0.9427633396293196, w0=-1.927212659990538, w1=-1.5396163404635412, w2=1.258489151230537, w3=2.269880324957415, w4=3.245330614090162, w5=5.555846677170413, w6=2.9789889502242204\n",
      "Gradient Descent(54/499): loss=-0.9332058495454811, w0=-1.9109480461746622, w1=-1.5360687932979862, w2=1.2457718083989386, w3=2.2438339218109786, w4=3.2180097491289463, w5=5.549321136080247, w6=2.9606326173596065\n",
      "Gradient Descent(55/499): loss=-0.9239386778526975, w0=-1.8950074312418426, w1=-1.532583308057167, w2=1.2328631891162778, w3=2.2178839741225125, w4=3.19079560489206, w5=5.542789690112293, w6=2.9430252410567728\n",
      "Gradient Descent(56/499): loss=-0.9149488866968645, w0=-1.8793749580452654, w1=-1.5291636179471613, w2=1.2197754639162481, w3=2.1920327865084137, w4=3.1636897522301193, w5=5.536254622168014, w6=2.926137383708498\n",
      "Gradient Descent(57/499): loss=-0.9062242532476491, w0=-1.8640355150612247, w1=-1.5258130590916439, w2=1.2065202380644542, w3=2.1662825400069674, w4=3.136693661453923, w5=5.529718079883191, w6=2.909940535436841\n",
      "Gradient Descent(58/499): loss=-0.8977532268110155, w0=-1.8489747095433435, w1=-1.5225345932672347, w2=1.1931085709646148, w3=2.1406352968309124, w4=3.109808707926447, w5=5.523182082101027, w6=2.894407108514396\n",
      "Gradient Descent(59/499): loss=-0.8895248884434677, w0=-1.8341788409027888, w1=-1.5193308301302628, w2=1.1795509956137733, w3=2.115093004920857, w4=3.083036177321418, w5=5.516648525122734, w6=2.879510429287622\n",
      "Gradient Descent(60/499): loss=-0.8815289129584862, w0=-1.819634874403534, w1=-1.5162040488479915, w2=1.165857538008055, w3=2.0896575023064234, w4=3.0563772705656493, w5=5.510119188732992, w6=2.8652247278859386\n",
      "Gradient Descent(61/499): loss=-0.8737555332133682, w0=-1.805330415248462, w1=-1.513156219064467, w2=1.152037736413633, w3=2.0643305212824457, w4=3.0298331084821113, w5=5.5035957419993835, w6=2.8515251259802223\n",
      "Gradient Descent(62/499): loss=-0.8661955065639148, w0=-1.7912536831205141, w1=-1.5101890211465077, w2=1.1381006604293162, w3=2.039113692407789, w4=3.0034047361503693, w5=5.49707974884637, w6=2.838387622834962\n",
      "Gradient Descent(63/499): loss=-0.8588400833749751, w0=-1.777393487232854, w1=-1.507303865668938, w2=1.124054929777704, w3=2.0140085483345187, w4=2.9770931270005736, w5=5.490572673405625, w6=2.825789079879763\n",
      "Gradient Descent(64/499): loss=-0.8516809774764272, w0=-1.7637392019329319, w1=-1.504501912110084, w2=1.1099087327713146, w3=1.989016527475172, w4=2.950899186656659, w5=5.484075885145557, w6=2.8137072040082187\n",
      "Gradient Descent(65/499): loss=-0.8447103384565573, w0=-1.750280742897224, w1=-1.5017840867389023, w2=1.095669844408571, w3=1.9641389775158455, w4=2.9248237565438315, w5=5.477590663783722, w6=2.8021205297954164\n",
      "Gradient Descent(66/499): loss=-0.8379207256878355, w0=-1.7370085439461964, w1=-1.499151099684021, w2=1.081345644062135, w3=1.9393771587827118, w4=2.8988676172748, w5=5.471118203986547, w6=2.791008400809517\n",
      "Gradient Descent(67/499): loss=-0.8313050839835804, w0=-1.7239135345025831, w1=-1.4966034611825902, w2=1.066943132728869, w3=1.914732247469411, w4=2.873031491828576, w5=5.46465961986134, w6=2.780350950177935\n",
      "Gradient Descent(68/499): loss=-0.8248567207878833, w0=-1.7109871177103348, w1=-1.4941414970132867, w2=1.0524689498167794, w3=1.8902053387325664, w4=2.8473160485349993, w5=5.458215949246054, w6=2.7701290805546366\n",
      "Gradient Descent(69/499): loss=-0.8185692848052752, w0=-1.698221149226491, w1=-1.4917653631232164, w2=1.0379293894496864, w3=1.865797449662435, w4=2.8217219038774775, w5=5.4517881578026, w6=2.7603244436219176\n",
      "Gradient Descent(70/499): loss=-0.812436745980888, w0=-1.6856079166937123, w1=-1.4894750594629471, w2=1.0233304162751582, w3=1.8415095221354496, w4=2.7962496251257924, w5=5.445377142919797, w6=2.7509194192477247\n",
      "Gradient Descent(71/499): loss=-0.806453376746226, w0=-1.6731401198972369, w1=-1.4872704430475667, w2=1.0086776807654874, w3=1.8173424255551192, w4=2.770899732810141, w5=5.438983737432222, w6=2.741897094408081\n",
      "Gradient Descent(72/499): loss=-0.8006137344500466, w0=-1.6608108516065216, w1=-1.4851512402646154, w2=0.9939765340052158, w3=1.793296959487468, w4=2.7456727030469574, w5=5.432608713161369, w6=2.7332412419734506\n",
      "Gradient Descent(73/499): loss=-0.7949126448981931, w0=-1.6486135790987895, w1=-1.4831170584520679, w2=0.9792320419620026, w3=1.7693738561968824, w4=2.7205689697264286, w5=5.426252784285566, w6=2.7249362994478843\n",
      "Gradient Descent(74/499): loss=-0.7893451869305146, w0=-1.6365421263590412, w1=-1.481167396771328, w2=0.9644489992404902, w3=1.7455737830879323, w4=2.695588926571011, w5=5.419916610545147, w6=2.7169673477405203\n",
      "Gradient Descent(75/499): loss=-0.7839066779671924, w0=-1.6245906569488104, w1=-1.4793016564015116, w2=0.9496319423213199, w3=1.7218973450584139, w4=2.6707329290736657, w5=5.413600800289328, w6=2.7093200900403884\n",
      "Gradient Descent(76/499): loss=-0.7785926604608397, w0=-1.6127536575339747, w1=-1.4775191500822018, w2=0.9347851622896082, w3=1.6983450867685572, w4=2.646001296323972, w5=5.407305913371201, w6=2.701980830857502\n",
      "Gradient Descent(77/499): loss=-0.7733988891946698, w0=-1.6010259220602732, w1=-1.4758191110324252, w2=0.9199127170590486, w3=1.6749174948310326, w4=2.6213943127297314, w5=5.401032463897138, w6=2.694936455285851\n",
      "Gradient Descent(78/499): loss=-0.7683213193707666, w0=-1.5894025365637774, w1=-1.4742007012738645, w2=0.9050184430993875, w3=1.6516149999260898, w4=2.596912229641168, w5=5.394780922836823, w6=2.6881744085371078\n",
      "Gradient Descent(79/499): loss=-0.7633560954360896, w0=-1.5778788646023998, w1=-1.4726630193863361, w2=0.8901059666763613, w3=1.6284379788458716, w4=2.5725552668843363, w5=5.388551720499963, w6=2.6816826757876124\n",
      "Gradient Descent(80/499): loss=-0.7584995405972552, w0=-1.5664505332935725, w1=-1.471205107723374, w2=0.8751787146143053, w3=1.605386756471661, w4=2.5483236142098864, w5=5.382345248885605, w6=2.675449762375434\n",
      "Gradient Descent(81/499): loss=-0.7537481469783684, w0=-1.5551134199424654, w1=-1.4698259591153877, w2=0.8602399245925673, w3=1.5824616076875493, w4=2.524217432662897, w5=5.376161863909797, w6=2.669464674379054\n",
      "Gradient Descent(82/499): loss=-0.7490985663792494, w0=-1.54386363924452, w1=-1.468524523087352, w2=0.8452926549876139, w3=1.5596627592337489, w4=2.5002368558790766, w5=5.370001887517187, w6=2.663716899604387\n",
      "Gradient Descent(83/499): loss=-0.7445476015942745, w0=-1.5326975310456266, w1=-1.46729971161736, w2=0.8303397942733135, w3=1.5369903915025334, w4=2.47638199131224, w5=5.363865609681958, w6=2.6581963890024496\n",
      "Gradient Descent(84/499): loss=-0.7400921982547777, w0=-1.5216116486429598, w1=-1.4661504044616427, w2=0.8153840699923403, w3=1.5144446402795437, w4=2.4526529213976116, w5=5.357753290303312, w6=2.652893538535991\n",
      "Gradient Descent(85/499): loss=-0.7357294371604945, w0=-1.5106027476092891, w1=-1.4650754540708684, w2=0.8004280573119834, w3=1.492025598432985, w4=2.4290497046551622, w5=5.351665161000534, w6=2.647799171509753\n",
      "Gradient Descent(86/499): loss=-0.7314565270679303, w0=-1.4996677751234804, w1=-1.464073690121682, w2=0.7854741871778788, w3=1.4697333175530258, w4=2.405572376736863, w5=5.3456014268124905, w6=2.642904521375731\n",
      "Gradient Descent(87/499): loss=-0.727270797905756, w0=-1.4888038597898994, w1=-1.4631439236865542, w2=0.770524754079317, w3=1.4475678095435183, w4=2.382220951421457, w5=5.339562267806189, w6=2.638201215021836\n",
      "Gradient Descent(88/499): loss=-0.7231696943894262, w0=-1.4780083019294958, w1=-1.462284951064089, w2=0.7555819234398397, w3=1.4255290481679797, w4=2.3589954215600657, w5=5.3335478405988965, w6=2.6336812565496652\n",
      "Gradient Descent(89/499): loss=-0.7191507700091575, w0=-1.4672785643254782, w1=-1.461495557291008, w2=0.7406477386468193, w3=1.4036169705516013, w4=2.335895759975692, w5=5.3275582797980805, w6=2.629337011544696\n",
      "Gradient Descent(90/499): loss=-0.7152116813672104, w0=-1.4566122634066867, w1=-1.4607745193560857, w2=0.725724127733642, w3=1.3818314786409023, w4=2.312921920319451, w5=5.32159369936327, w6=2.6251611918400513\n",
      "Gradient Descent(91/499): loss=-0.7113501828421077, w0=-1.4460071608520093, w1=-1.4601206091353705, w2=0.7108129097279784, w3=1.3601724406225022, w4=2.290073837886138, w5=5.315654193893774, w6=2.621146840773076\n",
      "Gradient Descent(92/499): loss=-0.707564121558985, w0=-1.4354611555994725, w1=-1.4595325960670917, w2=0.6959158006794538, w3=1.3386396923023536, w4=2.2673514303915385, w5=5.3097398398459905, w6=2.617287318932258\n",
      "Gradient Descent(93/499): loss=-0.7038514326467189, w0=-1.4249722762439512, w1=-1.4590092495837392, w2=0.6810344193798098, w3=1.3172330384466626, w4=2.244754598713713, w5=5.303850696683894, w6=2.613576290390523\n",
      "Gradient Descent(94/499): loss=-0.7002101347638331, w0=-1.4145386738077945, w1=-1.4585493413178923, w2=0.6661702927884008, w3=1.2959522540856145, w4=2.2222832276002995, w5=5.297986807966121, w6=2.610007709419616\n",
      "Gradient Descent(95/499): loss=-0.6966383258764297, w0=-1.4041586148690328, w1=-1.458151647097505, w2=0.6513248611755917, w3=1.2747970857809288, w4=2.1999371863437363, w5=5.292148202372897, w6=2.606575807679128\n",
      "Gradient Descent(96/499): loss=-0.693134179272547, w0=-1.3938304750322175, w1=-1.4578149487454901, w2=0.6364994829963231, w3=1.2537672528581794, w4=2.1777163294261577, w5=5.28633489467592, w6=2.6032750818727233\n",
      "Gradient Descent(97/499): loss=-0.6896959397984314, w0=-1.3835527327273562, w1=-1.4575380356976184, w2=0.621695439505791, w3=1.2328624486047428, w4=2.155620497135584, w5=5.2805468866541565, w6=2.6001002818632735\n",
      "Gradient Descent(98/499): loss=-0.6863219203031917, w0=-1.3733239633228163, w1=-1.4573197064519543, w2=0.6069139391288578, w3=1.2120823414341657, w4=2.1336495161549083, w5=5.274784167958355, w6=2.5970463992378603\n",
      "Gradient Descent(99/499): loss=-0.6830104982792351, w0=-1.3631428335384956, w1=-1.4571587698622688, w2=0.5921561215944644, w3=1.1914265760176876, w4=2.11180320012507, w5=5.269046716926966, w6=2.5941086563130047\n",
      "Gradient Descent(100/499): loss=-0.6797601126867298, w0=-1.3530080961459887, w1=-1.4570540462871366, w2=0.577423061845963, w3=1.1708947743836027, w4=2.0900813501837154, w5=5.263334501356004, w6=2.591282495569961\n",
      "Gradient Descent(101/499): loss=-0.6765692609511345, w0=-1.3429185849429048, w1=-1.4570043686057141, w2=0.5627157737379337, w3=1.1504865369850967, w4=2.0684837554805373, w5=5.257647479225279, w6=2.5885635695095113\n",
      "Gradient Descent(102/499): loss=-0.6734364961235619, w0=-1.3328732099889324, w1=-1.4570085831105115, w2=0.5480352135296848, w3=1.1302014437371646, w4=2.0470101936704195, w5=5.251985599383295, w6=2.5859477309153474\n",
      "Gradient Descent(103/499): loss=-0.6703604241944208, w0=-1.3228709530916687, w1=-1.4570655502868304, w2=0.5333822831852794, w3=1.1100390550231736, w4=2.025660431385427, w5=5.2463488021930065, w6=2.5834310235149034\n",
      "Gradient Descent(104/499): loss=-0.6673397015514099, w0=-1.3129108635306626, w1=-1.4571741454879177, w2=0.5187578334895664, w3=1.089998912671619, w4=2.004434224686619, w5=5.240737020140496, w6=2.581009673026296\n",
      "Gradient Descent(105/499): loss=-0.664373032573514, w0=-1.3029920540085458, w1=-1.4573332595143025, w2=0.5041626669893391, w3=1.070080540903591, w4=1.9833313194965954, w5=5.235150178408562, w6=2.5786800785799215\n",
      "Gradient Descent(106/499): loss=-0.661459167353195, w0=-1.2931136968185377, w1=-1.4575417991052197, w2=0.4895975407683875, w3=1.050283447251458, w4=1.9623514520136367, w5=5.229588195417072, w6=2.576438804503201\n",
      "Gradient Descent(107/499): loss=-0.658596899539465, w0=-1.2832750202180254, w1=-1.457798687349506, w2=0.4750631690648642, w3=1.0306071234492573, w4=1.941494349108241, w5=5.224050983331869, w6=2.574282572456937\n",
      "Gradient Descent(108/499): loss=-0.6557850642949942, w0=-1.27347530499832, w1=-1.4581028640228413, w2=0.46056022573903577, w3=1.011051046295274, w4=1.9207597287028175, w5=5.218538448543905, w6=2.5722082539117928\n",
      "Gradient Descent(109/499): loss=-0.6530225363608338, w0=-1.263713881241087, w1=-1.4584532858577506, w2=0.44608934659915883, w3=0.9916146784872794, w4=1.9001473001352558, w5=5.213050492120212, w6=2.5702128629534577\n",
      "Gradient Descent(110/499): loss=-0.6503082282227346, w0=-1.253990125252333, w1=-1.4588489267523201, w2=0.4316511315928869, w3=0.9722974694309003, w4=1.8796567645070472, w5=5.207587010228225, w6=2.5682935494051784\n",
      "Gradient Descent(111/499): loss=-0.6476410883734071, w0=-1.244303456665206, w1=-1.4592887779231711, w2=0.41724614687129513, w3=0.9530988560215847, w4=1.859287815016604, w5=5.202147894534885, w6=2.566447592256465\n",
      "Gradient Descent(112/499): loss=-0.6450200996654221, w0=-1.2346533357032352, w1=-1.459771848007835, w2=0.40287492673229397, w3=0.934018263400628, w4=1.8390401372783882, w5=5.196733032581907, w6=2.564672393386934\n",
      "Gradient Descent(113/499): loss=-0.6424442777497593, w0=-1.2250392605959903, w1=-1.4602971631212998, w2=0.38853797544990154, w3=0.9150551056857277, w4=1.818913409628436, w5=5.191342308138481, w6=2.562965471574446\n",
      "Gradient Descent(114/499): loss=-0.6399126695953187, w0=-1.2154607651394889, w1=-1.4608637668711486, w2=0.37423576899554534, w3=0.8962087866765335, w4=1.7989073034168301, w5=5.185975601532657, w6=2.5613244567768776\n",
      "Gradient Descent(115/499): loss=-0.6374243520849832, w0=-1.2059174163940094, w1=-1.4614707203353805, w2=0.3599687566572808, w3=0.8774787005356645, w4=1.7790214832876585, w5=5.180632789962568, w6=2.559747084677101\n",
      "Gradient Descent(116/499): loss=-0.6349784306840786, w0=-1.1964088125123016, w1=-1.4621171020066965, w2=0.3457373625625351, w3=0.8588642324456666, w4=1.7592556074469676, w5=5.175313747788588, w6=2.5582311914809663\n",
      "Gradient Descent(117/499): loss=-0.6325740381773208, w0=-1.1869345806914906, w1=-1.4628020077067452, w2=0.3315419871097185, w3=0.8403647592423893, w4=1.7396093279192013, w5=5.170018346807478, w6=2.5567747089583195\n",
      "Gradient Descent(118/499): loss=-0.6302103334705642, w0=-1.1774943752422817, w1=-1.4635245504735488, w2=0.31738300831378624, w3=0.8219796500252631, w4=1.7200822907925981, w5=5.164746456509505, w6=2.555375659717349\n",
      "Gradient Descent(119/499): loss=-0.6278865004538748, w0=-1.1680878757693591, w1=-1.4642838604250812, w2=0.3032607830705875, w3=0.8037082667449639, w4=1.700674136454, w5=5.159497944319486, w6=2.554032152702802\n",
      "Gradient Descent(120/499): loss=-0.6256017469226511, w0=-1.1587147854571616, w1=-1.4650790846017299, w2=0.2891756483445957, w3=0.7855499647689552, w4=1.6813844998135106, w5=5.154272675822628, w6=2.5527423789088792\n",
      "Gradient Descent(121/499): loss=-0.6233553035536996, w0=-1.1493748294554824, w1=-1.4659093867901543, w2=0.2751279222843873, w3=0.7675040934254013, w4=1.662213010519429, w5=5.149070514976021, w6=2.551504607297878\n",
      "Gradient Descent(122/499): loss=-0.621146422933339, w0=-1.14006775335961, w1=-1.4667739473308488, w2=0.26111790527001444, w3=0.7495699965259488, w4=1.643159293163863, w5=5.143891324306582, w6=2.550317180915925\n",
      "Gradient Descent(123/499): loss=-0.6189743786347806, w0=-1.130793321779969, w1=-1.467671962911524, w2=0.24714588089620398, w3=0.7317470128678779, w4=1.6242229674794197, w5=5.138734965096197, w6=2.549178513197409\n",
      "Gradient Descent(124/499): loss=-0.6168384643421703, w0=-1.1215513169964735, w1=-1.468602646348243, w2=0.23321211689511465, w3=0.7140344767161249, w4=1.6054036485273573, w5=5.133601297554799, w6=2.5480870844499908\n",
      "Gradient Descent(125/499): loss=-0.614737993018834, w0=-1.112341537693026, w1=-1.4695652263560846, w2=0.21931686600218755, w3=0.6964317182656816, w4=1.5867009468775644, w5=5.128490180982038, w6=2.5470414385123363\n",
      "Gradient Descent(126/499): loss=-0.612672296117389, w0=-1.103163797767827, w1=-1.4705589473109493, w2=0.20546036676844112, w3=0.6789380640848781, w4=1.5681144687807298, w5=5.123401473918199, w6=2.546040179576984\n",
      "Gradient Descent(127/499): loss=-0.6106407228295233, w0=-1.0940179252153681, w1=-1.4715830690039822, w2=0.19164284432238254, w3=0.6615528375400545, w4=1.5496438163330468, w5=5.118335034284989, w6=2.5450819691710223\n",
      "Gradient Descent(128/499): loss=-0.6086426393733505, w0=-1.0849037610761878, w1=-1.4726368663899518, w2=0.17786451108453893, w3=0.6442753592021286, w4=1.5312885876337916, w5=5.113290719516744, w6=2.544165523287511\n",
      "Gradient Descent(129/499): loss=-0.606677428316372, w0=-1.0758211584506672, w1=-1.4737196293308064, w2=0.16412556743744897, w3=0.6271049472355671, w4=1.5130483769360998, w5=5.108268386682627, w6=2.543289609660838\n",
      "Gradient Descent(130/499): loss=-0.6047444879321714, w0=-1.0667699815733267, w1=-1.4748306623355087, w2=0.15042620235380139, w3=0.6100409177702611, w4=1.4949227747912595, w5=5.1032678926003285, w6=2.5424530451794496\n",
      "Gradient Descent(131/499): loss=-0.6028432315890784, w0=-1.0577501049442661, w1=-1.4759692842971501, w2=0.1367665939852597, w3=0.5930825852568128, w4=1.4769113681868247, w5=5.098289093941751, w6=2.5416546934296482\n",
      "Gradient Descent(132/499): loss=-0.6009730871691187, w0=-1.0487614125145626, w1=-1.477134828228245, w2=0.12314691021437173, w3=0.576229262805728, w4=1.4590137406788493, w5=5.093331847331157, w6=2.5408934623643806\n",
      "Gradient Descent(133/499): loss=-0.5991334965156686, w0=-1.0398037969226013, w1=-1.4783266409950195, w2=0.10956730917182964, w3=0.5594802625110145, w4=1.4412294725185248, w5=5.088396009436213, w6=2.5401683020911876\n",
      "Gradient Descent(134/499): loss=-0.5973239149083084, w0=-1.0308771587784744, w1=-1.479544083051421, w2=0.09602793972121897, w3=0.542834895758675, w4=1.4235581407735038, w5=5.08348143705234, w6=2.539478202773709\n",
      "Gradient Descent(135/499): loss=-0.5955438105634479, w0=-1.0219814059937282, w1=-1.480786528173505, w2=0.08252894191327408, w3=0.5262924735205833, w4=1.405999319444175, w5=5.078587987180779, w6=2.538822192641361\n",
      "Gradient Descent(136/499): loss=-0.5937926641593765, w0=-1.0131164531538848, w1=-1.4820533631947814, w2=0.06907044741154336, w3=0.5098523066342227, w4=1.3885525795751517, w5=5.073715517100734, w6=2.538199336102031\n",
      "Gradient Descent(137/499): loss=-0.5920699683844572, w0=-1.0042822209312967, w1=-1.4833439877430388, w2=0.05565257989125839, w3=0.49351370606876477, w4=1.3712174893622238, w5=5.068863884435948, w6=2.537608731952833\n",
      "Gradient Descent(138/499): loss=-0.5903752275072528, w0=-0.9954786355360237, w1=-1.4846578139791082, w2=0.04227545541309751, w3=0.4772759831779557, w4=1.3539936142550173, w5=5.064032947216048, w6=2.5370495116841845\n",
      "Gradient Descent(139/499): loss=-0.588707956967433, w0=-0.9867056282025433, w1=-1.4859942663379715, w2=0.02893918277343699, w3=0.46113844994027114, w4=1.3368805170555926, w5=5.059222563932976, w6=2.5365208378726614\n",
      "Gradient Descent(140/499): loss=-0.5870676829863759, w0=-0.9779631347102246, w1=-1.487352781272569, w2=0.01564386383258915, w3=0.44510041918679516, w4=1.3198777580132093, w5=5.054432593592797, w6=2.536021902658279\n",
      "Gradient Descent(141/499): loss=-0.5854539421964283, w0=-0.9692510949356038, w1=-1.4887328070006223, w2=0.0023895938224394227, w3=0.4291612048172686, w4=1.302984894915473, w5=5.049662895763184, w6=2.5355519263020363\n",
      "Gradient Descent(142/499): loss=-0.5838662812878508, w0=-0.9605694524346085, w1=-1.4901338032547342, w2=-0.010823538365189464, w3=0.4133201220047448, w4=1.2862014831760742, w5=5.044913330616822, w6=2.535110155819741\n",
      "Gradient Descent(143/499): loss=-0.5823042566725133, w0=-0.951918154052976, w1=-1.4915552410360067, w2=-0.023995449908196922, w3=0.3975764873892818, w4=1.269527075919318, w5=5.040183758971014, w6=2.5346958636883126\n",
      "Gradient Descent(144/499): loss=-0.580767434163469, w0=-0.9432971495632095, w1=-1.4929966023713666, w2=-0.037126063800713094, w3=0.3819296192610907, w4=1.2529612240616395, w5=5.035474042323702, w6=2.5343083466209175\n",
      "Gradient Descent(145/499): loss=-0.579255388669568, w0=-0.9347063913265019, w1=-1.4944573800747698, w2=-0.05021530861535258, w3=0.36637883773355134, w4=1.2365034763902867, w5=5.030784042886142, w6=2.5339469244074686\n",
      "Gradient Descent(146/499): loss=-0.5777677039043236, w0=-0.9261458339781489, w1=-1.4959370775124203, w2=-0.06326311828017657, w3=0.35092346490649634, w4=1.2201533796393516, w5=5.026113623612451, w6=2.533610938817164\n",
      "Gradient Descent(147/499): loss=-0.5763039721082818, w0=-0.9176154341350504, w1=-1.4974352083721172, w2=-0.07626943186938927, w3=0.3355628250201548, w4=1.203910478563314, w5=5.0214626482262075, w6=2.5332997525599024\n",
      "Gradient Descent(148/499): loss=-0.5748637937841842, w0=-0.9091151501239799, w1=-1.4989512964368177, w2=-0.08923419340685483, w3=0.32029624460013717, w4=1.1877743160082632, w5=5.016830981244323, w6=2.533012748303552\n",
      "Gradient Descent(149/499): loss=-0.5734467774442535, w0=-0.9006449417293719, w1=-1.5004848753624853, w2=-0.10215735168157675, w3=0.3051230525938334, w4=1.171744432980951, w5=5.012218487998344, w6=2.5327493277441846\n",
      "Gradient Descent(150/499): loss=-0.5720525393689634, w0=-0.892204769959451, w1=-1.5020354884602714, w2=-0.11503886007433514, w3=0.2900425804985842, w4=1.1558203687158215, w5=5.007625034653363, w6=2.532508910726539\n",
      "Gradient Descent(151/499): loss=-0.5706807033766879, w0=-0.8837945968295892, w1=-1.5036026884830636, w2=-0.12787867639472775, w3=0.2750541624819788, w4=1.1400016607401593, w5=5.003050488224695, w6=2.5322909344120803\n",
      "Gradient Descent(152/499): loss=-0.5693309006036629, w0=-0.8754143851618426, w1=-1.5051860374164179, w2=-0.14067676272790716, w3=0.26015713549461744, w4=1.1242878449374885, w5=4.99849471659248, w6=2.5320948524921723\n",
      "Gradient Descent(153/499): loss=-0.5680027692937131, w0=-0.867064098399677, w1=-1.506785106273878, w2=-0.15343308529035232, w3=0.24535083937567165, w4=1.1086784556093472, w5=4.993957588514334, w6=2.531920134443979\n",
      "Gradient Descent(154/499): loss=-0.5666959545972338, w0=-0.8587437004369486, w1=-1.5083994748966725, w2=-0.16614761429405348, w3=0.2306346169515609, w4=1.093173025535559, w5=4.989438973636213, w6=2.531766264826838\n",
      "Gradient Descent(155/499): loss=-0.5654101083789417, w0=-0.8504531554602587, w1=-1.5100287317577736, w2=-0.1788203238185301, w3=0.21600781412805659, w4=1.0777710860331118, w5=4.984938742501588, w6=2.531632742616949\n",
      "Gradient Descent(156/499): loss=-0.5641448890339334, w0=-0.8421924278038523, w1=-1.5116724737702858, w2=-0.19145119169013824, w3=0.20146977997611307, w4=1.0624721670137531, w5=4.980456766559065, w6=2.5315190805783305\n",
      "Gradient Descent(157/499): loss=-0.5628999613116168, w0=-0.8339614818162782, w1=-1.5133303061001298, w2=-0.20404019936815893, w3=0.18701986681171573, w4=1.0472757970403994, w5=4.975992918168567, w6=2.5314248046680996\n",
      "Gradient Descent(158/499): loss=-0.5616749961471008, w0=-0.8257602817380713, w1=-1.515001841982976, w2=-0.21658733183719256, w3=0.17265743027002575, w4=1.0321815033824555, w5=4.971547070606164, w6=2.5313494534742165\n",
      "Gradient Descent(159/499): loss=-0.5604696704996561, w0=-0.8175887915897639, w1=-1.5166867025453805, w2=-0.22909257750541498, w3=0.158381829374092, w4=1.0171888120701318, w5=4.967119098067682, w6=2.53129257768394\n",
      "Gradient Descent(160/499): loss=-0.5592836671978734, w0=-0.8094469750695696, w1=-1.5183845166300614, w2=-0.2415559281082803, w3=0.1441924265983899, w4=1.0022972479478425, w5=4.9627088756711535, w6=2.5312537395813144\n",
      "Gradient Descent(161/499): loss=-0.5581166747911712, w0=-0.8013347954601224, w1=-1.5200949206252627, w2=-0.25397737861728326, w3=0.13008858792743844, w4=0.9875063347267603, w5=4.958316279458216, w6=2.531232512572108\n",
      "Gradient Descent(162/499): loss=-0.5569683874073217, w0=-0.7932522155436923, w1=-1.5218175582981355, w2=-0.2663569271534194, w3=0.11606968290973628, w4=0.9728155950366026, w5=4.953941186394539, w6=2.5312284807346828\n",
      "Gradient Descent(163/499): loss=-0.5558385046156802, w0=-0.785199197525328, w1=-1.5235520806320704, w2=-0.278694574905006, w3=0.10213508470724933, w4=0.9582245504767126, w5=4.949583474369356, w6=2.5312412383953737\n",
      "Gradient Descent(164/499): loss=-0.5547267312958234, w0=-0.7771757029634128, w1=-1.525298145667912, w2=-0.2909903260495488, w3=0.08828417014067257, w4=0.9437327216664989, w5=4.945243022194171, w6=2.5312703897270126\n",
      "Gradient Descent(165/499): loss=-0.553632777511313, w0=-0.7691816927071486, w1=-1.5270554183489813, w2=-0.3032441876793622, w3=0.07451631973068036, w4=0.9293396282952908, w5=4.940919709600715, w6=2.531315548369308\n",
      "Gradient Descent(166/499): loss=-0.5525563583883224, w0=-0.7612171268405125, w1=-1.5288235703698305, w2=-0.3154561697306693, w3=0.06083091773537082, w4=0.9150447891716607, w5=4.936613417238219, w6=2.531376337069857\n",
      "Gradient Descent(167/499): loss=-0.5514971939988728, w0=-0.7532819646322548, w1=-1.530602280028657, w2=-0.3276262849159278, w3=0.04722735218410111, w4=0.9008477222722616, w5=4.932324026670046, w6=2.5314523873446357\n",
      "Gradient Descent(168/499): loss=-0.5504550092484426, w0=-0.745376164491538, w1=-1.532391232083298, w2=-0.33975454865914567, w3=0.033705014907902536, w4=0.8867479447902253, w5=4.928051420369769, w6=2.5315433391568565\n",
      "Gradient Descent(169/499): loss=-0.5494295337677257, w0=-0.7374996839288334, w1=-1.534190117610728, w2=-0.3518409790339659, w3=0.02026330156665621, w4=0.8727449731831577, w5=4.923795481716719, w6=2.5316488406131636\n",
      "Gradient Descent(170/499): loss=-0.5484205018083249, w0=-0.7296524795217204, w1=-1.5359986338699834, w2=-0.3638855967043169, w3=0.006901611673202187, w4=0.8588383232207697, w5=4.919556094991069, w6=2.5317685476761733\n",
      "Gradient Descent(171/499): loss=-0.5474276521421818, w0=-0.7218345068852524, w1=-1.5378164841684334, w2=-0.3758884248674382, w3=-0.006380651385452506, w4=0.8450275100321751, w5=4.915333145368502, w6=2.5319021238924244\n",
      "Gradient Descent(172/499): loss=-0.5464507279645513, w0=-0.7140457206465727, w1=-1.5396433777313234, w2=-0.3878494891991047, w3=-0.019584080329668963, w4=0.8313120481528836, w5=4.911126518914489, w6=2.532049240134855\n",
      "Gradient Descent(173/499): loss=-0.5454894768003438, w0=-0.7062860744234842, w1=-1.5414790295745096, w2=-0.39976881780088774, w3=-0.03270926397130369, w4=0.8176914515715137, w5=4.906936102578245, w6=2.5322095743589697\n",
      "Gradient Descent(174/499): loss=-0.5445436504136625, w0=-0.698555520806695, w1=-1.543323160380312, w2=-0.41164644114929894, w3=-0.04575678720028409, w4=0.8041652337762486, w5=4.902761784186377, w6=2.5323828113719036\n",
      "Gradient Descent(175/499): loss=-0.5436130047203797, w0=-0.690854011345476, w1=-1.5451754963764073, w2=-0.4234823920466788, w3=-0.05872723097349483, w4=0.7907329078010538, w5=4.898603452436267, w6=2.5325686426136302\n",
      "Gradient Descent(176/499): loss=-0.5426972997035953, w0=-0.6831814965364856, w1=-1.547035769217688, w2=-0.4352767055736989, w3=-0.07162117230584426, w4=0.7773939862716711, w5=4.894460996889229, w6=2.5327667659496114\n",
      "Gradient Descent(177/499): loss=-0.5417962993318415, w0=-0.6755379258155315, w1=-1.5489037158710128, w2=-0.44702941904335736, w3=-0.08443918426338612, w4=0.7641479814514046, w5=4.890334307963468, w6=2.532976885474213\n",
      "Gradient Descent(178/499): loss=-0.5409097714798909, w0=-0.6679232475520492, w1=-1.5507790785027769, w2=-0.4587405719563571, w3=-0.09718183595837791, w4=0.7509944052867075, w5=4.886223276926856, w6=2.533198711324256\n",
      "Gradient Descent(179/499): loss=-0.5400374878520486, w0=-0.6603374090460973, w1=-1.552661604369228, w2=-0.4704102059577641, w3=-0.10984969254616314, w4=0.7379327694525792, w5=4.882127795889576, w6=2.5334319595021024\n",
      "Gradient Descent(180/499): loss=-0.5391792239077984, w0=-0.6527803565276753, w1=-1.5545510457094616, w2=-0.4820383647948509, w3=-0.12244331522377, w4=0.7249625853977792, w5=4.878047757796641, w6=2.5336763517077143\n",
      "Gradient Descent(181/499): loss=-0.5383347587896992, w0=-0.6452520351581869, w1=-1.5564471596410203, w2=-0.49362509427603785, w3=-0.1349632612301246, w4=0.7120833643898605, w5=4.87398305642031, w6=2.5339316151791493\n",
      "Gradient Descent(182/499): loss=-0.5375038752534163, w0=-0.6377523890338781, w1=-1.5583497080580373, w2=-0.5051704422308524, w3=-0.14741008384778173, w4=0.6992946175600259, w5=4.869933586352435, w6=2.5341974825409896\n",
      "Gradient Descent(183/499): loss=-0.5366863595997902, w0=-0.6302813611910941, w1=-1.560258457531849, w2=-0.5166744584708323, w3=-0.15978433240608175, w4=0.6865958559478068, w5=4.865899242996742, w6=2.534473691660228\n",
      "Gradient Descent(184/499): loss=-0.5358820016088461, w0=-0.6228388936132055, w1=-1.5621731792140197, w2=-0.528137194751304, w3=-0.17208655228564576, w4=0.673986590545564, w5=4.861879922561083, w6=2.5347599855091665\n",
      "Gradient Descent(185/499): loss=-0.5350905944756523, w0=-0.615424927239066, w1=-1.5640936487417092, w2=-0.5395587047339759, w3=-0.18431728492412688, w4=0.6614663323428059, w5=4.857875522049657, w6=2.5350561120348996\n",
      "Gradient Descent(186/499): loss=-0.5343119347479444, w0=-0.6080394019728707, w1=-1.5660196461453237, w2=-0.5509390439502861, w3=-0.19647706782313942, w4=0.6490345923703219, w5=4.853885939255224, w6=2.535361824034987\n",
      "Gradient Descent(187/499): loss=-0.5335458222654322, w0=-0.600682256695293, w1=-1.56795095575839, w2=-0.5622782697654564, w3=-0.20856643455629134, w4=0.6366908817441229, w5=4.849911072751327, w6=2.5356768790389377\n",
      "Gradient Descent(188/499): loss=-0.5327920601007163, w0=-0.5933534292757874, w1=-1.569887366129591, w2=-0.5735764413432005, w3=-0.22058591477825043, w4=0.6244347117091846, w5=4.845950821884533, w6=2.5360010391951544\n",
      "Gradient Descent(189/499): loss=-0.5320504545017372, w0=-0.5860528565859489, w1=-1.571828669936909, w2=-0.584833619611047, w3=-0.2325360342347774, w4=0.6122655936829834, w5=4.8420050867667, w6=2.5363340711630027\n",
      "Gradient Descent(190/499): loss=-0.5313208148356956, w0=-0.5787804745138302, w1=-1.5737746639038173, w2=-0.5960498672262331, w3=-0.24441731477366335, w4=0.600183039298817, w5=4.838073768267289, w6=2.5366757460096907\n",
      "Gradient Descent(191/499): loss=-0.5306029535343748, w0=-0.5715362179791237, w1=-1.5757251487174648, w2=-0.6072252485421363, w3=-0.25623027435651236, w4=0.5881865604489003, w5=4.834156768005727, w6=2.537025839111667\n",
      "Gradient Descent(192/499): loss=-0.5298966860408062, w0=-0.5643200209491189, w1=-1.5776799289488048, w2=-0.6183598295752097, w3=-0.2679754270713131, w4=0.5762756693272251, w5=4.83025398834382, w6=2.5373841300602558\n",
      "Gradient Descent(193/499): loss=-0.5292018307572215, w0=-0.5571318164553546, w1=-1.5796388129746104, w2=-0.6294536779723904, w3=-0.2796532831457469, w4=0.5644498784721728, w5=4.826365332378247, w6=2.537750402571269\n",
      "Gradient Descent(194/499): loss=-0.5285182089942374, w0=-0.5499715366108888, w1=-1.5816016129013302, w2=-0.6405068629789558, w3=-0.29126434896118175, w4=0.5527087008088684, w5=4.822490703933112, w6=2.5381244443983513\n",
      "Gradient Descent(195/499): loss=-0.5278456449212202, w0=-0.5428391126281152, w1=-1.583568144490732, w2=-0.6515194554068022, w3=-0.30280912706730634, w4=0.5410516496912634, w5=4.818630007552588, w6=2.538506047249825\n",
      "Gradient Descent(196/499): loss=-0.5271839655177853, w0=-0.5357344748370584, w1=-1.5855382270872889, w2=-0.662491527603124, w3=-0.3142881161973586, w4=0.5294782389439345, w5=4.814783148493637, w6=2.5388950067088203\n",
      "Gradient Descent(197/499): loss=-0.5265330005263831, w0=-0.5286575527040869, w1=-1.587511683547261, w2=-0.6734231534194742, w3=-0.3257018112839079, w4=0.5179879829035856, w5=4.81095003271883, w6=2.5392911221564853\n",
      "Gradient Descent(198/499): loss=-0.52589258240593, w0=-0.5216082748509849, w1=-1.5894883401694246, w2=-0.6843144081811883, w3=-0.33705070347515137, w4=0.5065803964602391, w5=4.807130566889249, w6=2.539694196698086\n",
      "Gradient Descent(199/499): loss=-0.5252625462864445, w0=-0.514586569074329, w1=-1.5914680266274095, w2=-0.6951653686571558, w3=-0.3483352801516867, w4=0.495254995098104, w5=4.8033246583574964, w6=2.5401040370918166\n",
      "Gradient Descent(200/499): loss=-0.5246427299246484, w0=-0.5075923623651182, w1=-1.5934505759035964, w2=-0.7059761130299261, w3=-0.35955602494372785, w4=0.48401129493610556, w5=4.799532215160802, w6=2.5405204536801533\n",
      "Gradient Descent(201/499): loss=-0.5240329736604984, w0=-0.5006255809286129, w1=-1.5954358242245386, w2=-0.7167467208661353, w3=-0.3707134177487299, w4=0.4728488127680645, w5=4.795753146014233, w6=2.5409432603235924\n",
      "Gradient Descent(202/499): loss=-0.523433120374613, w0=-0.4936861502043359, w1=-1.5974236109978615, w2=-0.727477273087244, w3=-0.3818079347493925, w4=0.4617670661025107, w5=4.7919873603040095, w6=2.5413722743366263\n",
      "Gradient Descent(203/499): loss=-0.5228430154465636, w0=-0.48677399488619727, w1=-1.599413778750605, w2=-0.7381678519405757, w3=-0.3928400484320134, w4=0.45076557320211863, w5=4.7882347680809305, w6=2.541807316425819\n",
      "Gradient Descent(204/499): loss=-0.5222625067139983, w0=-0.47988903894270374, w1=-1.6014061730689695, w2=-0.7488185409706487, w3=-0.4038102276051645, w4=0.4398438531227499, w5=4.784495280053905, w6=2.542248210629851\n",
      "Gradient Descent(205/499): loss=-0.5216914444325687, w0=-0.4730312056372189, w1=-1.6034006425394256, w2=-0.7594294249907932, w3=-0.4147189374186648, w4=0.42900142575209066, w5=4.780768807583595, w6=2.5426947842614163\n",
      "Gradient Descent(206/499): loss=-0.521129681236635, w0=-0.46620041754824093, w1=-1.6053970386911571, w2=-0.7700005900550477, w3=-0.4255666393828269, w4=0.41823781184786984, w5=4.777055262676166, w6=2.5431468678508504\n",
      "Gradient Descent(207/499): loss=-0.5205770721007212, w0=-0.45939659658966775, w1=-1.6073952159397966, w2=-0.7805321234303298, w3=-0.43635379138795416, w4=0.4075525330756451, w5=4.773354557977154, w6=2.5436042950913937\n",
      "Gradient Descent(208/499): loss=-0.5200334743016971, w0=-0.45261966403102255, w1=-1.6093950315324217, w2=-0.7910241135688768, w3=-0.4470808477240673, w4=0.3969451120461444, w5=4.769666606765435, w6=2.544066902785984\n",
      "Gradient Descent(209/499): loss=-0.5194987473816634, w0=-0.4458695405176135, w1=-1.611396345493781, w2=-0.8014766500809521, w3=-0.45774825910084105, w4=0.38641507235215006, w5=4.7659913229473165, w6=2.5445345307954903\n",
      "Gradient Descent(210/499): loss=-0.5189727531115182, w0=-0.43914614609060415, w1=-1.6133990205737139, w2=-0.8118898237078156, w3=-0.46835647266773217, w4=0.3759619386049135, w5=4.762328621050724, w6=2.545007021988298\n",
      "Gradient Descent(211/499): loss=-0.5184553554551856, w0=-0.4324494002069726, w1=-1.6154029221957353, w2=-0.8222637262949537, w3=-0.4789059320342815, w4=0.3655852364700891, w5=4.758678416219511, w6=2.545484222191169\n",
      "Gradient Descent(212/499): loss=-0.5179464205344836, w0=-0.42577922175934, w1=-1.6174079184067547, w2=-0.8325984507655695, w3=-0.48939707729057375, w4=0.3552844927031752, w5=4.75504062420787, w6=2.5459659801413017\n",
      "Gradient Descent(213/499): loss=-0.5174458165946144, w0=-0.4191355290956495, w1=-1.6194138798278985, w2=-0.8428940910943299, w3=-0.49983034502783974, w4=0.34505923518445164, w5=4.751415161374851, w6=2.5464521474395174\n",
      "Gradient Descent(214/499): loss=-0.5169534139702622, w0=-0.41251824003867865, w1=-1.6214206796064101, w2=-0.8531507422813699, w3=-0.5102061683591868, w4=0.3349089929534037, w5=4.747801944678987, w6=2.5469425785045137\n",
      "Gradient Descent(215/499): loss=-0.5164690850522752, w0=-0.4059272719053711, w1=-1.623428193368596, w2=-0.8633685003265528, w3=-0.5205249769404442, w4=0.3248332962426215, w5=4.74420089167303, w6=2.5474371305281203\n",
      "Gradient Descent(216/499): loss=-0.5159927042549229, w0=-0.3993625415259722, w1=-1.625436299173794, w2=-0.8735474622039868, w3=-0.530787196991111, w4=0.31483167651116595, w5=4.740611920498777, w6=2.5479356634315056\n",
      "Gradient Descent(217/499): loss=-0.5155241479837082, w0=-0.392823965262957, w1=-1.6274448774693364, w2=-0.8836877258367983, w3=-0.5409932513153939, w4=0.3049036664773915, w5=4.737034949882014, w6=2.548438039822276\n",
      "Gradient Descent(218/499): loss=-0.5150632946037234, w0=-0.3863114590297382, w1=-1.6294538110464798, w2=-0.8937893900721604, w3=-0.5511435593233254, w4=0.29504880015121776, w5=4.733469899127547, w6=2.5489441249524267\n",
      "Gradient Descent(219/499): loss=-0.5146100244085341, w0=-0.3798249383091448, w1=-1.6314629849972822, w2=-0.9038525546565798, w3=-0.5612385370519509, w4=0.2852666128658414, w5=4.729916688114335, w6=2.549453786677094\n",
      "Gradient Descent(220/499): loss=-0.5141642195895801, w0=-0.3733643181716616, w1=-1.633472286672398, w2=-0.9138773202114412, w3=-0.5712785971865759, w4=0.2755566413088801, w5=4.726375237290723, w6=2.5499668954140677\n",
      "Gradient Descent(221/499): loss=-0.5137257642060787, w0=-0.36692951329342055, w1=-1.6354816056397712, w2=-0.9238637882088102, w3=-0.581264149082063, w4=0.2659184235529431, w5=4.722845467669766, w6=2.550483324104033\n",
      "Gradient Descent(222/499): loss=-0.5132945441554199, w0=-0.36052043797393857, w1=-1.6374908336442002, w2=-0.9338120609474964, w3=-0.591195598784172, w4=0.25635149908561966, w5=4.719327300824644, w6=2.5510029481714915\n",
      "Gradient Descent(223/499): loss=-0.5128704471440428, w0=-0.3541370061535933, w1=-1.639499864567757, w2=-0.9437222415293766, w3=-0.6010733490509342, w4=0.246855408838881, w5=4.7158206588841685, w6=2.5515256454863455\n",
      "Gradient Descent(224/499): loss=-0.5124533626587808, w0=-0.34777913143083233, w1=-1.6415085943910337, w2=-0.9535944338359812, w3=-0.6108977993740531, w4=0.237429695217889, w5=4.7123254645283765, w6=2.5520512963261006\n",
      "Gradient Descent(225/499): loss=-0.5120431819386664, w0=-0.3414467270791108, w1=-1.6435169211552, w2=-0.9634287425053426, w3=-0.6206693460003251, w4=0.22807390212920747, w5=4.708841640984215, w6=2.5525797833386688\n",
      "Gradient Descent(226/499): loss=-0.5116397979471853, w0=-0.335139706063553, w1=-1.6455247449248496, w2=-0.973225272909109, w3=-0.6303883819530745, w4=0.21878757500841065, w5=4.705369112021297, w6=2.5531109915057404\n",
      "Gradient Descent(227/499): loss=-0.5112431053449716, w0=-0.3288579810573345, w1=-1.6475319677516131, w2=-0.9829841311299229, w3=-0.6400552970535943, w4=0.20957026084708558, w5=4.701907801947757, w6=2.553644808106704\n",
      "Gradient Descent(228/499): loss=-0.5108530004629329, w0=-0.32260146445778237, w1=-1.6495384936385245, w2=-0.9927054239390676, w3=-0.6496704779425903, w4=0.2004215082192244, w5=4.698457635606167, w6=2.55418112268309\n",
      "Gradient Descent(229/499): loss=-0.5104693812757983, w0=-0.3163700684021903, w1=-1.6515442285051152, w2=-1.0023892587743808, w3=-0.6592343081016191, w4=0.19134086730700364, w5=4.695018538369541, w6=2.5547198270035203\n",
      "Gradient Descent(230/499): loss=-0.5100921473760818, w0=-0.31016370478334754, w1=-1.653549080153223, w2=-1.012035743718438, w3=-0.6687471678745197, w4=0.18232788992594823, w5=4.691590436137414, w6=2.5552608150291425\n",
      "Gradient Descent(231/499): loss=-0.50972119994845, w0=-0.3039822852647805, w1=-1.6555529582334958, w2=-1.0216449874770062, w3=-0.6782094344888296, w4=0.17338212954947774, w5=4.6881732553319875, w6=2.5558039828795365\n",
      "Gradient Descent(232/499): loss=-0.50935644174449, w0=-0.2978257212957055, w1=-1.6575557742125722, w2=-1.0312170993577685, w3=-0.6876214820771833, w4=0.16450314133283372, w5=4.68476692289435, w6=2.5563492287990712\n",
      "Gradient Descent(233/499): loss=-0.5089977770578682, w0=-0.291693924125693, w1=-1.6595574413409249, w2=-1.0407521892493217, w3=-0.6969836816986886, w4=0.1556904821363869, w5=4.681371366280766, w6=2.556896453123703\n",
      "Gradient Descent(234/499): loss=-0.5086451116998726, w0=-0.2855868048190432, w1=-1.6615578746213484, w2=-1.0502503676004469, w3=-0.7062964013602765, w4=0.14694371054832353, w5=4.677986513459027, w6=2.5574455582481983\n",
      "Gradient Descent(235/499): loss=-0.5082983529753341, w0=-0.2795042742688728, w1=-1.6635569907780763, w2=-1.059711745399654, w3=-0.7155600060380204, w4=0.13826238690671108, w5=4.674612292904872, w6=2.5579964485937725\n",
      "Gradient Descent(236/499): loss=-0.5079574096589164, w0=-0.2734462432109149, w1=-1.6655547082265112, w2=-1.0691364341550016, w3=-0.7247748576984226, w4=0.1296460733209431, w5=4.671248633598463, w6=2.558549030576132\n",
      "Gradient Descent(237/499): loss=-0.5076221919717735, w0=-0.26741262223703166, w1=-1.6675509470435557, w2=-1.0785245458741906, w3=-0.7339413153196632, w4=0.12109433369256434, w5=4.667895465020929, w6=2.5591032125739073\n",
      "Gradient Descent(238/499): loss=-0.5072926115585614, w0=-0.26140332180844283, w1=-1.6695456289385253, w2=-1.087876193044936, w3=-0.7430597349128087, w4=0.11260673373547703, w5=4.664552717150958, w6=2.5596589048974736\n",
      "Gradient Descent(239/499): loss=-0.506968581464806, w0=-0.2554182522686699, w1=-1.6715386772246341, w2=-1.0971914886156147, w3=-0.752130469542978, w4=0.10418284099553017, w5=4.66122032046145, w6=2.560216019758145\n",
      "Gradient Descent(240/499): loss=-0.5066500161146152, w0=-0.24945732385619906, w1=-1.6735300167910345, w2=-1.1064705459761868, w3=-0.7611538693504618, w4=0.09582222486949346, w5=4.6578982059162275, w6=2.560774471237737\n",
      "Gradient Descent(241/499): loss=-0.5063368312887334, w0=-0.2435204467168653, w1=-1.675519574075402, w2=-1.115713478939399, w3=-0.7701302815717938, w4=0.0875244566234184, w5=4.654586304966785, w6=2.5613341752584935\n",
      "Gradient Descent(242/499): loss=-0.5060289441029303, w0=-0.2376075309159584, w1=-1.6775072770370494, w2=-1.12492040172226, w3=-0.7790600505607702, w4=0.07928910941038923, w5=4.6512845495491035, w6=2.5618950495533634\n",
      "Gradient Descent(243/499): loss=-0.5057262729867209, w0=-0.23171848645005552, w1=-1.6794930551305576, w2=-1.1340914289277966, w3=-0.7879435178094162, w4=0.07111575828766675, w5=4.647992872080501, w6=2.562457013636633\n",
      "Gradient Descent(244/499): loss=-0.5054287376624104, w0=-0.22585322325858107, w1=-1.6814768392799142, w2=-1.1432266755270835, w3=-0.7967810219688953, w4=0.06300398023322851, w5=4.6447112054565345, w6=2.5630199887748994\n",
      "Gradient Descent(245/499): loss=-0.5051362591244597, w0=-0.22001165123509844, w1=-1.6834585618531424, w2=-1.1523262568415518, w3=-0.8055728988703619, w4=0.05495335416170897, w5=4.641439483047948, w6=2.563583897958383\n",
      "Gradient Descent(246/499): loss=-0.5048487596191652, w0=-0.2141936802383353, w1=-1.6854381566374135, w2=-1.1613902885255731, w3=-0.814319481545752, w4=0.046963460939743906, w5=4.638177638697659, w6=2.5641486658725787\n",
      "Gradient Descent(247/499): loss=-0.50456616262465, w0=-0.20839922010294654, w1=-1.6874155588146293, w2=-1.1704188865493188, w3=-0.8230211002485127, w4=0.0390338834007232, w5=4.634925606717783, w6=2.564714218870233\n",
      "Gradient Descent(248/499): loss=-0.5042883928311612, w0=-0.20262818065001728, w1=-1.689390704937463, w2=-1.1794121671818942, w3=-0.8316780824742671, w4=0.03116420635895694, w5=4.631683321886708, w6=2.5652804849436563\n",
      "Gradient Descent(249/499): loss=-0.5040153761216675, w0=-0.19688047169731052, w1=-1.6913635329058503, w2=-1.1883702469747486, w3=-0.8402907529814126, w4=0.02335401662325944, w5=4.628450719446198, w6=2.5658473936973545\n",
      "Gradient Descent(250/499): loss=-0.5037470395527548, w0=-0.1911560030692614, w1=-1.6933339819439173, w2=-1.1972932427453569, w3=-0.8488594338116523, w4=0.015602903009956776, w5=4.625227735098529, w6=2.566414876320984\n",
      "Gradient Descent(251/499): loss=-0.503483311335815, w0=-0.18545468460672293, w1=-1.6953019925773378, w2=-1.2061812715611757, w3=-0.8573844443104555, w4=0.00791045635532299, w5=4.622014305003676, w6=2.5669828655626272\n",
      "Gradient Descent(252/499): loss=-0.503224120818521, w0=-0.17977642617646583, w1=-1.6972675066111076, w2=-1.2150344507238697, w3=-0.8658661011474479, w4=0.0002762695274508148, w5=4.61881036577651, w6=2.5675512957023825\n",
      "Gradient Descent(253/499): loss=-0.5029693984665886, w0=-0.17412113768043713, w1=-1.6992304671077285, w2=-1.223852897753809, w3=-0.8743047183367288, w4=-0.007300062562437195, w5=4.615615854484047, w6=2.5681201025262705\n",
      "Gradient Descent(254/499): loss=-0.5027190758458169, w0=-0.16848872906478018, w1=-1.7011908183657918, w2=-1.232636730374836, w3=-0.8827006072571142, w4=-0.014818942949230958, w5=4.612430708642716, w6=2.5686892233004524\n",
      "Gradient Descent(255/499): loss=-0.5024730856044053, w0=-0.16287911032862074, w1=-1.7031485058989513, w2=-1.2413860664993002, w3=-0.8910540766723027, w4=-0.022280772603722267, w5=4.6092548662156565, w6=2.569258596745757\n",
      "Gradient Descent(256/499): loss=-0.5022313614555437, w0=-0.1572921915326223, w1=-1.7051034764152782, w2=-1.250101024213359, w3=-0.8993654327509667, w4=-0.029685950422934725, w5=4.606088265610051, w6=2.569828163012519\n",
      "Gradient Descent(257/499): loss=-0.5019938381602698, w0=-0.1517278828073154, w1=-1.7070556777969894, w2=-1.2587817217625439, w3=-0.9076349790867625, w4=-0.037034873220987585, w5=4.602930845674474, w6=2.5703978636557214\n",
      "Gradient Descent(258/499): loss=-0.5017604515105915, w0=-0.14618609436120325, w1=-1.7090050590805406, w2=-1.26742827753759, w3=-0.9158630167182622, w4=-0.0443279357204865, w5=4.599782545696273, w6=2.5709676416104466\n",
      "Gradient Descent(259/499): loss=-0.5015311383128717, w0=-0.14066673648864933, w1=-1.7109515704370744, w2=-1.2760408100605278, w3=-0.924049844148804, w4=-0.05156553054443425, w5=4.596643305398972, w6=2.5715374411676275\n",
      "Gradient Descent(260/499): loss=-0.5013058363714672, w0=-0.1351697195775495, w1=-1.7128951631532194, w2=-1.284619437971034, w3=-0.9321957573662597, w4=-0.058748048208654244, w5=4.593513064939696, w6=2.5721072079501033\n",
      "Gradient Descent(261/499): loss=-0.5010844844726255, w0=-0.12969495411679305, w1=-1.7148357896122284, w2=-1.2931642800130412, w3=-0.9403010498627193, w4=-0.06587587711471944, w5=4.590391764906619, w6=2.572676888888975\n",
      "Gradient Descent(262/499): loss=-0.500867022368628, w0=-0.12424235070351651, w1=-1.7167734032754502, w2=-1.301675455021603, w3=-0.9483660126540907, w4=-0.0729494035433794, w5=4.587279346316435, w6=2.573246432200262\n",
      "Gradient Descent(263/499): loss=-0.5006533907621815, w0=-0.11881182005015432, w1=-1.7187079586641294, w2=-1.3101530819100147, w3=-0.9563909342996131, w4=-0.07996901164847779, w5=4.584175750611841, w6=2.5738157873618546\n",
      "Gradient Descent(264/499): loss=-0.5004435312910533, w0=-0.1134032729912895, w1=-1.7206394113415229, w2=-1.318597279657184, w3=-0.9643761009212843, w4=-0.08693508345135276, w5=4.581080919659051, w6=2.5743849050907657\n",
      "Gradient Descent(265/499): loss=-0.5002373865129454, w0=-0.10801662049030909, w1=-1.7225677178953307, w2=-1.3270081672952543, w3=-0.9723217962231997, w4=-0.09384799883571254, w5=4.577994795745318, w6=2.5749537373206755\n",
      "Gradient Descent(266/499): loss=-0.5000348998906055, w0=-0.10265177364586772, w1=-1.7244928359204315, w2=-1.3353858638974725, w3=-0.980228301510802, w4=-0.10070813554297842, w5=4.574917321576476, w6=2.575522237179772\n",
      "Gradient Descent(267/499): loss=-0.49983601577717024, w0=-0.0973086436981627, w1=-1.7264147240019168, w2=-1.343730488566306, w3=-0.9880958957100416, w4=-0.10751586916808713, w5=4.5718484402745005, w6=2.5760903589688855\n",
      "Gradient Descent(268/499): loss=-0.49964067940174084, w0=-0.09198714203502537, w1=-1.7283333416984192, w2=-1.3520421604217996, w3=-0.9959248553864464, w4=-0.11427157315574493, w5=4.5687880953750835, w6=2.5766580581399103\n",
      "Gradient Descent(269/499): loss=-0.4994488368551817, w0=-0.08668718019783157, w1=-1.730248649525726, w2=-1.3603209985901759, w3=-1.003715454764098, w4=-0.12097561879712523, w5=4.565736230825222, w6=2.5772252912745213\n",
      "Gradient Descent(270/499): loss=-0.49926043507614587, w0=-0.08140866988723532, w1=-1.7321606089406736, w2=-1.3685671221926716, w3=-1.0114679657445185, w4=-0.1276283752270018, w5=4.562692790980822, w6=2.577792016063177\n",
      "Gradient Descent(271/499): loss=-0.4990754218373193, w0=-0.07615152296872961, w1=-1.734069182325317, w2=-1.3767806503346125, w3=-1.0191826579254597, w4=-0.1342302094213095, w5=4.5596577206043145, w6=2.57835819128441\n",
      "Gradient Descent(272/499): loss=-0.49889374573188233, w0=-0.07091565147803724, w1=-1.7359743329713682, w2=-1.384961702094719, w3=-1.0268597986196017, w4=-0.14078148619512454, w5=4.556630964862286, w6=2.5789237767844027\n",
      "Gradient Descent(273/499): loss=-0.498715356160186, w0=-0.06570096762633615, w1=-1.7378760250648984, w2=-1.3931103965146445, w3=-1.0344996528731543, w4=-0.14728256820105598, w5=4.553612469323124, w6=2.5794887334568504\n",
      "Gradient Descent(274/499): loss=-0.4985402033166389, w0=-0.060507383805322175, w1=-1.7397742236712972, w2=-1.401226852588742, w3=-1.0421024834843626, w4=-0.1537338159280406, w5=4.550602179954662, w6=2.5800530232231034\n",
      "Gradient Descent(275/499): loss=-0.4983682381768032, w0=-0.055334812592112946, w1=-1.7416688947204861, w2=-1.4093111892540544, w3=-1.0496685510219168, w4=-0.16013558770053282, w5=4.5476000431218555, w6=2.5806166090125924\n",
      "Gradient Descent(276/499): loss=-0.4981994124846945, w0=-0.050183166753996464, w1=-1.7435600049923792, w2=-1.4173635253805308, w3=-1.0571981138432638, w4=-0.16648823967808163, w5=4.544606005584448, w6=2.5811794547435345\n",
      "Gradient Descent(277/499): loss=-0.4980336787402853, w0=-0.045052359253027606, w1=-1.7454475221025854, w2=-1.4253839797614598, w3=-1.064691428112821, w4=-0.17279212585528655, w5=4.541620014494662, w6=2.581741525303915\n",
      "Gradient Descent(278/499): loss=-0.49787099018720754, w0=-0.03994230325047622, w1=-1.7473314144883512, w2=-1.4333726711041235, w3=-1.0721487478200915, w4=-0.1790475980621244, w5=4.538642017394892, w6=2.5823027865327477\n",
      "Gradient Descent(279/499): loss=-0.49771130080065124, w0=-0.034852912111129675, w1=-1.7492116513947342, w2=-1.4413297180206632, w3=-1.0795703247976798, w4=-0.1852550059646388, w5=4.5356719622154085, w6=2.5828632052016083\n",
      "Gradient Descent(280/499): loss=-0.49755456527545766, w0=-0.029784099407453593, w1=-1.7510882028610066, w2=-1.4492552390191604, w3=-1.0869564087392072, w4=-0.19141469706598457, w5=4.532709797272074, w6=2.5834227489964423\n",
      "Gradient Descent(281/499): loss=-0.49740073901440285, w0=-0.024735778923613783, w1=-1.7529610397072821, w2=-1.457149352494924, w3=-1.094307247217127, w4=-0.1975270167078187, w5=4.5297554712640595, w6=2.5839813864996426\n",
      "Gradient Descent(282/499): loss=-0.4972497781166697, w0=-0.019707864659362608, w1=-1.7548301335213632, w2=-1.4650121767219861, w3=-1.1016230857004383, w4=-0.20359230807203024, w5=4.52680893327158, w6=2.5845390871723968\n",
      "Gradient Descent(283/499): loss=-0.4971016393665059, w0=-0.014700270833792606, w1=-1.7566954566458035, w2=-1.472843829844801, w3=-1.1089041675722986, w4=-0.2096109121828012, w5=4.523870132753628, w6=2.585095821337302\n",
      "Gradient Descent(284/499): loss=-0.49695628022206384, w0=-0.009712911888961031, w1=-1.7585569821651816, w2=-1.4806444298701438, w3=-1.116150734147533, w4=-0.21558316790899013, w5=4.520939019545721, w6=2.585651560161245\n",
      "Gradient Descent(285/499): loss=-0.4968136588044216, w0=-0.00474570249338778, w1=-1.7604146838935821, w2=-1.4884140946592086, w3=-1.1233630246900417, w4=-0.22150941196683127, w5=4.518015543857651, w6=2.586206275638544\n",
      "Gradient Descent(286/499): loss=-0.49667373388678, w0=0.00020144245457002705, w1=-1.7622685363622808, w2=-1.4961529419199011, w3=-1.1305412764301044, w4=-0.22738997892294097, w5=4.5150996562712455, w6=2.5867599405743564\n",
      "Gradient Descent(287/499): loss=-0.49653646488383757, w0=0.005128607823464095, w1=-1.7641185148076275, w2=-1.5038610891993236, w3=-1.1376857245815801, w4=-0.2332252011976238, w5=4.512191307738133, w6=2.5873125285683387\n",
      "Gradient Descent(288/499): loss=-0.49640181184133364, w0=0.010035878245618494, w1=-1.7659645951591276, w2=-1.5115386538764493, w3=-1.1447966023590037, w4=-0.239015409068471, w5=4.509290449577517, w6=2.5878640139985705\n",
      "Gradient Descent(289/499): loss=-0.49626973542576513, w0=0.014923338114108203, w1=-1.767806754027713, w2=-1.5191857531549833, w3=-1.1518741409945774, w4=-0.24476093067424326, w5=4.506397033473949, w6=2.588414372005728\n",
      "Gradient Descent(290/499): loss=-0.49614019691426825, w0=0.019791071579849728, w1=-1.7696449686942028, w2=-1.5268025040564077, w3=-1.1589185697550584, w4=-0.25046209201903075, w5=4.503511011475119, w6=2.588963578477515\n",
      "Gradient Descent(291/499): loss=-0.4960131581846658, w0=0.024639162548801094, w1=-1.77147921709795, w2=-1.5343890234132072, w3=-1.1659301159585398, w4=-0.2561192169766826, w5=4.5006323359896445, w6=2.589511610033338\n",
      "Gradient Descent(292/499): loss=-0.4958885817056771, w0=0.02946769467926858, w1=-1.7733094778256684, w2=-1.5419454278622726, w3=-1.1729090049911275, w4=-0.26173262729549907, w5=4.497760959784866, w6=2.590058444009238\n",
      "Gradient Descent(293/499): loss=-0.4957664305272874, w0=0.0342767513793176, w1=-1.7751357301004385, w2=-1.5494718338384805, w3=-1.1798554603235103, w4=-0.2673026426031782, w5=4.494896835984649, w6=2.590604058443059\n",
      "Gradient Descent(294/499): loss=-0.49564666827127474, w0=0.039066415804285236, w1=-1.7769579537708893, w2=-1.5569683575684437, w3=-1.1867697035274243, w4=-0.2728295804120109, w5=4.492039918067193, w6=2.5911484320598683\n",
      "Gradient Descent(295/499): loss=-0.4955292591218924, w0=0.043836770854391874, w1=-1.7787761293005513, w2=-1.564435115064433, w3=-1.193651954292011, w4=-0.2783137561243164, w5=4.489190159862843, w6=2.5916915442576114\n",
      "Gradient Descent(296/499): loss=-0.49541416781670383, w0=0.04858789917244932, w1=-1.7805902377573788, w2=-1.571872222118465, w3=-1.2005024304400682, w4=-0.283755483038112, w5=4.486347515551908, w6=2.5922333750930084\n",
      "Gradient Descent(297/499): loss=-0.49530135963756794, w0=0.05331988314166356, w1=-1.7824002608034388, w2=-1.579279794296553, w3=-1.2073213479441947, w4=-0.2891550723530089, w5=4.483511939662487, w6=2.592773905267689\n",
      "Gradient Descent(298/499): loss=-0.49519080040177327, w0=0.058032804883529125, w1=-1.7842061806847618, w2=-1.5866579469331217, w3=-1.2141089209428277, w4=-0.294512833176329, w5=4.4806833870682965, w6=2.593313116114557\n",
      "Gradient Descent(299/499): loss=-0.4950824564533174, w0=0.06272674625581307, w1=-1.7860079802213538, w2=-1.5940067951255767, w3=-1.2208653617561733, w4=-0.299829072529434, w5=4.477861812986502, w6=2.5938509895843875\n",
      "Gradient Descent(300/499): loss=-0.49497629465433024, w0=0.06740178885062655, w1=-1.7878056427973652, w2=-1.601326453729033, w3=-1.2275908809020286, w4=-0.3051040953542624, w5=4.475047172975562, w6=2.594387508232656\n",
      "Gradient Descent(301/499): loss=-0.49487228237663855, w0=0.0720580139925814, w1=-1.7895991523514154, w2=-1.6086170373511948, w3=-1.2342856871114982, w4=-0.3103382045200653, w5=4.472239422933069, w6=2.5949226552065907\n",
      "Gradient Descent(302/499): loss=-0.49477038749347063, w0=0.07669550273702978, w1=-1.7913884933670676, w2=-1.6158786603473856, w3=-1.240949987344601, w4=-0.3155317008303368, w5=4.469438519093601, w6=2.5954564142324474\n",
      "Gradient Descent(303/499): loss=-0.4946705783712978, w0=0.08131433586838469, w1=-1.793173650863455, w2=-1.6231114368157267, w3=-1.2475839868057712, w4=-0.3206848830299318, w5=4.466644418026576, w6=2.5959887696030104\n",
      "Gradient Descent(304/499): loss=-0.4945728238618097, w0=0.08591459389851935, w1=-1.7949546103860528, w2=-1.6303154805924596, w3=-1.25418788895925, w4=-0.3257980478123639, w5=4.463857076634109, w6=2.596519706165307\n",
      "Gradient Descent(305/499): loss=-0.49447709329402467, w0=0.09049635706524359, w1=-1.796731357997595, w2=-1.6374909052474114, w3=-1.2607618955443702, w4=-0.33087148982727926, w5=4.461076452148882, w6=2.597049209308542\n",
      "Gradient Descent(306/499): loss=-0.49438335646652926, w0=0.09505970533085473, w1=-1.7985038802691329, w2=-1.6446378240795996, w3=-1.2673062065907337, w4=-0.3359055016880991, w5=4.458302502132009, w6=2.597577264952244\n",
      "Gradient Descent(307/499): loss=-0.49429158363984715, w0=0.09960471838076188, w1=-1.8002721642712334, w2=-1.651756350112974, w3=-1.2738210204332794, w4=-0.3409003739798246, w5=4.455535184470913, w6=2.598103859534621\n",
      "Gradient Descent(308/499): loss=-0.49420174552893503, w0=0.10413147562218086, w1=-1.802036197565315, w2=-1.658846596092293, w3=-1.280306533727245, w4=-0.3458563952669996, w5=4.452774457377208, w6=2.598628980001128\n",
      "Gradient Descent(309/499): loss=-0.49411381329580323, w0=0.10864005618289861, w1=-1.803795968195118, w2=-1.6659086744791312, w3=-1.2867629414630202, w4=-0.35077385210182394, w5=4.450020279384582, w6=2.5991526137932373\n",
      "Gradient Descent(310/499): loss=-0.49402775854225894, w0=0.11313053891010495, w1=-1.8055514646783075, w2=-1.6729426974480177, w3=-1.2931904369808915, w4=-0.3556530290324133, w5=4.4472726093466886, w6=2.599674748837413\n",
      "Gradient Descent(311/499): loss=-0.49394355330276973, w0=0.11760300236928985, w1=-1.807302675998209, w2=-1.6799487768827004, w3=-1.2995892119856811, w4=-0.3604942086111982, w5=4.444531406435045, w6=2.600195373534284\n",
      "Gradient Descent(312/499): loss=-0.4938611700374478, w0=0.12205752484320494, w1=-1.8090495915956684, w2=-1.6869270243725345, w3=-1.3059594565612767, w4=-0.3652976714034583, w5=4.441796630136932, w6=2.60071447674802\n",
      "Gradient Descent(313/499): loss=-0.493780581625149, w0=0.12649418433088705, w1=-1.8107922013610431, w2=-1.6938775512089939, w3=-1.312301359185054, w4=-0.3700636959959861, w5=4.439068240253301, w6=2.601232047795896\n",
      "Gradient Descent(314/499): loss=-0.4937017613566892, w0=0.13091305854674246, w1=-1.8125304956263144, w2=-1.7008004683823008, w3=-1.318615106742193, w4=-0.37479255900587405, w5=4.436346196896684, w6=2.6017480764380534\n",
      "Gradient Descent(315/499): loss=-0.4936246829281722, w0=0.13531422491969025, w1=-1.8142644651573223, w2=-1.707695886578174, w3=-1.3249008845398846, w4=-0.3794845350894214, w5=4.433630460489121, w6=2.60226255286745\n",
      "Gradient Descent(316/499): loss=-0.49354932043443034, w0=0.1396977605923628, w1=-1.815994101146123, w2=-1.7145639161746908, w3=-1.3311588763214335, w4=-0.38413989695115447, w5=4.430920991760071, w6=2.602775467699998\n",
      "Gradient Descent(317/499): loss=-0.4934756483625743, w0=0.14406374242036277, w1=-1.8177193952034614, w2=-1.721404667239262, w3=-1.3373892642802512, w4=-0.3887589153529557, w5=4.428217751744351, w6=2.603286811964885\n",
      "Gradient Descent(318/499): loss=-0.4934036415856509, w0=0.14841224697157407, w1=-1.819440339351364, w2=-1.7282182495257163, w3=-1.3435922290737436, w4=-0.3933418591232974, w5=4.42552070178007, w6=2.6037965770950784\n",
      "Gradient Descent(319/499): loss=-0.49333327535640736, w0=0.15274335052552598, w1=-1.8211569260158436, w2=-1.7350047724714943, w3=-1.3497679498370925, w4=-0.3978889951665741, w5=4.422829803506566, w6=2.6043047549180094\n",
      "Gradient Descent(320/499): loss=-0.49326452530115933, w0=0.15705712907280883, w1=-1.8228691480197177, w2=-1.7417643451949458, w3=-1.3559166041969295, w4=-0.40240058847253024, w5=4.420145018862358, w6=2.6048113376464324\n",
      "Gradient Descent(321/499): loss=-0.49319736741376297, w0=0.16135365831454007, w1=-1.824576998575539, w2=-1.7484970764927321, w3=-1.3620383682849053, w4=-0.4068769021257775, w5=4.417466310083095, w6=2.605316317869461\n",
      "Gradient Descent(322/499): loss=-0.4931317780496871, w0=0.16563301366187863, w1=-1.826280471278634, w2=-1.7552030748373297, w3=-1.3681334167511519, w4=-0.411318197315398, w5=4.414793639699522, w6=2.6058196885437734\n",
      "Gradient Descent(323/499): loss=-0.49306773392018444, w0=0.16989527023558754, w1=-1.827979560100251, w2=-1.761882448374632, w3=-1.3742019227776403, w4=-0.41572473334462884, w5=4.41212697053544, w6=2.6063214429849877\n",
      "Gradient Descent(324/499): loss=-0.4930052120865622, w0=0.17414050286564228, w1=-1.829674259380812, w2=-1.7685353049216488, w3=-1.3802440580914321, w4=-0.4200967676406237, w5=4.40946626570568, w6=2.606821574859205\n",
      "Gradient Descent(325/499): loss=-0.49294418995454753, w0=0.17836878609088413, w1=-1.83136456382327, w2=-1.7751617519643004, w3=-1.3862599929778268, w4=-0.424434555764287, w5=4.406811488614082, w6=2.607320078174716\n",
      "Gradient Descent(326/499): loss=-0.4928846452687482, w0=0.1825801941587174, w1=-1.8330504684865705, w2=-1.7817618966553046, w3=-1.3922498962934036, w4=-0.4287383514201774, w5=4.404162602951481, w6=2.607816947273867\n",
      "Gradient Descent(327/499): loss=-0.4928265561072061, w0=0.18677480102484922, w1=-1.8347319687792112, w2=-1.7883358458121548, w3=-1.3982139354789598, w4=-0.4330084064664755, w5=4.401519572693698, w6=2.608312176825089\n",
      "Gradient Descent(328/499): loss=-0.4927699008760424, w0=0.1909526803530705, w1=-1.8364090604529044, w2=-1.7948837059151863, w3=-1.4041522765723449, w4=-0.4372449709250127, w5=4.398882362099538, w6=2.6088057618150793\n",
      "Gradient Descent(329/499): loss=-0.4927146583041928, w0=0.19511390551507743, w1=-1.8380817395963358, w2=-1.8014055831057296, w3=-1.4100650842211901, w4=-0.44144829299135746, w5=4.396250935708798, w6=2.609297697541141\n",
      "Gradient Descent(330/499): loss=-0.4926608074382314, w0=0.1992585495903319, w1=-1.8397500026290199, w2=-1.8079015831843495, w3=-1.415952521695536, w4=-0.44561861904495437, w5=4.393625258340275, w6=2.6097879796036714\n",
      "Gradient Descent(331/499): loss=-0.49260832763728096, w0=0.20338668536595994, w1=-1.8414138462952512, w2=-1.8143718116091654, w3=-1.421814750900356, w4=-0.44975619365931324, w5=4.39100529508979, w6=2.6102766038988\n",
      "Gradient Descent(332/499): loss=-0.49255719856800945, w0=0.2074983853366872, w1=-1.8430732676581496, w2=-1.8208163734942548, w3=-1.4276519323879784, w4=-0.4538612596122445, w5=4.388391011328212, w6=2.6107635666111753\n",
      "Gradient Descent(333/499): loss=-0.49250740019971134, w0=0.21159372170481058, w1=-1.8447282640937968, w2=-1.8272353736081346, w3=-1.4334642253704046, w4=-0.4579340578961371, w5=4.385782372699493, w6=2.611248864206894\n",
      "Gradient Descent(334/499): loss=-0.4924589127994696, w0=0.2156727663802043, w1=-1.8463788332854643, w2=-1.8336289163723203, w3=-1.4392517877315276, w4=-0.461974827728276, w5=4.38317934511871, w6=2.6117324934265724\n",
      "Gradient Descent(335/499): loss=-0.4924117169274012, w0=0.21973559098036052, w1=-1.848024973217931, w2=-1.8399971058599611, w3=-1.4450147760392473, w4=-0.46598380656119565, w5=4.380581894770108, w6=2.61221445127856\n",
      "Gradient Descent(336/499): loss=-0.4923657934319821, w0=0.22378226683046254, w1=-1.8496666821718897, w2=-1.8463400457945487, w3=-1.450753345557486, w4=-0.46996123009306623, w5=4.377989988105165, w6=2.612694735032287\n",
      "Gradient Descent(337/499): loss=-0.49232112344544976, w0=0.22781286496349026, w1=-1.8513039587184386, w2=-1.8526578395486981, w3=-1.4564676502581027, w4=-0.4739073322781099, w5=4.37540359184065, w6=2.6131733422117494\n",
      "Gradient Descent(338/499): loss=-0.49227768837928465, w0=0.2318274561203566, w1=-1.8529368017136603, w2=-1.8589505901429997, w3=-1.4621578428327082, w4=-0.47782234533704354, w5=4.372822672956693, w6=2.613650270589126\n",
      "Gradient Descent(339/499): loss=-0.4922354699197668, w0=0.23582611075007454, w1=-1.8545652102932841, w2=-1.865218400244939, w3=-1.4678240747043796, w4=-0.4817064997675455, w5=4.370247198694869, w6=2.614125518178527\n",
      "Gradient Descent(340/499): loss=-0.4921944500236071, w0=0.23980889900995314, w1=-1.856189183867432, w2=-1.8714613721678852, w3=-1.4734664960392756, w4=-0.4855600243547427, w5=4.367677136556284, w6=2.614599083229868\n",
      "Gradient Descent(341/499): loss=-0.4921546109136533, w0=0.24377589076582246, w1=-1.8578087221154456, w2=-1.8776796078701434, w3=-1.4790852557581546, w4=-0.4893831461817165, w5=4.365112454299665, w6=2.615070964222875\n",
      "Gradient Descent(342/499): loss=-0.4921159350746657, w0=0.24772715559228595, w1=-1.8594238249807944, w2=-1.8838732089540724, w3=-1.4846805015477929, w4=-0.4931760906400232, w5=4.36255311993947, w6=2.61554115986121\n",
      "Gradient Descent(343/499): loss=-0.49207840524916785, w0=0.251662762773, w1=-1.8610344926660636, w2=-1.8900422766652645, w3=-1.4902523798723055, w4=-0.4969390814402277, w5=4.359999101743996, w6=2.6160096690667167\n",
      "Gradient Descent(344/499): loss=-0.4920420044333624, w0=0.25558278130097933, w1=-1.8626407256280195, w2=-1.8961869118917856, w3=-1.495801035984371, w4=-0.5006723406224468, w5=4.357450368233496, w6=2.6164764909737923\n",
      "Gradient Descent(345/499): loss=-0.4920067158731194, w0=0.2594872798789281, w1=-1.8642425245727527, w2=-1.9023072151634761, w3=-1.5013266139363572, w4=-0.5043760885669005, w5=4.354906888178313, w6=2.61694162492387\n",
      "Gradient Descent(346/499): loss=-0.49197252306003064, w0=0.2633763269195954, w1=-1.8658398904508962, w2=-1.9084032866513085, w3=-1.5068292565913537, w4=-0.508050544004468, w5=4.35236863059701, w6=2.6174050704600216\n",
      "Gradient Descent(347/499): loss=-0.4919394097275296, w0=0.26724999054615456, w1=-1.8674328244529192, w2=-1.9144752261668023, w3=-1.5123091056341056, w4=-0.5116959240272467, w5=4.349835564754521, w6=2.6178668273216696\n",
      "Gradient Descent(348/499): loss=-0.4919073598470777, w0=0.271108338592606, w1=-1.8690213280044952, w2=-1.920523133161494, w3=-1.5177663015818543, w4=-0.5153124440991114, w5=4.347307660160295, w6=2.6183268954394157\n",
      "Gradient Descent(349/499): loss=-0.4918763576244146, w0=0.2749514386042024, w1=-1.8706054027619408, w2=-1.9265471067264603, w3=-1.5232009837950828, w4=-0.5189003180662718, w5=4.344784886566468, w6=2.6187852749299747\n",
      "Gradient Descent(350/499): loss=-0.4918463874958703, w0=0.2787793578378954, w1=-1.872185050607728, w2=-1.9325472455918948, w3=-1.5286132904881662, w4=-0.5224597581678262, w5=4.342267213966027, w6=2.619241966091217\n",
      "Gradient Descent(351/499): loss=-0.4918174341247412, w0=0.28259216326280406, w1=-1.873760273646066, w2=-1.9385236481267343, w3=-1.5340033587399295, w4=-0.5259909750463085, w5=4.3397546125909905, w6=2.6196969693973164\n",
      "Gradient Descent(352/499): loss=-0.4917894823977248, w0=0.28638992156070303, w1=-1.8753310741985523, w2=-1.944476412338336, w3=-1.5393713245041127, w4=-0.5294941777582278, w5=4.337247052910599, w6=2.6201502854940024\n",
      "Gradient Descent(353/499): loss=-0.4917625174214154, w0=0.2901726991265317, w1=-1.8768974547998936, w2=-1.9504056358722033, w3=-1.544717322619742, w4=-0.5329695737845971, w5=4.334744505629509, w6=2.6206019151939133\n",
      "Gradient Descent(354/499): loss=-0.4917365245188589, w0=0.2939405620689215, w1=-1.8784594181936922, w2=-1.9563114160117578, w3=-1.5500414868214096, w4=-0.5364173690414503, w5=4.332246941685999, w6=2.6210518594720487\n",
      "Gradient Descent(355/499): loss=-0.49171148922616476, w0=0.29769357621074266, w1=-1.880016967328301, w2=-1.9621938496781586, w3=-1.5553439497494632, w4=-0.5398377678903457, w5=4.329754332250189, w6=2.6215001194613206\n",
      "Gradient Descent(356/499): loss=-0.49168739728917443, w0=0.3014318070896688, w1=-1.8815701053527414, w2=-1.968053033430165, w3=-1.5606248429601033, w4=-0.5432309731488526, w5=4.327266648722257, w6=2.6219466964482008\n",
      "Gradient Descent(357/499): loss=-0.49166423466018644, w0=0.30515531995875916, w1=-1.8831188356126887, w2=-1.9738890634640438, w3=-1.5658842969353899, w4=-0.5465971861010217, w5=4.324783862730681, w6=2.622391591868462\n",
      "Gradient Descent(358/499): loss=-0.49164198749473587, w0=0.3088641797870574, w1=-1.8846631616465188, w2=-1.9797020356135193, w3=-1.5711224410931615, w4=-0.5499366065078353, w5=4.322305946130473, w6=2.6228348073030117\n",
      "Gradient Descent(359/499): loss=-0.4916206421484278, w0=0.3125584512602075, w1=-1.8862030871814188, w2=-1.9854920453497638, w3=-1.5763394037968628, w4=-0.553249432617637, w5=4.319832871001436, w6=2.623276344473815\n",
      "Gradient Descent(360/499): loss=-0.4916001851738238, w0=0.3162381987810854, w1=-1.8877386161295582, w2=-1.9912591877814285, w3=-1.5815353123652849, w4=-0.5565358611765395, w5=4.317364609646425, w6=2.6237162052399117\n",
      "Gradient Descent(361/499): loss=-0.49158060331738007, w0=0.3199034864704456, w1=-1.8892697525843218, w2=-1.9970035576547145, w3=-1.586710293082218, w4=-0.5597960874388074, w5=4.314901134589614, w6=2.6241543915935135\n",
      "Gradient Descent(362/499): loss=-0.49156188351643737, w0=0.32355437816758315, w1=-1.8907965008166034, w2=-2.0027252493534804, w3=-1.5918644712060148, w4=-0.5630303051772152, w5=4.312442418574777, w6=2.6245909056561936\n",
      "Gradient Descent(363/499): loss=-0.49154401289626093, w0=0.32719093743100996, w1=-1.8923188652711558, w2=-2.0084243568993876, w3=-1.5969979709790696, w4=-0.5662387066933788, w5=4.3099884345635795, w6=2.6250257496751552\n",
      "Gradient Descent(364/499): loss=-0.4915269787671294, w0=0.3308132275391448, w1=-1.893836850563002, w2=-2.014100973952083, w3=-1.6021109156372089, w4=-0.569421482828058, w5=4.307539155733874, w6=2.6254589260195855\n",
      "Gradient Descent(365/499): loss=-0.49151076862147347, w0=0.3344213114910175, w1=-1.895350461473902, w2=-2.0197551938094143, w3=-1.607203427418998, w4=-0.5725788229714296, w5=4.30509455547801, w6=2.6258904371770897\n",
      "Gradient Descent(366/499): loss=-0.49149537013106076, w0=0.3380152520069851, w1=-1.8968597029488763, w2=-2.02538710940768, w3=-1.6122756275749617, w4=-0.5757109150733297, w5=4.302654607401151, w6=2.6263202857502037\n",
      "Gradient Descent(367/499): loss=-0.49148077114422856, w0=0.3415951115294615, w1=-1.8983645800927855, w2=-2.0309968133219147, w3=-1.6173276363767206, w4=-0.5788179456534643, w5=4.300219285319604, w6=2.626748474452985\n",
      "Gradient Descent(368/499): loss=-0.49146695968316223, w0=0.3451609522236588, w1=-1.899865098166965, w2=-2.0365843977662035, w3=-1.622359573126044, w4=-0.5819000998115861, w5=4.297788563259151, w6=2.62717500610768\n",
      "Gradient Descent(369/499): loss=-0.4914539239412196, w0=0.3487128359783407, w1=-1.9013612625859124, w2=-2.042149954594029, w3=-1.6273715561638191, w4=-0.5849575612376364, w5=4.295362415453403, w6=2.6275998836414645\n",
      "Gradient Descent(370/499): loss=-0.4914416522802985, w0=0.352250824406587, w1=-1.9028530789140297, w2=-2.04769357529865, w3=-1.6323637028789375, w4=-0.5879905122218528, w5=4.292940816342151, w6=2.62802311008326\n",
      "Gradient Descent(371/499): loss=-0.4914301332282495, w0=0.3557749788465691, w1=-1.904340552862417, w2=-2.053215351013506, w3=-1.6373361297170996, w4=-0.5909991336648391, w5=4.290523740569733, w6=2.6284446885606205\n",
      "Gradient Descent(372/499): loss=-0.4914193554763304, w0=0.359285360362336, w1=-1.9058236902857186, w2=-2.0587153725126557, w3=-1.6422889521895385, w4=-0.5939836050875976, w5=4.288111162983411, w6=2.628864622296687\n",
      "Gradient Descent(373/499): loss=-0.4914093078767039, w0=0.36278202974461055, w1=-1.9073024971790193, w2=-2.064193730211237, w3=-1.6472222848816616, w4=-0.5969441046415235, w5=4.285703058631759, w6=2.629282914607217\n",
      "Gradient Descent(374/499): loss=-0.4913999794399762, w0=0.36626504751159555, w1=-1.908776979674791, w2=-2.06965051416596, w3=-1.6521362414616125, w4=-0.5998808091183591, w5=4.283299402763051, w6=2.6296995688976743\n",
      "Gradient Descent(375/499): loss=-0.4913913593327763, w0=0.36973447390978914, w1=-1.9102471440398898, w2=-2.0750858140756203, w3=-1.657030934688754, w4=-0.6027938939601074, w5=4.2809001708236725, w6=2.630114588660392\n",
      "Gradient Descent(376/499): loss=-0.4913834368753759, w0=0.37319036891480933, w1=-1.9117129966725999, w2=-2.080499719281645, w3=-1.6619064764220703, w4=-0.6056835332689051, w5=4.278505338456536, w6=2.630527977471794\n",
      "Gradient Descent(377/499): loss=-0.49137620153934825, w0=0.3766327922322273, w1=-1.9131745440997276, w2=-2.085892318768655, w3=-1.6667629776284931, w4=-0.6085498998168526, w5=4.2761148814995, w6=2.6309397389896865\n",
      "Gradient Descent(378/499): loss=-0.49136964294526553, w0=0.380061803298409, w1=-1.9146317929737413, w2=-2.0912637011650563, w3=-1.6716005483911474, w4=-0.6113931650558012, w5=4.273728775983811, w6=2.6313498769506047\n",
      "Gradient Descent(379/499): loss=-0.491363750860435, w0=0.3834774612813652, w1=-1.9160847500699576, w2=-2.0966139547436557, w3=-1.6764192979175212, w4=-0.6142134991270969, w5=4.271346998132542, w6=2.631758395167227\n"
     ]
    },
    {
     "name": "stdout",
     "output_type": "stream",
     "text": [
      "Gradient Descent(380/499): loss=-0.49135851519667145, w0=0.3868798250816086, w1=-1.9175334222837752, w2=-2.1019431674222937, w3=-1.6812193345475595, w4=-0.6170110708712794, w5=4.268969524359052, w6=2.632165297525845\n",
      "Gradient Descent(381/499): loss=-0.491353926008107, w0=0.39026895333301936, w1=-1.918977816627952, w2=-2.107251426764503, w3=-1.6860007657616802, w4=-0.6197860478377358, w5=4.266596331265446, w6=2.6325705879838934\n",
      "Gradient Descent(382/499): loss=-0.4913499734890373, w0=0.3936449044037167, w1=-1.9204179402299284, w2=-2.112538819980188, w3=-1.6907636981887162, w4=-0.6225385962943091, w5=4.264227395641052, w6=2.6329742705675376\n",
      "Gradient Descent(383/499): loss=-0.4913466479718022, w0=0.39700773639693815, w1=-1.9218538003291925, w2=-2.117805433926322, w3=-1.6955082376137813, w4=-0.6252688812368591, w5=4.2618626944609055, w6=2.6333763493693163\n",
      "Gradient Descent(384/499): loss=-0.49134393992470216, w0=0.4003575071519251, w1=-1.9232854042746914, w2=-2.1230513551076675, w3=-1.7002344889860637, w4=-0.6279770663987775, w5=4.2595022048842415, w6=2.63377682854584\n",
      "Gradient Descent(385/499): loss=-0.491341839949948, w0=0.4036942742448145, w1=-1.9247127595222822, w2=-2.1282766696775135, w3=-1.704942556426543, w4=-0.6306633142604544, w5=4.257145904253, w6=2.634175712315544\n",
      "Gradient Descent(386/499): loss=-0.4913403387816456, w0=0.407018094989537, w1=-1.9261358736322263, w2=-2.1334814634384314, w3=-1.7096325432356378, w4=-0.633327786058697, w5=4.25479377009034, w6=2.634573004956491\n",
      "Gradient Descent(387/499): loss=-0.4913394272838123, w0=0.4103290264387203, w1=-1.9275547542667257, w2=-2.138665821843049, w3=-1.7143045519007771, w4=-0.6359706417960995, w5=4.252445780099163, w6=2.6349687108042312\n",
      "Gradient Descent(388/499): loss=-0.4913390964484259, w0=0.4136271253845984, w1=-1.9289694091874985, w2=-2.1438298299948437, w3=-1.7189586841039026, w4=-0.6385920402503641, w5=4.250101912160646, w6=2.6353628342497073\n",
      "Gradient Descent(389/499): loss=-0.4913393373935067, w0=0.4169124483599256, w1=-1.9303798462533956, w2=-2.1489735726489476, w3=-1.723595040728898, w4=-0.6411921389835717, w5=4.2477621443327855, w6=2.635755379737212\n",
      "Gradient Descent(390/499): loss=-0.49134014136123016, w0=0.42018505163889613, w1=-1.9317860734180565, w2=-2.154097134212974, w3=-1.7282137218689488, w4=-0.6437710943514035, w5=4.245426454848953, w6=2.6361463517623926\n",
      "Gradient Descent(391/499): loss=-0.4913414997160696, w0=0.42344499123806817, w1=-1.9331880987276038, w2=-2.1592005987478573, w3=-1.732814826833831, w4=-0.6463290615123105, w5=4.243094822116455, w6=2.6365357548703052\n",
      "Gradient Descent(392/499): loss=-0.49134340394297066, w0=0.42669232291729203, w1=-1.9345859303183768, w2=-2.1642840499687064, w3=-1.7373984541571308, w4=-0.6488661944366344, w5=4.240767224715108, w6=2.636923593653513\n",
      "Gradient Descent(393/499): loss=-0.49134584564555445, w0=0.42992710218064345, w1=-1.9359795764147023, w2=-2.169347571245675, w3=-1.7419647016033954, w4=-0.6513826459156752, w5=4.238443641395822, w6=2.6373098727502313\n",
      "Gradient Descent(394/499): loss=-0.4913488165443506, w0=0.4331493842773601, w1=-1.9373690453267025, w2=-2.1743912456048458, w3=-1.7465136661752152, w4=-0.6538785675707082, w5=4.236124051079193, w6=2.6376945968425174\n",
      "Gradient Descent(395/499): loss=-0.4913523084750585, w0=0.4363592242027825, w1=-1.9387543454481395, w2=-2.179415155729126, w3=-1.751045444120238, w4=-0.6563541098619488, w5=4.2338084328541035, w6=2.6380777706545033\n",
      "Gradient Descent(396/499): loss=-0.49135631338683683, w0=0.43955667669929827, w1=-1.9401354852542965, w2=-2.184419383959159, w3=-1.7555601309381175, w4=-0.6588094220974656, w5=4.231496765976339, w6=2.6384593989506717\n",
      "Gradient Descent(397/499): loss=-0.49136082334062114, w0=0.44274179625728965, w1=-1.941512473299894, w2=-2.1894040122942444, w3=-1.7600578213873919, w4=-0.6612446524420408, w5=4.229189029867209, w6=2.6388394865341733\n",
      "Gradient Descent(398/499): loss=-0.4913658305074689, w0=0.4459146371160848, w1=-1.9428853182170414, w2=-2.1943691223932755, w3=-1.7645386094923006, w4=-0.663659947925977, w5=4.226885204112176, w6=2.639218038245185\n",
      "Gradient Descent(399/499): loss=-0.4913713271669306, w0=0.44907525326491166, w1=-1.944254028713222, w2=-2.1993147955756838, w3=-1.7690025885495322, w4=-0.6660554544538531, w5=4.224585268459502, w6=2.6395950589593085\n",
      "Gradient Descent(400/499): loss=-0.49137730570544735, w0=0.4522236984438546, w1=-1.9456186135693136, w2=-2.204241112822397, w3=-1.7734498511349093, w4=-0.6684313168132245, w5=4.222289202818897, w6=2.6399705535860085\n",
      "Gradient Descent(401/499): loss=-0.49138375861477507, w0=0.455360026144814, w1=-1.9469790816376413, w2=-2.209148154776807, w3=-1.7778804891100075, w4=-0.6707876786832728, w5=4.219996987260181, w6=2.6403445270670884\n",
      "Gradient Descent(402/499): loss=-0.4913906784904336, w0=0.45848428961246795, w1=-1.948335441840064, w2=-2.214036001745749, w3=-1.782294593628713, w4=-0.6731246826433994, w5=4.217708602011957, w6=2.640716984375203\n",
      "Gradient Descent(403/499): loss=-0.4913980580301805, w0=0.4615965418452365, w1=-1.9496877031660922, w2=-2.21890473370049, w3=-1.7866922551437139, w4=-0.6754424701817671, w5=4.215424027460285, w6=2.6410879305124095\n",
      "Gradient Descent(404/499): loss=-0.49140589003250956, w0=0.46469683559624797, w1=-1.9510358746710394, w2=-2.2237544302777255, w3=-1.7910735634129318, w4=-0.6777411817037872, w5=4.213143244147383, w6=2.6414573705087534\n",
      "Gradient Descent(405/499): loss=-0.4914141673951742, w0=0.46778522337430706, w1=-1.9523799654742036, w2=-2.2285851707805886, w3=-1.7954386075058888, w4=-0.6800209565405532, w5=4.210866232770316, w6=2.6418253094208897\n",
      "Gradient Descent(406/499): loss=-0.4914228831137335, w0=0.4708617574448646, w1=-1.95371998475708, w2=-2.2333970341796654, w3=-1.7997874758100152, w4=-0.6822819329572198, w5=4.208592974179713, w6=2.642191752330738\n",
      "Gradient Descent(407/499): loss=-0.49143203028012217, w0=0.4739264898309894, w1=-1.9550559417616056, w2=-2.2381900991140182, w3=-1.804120256036894, w4=-0.6845242481613287, w5=4.206323449378482, w6=2.6425567043441727\n",
      "Gradient Descent(408/499): loss=-0.4914416020812431, w0=0.4769794723143411, w1=-1.9563878457884307, w2=-2.2429644438922196, w3=-1.808437035228447, w4=-0.6867480383110792, w5=4.204057639520539, w6=2.6429201705897434\n",
      "Gradient Descent(409/499): loss=-0.49145159179758313, w0=0.4800207564361446, w1=-1.957715706195224, w2=-2.2477201464933914, w3=-1.8127378997630588, w4=-0.6889534385235455, w5=4.2017955259095485, w6=2.643282156217431\n",
      "Gradient Descent(410/499): loss=-0.49146199280184955, w0=0.4830503934981652, w1=-1.9590395323950034, w2=-2.252457284568253, w3=-1.8170229353616443, w4=-0.6911405828828391, w5=4.1995370899976665, w6=2.6436426663974326\n",
      "Gradient Descent(411/499): loss=-0.49147279855763, w0=0.4860684345636854, w1=-1.9603593338544973, w2=-2.2571759354401753, w3=-1.8212922270936545, w4=-0.6933096044482173, w5=4.197282313384301, w6=2.644001706318978\n",
      "Gradient Descent(412/499): loss=-0.49148400261807235, w0=0.48907493045848194, w1=-1.9616751200925344, w2=-2.261876176106241, w3=-1.8255458593830254, w4=-0.6954606352621374, w5=4.195031177814877, w6=2.6443592811891756\n",
      "Gradient Descent(413/499): loss=-0.49149559862458686, w0=0.4920699317718039, w1=-1.9629869006784593, w2=-2.266558083238315, w3=-1.8297839160140692, w4=-0.6975938063582562, w5=4.192783665179611, w6=2.6447153962318906\n",
      "Gradient Descent(414/499): loss=-0.4915075803055674, w0=0.49505348885735145, w1=-1.9642946852305776, w2=-2.2712217331841145, w3=-1.8340064801373084, w4=-0.6997092477693756, w5=4.1905397575122985, w6=2.645070056686647\n",
      "Gradient Descent(415/499): loss=-0.4915199414751344, w0=0.4980256518342549, w1=-1.965598483414627, w2=-2.2758672019682904, w3=-1.8382136342752518, w4=-0.7018070885353337, w5=4.188299436989104, w6=2.645423267807563\n",
      "Gradient Descent(416/499): loss=-0.49153267603189726, w0=0.5009864705880539, w1=-1.966898304942275, w2=-2.2804945652935116, w3=-1.8424054603281164, w4=-0.7038874567108419, w5=4.186062685927369, w6=2.64577503486231\n",
      "Gradient Descent(417/499): loss=-0.4915457779577361, w0=0.5039359947716775, w1=-1.968194159569643, w2=-2.2851038985415553, w3=-1.846582039579492, w4=-0.7059504793732676, w5=4.18382948678442, w6=2.6461253631311012\n",
      "Gradient Descent(418/499): loss=-0.4915592413166029, w0=0.5068742738064234, w1=-1.969486057095856, w2=-2.2896952767744017, w3=-1.8507434527019517, w4=-0.707996282630363, w5=4.181599822156395, w6=2.6464742579057052\n",
      "Gradient Descent(419/499): loss=-0.49157306025334174, w0=0.5098013568829379, w1=-1.9707740073616165, w2=-2.2942687747353334, w3=-1.8548897797626063, w4=-0.7100249916279393, w5=4.179373674777069, w6=2.646821724488485\n",
      "Gradient Descent(420/499): loss=-0.49158722899252766, w0=0.5127172929621955, w1=-1.9720580202478064, w2=-2.2988244668500393, w3=-1.8590211002286068, w4=-0.7120367305574878, w5=4.1771510275166985, w6=2.647167768191462\n",
      "Gradient Descent(421/499): loss=-0.4916017418373237, w0=0.515622130776478, w1=-1.9733381056741095, w2=-2.3033624272277233, w3=-1.8631374929725912, w4=-0.7140316226637464, w5=4.174931863380868, w6=2.6475123943354086\n",
      "Gradient Descent(422/499): loss=-0.49161659316835543, w0=0.5185159188303538, w1=-1.9746142735976615, w2=-2.3078827296622153, w3=-1.8672390362780795, w4=-0.7160097902522126, w5=4.172716165509348, w6=2.647855608248958\n",
      "Gradient Descent(423/499): loss=-0.49163177744260445, w0=0.5213987054016557, w1=-1.9758865340117215, w2=-2.3123854476330874, w3=-1.8713258078448154, w4=-0.7179713546966026, w5=4.170503917174963, w6=2.6481974152677434\n",
      "Gradient Descent(424/499): loss=-0.4916472891923177, w0=0.5242705385424596, w1=-1.9771548969443686, w2=-2.316870654306773, w3=-1.875397884794056, w4=-0.7199164364462574, w5=4.168295101782466, w6=2.6485378207335564\n",
      "Gradient Descent(425/499): loss=-0.4916631230239355, w0=0.5271314660800616, w1=-1.9784193724572199, w2=-2.3213384225376874, w3=-1.87945534367381, w4=-0.7218451550334947, w5=4.166089702867424, w6=2.6488768299935304\n",
      "Gradient Descent(426/499): loss=-0.4916792736170344, w0=0.5299815356179537, w1=-1.9796799706441726, w2=-2.3257888248693552, w3=-1.8834982604640247, w4=-0.7237576290809081, w5=4.163887704095112, w6=2.6492144483993454\n",
      "Gradient Descent(427/499): loss=-0.4916957357232883, w0=0.5328207945368003, w1=-1.980936701630168, w2=-2.3302219335355363, w3=-1.8875267105817228, w4=-0.7256539763086131, w5=4.161689089259412, w6=2.6495506813064527\n",
      "Gradient Descent(428/499): loss=-0.4917125041654453, w0=0.5356492899954127, w1=-1.9821895755699774, w2=-2.3346378204613565, w3=-1.8915407688860877, w4=-0.7275343135414393, w5=4.159493842281729, w6=2.649885534073323\n",
      "Gradient Descent(429/499): loss=-0.49172957383631966, w0=0.5384670689317224, w1=-1.9834386026470097, w2=-2.33903655726444, w3=-1.8955405096835003, w4=-0.7293987567160711, w5=4.157301947209907, w6=2.6502190120607128\n",
      "Gradient Descent(430/499): loss=-0.4917469396978004, w0=0.5412741780637538, w1=-1.9846837930721397, w2=-2.343418215256045, w3=-1.8995260067325268, w4=-0.7312474208881348, w5=4.155113388217158, w6=2.650551120630952\n",
      "Gradient Descent(431/499): loss=-0.4917645967798755, w0=0.5440706638905957, w1=-1.9859251570825587, w2=-2.3477828654421993, w3=-1.9034973332488565, w4=-0.7330804202392329, w5=4.152928149600999, w6=2.6508818651472517\n",
      "Gradient Descent(432/499): loss=-0.4917825401796697, w0=0.5468565726933708, w1=-1.9871627049406444, w2=-2.352130578524838, w3=-1.9074545619101921, w4=-0.7348978680839275, w5=4.150746215782199, w6=2.65121125097303\n",
      "Gradient Descent(433/499): loss=-0.4918007650604992, w0=0.5496319505362051, w1=-1.9883964469328523, w2=-2.3564614249029456, w3=-1.9113977648610925, w4=-0.73669987687667, w5=4.14856757130373, w6=2.6515392834712563\n",
      "Gradient Descent(434/499): loss=-0.4918192666509394, w0=0.5523968432671941, w1=-1.989626393368626, w2=-2.3607754746736944, w3=-1.9153270137177671, w4=-0.7384865582186797, w5=4.146392200829733, w6=2.6518659680038152\n",
      "Gradient Descent(435/499): loss=-0.4918380402439082, w0=0.5551512965193695, w1=-1.9908525545793279, w2=-2.365072797633589, w3=-1.9192423795728248, w4=-0.7402580228647702, w5=4.1442200891444845, w6=2.652191309930888\n",
      "Gradient Descent(436/499): loss=-0.4918570811957625, w0=0.5578953557116624, w1=-1.9920749409171887, w2=-2.3693534632796083, w3=-1.9231439329999749, w4=-0.7420143807301248, w5=4.142051221151379, w6=2.6525153146103495\n",
      "Gradient Descent(437/499): loss=-0.49187638492540925, w0=0.5606290660498663, w1=-1.9932935627542774, w2=-2.37361754081035, w3=-1.9270317440586828, w4=-0.7437557408970203, w5=4.1398855818719165, w6=2.652837987397186\n",
      "Gradient Descent(438/499): loss=-0.4918959469134303, w0=0.5633524725275973, w1=-1.9945084304814873, w2=-2.3778650991271766, w3=-1.9309058822987808, w4=-0.7454822116214994, w5=4.137723156444694, w6=2.653159333642926\n",
      "Gradient Descent(439/499): loss=-0.4919157627012195, w0=0.5660656199272535, w1=-1.9957195545075437, w2=-2.382096206835359, w3=-1.9347664167650322, w4=-0.7471939003399924, w5=4.135563930124415, w6=2.653479358695089\n",
      "Gradient Descent(440/499): loss=-0.49193582789013485, w0=0.5687685528209713, w1=-1.9969269452580274, w2=-2.3863109322452236, w3=-1.9386134160016524, w4=-0.7488909136758887, w5=4.1334078882808996, w6=2.65379806789665\n",
      "Gradient Descent(441/499): loss=-0.4919561381406623, w0=0.5714613155715811, w1=-1.9981306131744172, w2=-2.390509343373298, w3=-1.9424469480567843, w4=-0.7505733574460566, w5=4.131255016398102, w6=2.6541154665855196\n",
      "Gradient Descent(442/499): loss=-0.4919766891715929, w0=0.5741439523335601, w1=-1.9993305687131493, w2=-2.394691507943457, w3=-1.9462670804869309, w4=-0.7522413366673145, w5=4.129105300073142, w6=2.654431560094039\n",
      "Gradient Descent(443/499): loss=-0.4919974767592119, w0=0.5768165070539832, w1=-2.0005268223446953, w2=-2.398857493388068, w3=-1.9500738803613442, w4=-0.7538949555628509, w5=4.126958725015341, w6=2.6547463537484903\n",
      "Gradient Descent(444/499): loss=-0.49201849673650144, w0=0.5794790234734722, w1=-2.001719384552655, w2=-2.403007366849139, w3=-1.953867414266371, w4=-0.7555343175685949, w5=4.124815277045265, w6=2.6550598528686216\n",
      "Gradient Descent(445/499): loss=-0.492039744992354, w0=0.5821315451271423, w1=-2.0029082658328687, w2=-2.407141195179462, w3=-1.9576477483097563, w4=-0.7571595253395377, w5=4.122674942093776, w6=2.6553720627671833\n",
      "Gradient Descent(446/499): loss=-0.49206121747079884, w0=0.5847741153455465, w1=-2.0040934766925442, w2=-2.4112590449437588, w3=-1.9614149481249048, w4=-0.7587706807560041, w5=4.120537706201096, w6=2.6556829887494837\n",
      "Gradient Descent(447/499): loss=-0.4920829101702399, w0=0.5874067772556183, w1=-2.0052750276494, w2=-2.415360982419826, w3=-1.9651690788751002, w4=-0.7603678849298757, w5=4.1184035555158705, w6=2.655992636112953\n",
      "Gradient Descent(448/499): loss=-0.4921048191427047, w0=0.5900295737816114, w1=-2.006452929230825, w2=-2.419447073599679, w3=-1.9689102052576835, w4=-0.7619512382107652, w5=4.116272476294245, w6=2.6563010101467217\n",
      "Gradient Descent(449/499): loss=-0.49212694049310524, w0=0.5926425476460372, w1=-2.007627191973055, w2=-2.4235173841906943, w3=-1.9726383915081909, w4=-0.7635208401921413, w5=4.114144454898951, w6=2.6566081161312156\n",
      "Gradient Descent(450/499): loss=-0.4921492703785101, w0=0.5952457413706, w1=-2.0087978264203628, w2=-2.4275719796167516, w3=-1.9763537014044503, w4=-0.765076789717407, w5=4.112019477798392, w6=2.656913959337757\n",
      "Gradient Descent(451/499): loss=-0.4921718050074273, w0=0.5978391972771298, w1=-2.009964843124263, w2=-2.4316109250193767, w3=-1.980056198270638, w4=-0.7666191848859284, w5=4.109897531565749, w6=2.657218545028184\n",
      "Gradient Descent(452/499): loss=-0.49219454063909795, w0=0.6004229574885119, w1=-2.0111282526427354, w2=-2.43563428525888, w3=-1.9837459449812962, w4=-0.7681481230590169, w5=4.107778602878079, w6=2.6575218784544776\n",
      "Gradient Descent(453/499): loss=-0.49221747358280055, w0=0.6029970639296158, w1=-2.0122880655394595, w2=-2.439642124915495, w3=-1.9874230039653111, w4=-0.7696637008658632, w5=4.105662678515435, w6=2.657823964858403\n",
      "Gradient Descent(454/499): loss=-0.49224060019716576, w0=0.6055615583282188, w1=-2.013444292383064, w2=-2.4436345082905175, w3=-1.9910874372098513, w4=-0.7711660142094247, w5=4.103549745359983, w6=2.6581248094711616\n",
      "Gradient Descent(455/499): loss=-0.49226391688950155, w0=0.6081164822159291, w1=-2.0145969437463935, w2=-2.4476114994074405, w3=-1.9947393062642684, w4=-0.7726551582722653, w5=4.101439790395133, w6=2.658424417513054\n",
      "Gradient Descent(456/499): loss=-0.4922874201151285, w0=0.6106618769291055, w1=-2.0157460302057855, w2=-2.4515731620130885, w3=-1.9983786722439603, w4=-0.7741312275223498, w5=4.099332800704674, w6=2.658722794193154\n",
      "Gradient Descent(457/499): loss=-0.49231110637672487, w0=0.6131977836097744, w1=-2.0168915623403625, w2=-2.455519559578752, w3=-2.002005595834194, w4=-0.7755943157187905, w5=4.0972287634719144, w6=2.659019944708992\n",
      "Gradient Descent(458/499): loss=-0.4923349722236816, w0=0.6157242432065442, w1=-2.0180335507313387, w2=-2.459450755301317, w3=-2.0056201372938953, w4=-0.7770445159175488, w5=4.095127665978839, w6=2.6593158742462526\n",
      "Gradient Descent(459/499): loss=-0.4923590142514665, w0=0.6182412964755161, w1=-2.01917200596134, w2=-2.463366812104395, w3=-2.009222356459396, w4=-0.7784819204770904, w5=4.09302949560526, w6=2.6596105879784764\n",
      "Gradient Descent(460/499): loss=-0.4923832291009988, w0=0.6207489839811937, w1=-2.0203069386137353, w2=-2.4672677926394524, w3=-2.0128123127481508, w4=-0.7799066210639954, w5=4.090934239827986, w6=2.6599040910667773\n",
      "Gradient Descent(461/499): loss=-0.49240761345803225, w0=0.6232473460973885, w1=-2.0214383592719822, w2=-2.4711537592869335, w3=-2.0163900651624114, w4=-0.7813187086585232, w5=4.08884188621999, w6=2.6601963886595663\n",
      "Gradient Descent(462/499): loss=-0.4924321640525475, w0=0.6257364230081226, w1=-2.022566278518985, w2=-2.475024774157386, w3=-2.0199556722928707, w4=-0.7827182735601315, w5=4.086752422449594, w6=2.6604874858922853\n",
      "Gradient Descent(463/499): loss=-0.4924568776581538, w0=0.6282162547085289, w1=-2.023690706936466, w2=-2.4788808990925824, w3=-2.0235091923222672, w4=-0.7841054053929524, w5=4.084665836279649, w6=2.660777387887151\n",
      "Gradient Descent(464/499): loss=-0.49248175109149916, w0=0.6306868810057484, w1=-2.024811655104348, w2=-2.4827221956666388, w3=-2.0270506830289565, w4=-0.7854801931112224, w5=4.082582115566733, w6=2.6610660997529054\n",
      "Gradient Descent(465/499): loss=-0.49250678121168967, w0=0.6331483415198241, w1=-2.0259291336001484, w2=-2.486548725187133, w3=-2.030580201790446, w4=-0.7868427250046696, w5=4.080501248260345, w6=2.6613536265845794\n",
      "Gradient Descent(466/499): loss=-0.49253196491971685, w0=0.6356006756845921, w1=-2.0270431529983886, w2=-2.4903605486962186, w3=-2.0340978055868977, w4=-0.7881930887038558, w5=4.078423222402117, w6=2.6616399734632594\n",
      "Gradient Descent(467/499): loss=-0.49255729915789437, w0=0.6380439227485699, w1=-2.0281537238700102, w2=-2.4941577269717383, w3=-2.0376035510045947, w4=-0.7895313711854768, w5=4.076348026125026, w6=2.661925145455867\n",
      "Gradient Descent(468/499): loss=-0.4925827809093014, w0=0.6404781217758415, w1=-2.029260856781807, w2=-2.497940320528334, w3=-2.0410974942393754, w4=-0.7908576587776175, w5=4.074275647652612, w6=2.6622091476149428\n",
      "Gradient Descent(469/499): loss=-0.4926084071972362, w0=0.6429033116469396, w1=-2.0303645622958655, w2=-2.5017083896185532, w3=-2.044579691100032, w4=-0.792172037164966, w5=4.072206075298207, w6=2.6624919849784425\n",
      "Gradient Descent(470/499): loss=-0.492634175084676, w0=0.6453195310597241, w1=-2.031464850969017, w2=-2.5054619942339564, w3=-2.0480501970116793, w4=-0.7934745913939834, w5=4.070139297464169, w6=2.6627736625695375\n",
      "Gradient Descent(471/499): loss=-0.49266008167374586, w0=0.647726818530258, w1=-2.032561733352304, w2=-2.5092011941062182, w3=-2.0515090670190883, w4=-0.7947654058780321, w5=4.06807530264112, w6=2.6630541853964225\n",
      "Gradient Descent(472/499): loss=-0.49268612410519486, w0=0.6501252123936807, w1=-2.033655219990451, w2=-2.512926048708227, w3=-2.054956355789987, w4=-0.7960445644024625, w5=4.066014079407193, w6=2.6633335584521345\n",
      "Gradient Descent(473/499): loss=-0.49271229955788, w0=0.6525147508050767, w1=-2.034745321421353, w2=-2.516636617255183, w3=-2.0583921176183306, w4=-0.7973121501296565, w5=4.063955616427287, w6=2.663611786714374\n",
      "Gradient Descent(474/499): loss=-0.4927386052482578, w0=0.6548954717403426, w1=-2.035832048175568, w2=-2.520332958705692, w3=-2.06181640642754, w4=-0.7985682456040307, w5=4.061899902452326, w6=2.6638888751453367\n",
      "Gradient Descent(475/499): loss=-0.49276503842988245, w0=0.65726741299705, w1=-2.0369154107758254, w2=-2.5240151317628574, w3=-2.065229275773707, w4=-0.7998129327569979, w5=4.0598469263185235, w6=2.664164828691551\n",
      "Gradient Descent(476/499): loss=-0.4927915963929129, w0=0.6596306121953057, w1=-2.0379954197365393, w2=-2.5276831948753693, w3=-2.0686307788487697, w4=-0.8010462929118881, w5=4.057796676946657, w6=2.6644396522837215\n",
      "Gradient Descent(477/499): loss=-0.49281827646362564, w0=0.6619851067786081, w1=-2.039072085563337, w2=-2.531337206238589, w3=-2.072020968483657, w4=-0.802268406788828, w5=4.055749143341344, w6=2.6647133508365792\n",
      "Gradient Descent(478/499): loss=-0.49284507600393523, w0=0.6643309340147011, w1=-2.040145418752592, w2=-2.5349772237956336, w3=-2.0753998971514034, w4=-0.8034793545095816, w5=4.0537043145903295, w6=2.6649859292487394\n",
      "Gradient Descent(479/499): loss=-0.4928719924109213, w0=0.6666681309964242, w1=-2.0412154297909715, w2=-2.538603305238455, w3=-2.07876761697023, w4=-0.804679215602349, w5=4.051662179863777, w6=2.6652573924025638\n",
      "Gradient Descent(480/499): loss=-0.4928990231163632, w0=0.6689967346425597, w1=-2.0422821291549886, w2=-2.5422155080089173, w3=-2.082124179706601, w4=-0.805868069006527, w5=4.049622728413563, w6=2.66552774516403\n",
      "Gradient Descent(481/499): loss=-0.49292616558628016, w0=0.671316781698676, w1=-2.043345527310568, w2=-2.54581388929987, w3=-2.085469636778246, w4=-0.8070459930774293, w5=4.047585949572584, w6=2.6657969923826053\n",
      "Gradient Descent(482/499): loss=-0.4929534173204793, w0=0.6736283087379688, w1=-2.0444056347126183, w2=-2.5493985060562196, w3=-2.088804039257155, w4=-0.8082130655909678, w5=4.045551832754064, w6=2.6660651388911285\n",
      "Gradient Descent(483/499): loss=-0.49298077585210953, w0=0.6759313521620971, w1=-2.045462461804614, w2=-2.5529694149759963, w3=-2.092127437872545, w4=-0.8093693637482954, w5=4.043520367450868, w6=2.6663321895056957\n",
      "Gradient Descent(484/499): loss=-0.49300823874722177, w0=0.6782259482020183, w1=-2.046516019018187, w2=-2.5565266725114193, w3=-2.0954398830137952, w4=-0.810514964180409, w5=4.041491543234829, w6=2.6665981490255515\n",
      "Gradient Descent(485/499): loss=-0.4930358036043356, w0=0.6805121329188178, w1=-2.0475663167727247, w2=-2.560070334869958, w3=-2.098741424733358, w4=-0.8116499429527159, w5=4.039465349756071, w6=2.666863022232986\n",
      "Gradient Descent(486/499): loss=-0.4930634680540125, w0=0.6827899422045367, w1=-2.048613365474979, w2=-2.5636004580153893, w3=-2.102032112749637, w4=-0.8127743755695606, w5=4.037441776742341, w6=2.667126813893236\n",
      "Gradient Descent(487/499): loss=-0.4930912297584343, w0=0.6850594117829951, w1=-2.0496571755186834, w2=-2.5671170976688527, w3=-2.1053119964498417, w4=-0.813888336978715, w5=4.0354208139983525, w6=2.667389528754394\n",
      "Gradient Descent(488/499): loss=-0.4931190864109886, w0=0.6873205772106131, w1=-2.0506977572841754, w2=-2.570620309309902, w3=-2.108581124892811, w4=-0.8149919015758302, w5=4.033402451405127, w6=2.6676511715473183\n",
      "Gradient Descent(489/499): loss=-0.4931470357358595, w0=0.6895734738772274, w1=-2.0517351211380324, w2=-2.5741101481775543, w3=-2.1118395468118107, w4=-0.816085143208852, w5=4.031386678919346, w6=2.6679117469855496\n",
      "Gradient Descent(490/499): loss=-0.4931750754876246, w0=0.691818137006906, w1=-2.0527692774327093, w2=-2.5775866692713323, w3=-2.115087310617307, w4=-0.8171681351823984, w5=4.029373486572706, w6=2.668171259765233\n",
      "Gradient Descent(491/499): loss=-0.49320320345085694, w0=0.6940546016587571, w1=-2.05380023650619, w2=-2.581049927352308, w3=-2.1183244643997066, w4=-0.8182409502621021, w5=4.027362864471282, w6=2.668429714565044\n",
      "Gradient Descent(492/499): loss=-0.49323141743973353, w0=0.6962829027277374, w1=-2.054828008681642, w2=-2.58449997694414, w3=-2.1215510559320774, w4=-0.8193036606789149, w5=4.025354802794894, w6=2.6686871160461183\n",
      "Gradient Descent(493/499): loss=-0.49325971529764917, w0=0.6985030749454553, w1=-2.055852604267081, w2=-2.587936872334107, w3=-2.124767132672838, w4=-0.8203563381333773, w5=4.023349291796479, w6=2.6689434688519857\n",
      "Gradient Descent(494/499): loss=-0.493288094896835, w0=0.7007151528809706, w1=-2.0568740335550415, w2=-2.591360667574142, w3=-2.127972741768423, w4=-0.8213990537998516, w5=4.021346321801472, w6=2.6691987776085098\n",
      "Gradient Descent(495/499): loss=-0.4933165541379834, w0=0.7029191709415924, w1=-2.0578923068222568, w2=-2.594771416481856, w3=-2.1311679300559243, w4=-0.8224318783307198, w5=4.019345883207187, w6=2.66945304692383\n",
      "Gradient Descent(496/499): loss=-0.4933450909498778, w0=0.7051151633736713, w1=-2.058907434329344, w2=-2.598169172641565, w3=-2.134352744065704, w4=-0.8234548818605468, w5=4.017347966482208, w6=2.669706281388309\n",
      "Gradient Descent(497/499): loss=-0.4933737032890275, w0=0.7073031642633906, w1=-2.0599194263204974, w2=-2.6015539894053097, w3=-2.1375272300239847, w4=-0.8244681340102072, w5=4.015352562165784, w6=2.6699584855744813\n",
      "Gradient Descent(498/499): loss=-0.493402389139308, w0=0.7094832075375519, w1=-2.0609282930231885, w2=-2.6049259198938732, w3=-2.1406914338554124, w4=-0.8254717038909791, w5=4.013359660867229, w6=2.670209664037011\n",
      "Gradient Descent(499/499): loss=-0.493431146511606, w0=0.7116553269643592, w1=-2.061934044647873, w2=-2.608285016997794, w3=-2.143845401185597, w4=-0.8264656601086021, w5=4.011369253265325, w6=2.6704598213126456\n"
     ]
    },
    {
     "data": {
      "text/plain": [
       "([-25.549355476623461,\n",
       "  -13.859355322734316,\n",
       "  -7.551189948344418,\n",
       "  -4.9840445213939741,\n",
       "  -3.8811204165886637,\n",
       "  -3.2561654133744073,\n",
       "  -2.8479329011473378,\n",
       "  -2.5626950186040687,\n",
       "  -2.3563816087321845,\n",
       "  -2.2039159407770725,\n",
       "  -2.0889455946514683,\n",
       "  -1.9999205813609127,\n",
       "  -1.928486821535468,\n",
       "  -1.8687149646681127,\n",
       "  -1.8165751356667488,\n",
       "  -1.7694704281148421,\n",
       "  -1.7258155960015233,\n",
       "  -1.6846900840436285,\n",
       "  -1.6455808742675364,\n",
       "  -1.6082088382920001,\n",
       "  -1.572420379021376,\n",
       "  -1.5381243443086461,\n",
       "  -1.5052576621313543,\n",
       "  -1.4737679450963517,\n",
       "  -1.4436055071251483,\n",
       "  -1.4147202757771828,\n",
       "  -1.387061059841614,\n",
       "  -1.3605758231321217,\n",
       "  -1.3352122923713492,\n",
       "  -1.3109185919151156,\n",
       "  -1.2876437842400821,\n",
       "  -1.2653382839432759,\n",
       "  -1.2439541513170365,\n",
       "  -1.2234452850894859,\n",
       "  -1.2037675361658713,\n",
       "  -1.1848787619298415,\n",
       "  -1.1667388370509002,\n",
       "  -1.1493096331657897,\n",
       "  -1.1325549767526837,\n",
       "  -1.1164405920994103,\n",
       "  -1.1009340344238845,\n",
       "  -1.0860046168319553,\n",
       "  -1.0716233337883496,\n",
       "  -1.057762783039367,\n",
       "  -1.0443970873890702,\n",
       "  -1.0315018173393409,\n",
       "  -1.0190539153177405,\n",
       "  -1.0070316220063835,\n",
       "  -0.99541440512878643,\n",
       "  -0.98418289093488587,\n",
       "  -0.97331879853637937,\n",
       "  -0.96280487717766794,\n",
       "  -0.95262484647652368,\n",
       "  -0.94276333962931957,\n",
       "  -0.93320584954548114,\n",
       "  -0.92393867785269745,\n",
       "  -0.91494888669686447,\n",
       "  -0.9062242532476491,\n",
       "  -0.89775322681101555,\n",
       "  -0.88952488844346767,\n",
       "  -0.88152891295848623,\n",
       "  -0.87375553321336819,\n",
       "  -0.86619550656391475,\n",
       "  -0.85884008337497508,\n",
       "  -0.85168097747642724,\n",
       "  -0.8447103384565573,\n",
       "  -0.83792072568783549,\n",
       "  -0.83130508398358038,\n",
       "  -0.8248567207878833,\n",
       "  -0.81856928480527524,\n",
       "  -0.812436745980888,\n",
       "  -0.80645337674622597,\n",
       "  -0.80061373445004658,\n",
       "  -0.79491264489819313,\n",
       "  -0.78934518693051459,\n",
       "  -0.78390667796719238,\n",
       "  -0.77859266046083975,\n",
       "  -0.77339888919466981,\n",
       "  -0.76832131937076664,\n",
       "  -0.76335609543608962,\n",
       "  -0.75849954059725522,\n",
       "  -0.75374814697836845,\n",
       "  -0.74909856637924943,\n",
       "  -0.74454760159427447,\n",
       "  -0.74009219825477768,\n",
       "  -0.73572943716049455,\n",
       "  -0.7314565270679303,\n",
       "  -0.72727079790575599,\n",
       "  -0.72316969438942624,\n",
       "  -0.7191507700091575,\n",
       "  -0.71521168136721036,\n",
       "  -0.71135018284210771,\n",
       "  -0.70756412155898496,\n",
       "  -0.7038514326467189,\n",
       "  -0.70021013476383309,\n",
       "  -0.69663832587642971,\n",
       "  -0.69313417927254695,\n",
       "  -0.68969593979843136,\n",
       "  -0.68632192030319172,\n",
       "  -0.6830104982792351,\n",
       "  -0.67976011268672976,\n",
       "  -0.67656926095113445,\n",
       "  -0.67343649612356193,\n",
       "  -0.67036042419442077,\n",
       "  -0.66733970155140987,\n",
       "  -0.66437303257351399,\n",
       "  -0.66145916735319499,\n",
       "  -0.65859689953946499,\n",
       "  -0.65578506429499417,\n",
       "  -0.65302253636083385,\n",
       "  -0.6503082282227346,\n",
       "  -0.64764108837340706,\n",
       "  -0.64502009966542206,\n",
       "  -0.64244427774975932,\n",
       "  -0.63991266959531867,\n",
       "  -0.63742435208498316,\n",
       "  -0.63497843068407855,\n",
       "  -0.63257403817732083,\n",
       "  -0.63021033347056421,\n",
       "  -0.62788650045387484,\n",
       "  -0.62560174692265114,\n",
       "  -0.62335530355369961,\n",
       "  -0.62114642293333899,\n",
       "  -0.61897437863478055,\n",
       "  -0.61683846434217027,\n",
       "  -0.61473799301883403,\n",
       "  -0.61267229611738905,\n",
       "  -0.61064072282952331,\n",
       "  -0.6086426393733505,\n",
       "  -0.60667742831637195,\n",
       "  -0.60474448793217139,\n",
       "  -0.60284323158907838,\n",
       "  -0.60097308716911868,\n",
       "  -0.59913349651566861,\n",
       "  -0.59732391490830838,\n",
       "  -0.59554381056344785,\n",
       "  -0.59379266415937648,\n",
       "  -0.59206996838445725,\n",
       "  -0.5903752275072528,\n",
       "  -0.58870795696743305,\n",
       "  -0.5870676829863759,\n",
       "  -0.58545394219642832,\n",
       "  -0.58386628128785079,\n",
       "  -0.58230425667251329,\n",
       "  -0.58076743416346899,\n",
       "  -0.57925538866956805,\n",
       "  -0.57776770390432364,\n",
       "  -0.57630397210828177,\n",
       "  -0.57486379378418417,\n",
       "  -0.57344677744425354,\n",
       "  -0.57205253936896339,\n",
       "  -0.57068070337668786,\n",
       "  -0.56933090060366287,\n",
       "  -0.56800276929371307,\n",
       "  -0.56669595459723376,\n",
       "  -0.56541010837894168,\n",
       "  -0.56414488903393345,\n",
       "  -0.56289996131161679,\n",
       "  -0.56167499614710081,\n",
       "  -0.56046967049965613,\n",
       "  -0.55928366719787337,\n",
       "  -0.55811667479117122,\n",
       "  -0.55696838740732169,\n",
       "  -0.55583850461568018,\n",
       "  -0.55472673129582339,\n",
       "  -0.55363277751131301,\n",
       "  -0.5525563583883224,\n",
       "  -0.55149719399887276,\n",
       "  -0.55045500924844259,\n",
       "  -0.54942953376772574,\n",
       "  -0.54842050180832491,\n",
       "  -0.54742765214218181,\n",
       "  -0.5464507279645513,\n",
       "  -0.54548947680034376,\n",
       "  -0.54454365041366248,\n",
       "  -0.54361300472037966,\n",
       "  -0.54269729970359526,\n",
       "  -0.54179629933184148,\n",
       "  -0.54090977147989094,\n",
       "  -0.54003748785204864,\n",
       "  -0.53917922390779838,\n",
       "  -0.53833475878969916,\n",
       "  -0.53750387525341625,\n",
       "  -0.53668635959979016,\n",
       "  -0.53588200160884614,\n",
       "  -0.53509059447565233,\n",
       "  -0.53431193474794436,\n",
       "  -0.53354582226543223,\n",
       "  -0.53279206010071634,\n",
       "  -0.53205045450173716,\n",
       "  -0.5313208148356956,\n",
       "  -0.53060295353437481,\n",
       "  -0.5298966860408062,\n",
       "  -0.52920183075722149,\n",
       "  -0.5285182089942374,\n",
       "  -0.52784564492122021,\n",
       "  -0.52718396551778535,\n",
       "  -0.52653300052638308,\n",
       "  -0.52589258240592995,\n",
       "  -0.52526254628644453,\n",
       "  -0.52464272992464844,\n",
       "  -0.52403297366049839,\n",
       "  -0.52343312037461298,\n",
       "  -0.52284301544656364,\n",
       "  -0.52226250671399832,\n",
       "  -0.52169144443256865,\n",
       "  -0.52112968123663495,\n",
       "  -0.52057707210072124,\n",
       "  -0.52003347430169711,\n",
       "  -0.51949874738166335,\n",
       "  -0.51897275311151825,\n",
       "  -0.51845535545518562,\n",
       "  -0.51794642053448359,\n",
       "  -0.51744581659461442,\n",
       "  -0.51695341397026218,\n",
       "  -0.51646908505227518,\n",
       "  -0.51599270425492294,\n",
       "  -0.51552414798370816,\n",
       "  -0.51506329460372335,\n",
       "  -0.51461002440853409,\n",
       "  -0.51416421958958014,\n",
       "  -0.51372576420607874,\n",
       "  -0.51329454415541986,\n",
       "  -0.51287044714404284,\n",
       "  -0.51245336265878083,\n",
       "  -0.51204318193866638,\n",
       "  -0.51163979794718528,\n",
       "  -0.51124310534497164,\n",
       "  -0.51085300046293292,\n",
       "  -0.51046938127579833,\n",
       "  -0.51009214737608177,\n",
       "  -0.50972119994845,\n",
       "  -0.50935644174449002,\n",
       "  -0.50899777705786819,\n",
       "  -0.50864511169987259,\n",
       "  -0.5082983529753341,\n",
       "  -0.50795740965891645,\n",
       "  -0.5076221919717735,\n",
       "  -0.50729261155856142,\n",
       "  -0.50696858146480595,\n",
       "  -0.50665001611461524,\n",
       "  -0.50633683128873341,\n",
       "  -0.50602894410293031,\n",
       "  -0.5057262729867209,\n",
       "  -0.50542873766241037,\n",
       "  -0.5051362591244597,\n",
       "  -0.5048487596191652,\n",
       "  -0.50456616262465004,\n",
       "  -0.50428839283116123,\n",
       "  -0.50401537612166747,\n",
       "  -0.50374703955275479,\n",
       "  -0.50348331133581503,\n",
       "  -0.50322412081852097,\n",
       "  -0.50296939846658861,\n",
       "  -0.50271907584581688,\n",
       "  -0.50247308560440529,\n",
       "  -0.5022313614555437,\n",
       "  -0.50199383816026977,\n",
       "  -0.50176045151059145,\n",
       "  -0.50153113831287166,\n",
       "  -0.5013058363714672,\n",
       "  -0.50108448447262555,\n",
       "  -0.50086702236862801,\n",
       "  -0.50065339076218152,\n",
       "  -0.50044353129105335,\n",
       "  -0.50023738651294536,\n",
       "  -0.50003489989060546,\n",
       "  -0.49983601577717024,\n",
       "  -0.49964067940174084,\n",
       "  -0.49944883685518171,\n",
       "  -0.49926043507614587,\n",
       "  -0.49907542183731929,\n",
       "  -0.49889374573188233,\n",
       "  -0.49871535616018597,\n",
       "  -0.4985402033166389,\n",
       "  -0.4983682381768032,\n",
       "  -0.49819941248469451,\n",
       "  -0.49803367874028531,\n",
       "  -0.49787099018720754,\n",
       "  -0.49771130080065124,\n",
       "  -0.49755456527545766,\n",
       "  -0.49740073901440285,\n",
       "  -0.49724977811666971,\n",
       "  -0.49710163936650592,\n",
       "  -0.49695628022206384,\n",
       "  -0.49681365880442158,\n",
       "  -0.49667373388677999,\n",
       "  -0.49653646488383757,\n",
       "  -0.49640181184133364,\n",
       "  -0.49626973542576513,\n",
       "  -0.49614019691426825,\n",
       "  -0.49601315818466579,\n",
       "  -0.49588858170567712,\n",
       "  -0.49576643052728742,\n",
       "  -0.49564666827127474,\n",
       "  -0.49552925912189238,\n",
       "  -0.49541416781670383,\n",
       "  -0.49530135963756794,\n",
       "  -0.49519080040177327,\n",
       "  -0.49508245645331739,\n",
       "  -0.49497629465433024,\n",
       "  -0.49487228237663855,\n",
       "  -0.49477038749347063,\n",
       "  -0.4946705783712978,\n",
       "  -0.49457282386180967,\n",
       "  -0.49447709329402467,\n",
       "  -0.49438335646652926,\n",
       "  -0.49429158363984715,\n",
       "  -0.49420174552893503,\n",
       "  -0.49411381329580323,\n",
       "  -0.49402775854225894,\n",
       "  -0.49394355330276973,\n",
       "  -0.49386117003744778,\n",
       "  -0.49378058162514898,\n",
       "  -0.49370176135668919,\n",
       "  -0.49362468292817219,\n",
       "  -0.49354932043443034,\n",
       "  -0.49347564836257429,\n",
       "  -0.49340364158565092,\n",
       "  -0.49333327535640736,\n",
       "  -0.49326452530115933,\n",
       "  -0.49319736741376297,\n",
       "  -0.49313177804968711,\n",
       "  -0.49306773392018444,\n",
       "  -0.49300521208656217,\n",
       "  -0.49294418995454753,\n",
       "  -0.4928846452687482,\n",
       "  -0.4928265561072061,\n",
       "  -0.49276990087604239,\n",
       "  -0.49271465830419281,\n",
       "  -0.49266080743823137,\n",
       "  -0.49260832763728096,\n",
       "  -0.49255719856800945,\n",
       "  -0.49250740019971134,\n",
       "  -0.49245891279946957,\n",
       "  -0.49241171692740121,\n",
       "  -0.49236579343198211,\n",
       "  -0.49232112344544976,\n",
       "  -0.49227768837928465,\n",
       "  -0.4922354699197668,\n",
       "  -0.49219445002360712,\n",
       "  -0.49215461091365331,\n",
       "  -0.49211593507466572,\n",
       "  -0.49207840524916785,\n",
       "  -0.49204200443336238,\n",
       "  -0.49200671587311939,\n",
       "  -0.49197252306003064,\n",
       "  -0.49193940972752959,\n",
       "  -0.49190735984707767,\n",
       "  -0.49187635762441462,\n",
       "  -0.49184638749587029,\n",
       "  -0.49181743412474122,\n",
       "  -0.4917894823977248,\n",
       "  -0.49176251742141541,\n",
       "  -0.49173652451885891,\n",
       "  -0.49171148922616476,\n",
       "  -0.49168739728917443,\n",
       "  -0.49166423466018644,\n",
       "  -0.49164198749473587,\n",
       "  -0.49162064214842782,\n",
       "  -0.49160018517382381,\n",
       "  -0.49158060331738007,\n",
       "  -0.49156188351643737,\n",
       "  -0.49154401289626093,\n",
       "  -0.49152697876712942,\n",
       "  -0.49151076862147347,\n",
       "  -0.49149537013106076,\n",
       "  -0.49148077114422856,\n",
       "  -0.49146695968316223,\n",
       "  -0.49145392394121962,\n",
       "  -0.49144165228029851,\n",
       "  -0.49143013322824952,\n",
       "  -0.49141935547633042,\n",
       "  -0.49140930787670389,\n",
       "  -0.49139997943997621,\n",
       "  -0.49139135933277628,\n",
       "  -0.49138343687537589,\n",
       "  -0.49137620153934825,\n",
       "  -0.49136964294526553,\n",
       "  -0.49136375086043499,\n",
       "  -0.49135851519667145,\n",
       "  -0.49135392600810701,\n",
       "  -0.49134997348903731,\n",
       "  -0.49134664797180222,\n",
       "  -0.49134393992470216,\n",
       "  -0.49134183994994801,\n",
       "  -0.49134033878164562,\n",
       "  -0.4913394272838123,\n",
       "  -0.49133909644842588,\n",
       "  -0.49133933739350671,\n",
       "  -0.49134014136123016,\n",
       "  -0.49134149971606961,\n",
       "  -0.49134340394297066,\n",
       "  -0.49134584564555445,\n",
       "  -0.49134881654435059,\n",
       "  -0.49135230847505851,\n",
       "  -0.49135631338683683,\n",
       "  -0.49136082334062114,\n",
       "  -0.4913658305074689,\n",
       "  -0.4913713271669306,\n",
       "  -0.49137730570544735,\n",
       "  -0.49138375861477507,\n",
       "  -0.49139067849043361,\n",
       "  -0.4913980580301805,\n",
       "  -0.49140589003250956,\n",
       "  -0.49141416739517418,\n",
       "  -0.4914228831137335,\n",
       "  -0.49143203028012217,\n",
       "  -0.4914416020812431,\n",
       "  -0.49145159179758313,\n",
       "  -0.49146199280184955,\n",
       "  -0.49147279855762999,\n",
       "  -0.49148400261807235,\n",
       "  -0.49149559862458686,\n",
       "  -0.4915075803055674,\n",
       "  -0.49151994147513439,\n",
       "  -0.49153267603189726,\n",
       "  -0.49154577795773607,\n",
       "  -0.49155924131660289,\n",
       "  -0.49157306025334174,\n",
       "  -0.49158722899252766,\n",
       "  -0.49160174183732369,\n",
       "  -0.49161659316835543,\n",
       "  -0.49163177744260445,\n",
       "  -0.4916472891923177,\n",
       "  -0.4916631230239355,\n",
       "  -0.4916792736170344,\n",
       "  -0.49169573572328829,\n",
       "  -0.49171250416544532,\n",
       "  -0.49172957383631966,\n",
       "  -0.49174693969780042,\n",
       "  -0.4917645967798755,\n",
       "  -0.49178254017966971,\n",
       "  -0.49180076506049919,\n",
       "  -0.49181926665093939,\n",
       "  -0.4918380402439082,\n",
       "  -0.49185708119576249,\n",
       "  -0.49187638492540925,\n",
       "  -0.4918959469134303,\n",
       "  -0.49191576270121951,\n",
       "  -0.49193582789013485,\n",
       "  -0.4919561381406623,\n",
       "  -0.49197668917159287,\n",
       "  -0.4919974767592119,\n",
       "  -0.49201849673650144,\n",
       "  -0.49203974499235398,\n",
       "  -0.49206121747079884,\n",
       "  -0.49208291017023992,\n",
       "  -0.49210481914270471,\n",
       "  -0.49212694049310524,\n",
       "  -0.49214927037851008,\n",
       "  -0.4921718050074273,\n",
       "  -0.49219454063909795,\n",
       "  -0.49221747358280055,\n",
       "  -0.49224060019716576,\n",
       "  -0.49226391688950155,\n",
       "  -0.49228742011512849,\n",
       "  -0.49231110637672487,\n",
       "  -0.49233497222368161,\n",
       "  -0.4923590142514665,\n",
       "  -0.4923832291009988,\n",
       "  -0.49240761345803225,\n",
       "  -0.49243216405254753,\n",
       "  -0.49245687765815382,\n",
       "  -0.49248175109149916,\n",
       "  -0.49250678121168967,\n",
       "  -0.49253196491971685,\n",
       "  -0.49255729915789437,\n",
       "  -0.49258278090930141,\n",
       "  -0.4926084071972362,\n",
       "  -0.492634175084676,\n",
       "  -0.49266008167374586,\n",
       "  -0.49268612410519486,\n",
       "  -0.49271229955787998,\n",
       "  -0.4927386052482578,\n",
       "  -0.49276503842988245,\n",
       "  -0.49279159639291292,\n",
       "  -0.49281827646362564,\n",
       "  -0.49284507600393523,\n",
       "  -0.49287199241092128,\n",
       "  -0.49289902311636319,\n",
       "  -0.49292616558628016,\n",
       "  -0.49295341732047931,\n",
       "  -0.49298077585210953,\n",
       "  -0.49300823874722177,\n",
       "  -0.49303580360433558,\n",
       "  -0.49306346805401252,\n",
       "  -0.49309122975843428,\n",
       "  -0.49311908641098862,\n",
       "  -0.4931470357358595,\n",
       "  -0.49317507548762463,\n",
       "  -0.49320320345085694,\n",
       "  -0.49323141743973353,\n",
       "  -0.49325971529764917,\n",
       "  -0.49328809489683501,\n",
       "  -0.49331655413798342,\n",
       "  -0.49334509094987777,\n",
       "  -0.49337370328902752,\n",
       "  -0.49340238913930801,\n",
       "  -0.49343114651160602],\n",
       " [array([1, 2, 3, 4, 5, 6, 7]),\n",
       "  array([-0.13361692,  1.11377752,  2.57004459,  3.92217324,  4.9356072 ,\n",
       "          5.95279664,  6.81803972]),\n",
       "  array([-1.15583395,  0.30566229,  2.18057897,  3.84630755,  4.87236671,\n",
       "          5.90921138,  6.63614635]),\n",
       "  array([-1.83479035, -0.23435659,  1.91735663,  3.77802212,  4.81357355,\n",
       "          5.87603005,  6.45467303]),\n",
       "  array([-2.21506904, -0.54439954,  1.76902376,  3.72034359,  4.76159463,\n",
       "          5.85321882,  6.27459765]),\n",
       "  array([-2.46154075, -0.75827604,  1.6732587 ,  3.6700486 ,  4.71477207,\n",
       "          5.83612239,  6.09703252]),\n",
       "  array([-2.63702576, -0.92377408,  1.60518906,  3.62485923,  4.67165917,\n",
       "          5.82253343,  5.923229  ]),\n",
       "  array([-2.76707714, -1.05903758,  1.55449914,  3.5834587 ,  4.63136031,\n",
       "          5.81138207,  5.7546308 ]),\n",
       "  array([-2.86404903, -1.17219941,  1.51611611,  3.54501682,  4.5932932 ,\n",
       "          5.80205918,  5.5927839 ]),\n",
       "  array([-2.93472096, -1.26734438,  1.48720169,  3.50896544,  4.55705214,\n",
       "          5.7941719 ,  5.43915804]),\n",
       "  array([-2.98334272, -1.34682768,  1.46595673,  3.47488401,  4.5223328 ,\n",
       "          5.78743775,  5.29492333]),\n",
       "  array([-3.0130692 , -1.4123527 ,  1.45106577,  3.44243625,  4.48888877,\n",
       "          5.78163258,  5.16075714]),\n",
       "  array([-3.02665149, -1.46547966,  1.44142875,  3.41133536,  4.45650712,\n",
       "          5.77656471,  5.03675702]),\n",
       "  array([-3.02670618, -1.50780673,  1.43604823,  3.38132756,  4.42499656,\n",
       "          5.77206393,  4.92248839]),\n",
       "  array([-3.01574691, -1.54096518,  1.43400223,  3.35218679,  4.39418404,\n",
       "          5.76797872,  4.81713291]),\n",
       "  array([-2.99611466, -1.56653832,  1.43445479,  3.32371493,  4.36391567,\n",
       "          5.76417688,  4.71967086]),\n",
       "  array([-2.96989671, -1.58597682,  1.43667379,  3.29574303,  4.33405862,\n",
       "          5.76054657,  4.62904045]),\n",
       "  array([-2.93887648, -1.60054377,  1.44004142,  3.26813153,  4.30450214,\n",
       "          5.75699642,  4.54424715]),\n",
       "  array([-2.90452186, -1.61129451,  1.444054  ,  3.24076875,  4.27515713,\n",
       "          5.75345428,  4.46442227]),\n",
       "  array([-2.86800339, -1.61908272,  1.44831346,  3.21356799,  4.24595433,\n",
       "          5.74986515,  4.38884279]),\n",
       "  array([-2.83022952, -1.62458203,  1.45251389,  3.18646396,  4.21684175,\n",
       "          5.74618859,  4.31692716]),\n",
       "  array([-2.79188851, -1.6283139 ,  1.45642659,  3.159409  ,  4.18778178,\n",
       "          5.74239612,  4.24821856]),\n",
       "  array([-2.75349011, -1.63067625,  1.45988545,  3.13236957,  4.15874841,\n",
       "          5.73846878,  4.18236386]),\n",
       "  array([-2.71540314, -1.63196959,  1.46277379,  3.10532314,  4.12972467,\n",
       "          5.73439499,  4.11909242]),\n",
       "  array([-2.67788763, -1.63241931,  1.46501322,  3.07825556,  4.1007005 ,\n",
       "          5.73016877,  4.05819726]),\n",
       "  array([-2.64112108, -1.63219396,  1.46655454,  3.05115899,  4.07167097,\n",
       "          5.72578833,  3.99951931]),\n",
       "  array([-2.60521935, -1.63141967,  1.46737039,  3.02403015,  4.04263491,\n",
       "          5.7212549 ,  3.94293481]),\n",
       "  array([-2.57025298, -1.63019137,  1.46744956,  2.99686911,  4.01359378,\n",
       "          5.71657189,  3.88834548]),\n",
       "  array([-2.53625959, -1.62858124,  1.46679262,  2.96967825,  3.98455088,\n",
       "          5.71174417,  3.83567113]),\n",
       "  array([-2.50325328, -1.62664504,  1.46540856,  2.94246155,  3.95551071,\n",
       "          5.70677765,  3.78484423]),\n",
       "  array([-2.47123158, -1.62442676,  1.46331231,  2.91522405,  3.92647854,\n",
       "          5.70167882,  3.73580587]),\n",
       "  array([-2.44018056, -1.62196199,  1.4605229 ,  2.88797143,  3.89746005,\n",
       "          5.69645454,  3.68850297]),\n",
       "  array([-2.41007854, -1.61928034,  1.4570621 ,  2.86070975,  3.86846112,\n",
       "          5.69111185,  3.64288627]),\n",
       "  array([-2.38089877, -1.61640713,  1.45295338,  2.83344525,  3.83948764,\n",
       "          5.68565778,  3.59890898]),\n",
       "  array([-2.35261134, -1.61336457,  1.44822127,  2.80618419,  3.81054545,\n",
       "          5.68009929,  3.55652588]),\n",
       "  array([-2.32518449, -1.61017258,  1.44289077,  2.77893277,  3.78164022,\n",
       "          5.6744432 ,  3.51569276]),\n",
       "  array([-2.29858557, -1.60684936,  1.43698701,  2.75169708,  3.75277739,\n",
       "          5.66869616,  3.47636603]),\n",
       "  array([-2.27278169, -1.60341174,  1.43053499,  2.72448302,  3.72396223,\n",
       "          5.66286458,  3.43850256]),\n",
       "  array([-2.24774017, -1.59987541,  1.42355938,  2.6972963 ,  3.6951997 ,\n",
       "          5.65695464,  3.40205956]),\n",
       "  array([-2.22342883, -1.59625512,  1.41608438,  2.67014244,  3.66649456,\n",
       "          5.65097227,  3.36699456]),\n",
       "  array([-2.19981618, -1.59256476,  1.40813363,  2.64302672,  3.63785129,\n",
       "          5.64492316,  3.33326542]),\n",
       "  array([-2.17687159, -1.58881742,  1.39973018,  2.61595421,  3.60927414,\n",
       "          5.63881275,  3.30083039]),\n",
       "  array([-2.15456533, -1.58502544,  1.39089637,  2.58892977,  3.58076712,\n",
       "          5.63264623,  3.26964817]),\n",
       "  array([-2.13286865, -1.58120046,  1.38165387,  2.56195805,  3.55233402,\n",
       "          5.62642854,  3.23967794]),\n",
       "  array([-2.11175381, -1.5773534 ,  1.37202363,  2.53504347,  3.52397838,\n",
       "          5.62016438,  3.21087943]),\n",
       "  array([-2.09119406, -1.57349454,  1.36202587,  2.50819027,  3.49570357,\n",
       "          5.61385824,  3.18321302]),\n",
       "  array([-2.07116367, -1.56963347,  1.3516801 ,  2.48140249,  3.46751274,\n",
       "          5.60751436,  3.15663974]),\n",
       "  array([-2.05163791, -1.56577916,  1.34100508,  2.45468397,  3.43940886,\n",
       "          5.60113677,  3.13112137]),\n",
       "  array([-2.03259304, -1.56193996,  1.33001886,  2.42803839,  3.41139473,\n",
       "          5.59472931,  3.10662044]),\n",
       "  array([-2.0140063 , -1.55812361,  1.31873879,  2.40146922,  3.38347295,\n",
       "          5.58829558,  3.08310029]),\n",
       "  array([-1.99585585, -1.55433728,  1.30718149,  2.37497979,  3.355646  ,\n",
       "          5.58183902,  3.06052514]),\n",
       "  array([-1.97812082, -1.55058758,  1.29536293,  2.34857326,  3.32791619,\n",
       "          5.57536287,  3.03886002]),\n",
       "  array([-1.9607812 , -1.54688056,  1.28329838,  2.32225263,  3.30028568,\n",
       "          5.5688702 ,  3.01807089]),\n",
       "  array([-1.9438179 , -1.5432218 ,  1.27100246,  2.29602075,  3.27275652,\n",
       "          5.56236389,  2.99812461]),\n",
       "  array([-1.92721266, -1.53961634,  1.25848915,  2.26988032,  3.24533061,\n",
       "          5.55584668,  2.97898895]),\n",
       "  array([-1.91094805, -1.53606879,  1.24577181,  2.24383392,  3.21800975,\n",
       "          5.54932114,  2.96063262]),\n",
       "  array([-1.89500743, -1.53258331,  1.23286319,  2.21788397,  3.1907956 ,\n",
       "          5.54278969,  2.94302524]),\n",
       "  array([-1.87937496, -1.52916362,  1.21977546,  2.19203279,  3.16368975,\n",
       "          5.53625462,  2.92613738]),\n",
       "  array([-1.86403552, -1.52581306,  1.20652024,  2.16628254,  3.13669366,\n",
       "          5.52971808,  2.90994054]),\n",
       "  array([-1.84897471, -1.52253459,  1.19310857,  2.1406353 ,  3.10980871,\n",
       "          5.52318208,  2.89440711]),\n",
       "  array([-1.83417884, -1.51933083,  1.179551  ,  2.115093  ,  3.08303618,\n",
       "          5.51664853,  2.87951043]),\n",
       "  array([-1.81963487, -1.51620405,  1.16585754,  2.0896575 ,  3.05637727,\n",
       "          5.51011919,  2.86522473]),\n",
       "  array([-1.80533042, -1.51315622,  1.15203774,  2.06433052,  3.02983311,\n",
       "          5.50359574,  2.85152513]),\n",
       "  array([-1.79125368, -1.51018902,  1.13810066,  2.03911369,  3.00340474,\n",
       "          5.49707975,  2.83838762]),\n",
       "  array([-1.77739349, -1.50730387,  1.12405493,  2.01400855,  2.97709313,\n",
       "          5.49057267,  2.82578908]),\n",
       "  array([-1.7637392 , -1.50450191,  1.10990873,  1.98901653,  2.95089919,\n",
       "          5.48407589,  2.8137072 ]),\n",
       "  array([-1.75028074, -1.50178409,  1.09566984,  1.96413898,  2.92482376,\n",
       "          5.47759066,  2.80212053]),\n",
       "  array([-1.73700854, -1.4991511 ,  1.08134564,  1.93937716,  2.89886762,\n",
       "          5.4711182 ,  2.7910084 ]),\n",
       "  array([-1.72391353, -1.49660346,  1.06694313,  1.91473225,  2.87303149,\n",
       "          5.46465962,  2.78035095]),\n",
       "  array([-1.71098712, -1.4941415 ,  1.05246895,  1.89020534,  2.84731605,\n",
       "          5.45821595,  2.77012908]),\n",
       "  array([-1.69822115, -1.49176536,  1.03792939,  1.86579745,  2.8217219 ,\n",
       "          5.45178816,  2.76032444]),\n",
       "  array([-1.68560792, -1.48947506,  1.02333042,  1.84150952,  2.79624963,\n",
       "          5.44537714,  2.75091942]),\n",
       "  array([-1.67314012, -1.48727044,  1.00867768,  1.81734243,  2.77089973,\n",
       "          5.43898374,  2.74189709]),\n",
       "  array([-1.66081085, -1.48515124,  0.99397653,  1.79329696,  2.7456727 ,\n",
       "          5.43260871,  2.73324124]),\n",
       "  array([-1.64861358, -1.48311706,  0.97923204,  1.76937386,  2.72056897,\n",
       "          5.42625278,  2.7249363 ]),\n",
       "  array([-1.63654213, -1.4811674 ,  0.964449  ,  1.74557378,  2.69558893,\n",
       "          5.41991661,  2.71696735]),\n",
       "  array([-1.62459066, -1.47930166,  0.94963194,  1.72189735,  2.67073293,\n",
       "          5.4136008 ,  2.70932009]),\n",
       "  array([-1.61275366, -1.47751915,  0.93478516,  1.69834509,  2.6460013 ,\n",
       "          5.40730591,  2.70198083]),\n",
       "  array([-1.60102592, -1.47581911,  0.91991272,  1.67491749,  2.62139431,\n",
       "          5.40103246,  2.69493646]),\n",
       "  array([-1.58940254, -1.4742007 ,  0.90501844,  1.651615  ,  2.59691223,\n",
       "          5.39478092,  2.68817441]),\n",
       "  array([-1.57787886, -1.47266302,  0.89010597,  1.62843798,  2.57255527,\n",
       "          5.38855172,  2.68168268]),\n",
       "  array([-1.56645053, -1.47120511,  0.87517871,  1.60538676,  2.54832361,\n",
       "          5.38234525,  2.67544976]),\n",
       "  array([-1.55511342, -1.46982596,  0.86023992,  1.58246161,  2.52421743,\n",
       "          5.37616186,  2.66946467]),\n",
       "  array([-1.54386364, -1.46852452,  0.84529265,  1.55966276,  2.50023686,\n",
       "          5.37000189,  2.6637169 ]),\n",
       "  array([-1.53269753, -1.46729971,  0.83033979,  1.53699039,  2.47638199,\n",
       "          5.36386561,  2.65819639]),\n",
       "  array([-1.52161165, -1.4661504 ,  0.81538407,  1.51444464,  2.45265292,\n",
       "          5.35775329,  2.65289354]),\n",
       "  array([-1.51060275, -1.46507545,  0.80042806,  1.4920256 ,  2.4290497 ,\n",
       "          5.35166516,  2.64779917]),\n",
       "  array([-1.49966778, -1.46407369,  0.78547419,  1.46973332,  2.40557238,\n",
       "          5.34560143,  2.64290452]),\n",
       "  array([-1.48880386, -1.46314392,  0.77052475,  1.44756781,  2.38222095,\n",
       "          5.33956227,  2.63820122]),\n",
       "  array([-1.4780083 , -1.46228495,  0.75558192,  1.42552905,  2.35899542,\n",
       "          5.33354784,  2.63368126]),\n",
       "  array([-1.46727856, -1.46149556,  0.74064774,  1.40361697,  2.33589576,\n",
       "          5.32755828,  2.62933701]),\n",
       "  array([-1.45661226, -1.46077452,  0.72572413,  1.38183148,  2.31292192,\n",
       "          5.3215937 ,  2.62516119]),\n",
       "  array([-1.44600716, -1.46012061,  0.71081291,  1.36017244,  2.29007384,\n",
       "          5.31565419,  2.62114684]),\n",
       "  array([-1.43546116, -1.4595326 ,  0.6959158 ,  1.33863969,  2.26735143,\n",
       "          5.30973984,  2.61728732]),\n",
       "  array([-1.42497228, -1.45900925,  0.68103442,  1.31723304,  2.2447546 ,\n",
       "          5.3038507 ,  2.61357629]),\n",
       "  array([-1.41453867, -1.45854934,  0.66617029,  1.29595225,  2.22228323,\n",
       "          5.29798681,  2.61000771]),\n",
       "  array([-1.40415861, -1.45815165,  0.65132486,  1.27479709,  2.19993719,\n",
       "          5.2921482 ,  2.60657581]),\n",
       "  array([-1.39383048, -1.45781495,  0.63649948,  1.25376725,  2.17771633,\n",
       "          5.28633489,  2.60327508]),\n",
       "  array([-1.38355273, -1.45753804,  0.62169544,  1.23286245,  2.1556205 ,\n",
       "          5.28054689,  2.60010028]),\n",
       "  array([-1.37332396, -1.45731971,  0.60691394,  1.21208234,  2.13364952,\n",
       "          5.27478417,  2.5970464 ]),\n",
       "  array([-1.36314283, -1.45715877,  0.59215612,  1.19142658,  2.1118032 ,\n",
       "          5.26904672,  2.59410866]),\n",
       "  array([-1.3530081 , -1.45705405,  0.57742306,  1.17089477,  2.09008135,\n",
       "          5.2633345 ,  2.5912825 ]),\n",
       "  array([-1.34291858, -1.45700437,  0.56271577,  1.15048654,  2.06848376,\n",
       "          5.25764748,  2.58856357]),\n",
       "  array([-1.33287321, -1.45700858,  0.54803521,  1.13020144,  2.04701019,\n",
       "          5.2519856 ,  2.58594773]),\n",
       "  array([-1.32287095, -1.45706555,  0.53338228,  1.11003906,  2.02566043,\n",
       "          5.2463488 ,  2.58343102]),\n",
       "  array([-1.31291086, -1.45717415,  0.51875783,  1.08999891,  2.00443422,\n",
       "          5.24073702,  2.58100967]),\n",
       "  array([-1.30299205, -1.45733326,  0.50416267,  1.07008054,  1.98333132,\n",
       "          5.23515018,  2.57868008]),\n",
       "  array([-1.2931137 , -1.4575418 ,  0.48959754,  1.05028345,  1.96235145,\n",
       "          5.2295882 ,  2.5764388 ]),\n",
       "  array([-1.28327502, -1.45779869,  0.47506317,  1.03060712,  1.94149435,\n",
       "          5.22405098,  2.57428257]),\n",
       "  array([-1.2734753 , -1.45810286,  0.46056023,  1.01105105,  1.92075973,\n",
       "          5.21853845,  2.57220825]),\n",
       "  array([-1.26371388, -1.45845329,  0.44608935,  0.99161468,  1.9001473 ,\n",
       "          5.21305049,  2.57021286]),\n",
       "  array([-1.25399013, -1.45884893,  0.43165113,  0.97229747,  1.87965676,\n",
       "          5.20758701,  2.56829355]),\n",
       "  array([-1.24430346, -1.45928878,  0.41724615,  0.95309886,  1.85928782,\n",
       "          5.20214789,  2.56644759]),\n",
       "  array([-1.23465334, -1.45977185,  0.40287493,  0.93401826,  1.83904014,\n",
       "          5.19673303,  2.56467239]),\n",
       "  array([-1.22503926, -1.46029716,  0.38853798,  0.91505511,  1.81891341,\n",
       "          5.19134231,  2.56296547]),\n",
       "  array([-1.21546077, -1.46086377,  0.37423577,  0.89620879,  1.7989073 ,\n",
       "          5.1859756 ,  2.56132446]),\n",
       "  array([-1.20591742, -1.46147072,  0.35996876,  0.8774787 ,  1.77902148,\n",
       "          5.18063279,  2.55974708]),\n",
       "  array([-1.19640881, -1.4621171 ,  0.34573736,  0.85886423,  1.75925561,\n",
       "          5.17531375,  2.55823119]),\n",
       "  array([-1.18693458, -1.46280201,  0.33154199,  0.84036476,  1.73960933,\n",
       "          5.17001835,  2.55677471]),\n",
       "  array([-1.17749438, -1.46352455,  0.31738301,  0.82197965,  1.72008229,\n",
       "          5.16474646,  2.55537566]),\n",
       "  array([-1.16808788, -1.46428386,  0.30326078,  0.80370827,  1.70067414,\n",
       "          5.15949794,  2.55403215]),\n",
       "  array([-1.15871479, -1.46507908,  0.28917565,  0.78554996,  1.6813845 ,\n",
       "          5.15427268,  2.55274238]),\n",
       "  array([-1.14937483, -1.46590939,  0.27512792,  0.76750409,  1.66221301,\n",
       "          5.14907051,  2.55150461]),\n",
       "  array([-1.14006775, -1.46677395,  0.26111791,  0.74957   ,  1.64315929,\n",
       "          5.14389132,  2.55031718]),\n",
       "  array([-1.13079332, -1.46767196,  0.24714588,  0.73174701,  1.62422297,\n",
       "          5.13873497,  2.54917851]),\n",
       "  array([-1.12155132, -1.46860265,  0.23321212,  0.71403448,  1.60540365,\n",
       "          5.1336013 ,  2.54808708]),\n",
       "  array([-1.11234154, -1.46956523,  0.21931687,  0.69643172,  1.58670095,\n",
       "          5.12849018,  2.54704144]),\n",
       "  array([-1.1031638 , -1.47055895,  0.20546037,  0.67893806,  1.56811447,\n",
       "          5.12340147,  2.54604018]),\n",
       "  array([-1.09401793, -1.47158307,  0.19164284,  0.66155284,  1.54964382,\n",
       "          5.11833503,  2.54508197]),\n",
       "  array([-1.08490376, -1.47263687,  0.17786451,  0.64427536,  1.53128859,\n",
       "          5.11329072,  2.54416552]),\n",
       "  array([-1.07582116, -1.47371963,  0.16412557,  0.62710495,  1.51304838,\n",
       "          5.10826839,  2.54328961]),\n",
       "  array([-1.06676998, -1.47483066,  0.1504262 ,  0.61004092,  1.49492277,\n",
       "          5.10326789,  2.54245305]),\n",
       "  array([-1.0577501 , -1.47596928,  0.13676659,  0.59308259,  1.47691137,\n",
       "          5.09828909,  2.54165469]),\n",
       "  array([-1.04876141, -1.47713483,  0.12314691,  0.57622926,  1.45901374,\n",
       "          5.09333185,  2.54089346]),\n",
       "  array([-1.0398038 , -1.47832664,  0.10956731,  0.55948026,  1.44122947,\n",
       "          5.08839601,  2.5401683 ]),\n",
       "  array([-1.03087716, -1.47954408,  0.09602794,  0.5428349 ,  1.42355814,\n",
       "          5.08348144,  2.5394782 ]),\n",
       "  array([-1.02198141, -1.48078653,  0.08252894,  0.52629247,  1.40599932,\n",
       "          5.07858799,  2.53882219]),\n",
       "  array([-1.01311645, -1.48205336,  0.06907045,  0.50985231,  1.38855258,\n",
       "          5.07371552,  2.53819934]),\n",
       "  array([-1.00428222, -1.48334399,  0.05565258,  0.49351371,  1.37121749,\n",
       "          5.06886388,  2.53760873]),\n",
       "  array([-0.99547864, -1.48465781,  0.04227546,  0.47727598,  1.35399361,\n",
       "          5.06403295,  2.53704951]),\n",
       "  array([-0.98670563, -1.48599427,  0.02893918,  0.46113845,  1.33688052,\n",
       "          5.05922256,  2.53652084]),\n",
       "  array([-0.97796313, -1.48735278,  0.01564386,  0.44510042,  1.31987776,\n",
       "          5.05443259,  2.5360219 ]),\n",
       "  array([ -9.69251095e-01,  -1.48873281e+00,   2.38959382e-03,\n",
       "           4.29161205e-01,   1.30298489e+00,   5.04966290e+00,\n",
       "           2.53555193e+00]),\n",
       "  array([-0.96056945, -1.4901338 , -0.01082354,  0.41332012,  1.28620148,\n",
       "          5.04491333,  2.53511016]),\n",
       "  array([-0.95191815, -1.49155524, -0.02399545,  0.39757649,  1.26952708,\n",
       "          5.04018376,  2.53469586]),\n",
       "  array([-0.94329715, -1.4929966 , -0.03712606,  0.38192962,  1.25296122,\n",
       "          5.03547404,  2.53430835]),\n",
       "  array([-0.93470639, -1.49445738, -0.05021531,  0.36637884,  1.23650348,\n",
       "          5.03078404,  2.53394692]),\n",
       "  array([-0.92614583, -1.49593708, -0.06326312,  0.35092346,  1.22015338,\n",
       "          5.02611362,  2.53361094]),\n",
       "  array([-0.91761543, -1.49743521, -0.07626943,  0.33556283,  1.20391048,\n",
       "          5.02146265,  2.53329975]),\n",
       "  array([-0.90911515, -1.4989513 , -0.08923419,  0.32029624,  1.18777432,\n",
       "          5.01683098,  2.53301275]),\n",
       "  array([-0.90064494, -1.50048488, -0.10215735,  0.30512305,  1.17174443,\n",
       "          5.01221849,  2.53274933]),\n",
       "  array([-0.89220477, -1.50203549, -0.11503886,  0.29004258,  1.15582037,\n",
       "          5.00762503,  2.53250891]),\n",
       "  array([-0.8837946 , -1.50360269, -0.12787868,  0.27505416,  1.14000166,\n",
       "          5.00305049,  2.53229093]),\n",
       "  array([-0.87541439, -1.50518604, -0.14067676,  0.26015714,  1.12428784,\n",
       "          4.99849472,  2.53209485]),\n",
       "  array([-0.8670641 , -1.50678511, -0.15343309,  0.24535084,  1.10867846,\n",
       "          4.99395759,  2.53192013]),\n",
       "  array([-0.8587437 , -1.50839947, -0.16614761,  0.23063462,  1.09317303,\n",
       "          4.98943897,  2.53176626]),\n",
       "  array([-0.85045316, -1.51002873, -0.17882032,  0.21600781,  1.07777109,\n",
       "          4.98493874,  2.53163274]),\n",
       "  array([-0.84219243, -1.51167247, -0.19145119,  0.20146978,  1.06247217,\n",
       "          4.98045677,  2.53151908]),\n",
       "  array([-0.83396148, -1.51333031, -0.2040402 ,  0.18701987,  1.0472758 ,\n",
       "          4.97599292,  2.5314248 ]),\n",
       "  array([-0.82576028, -1.51500184, -0.21658733,  0.17265743,  1.0321815 ,\n",
       "          4.97154707,  2.53134945]),\n",
       "  array([-0.81758879, -1.5166867 , -0.22909258,  0.15838183,  1.01718881,\n",
       "          4.9671191 ,  2.53129258]),\n",
       "  array([-0.80944698, -1.51838452, -0.24155593,  0.14419243,  1.00229725,\n",
       "          4.96270888,  2.53125374]),\n",
       "  array([-0.8013348 , -1.52009492, -0.25397738,  0.13008859,  0.98750633,\n",
       "          4.95831628,  2.53123251]),\n",
       "  array([-0.79325222, -1.52181756, -0.26635693,  0.11606968,  0.9728156 ,\n",
       "          4.95394119,  2.53122848]),\n",
       "  array([-0.7851992 , -1.52355208, -0.27869457,  0.10213508,  0.95822455,\n",
       "          4.94958347,  2.53124124]),\n",
       "  array([-0.7771757 , -1.52529815, -0.29099033,  0.08828417,  0.94373272,\n",
       "          4.94524302,  2.53127039]),\n",
       "  array([-0.76918169, -1.52705542, -0.30324419,  0.07451632,  0.92933963,\n",
       "          4.94091971,  2.53131555]),\n",
       "  array([-0.76121713, -1.52882357, -0.31545617,  0.06083092,  0.91504479,\n",
       "          4.93661342,  2.53137634]),\n",
       "  array([-0.75328196, -1.53060228, -0.32762628,  0.04722735,  0.90084772,\n",
       "          4.93232403,  2.53145239]),\n",
       "  array([-0.74537616, -1.53239123, -0.33975455,  0.03370501,  0.88674794,\n",
       "          4.92805142,  2.53154334]),\n",
       "  array([-0.73749968, -1.53419012, -0.35184098,  0.0202633 ,  0.87274497,\n",
       "          4.92379548,  2.53164884]),\n",
       "  array([-0.72965248, -1.53599863, -0.3638856 ,  0.00690161,  0.85883832,\n",
       "          4.91955609,  2.53176855]),\n",
       "  array([-0.72183451, -1.53781648, -0.37588842, -0.00638065,  0.84502751,\n",
       "          4.91533315,  2.53190212]),\n",
       "  array([-0.71404572, -1.53964338, -0.38784949, -0.01958408,  0.83131205,\n",
       "          4.91112652,  2.53204924]),\n",
       "  array([-0.70628607, -1.54147903, -0.39976882, -0.03270926,  0.81769145,\n",
       "          4.9069361 ,  2.53220957]),\n",
       "  array([-0.69855552, -1.54332316, -0.41164644, -0.04575679,  0.80416523,\n",
       "          4.90276178,  2.53238281]),\n",
       "  array([-0.69085401, -1.5451755 , -0.42348239, -0.05872723,  0.79073291,\n",
       "          4.89860345,  2.53256864]),\n",
       "  array([-0.6831815 , -1.54703577, -0.43527671, -0.07162117,  0.77739399,\n",
       "          4.894461  ,  2.53276677]),\n",
       "  array([-0.67553793, -1.54890372, -0.44702942, -0.08443918,  0.76414798,\n",
       "          4.89033431,  2.53297689]),\n",
       "  array([-0.66792325, -1.55077908, -0.45874057, -0.09718184,  0.75099441,\n",
       "          4.88622328,  2.53319871]),\n",
       "  array([-0.66033741, -1.5526616 , -0.47041021, -0.10984969,  0.73793277,\n",
       "          4.8821278 ,  2.53343196]),\n",
       "  array([-0.65278036, -1.55455105, -0.48203836, -0.12244332,  0.72496259,\n",
       "          4.87804776,  2.53367635]),\n",
       "  array([-0.64525204, -1.55644716, -0.49362509, -0.13496326,  0.71208336,\n",
       "          4.87398306,  2.53393162]),\n",
       "  array([-0.63775239, -1.55834971, -0.50517044, -0.14741008,  0.69929462,\n",
       "          4.86993359,  2.53419748]),\n",
       "  array([-0.63028136, -1.56025846, -0.51667446, -0.15978433,  0.68659586,\n",
       "          4.86589924,  2.53447369]),\n",
       "  array([-0.62283889, -1.56217318, -0.52813719, -0.17208655,  0.67398659,\n",
       "          4.86187992,  2.53475999]),\n",
       "  array([-0.61542493, -1.56409365, -0.5395587 , -0.18431728,  0.66146633,\n",
       "          4.85787552,  2.53505611]),\n",
       "  array([-0.6080394 , -1.56601965, -0.55093904, -0.19647707,  0.64903459,\n",
       "          4.85388594,  2.53536182]),\n",
       "  array([-0.60068226, -1.56795096, -0.56227827, -0.20856643,  0.63669088,\n",
       "          4.84991107,  2.53567688]),\n",
       "  array([-0.59335343, -1.56988737, -0.57357644, -0.22058591,  0.62443471,\n",
       "          4.84595082,  2.53600104]),\n",
       "  array([-0.58605286, -1.57182867, -0.58483362, -0.23253603,  0.61226559,\n",
       "          4.84200509,  2.53633407]),\n",
       "  array([-0.57878047, -1.57377466, -0.59604987, -0.24441731,  0.60018304,\n",
       "          4.83807377,  2.53667575]),\n",
       "  array([-0.57153622, -1.57572515, -0.60722525, -0.25623027,  0.58818656,\n",
       "          4.83415677,  2.53702584]),\n",
       "  array([-0.56432002, -1.57767993, -0.61835983, -0.26797543,  0.57627567,\n",
       "          4.83025399,  2.53738413]),\n",
       "  array([-0.55713182, -1.57963881, -0.62945368, -0.27965328,  0.56444988,\n",
       "          4.82636533,  2.5377504 ]),\n",
       "  array([-0.54997154, -1.58160161, -0.64050686, -0.29126435,  0.5527087 ,\n",
       "          4.8224907 ,  2.53812444]),\n",
       "  array([-0.54283911, -1.58356814, -0.65151946, -0.30280913,  0.54105165,\n",
       "          4.81863001,  2.53850605]),\n",
       "  array([-0.53573447, -1.58553823, -0.66249153, -0.31428812,  0.52947824,\n",
       "          4.81478315,  2.53889501]),\n",
       "  array([-0.52865755, -1.58751168, -0.67342315, -0.32570181,  0.51798798,\n",
       "          4.81095003,  2.53929112]),\n",
       "  array([-0.52160827, -1.58948834, -0.68431441, -0.3370507 ,  0.5065804 ,\n",
       "          4.80713057,  2.5396942 ]),\n",
       "  array([-0.51458657, -1.59146803, -0.69516537, -0.34833528,  0.495255  ,\n",
       "          4.80332466,  2.54010404]),\n",
       "  array([-0.50759236, -1.59345058, -0.70597611, -0.35955602,  0.48401129,\n",
       "          4.79953222,  2.54052045]),\n",
       "  array([-0.50062558, -1.59543582, -0.71674672, -0.37071342,  0.47284881,\n",
       "          4.79575315,  2.54094326]),\n",
       "  array([-0.49368615, -1.59742361, -0.72747727, -0.38180793,  0.46176707,\n",
       "          4.79198736,  2.54137227]),\n",
       "  array([-0.48677399, -1.59941378, -0.73816785, -0.39284005,  0.45076557,\n",
       "          4.78823477,  2.54180732]),\n",
       "  array([-0.47988904, -1.60140617, -0.74881854, -0.40381023,  0.43984385,\n",
       "          4.78449528,  2.54224821]),\n",
       "  array([-0.47303121, -1.60340064, -0.75942942, -0.41471894,  0.42900143,\n",
       "          4.78076881,  2.54269478]),\n",
       "  array([-0.46620042, -1.60539704, -0.77000059, -0.42556664,  0.41823781,\n",
       "          4.77705526,  2.54314687]),\n",
       "  array([-0.4593966 , -1.60739522, -0.78053212, -0.43635379,  0.40755253,\n",
       "          4.77335456,  2.5436043 ]),\n",
       "  array([-0.45261966, -1.60939503, -0.79102411, -0.44708085,  0.39694511,\n",
       "          4.76966661,  2.5440669 ]),\n",
       "  array([-0.44586954, -1.61139635, -0.80147665, -0.45774826,  0.38641507,\n",
       "          4.76599132,  2.54453453]),\n",
       "  array([-0.43914615, -1.61339902, -0.81188982, -0.46835647,  0.37596194,\n",
       "          4.76232862,  2.54500702]),\n",
       "  array([-0.4324494 , -1.61540292, -0.82226373, -0.47890593,  0.36558524,\n",
       "          4.75867842,  2.54548422]),\n",
       "  array([-0.42577922, -1.61740792, -0.83259845, -0.48939708,  0.35528449,\n",
       "          4.75504062,  2.54596598]),\n",
       "  array([-0.41913553, -1.61941388, -0.84289409, -0.49983035,  0.34505924,\n",
       "          4.75141516,  2.54645215]),\n",
       "  array([-0.41251824, -1.62142068, -0.85315074, -0.51020617,  0.33490899,\n",
       "          4.74780194,  2.54694258]),\n",
       "  array([-0.40592727, -1.62342819, -0.8633685 , -0.52052498,  0.3248333 ,\n",
       "          4.74420089,  2.54743713]),\n",
       "  array([-0.39936254, -1.6254363 , -0.87354746, -0.5307872 ,  0.31483168,\n",
       "          4.74061192,  2.54793566]),\n",
       "  array([-0.39282397, -1.62744488, -0.88368773, -0.54099325,  0.30490367,\n",
       "          4.73703495,  2.54843804]),\n",
       "  array([-0.38631146, -1.62945381, -0.89378939, -0.55114356,  0.2950488 ,\n",
       "          4.7334699 ,  2.54894412]),\n",
       "  array([-0.37982494, -1.63146298, -0.90385255, -0.56123854,  0.28526661,\n",
       "          4.72991669,  2.54945379]),\n",
       "  array([-0.37336432, -1.63347229, -0.91387732, -0.5712786 ,  0.27555664,\n",
       "          4.72637524,  2.5499669 ]),\n",
       "  array([-0.36692951, -1.63548161, -0.92386379, -0.58126415,  0.26591842,\n",
       "          4.72284547,  2.55048332]),\n",
       "  array([-0.36052044, -1.63749083, -0.93381206, -0.5911956 ,  0.2563515 ,\n",
       "          4.7193273 ,  2.55100295]),\n",
       "  array([-0.35413701, -1.63949986, -0.94372224, -0.60107335,  0.24685541,\n",
       "          4.71582066,  2.55152565]),\n",
       "  array([-0.34777913, -1.64150859, -0.95359443, -0.6108978 ,  0.2374297 ,\n",
       "          4.71232546,  2.5520513 ]),\n",
       "  array([-0.34144673, -1.64351692, -0.96342874, -0.62066935,  0.2280739 ,\n",
       "          4.70884164,  2.55257978]),\n",
       "  array([-0.33513971, -1.64552474, -0.97322527, -0.63038838,  0.21878758,\n",
       "          4.70536911,  2.55311099]),\n",
       "  array([-0.32885798, -1.64753197, -0.98298413, -0.6400553 ,  0.20957026,\n",
       "          4.7019078 ,  2.55364481]),\n",
       "  array([-0.32260146, -1.64953849, -0.99270542, -0.64967048,  0.20042151,\n",
       "          4.69845764,  2.55418112]),\n",
       "  array([-0.31637007, -1.65154423, -1.00238926, -0.65923431,  0.19134087,\n",
       "          4.69501854,  2.55471983]),\n",
       "  array([-0.3101637 , -1.65354908, -1.01203574, -0.66874717,  0.18232789,\n",
       "          4.69159044,  2.55526082]),\n",
       "  array([-0.30398229, -1.65555296, -1.02164499, -0.67820943,  0.17338213,\n",
       "          4.68817326,  2.55580398]),\n",
       "  array([-0.29782572, -1.65755577, -1.0312171 , -0.68762148,  0.16450314,\n",
       "          4.68476692,  2.55634923]),\n",
       "  array([-0.29169392, -1.65955744, -1.04075219, -0.69698368,  0.15569048,\n",
       "          4.68137137,  2.55689645]),\n",
       "  array([-0.2855868 , -1.66155787, -1.05025037, -0.7062964 ,  0.14694371,\n",
       "          4.67798651,  2.55744556]),\n",
       "  array([-0.27950427, -1.66355699, -1.05971175, -0.71556001,  0.13826239,\n",
       "          4.67461229,  2.55799645]),\n",
       "  array([-0.27344624, -1.66555471, -1.06913643, -0.72477486,  0.12964607,\n",
       "          4.67124863,  2.55854903]),\n",
       "  array([-0.26741262, -1.66755095, -1.07852455, -0.73394132,  0.12109433,\n",
       "          4.66789547,  2.55910321]),\n",
       "  array([-0.26140332, -1.66954563, -1.08787619, -0.74305973,  0.11260673,\n",
       "          4.66455272,  2.5596589 ]),\n",
       "  array([-0.25541825, -1.67153868, -1.09719149, -0.75213047,  0.10418284,\n",
       "          4.66122032,  2.56021602]),\n",
       "  array([-0.24945732, -1.67353002, -1.10647055, -0.76115387,  0.09582222,\n",
       "          4.65789821,  2.56077447]),\n",
       "  array([-0.24352045, -1.67551957, -1.11571348, -0.77013028,  0.08752446,\n",
       "          4.6545863 ,  2.56133418]),\n",
       "  array([-0.23760753, -1.67750728, -1.1249204 , -0.77906005,  0.07928911,\n",
       "          4.65128455,  2.56189505]),\n",
       "  array([-0.23171849, -1.67949306, -1.13409143, -0.78794352,  0.07111576,\n",
       "          4.64799287,  2.56245701]),\n",
       "  array([-0.22585322, -1.68147684, -1.14322668, -0.79678102,  0.06300398,\n",
       "          4.64471121,  2.56301999]),\n",
       "  array([-0.22001165, -1.68345856, -1.15232626, -0.8055729 ,  0.05495335,\n",
       "          4.64143948,  2.5635839 ]),\n",
       "  array([-0.21419368, -1.68543816, -1.16139029, -0.81431948,  0.04696346,\n",
       "          4.63817764,  2.56414867]),\n",
       "  array([-0.20839922, -1.68741556, -1.17041889, -0.8230211 ,  0.03903388,\n",
       "          4.63492561,  2.56471422]),\n",
       "  array([-0.20262818, -1.6893907 , -1.17941217, -0.83167808,  0.03116421,\n",
       "          4.63168332,  2.56528048]),\n",
       "  array([-0.19688047, -1.69136353, -1.18837025, -0.84029075,  0.02335402,\n",
       "          4.62845072,  2.56584739]),\n",
       "  array([-0.191156  , -1.69333398, -1.19729324, -0.84885943,  0.0156029 ,\n",
       "          4.62522774,  2.56641488]),\n",
       "  array([-0.18545468, -1.69530199, -1.20618127, -0.85738444,  0.00791046,\n",
       "          4.62201431,  2.56698287]),\n",
       "  array([ -1.79776426e-01,  -1.69726751e+00,  -1.21503445e+00,\n",
       "          -8.65866101e-01,   2.76269527e-04,   4.61881037e+00,\n",
       "           2.56755130e+00]),\n",
       "  array([-0.17412114, -1.69923047, -1.2238529 , -0.87430472, -0.00730006,\n",
       "          4.61561585,  2.5681201 ]),\n",
       "  array([-0.16848873, -1.70119082, -1.23263673, -0.88270061, -0.01481894,\n",
       "          4.61243071,  2.56868922]),\n",
       "  array([-0.16287911, -1.70314851, -1.24138607, -0.89105408, -0.02228077,\n",
       "          4.60925487,  2.5692586 ]),\n",
       "  array([-0.15729219, -1.70510348, -1.25010102, -0.89936543, -0.02968595,\n",
       "          4.60608827,  2.56982816]),\n",
       "  array([-0.15172788, -1.70705568, -1.25878172, -0.90763498, -0.03703487,\n",
       "          4.60293085,  2.57039786]),\n",
       "  array([-0.14618609, -1.70900506, -1.26742828, -0.91586302, -0.04432794,\n",
       "          4.59978255,  2.57096764]),\n",
       "  array([-0.14066674, -1.71095157, -1.27604081, -0.92404984, -0.05156553,\n",
       "          4.59664331,  2.57153744]),\n",
       "  array([-0.13516972, -1.71289516, -1.28461944, -0.93219576, -0.05874805,\n",
       "          4.59351306,  2.57210721]),\n",
       "  array([-0.12969495, -1.71483579, -1.29316428, -0.94030105, -0.06587588,\n",
       "          4.59039176,  2.57267689]),\n",
       "  array([-0.12424235, -1.7167734 , -1.30167546, -0.94836601, -0.0729494 ,\n",
       "          4.58727935,  2.57324643]),\n",
       "  array([-0.11881182, -1.71870796, -1.31015308, -0.95639093, -0.07996901,\n",
       "          4.58417575,  2.57381579]),\n",
       "  array([-0.11340327, -1.72063941, -1.31859728, -0.9643761 , -0.08693508,\n",
       "          4.58108092,  2.57438491]),\n",
       "  array([-0.10801662, -1.72256772, -1.32700817, -0.9723218 , -0.093848  ,\n",
       "          4.5779948 ,  2.57495374]),\n",
       "  array([-0.10265177, -1.72449284, -1.33538586, -0.9802283 , -0.10070814,\n",
       "          4.57491732,  2.57552224]),\n",
       "  array([-0.09730864, -1.72641472, -1.34373049, -0.9880959 , -0.10751587,\n",
       "          4.57184844,  2.57609036]),\n",
       "  array([-0.09198714, -1.72833334, -1.35204216, -0.99592486, -0.11427157,\n",
       "          4.5687881 ,  2.57665806]),\n",
       "  array([-0.08668718, -1.73024865, -1.360321  , -1.00371545, -0.12097562,\n",
       "          4.56573623,  2.57722529]),\n",
       "  array([-0.08140867, -1.73216061, -1.36856712, -1.01146797, -0.12762838,\n",
       "          4.56269279,  2.57779202]),\n",
       "  array([-0.07615152, -1.73406918, -1.37678065, -1.01918266, -0.13423021,\n",
       "          4.55965772,  2.57835819]),\n",
       "  array([-0.07091565, -1.73597433, -1.3849617 , -1.0268598 , -0.14078149,\n",
       "          4.55663096,  2.57892378]),\n",
       "  array([-0.06570097, -1.73787603, -1.3931104 , -1.03449965, -0.14728257,\n",
       "          4.55361247,  2.57948873]),\n",
       "  array([-0.06050738, -1.73977422, -1.40122685, -1.04210248, -0.15373382,\n",
       "          4.55060218,  2.58005302]),\n",
       "  array([-0.05533481, -1.74166889, -1.40931119, -1.04966855, -0.16013559,\n",
       "          4.54760004,  2.58061661]),\n",
       "  array([-0.05018317, -1.74356   , -1.41736353, -1.05719811, -0.16648824,\n",
       "          4.54460601,  2.58117945]),\n",
       "  array([-0.04505236, -1.74544752, -1.42538398, -1.06469143, -0.17279213,\n",
       "          4.54162001,  2.58174153]),\n",
       "  array([-0.0399423 , -1.74733141, -1.43337267, -1.07214875, -0.1790476 ,\n",
       "          4.53864202,  2.58230279]),\n",
       "  array([-0.03485291, -1.74921165, -1.44132972, -1.07957032, -0.18525501,\n",
       "          4.53567196,  2.58286321]),\n",
       "  array([-0.0297841 , -1.7510882 , -1.44925524, -1.08695641, -0.1914147 ,\n",
       "          4.5327098 ,  2.58342275]),\n",
       "  array([-0.02473578, -1.75296104, -1.45714935, -1.09430725, -0.19752702,\n",
       "          4.52975547,  2.58398139]),\n",
       "  array([-0.01970786, -1.75483013, -1.46501218, -1.10162309, -0.20359231,\n",
       "          4.52680893,  2.58453909]),\n",
       "  array([-0.01470027, -1.75669546, -1.47284383, -1.10890417, -0.20961091,\n",
       "          4.52387013,  2.58509582]),\n",
       "  array([-0.00971291, -1.75855698, -1.48064443, -1.11615073, -0.21558317,\n",
       "          4.52093902,  2.58565156]),\n",
       "  array([-0.0047457 , -1.76041468, -1.48841409, -1.12336302, -0.22150941,\n",
       "          4.51801554,  2.58620628]),\n",
       "  array([  2.01442455e-04,  -1.76226854e+00,  -1.49615294e+00,\n",
       "          -1.13054128e+00,  -2.27389979e-01,   4.51509966e+00,\n",
       "           2.58675994e+00]),\n",
       "  array([ 0.00512861, -1.76411851, -1.50386109, -1.13768572, -0.2332252 ,\n",
       "          4.51219131,  2.58731253]),\n",
       "  array([ 0.01003588, -1.7659646 , -1.51153865, -1.1447966 , -0.23901541,\n",
       "          4.50929045,  2.58786401]),\n",
       "  array([ 0.01492334, -1.76780675, -1.51918575, -1.15187414, -0.24476093,\n",
       "          4.50639703,  2.58841437]),\n",
       "  array([ 0.01979107, -1.76964497, -1.5268025 , -1.15891857, -0.25046209,\n",
       "          4.50351101,  2.58896358]),\n",
       "  array([ 0.02463916, -1.77147922, -1.53438902, -1.16593012, -0.25611922,\n",
       "          4.50063234,  2.58951161]),\n",
       "  array([ 0.02946769, -1.77330948, -1.54194543, -1.172909  , -0.26173263,\n",
       "          4.49776096,  2.59005844]),\n",
       "  array([ 0.03427675, -1.77513573, -1.54947183, -1.17985546, -0.26730264,\n",
       "          4.49489684,  2.59060406]),\n",
       "  array([ 0.03906642, -1.77695795, -1.55696836, -1.1867697 , -0.27282958,\n",
       "          4.49203992,  2.59114843]),\n",
       "  array([ 0.04383677, -1.77877613, -1.56443512, -1.19365195, -0.27831376,\n",
       "          4.48919016,  2.59169154]),\n",
       "  array([ 0.0485879 , -1.78059024, -1.57187222, -1.20050243, -0.28375548,\n",
       "          4.48634752,  2.59223338]),\n",
       "  array([ 0.05331988, -1.78240026, -1.57927979, -1.20732135, -0.28915507,\n",
       "          4.48351194,  2.59277391]),\n",
       "  array([ 0.0580328 , -1.78420618, -1.58665795, -1.21410892, -0.29451283,\n",
       "          4.48068339,  2.59331312]),\n",
       "  array([ 0.06272675, -1.78600798, -1.5940068 , -1.22086536, -0.29982907,\n",
       "          4.47786181,  2.59385099]),\n",
       "  array([ 0.06740179, -1.78780564, -1.60132645, -1.22759088, -0.3051041 ,\n",
       "          4.47504717,  2.59438751]),\n",
       "  array([ 0.07205801, -1.78959915, -1.60861704, -1.23428569, -0.3103382 ,\n",
       "          4.47223942,  2.59492266]),\n",
       "  array([ 0.0766955 , -1.79138849, -1.61587866, -1.24094999, -0.3155317 ,\n",
       "          4.46943852,  2.59545641]),\n",
       "  array([ 0.08131434, -1.79317365, -1.62311144, -1.24758399, -0.32068488,\n",
       "          4.46664442,  2.59598877]),\n",
       "  array([ 0.08591459, -1.79495461, -1.63031548, -1.25418789, -0.32579805,\n",
       "          4.46385708,  2.59651971]),\n",
       "  array([ 0.09049636, -1.79673136, -1.63749091, -1.2607619 , -0.33087149,\n",
       "          4.46107645,  2.59704921]),\n",
       "  array([ 0.09505971, -1.79850388, -1.64463782, -1.26730621, -0.3359055 ,\n",
       "          4.4583025 ,  2.59757726]),\n",
       "  array([ 0.09960472, -1.80027216, -1.65175635, -1.27382102, -0.34090037,\n",
       "          4.45553518,  2.59810386]),\n",
       "  array([ 0.10413148, -1.8020362 , -1.6588466 , -1.28030653, -0.3458564 ,\n",
       "          4.45277446,  2.59862898]),\n",
       "  array([ 0.10864006, -1.80379597, -1.66590867, -1.28676294, -0.35077385,\n",
       "          4.45002028,  2.59915261]),\n",
       "  array([ 0.11313054, -1.80555146, -1.6729427 , -1.29319044, -0.35565303,\n",
       "          4.44727261,  2.59967475]),\n",
       "  array([ 0.117603  , -1.80730268, -1.67994878, -1.29958921, -0.36049421,\n",
       "          4.44453141,  2.60019537]),\n",
       "  array([ 0.12205752, -1.80904959, -1.68692702, -1.30595946, -0.36529767,\n",
       "          4.44179663,  2.60071448]),\n",
       "  array([ 0.12649418, -1.8107922 , -1.69387755, -1.31230136, -0.3700637 ,\n",
       "          4.43906824,  2.60123205]),\n",
       "  array([ 0.13091306, -1.8125305 , -1.70080047, -1.31861511, -0.37479256,\n",
       "          4.4363462 ,  2.60174808]),\n",
       "  array([ 0.13531422, -1.81426447, -1.70769589, -1.32490088, -0.37948454,\n",
       "          4.43363046,  2.60226255]),\n",
       "  array([ 0.13969776, -1.8159941 , -1.71456392, -1.33115888, -0.3841399 ,\n",
       "          4.43092099,  2.60277547]),\n",
       "  array([ 0.14406374, -1.8177194 , -1.72140467, -1.33738926, -0.38875892,\n",
       "          4.42821775,  2.60328681]),\n",
       "  array([ 0.14841225, -1.81944034, -1.72821825, -1.34359223, -0.39334186,\n",
       "          4.4255207 ,  2.60379658]),\n",
       "  array([ 0.15274335, -1.82115693, -1.73500477, -1.34976795, -0.397889  ,\n",
       "          4.4228298 ,  2.60430475]),\n",
       "  array([ 0.15705713, -1.82286915, -1.74176435, -1.3559166 , -0.40240059,\n",
       "          4.42014502,  2.60481134]),\n",
       "  array([ 0.16135366, -1.824577  , -1.74849708, -1.36203837, -0.4068769 ,\n",
       "          4.41746631,  2.60531632]),\n",
       "  array([ 0.16563301, -1.82628047, -1.75520307, -1.36813342, -0.4113182 ,\n",
       "          4.41479364,  2.60581969]),\n",
       "  array([ 0.16989527, -1.82797956, -1.76188245, -1.37420192, -0.41572473,\n",
       "          4.41212697,  2.60632144]),\n",
       "  array([ 0.1741405 , -1.82967426, -1.7685353 , -1.38024406, -0.42009677,\n",
       "          4.40946627,  2.60682157]),\n",
       "  array([ 0.17836879, -1.83136456, -1.77516175, -1.38625999, -0.42443456,\n",
       "          4.40681149,  2.60732008]),\n",
       "  array([ 0.18258019, -1.83305047, -1.7817619 , -1.3922499 , -0.42873835,\n",
       "          4.4041626 ,  2.60781695]),\n",
       "  array([ 0.1867748 , -1.83473197, -1.78833585, -1.39821394, -0.43300841,\n",
       "          4.40151957,  2.60831218]),\n",
       "  array([ 0.19095268, -1.83640906, -1.79488371, -1.40415228, -0.43724497,\n",
       "          4.39888236,  2.60880576]),\n",
       "  array([ 0.19511391, -1.83808174, -1.80140558, -1.41006508, -0.44144829,\n",
       "          4.39625094,  2.6092977 ]),\n",
       "  array([ 0.19925855, -1.83975   , -1.80790158, -1.41595252, -0.44561862,\n",
       "          4.39362526,  2.60978798]),\n",
       "  array([ 0.20338669, -1.84141385, -1.81437181, -1.42181475, -0.44975619,\n",
       "          4.3910053 ,  2.6102766 ]),\n",
       "  array([ 0.20749839, -1.84307327, -1.82081637, -1.42765193, -0.45386126,\n",
       "          4.38839101,  2.61076357]),\n",
       "  array([ 0.21159372, -1.84472826, -1.82723537, -1.43346423, -0.45793406,\n",
       "          4.38578237,  2.61124886]),\n",
       "  array([ 0.21567277, -1.84637883, -1.83362892, -1.43925179, -0.46197483,\n",
       "          4.38317935,  2.61173249]),\n",
       "  array([ 0.21973559, -1.84802497, -1.83999711, -1.44501478, -0.46598381,\n",
       "          4.38058189,  2.61221445]),\n",
       "  array([ 0.22378227, -1.84966668, -1.84634005, -1.45075335, -0.46996123,\n",
       "          4.37798999,  2.61269474]),\n",
       "  array([ 0.22781286, -1.85130396, -1.85265784, -1.45646765, -0.47390733,\n",
       "          4.37540359,  2.61317334]),\n",
       "  array([ 0.23182746, -1.8529368 , -1.85895059, -1.46215784, -0.47782235,\n",
       "          4.37282267,  2.61365027]),\n",
       "  array([ 0.23582611, -1.85456521, -1.8652184 , -1.46782407, -0.4817065 ,\n",
       "          4.3702472 ,  2.61412552]),\n",
       "  array([ 0.2398089 , -1.85618918, -1.87146137, -1.4734665 , -0.48556002,\n",
       "          4.36767714,  2.61459908]),\n",
       "  array([ 0.24377589, -1.85780872, -1.87767961, -1.47908526, -0.48938315,\n",
       "          4.36511245,  2.61507096]),\n",
       "  array([ 0.24772716, -1.85942382, -1.88387321, -1.4846805 , -0.49317609,\n",
       "          4.36255312,  2.61554116]),\n",
       "  array([ 0.25166276, -1.86103449, -1.89004228, -1.49025238, -0.49693908,\n",
       "          4.3599991 ,  2.61600967]),\n",
       "  array([ 0.25558278, -1.86264073, -1.89618691, -1.49580104, -0.50067234,\n",
       "          4.35745037,  2.61647649]),\n",
       "  array([ 0.25948728, -1.86424252, -1.90230722, -1.50132661, -0.50437609,\n",
       "          4.35490689,  2.61694162]),\n",
       "  array([ 0.26337633, -1.86583989, -1.90840329, -1.50682926, -0.50805054,\n",
       "          4.35236863,  2.61740507]),\n",
       "  array([ 0.26724999, -1.86743282, -1.91447523, -1.51230911, -0.51169592,\n",
       "          4.34983556,  2.61786683]),\n",
       "  array([ 0.27110834, -1.86902133, -1.92052313, -1.5177663 , -0.51531244,\n",
       "          4.34730766,  2.6183269 ]),\n",
       "  array([ 0.27495144, -1.8706054 , -1.92654711, -1.52320098, -0.51890032,\n",
       "          4.34478489,  2.61878527]),\n",
       "  array([ 0.27877936, -1.87218505, -1.93254725, -1.52861329, -0.52245976,\n",
       "          4.34226721,  2.61924197]),\n",
       "  array([ 0.28259216, -1.87376027, -1.93852365, -1.53400336, -0.52599098,\n",
       "          4.33975461,  2.61969697]),\n",
       "  array([ 0.28638992, -1.87533107, -1.94447641, -1.53937132, -0.52949418,\n",
       "          4.33724705,  2.62015029]),\n",
       "  array([ 0.2901727 , -1.87689745, -1.95040564, -1.54471732, -0.53296957,\n",
       "          4.33474451,  2.62060192]),\n",
       "  array([ 0.29394056, -1.87845942, -1.95631142, -1.55004149, -0.53641737,\n",
       "          4.33224694,  2.62105186]),\n",
       "  array([ 0.29769358, -1.88001697, -1.96219385, -1.55534395, -0.53983777,\n",
       "          4.32975433,  2.62150012]),\n",
       "  array([ 0.30143181, -1.88157011, -1.96805303, -1.56062484, -0.54323097,\n",
       "          4.32726665,  2.6219467 ]),\n",
       "  array([ 0.30515532, -1.88311884, -1.97388906, -1.5658843 , -0.54659719,\n",
       "          4.32478386,  2.62239159]),\n",
       "  array([ 0.30886418, -1.88466316, -1.97970204, -1.57112244, -0.54993661,\n",
       "          4.32230595,  2.62283481]),\n",
       "  array([ 0.31255845, -1.88620309, -1.98549205, -1.5763394 , -0.55324943,\n",
       "          4.31983287,  2.62327634]),\n",
       "  array([ 0.3162382 , -1.88773862, -1.99125919, -1.58153531, -0.55653586,\n",
       "          4.31736461,  2.62371621]),\n",
       "  array([ 0.31990349, -1.88926975, -1.99700356, -1.58671029, -0.55979609,\n",
       "          4.31490113,  2.62415439]),\n",
       "  array([ 0.32355438, -1.8907965 , -2.00272525, -1.59186447, -0.56303031,\n",
       "          4.31244242,  2.62459091]),\n",
       "  array([ 0.32719094, -1.89231887, -2.00842436, -1.59699797, -0.56623871,\n",
       "          4.30998843,  2.62502575]),\n",
       "  array([ 0.33081323, -1.89383685, -2.01410097, -1.60211092, -0.56942148,\n",
       "          4.30753916,  2.62545893]),\n",
       "  array([ 0.33442131, -1.89535046, -2.01975519, -1.60720343, -0.57257882,\n",
       "          4.30509456,  2.62589044]),\n",
       "  array([ 0.33801525, -1.8968597 , -2.02538711, -1.61227563, -0.57571092,\n",
       "          4.30265461,  2.62632029]),\n",
       "  array([ 0.34159511, -1.89836458, -2.03099681, -1.61732764, -0.57881795,\n",
       "          4.30021929,  2.62674847]),\n",
       "  array([ 0.34516095, -1.8998651 , -2.0365844 , -1.62235957, -0.5819001 ,\n",
       "          4.29778856,  2.62717501]),\n",
       "  array([ 0.34871284, -1.90136126, -2.04214995, -1.62737156, -0.58495756,\n",
       "          4.29536242,  2.62759988]),\n",
       "  array([ 0.35225082, -1.90285308, -2.04769358, -1.6323637 , -0.58799051,\n",
       "          4.29294082,  2.62802311]),\n",
       "  array([ 0.35577498, -1.90434055, -2.05321535, -1.63733613, -0.59099913,\n",
       "          4.29052374,  2.62844469]),\n",
       "  array([ 0.35928536, -1.90582369, -2.05871537, -1.64228895, -0.59398361,\n",
       "          4.28811116,  2.62886462]),\n",
       "  array([ 0.36278203, -1.9073025 , -2.06419373, -1.64722228, -0.5969441 ,\n",
       "          4.28570306,  2.62928291]),\n",
       "  array([ 0.36626505, -1.90877698, -2.06965051, -1.65213624, -0.59988081,\n",
       "          4.2832994 ,  2.62969957]),\n",
       "  array([ 0.36973447, -1.91024714, -2.07508581, -1.65703093, -0.60279389,\n",
       "          4.28090017,  2.63011459]),\n",
       "  array([ 0.37319037, -1.911713  , -2.08049972, -1.66190648, -0.60568353,\n",
       "          4.27850534,  2.63052798]),\n",
       "  array([ 0.37663279, -1.91317454, -2.08589232, -1.66676298, -0.6085499 ,\n",
       "          4.27611488,  2.63093974]),\n",
       "  array([ 0.3800618 , -1.91463179, -2.0912637 , -1.67160055, -0.61139317,\n",
       "          4.27372878,  2.63134988]),\n",
       "  array([ 0.38347746, -1.91608475, -2.09661395, -1.6764193 , -0.6142135 ,\n",
       "          4.271347  ,  2.6317584 ]),\n",
       "  array([ 0.38687983, -1.91753342, -2.10194317, -1.68121933, -0.61701107,\n",
       "          4.26896952,  2.6321653 ]),\n",
       "  array([ 0.39026895, -1.91897782, -2.10725143, -1.68600077, -0.61978605,\n",
       "          4.26659633,  2.63257059]),\n",
       "  array([ 0.3936449 , -1.92041794, -2.11253882, -1.6907637 , -0.6225386 ,\n",
       "          4.2642274 ,  2.63297427]),\n",
       "  array([ 0.39700774, -1.9218538 , -2.11780543, -1.69550824, -0.62526888,\n",
       "          4.26186269,  2.63337635]),\n",
       "  array([ 0.40035751, -1.9232854 , -2.12305136, -1.70023449, -0.62797707,\n",
       "          4.2595022 ,  2.63377683]),\n",
       "  array([ 0.40369427, -1.92471276, -2.12827667, -1.70494256, -0.63066331,\n",
       "          4.2571459 ,  2.63417571]),\n",
       "  array([ 0.40701809, -1.92613587, -2.13348146, -1.70963254, -0.63332779,\n",
       "          4.25479377,  2.634573  ]),\n",
       "  array([ 0.41032903, -1.92755475, -2.13866582, -1.71430455, -0.63597064,\n",
       "          4.25244578,  2.63496871]),\n",
       "  array([ 0.41362713, -1.92896941, -2.14382983, -1.71895868, -0.63859204,\n",
       "          4.25010191,  2.63536283]),\n",
       "  array([ 0.41691245, -1.93037985, -2.14897357, -1.72359504, -0.64119214,\n",
       "          4.24776214,  2.63575538]),\n",
       "  array([ 0.42018505, -1.93178607, -2.15409713, -1.72821372, -0.64377109,\n",
       "          4.24542645,  2.63614635]),\n",
       "  array([ 0.42344499, -1.9331881 , -2.1592006 , -1.73281483, -0.64632906,\n",
       "          4.24309482,  2.63653575]),\n",
       "  array([ 0.42669232, -1.93458593, -2.16428405, -1.73739845, -0.64886619,\n",
       "          4.24076722,  2.63692359]),\n",
       "  array([ 0.4299271 , -1.93597958, -2.16934757, -1.7419647 , -0.65138265,\n",
       "          4.23844364,  2.63730987]),\n",
       "  array([ 0.43314938, -1.93736905, -2.17439125, -1.74651367, -0.65387857,\n",
       "          4.23612405,  2.6376946 ]),\n",
       "  array([ 0.43635922, -1.93875435, -2.17941516, -1.75104544, -0.65635411,\n",
       "          4.23380843,  2.63807777]),\n",
       "  array([ 0.43955668, -1.94013549, -2.18441938, -1.75556013, -0.65880942,\n",
       "          4.23149677,  2.6384594 ]),\n",
       "  array([ 0.4427418 , -1.94151247, -2.18940401, -1.76005782, -0.66124465,\n",
       "          4.22918903,  2.63883949]),\n",
       "  array([ 0.44591464, -1.94288532, -2.19436912, -1.76453861, -0.66365995,\n",
       "          4.2268852 ,  2.63921804]),\n",
       "  array([ 0.44907525, -1.94425403, -2.1993148 , -1.76900259, -0.66605545,\n",
       "          4.22458527,  2.63959506]),\n",
       "  array([ 0.4522237 , -1.94561861, -2.20424111, -1.77344985, -0.66843132,\n",
       "          4.2222892 ,  2.63997055]),\n",
       "  array([ 0.45536003, -1.94697908, -2.20914815, -1.77788049, -0.67078768,\n",
       "          4.21999699,  2.64034453]),\n",
       "  array([ 0.45848429, -1.94833544, -2.214036  , -1.78229459, -0.67312468,\n",
       "          4.2177086 ,  2.64071698]),\n",
       "  array([ 0.46159654, -1.9496877 , -2.21890473, -1.78669226, -0.67544247,\n",
       "          4.21542403,  2.64108793]),\n",
       "  array([ 0.46469684, -1.95103587, -2.22375443, -1.79107356, -0.67774118,\n",
       "          4.21314324,  2.64145737]),\n",
       "  array([ 0.46778522, -1.95237997, -2.22858517, -1.79543861, -0.68002096,\n",
       "          4.21086623,  2.64182531]),\n",
       "  array([ 0.47086176, -1.95371998, -2.23339703, -1.79978748, -0.68228193,\n",
       "          4.20859297,  2.64219175]),\n",
       "  array([ 0.47392649, -1.95505594, -2.2381901 , -1.80412026, -0.68452425,\n",
       "          4.20632345,  2.6425567 ]),\n",
       "  array([ 0.47697947, -1.95638785, -2.24296444, -1.80843704, -0.68674804,\n",
       "          4.20405764,  2.64292017]),\n",
       "  array([ 0.48002076, -1.95771571, -2.24772015, -1.8127379 , -0.68895344,\n",
       "          4.20179553,  2.64328216]),\n",
       "  array([ 0.48305039, -1.95903953, -2.25245728, -1.81702294, -0.69114058,\n",
       "          4.19953709,  2.64364267]),\n",
       "  array([ 0.48606843, -1.96035933, -2.25717594, -1.82129223, -0.6933096 ,\n",
       "          4.19728231,  2.64400171]),\n",
       "  array([ 0.48907493, -1.96167512, -2.26187618, -1.82554586, -0.69546064,\n",
       "          4.19503118,  2.64435928]),\n",
       "  array([ 0.49206993, -1.9629869 , -2.26655808, -1.82978392, -0.69759381,\n",
       "          4.19278367,  2.6447154 ]),\n",
       "  array([ 0.49505349, -1.96429469, -2.27122173, -1.83400648, -0.69970925,\n",
       "          4.19053976,  2.64507006]),\n",
       "  array([ 0.49802565, -1.96559848, -2.2758672 , -1.83821363, -0.70180709,\n",
       "          4.18829944,  2.64542327]),\n",
       "  array([ 0.50098647, -1.9668983 , -2.28049457, -1.84240546, -0.70388746,\n",
       "          4.18606269,  2.64577503]),\n",
       "  array([ 0.50393599, -1.96819416, -2.2851039 , -1.84658204, -0.70595048,\n",
       "          4.18382949,  2.64612536]),\n",
       "  array([ 0.50687427, -1.96948606, -2.28969528, -1.85074345, -0.70799628,\n",
       "          4.18159982,  2.64647426]),\n",
       "  array([ 0.50980136, -1.97077401, -2.29426877, -1.85488978, -0.71002499,\n",
       "          4.17937367,  2.64682172]),\n",
       "  array([ 0.51271729, -1.97205802, -2.29882447, -1.8590211 , -0.71203673,\n",
       "          4.17715103,  2.64716777]),\n",
       "  array([ 0.51562213, -1.97333811, -2.30336243, -1.86313749, -0.71403162,\n",
       "          4.17493186,  2.64751239]),\n",
       "  array([ 0.51851592, -1.97461427, -2.30788273, -1.86723904, -0.71600979,\n",
       "          4.17271617,  2.64785561]),\n",
       "  array([ 0.52139871, -1.97588653, -2.31238545, -1.87132581, -0.71797135,\n",
       "          4.17050392,  2.64819742]),\n",
       "  array([ 0.52427054, -1.9771549 , -2.31687065, -1.87539788, -0.71991644,\n",
       "          4.1682951 ,  2.64853782]),\n",
       "  array([ 0.52713147, -1.97841937, -2.32133842, -1.87945534, -0.72184516,\n",
       "          4.1660897 ,  2.64887683]),\n",
       "  array([ 0.52998154, -1.97967997, -2.32578882, -1.88349826, -0.72375763,\n",
       "          4.1638877 ,  2.64921445]),\n",
       "  array([ 0.53282079, -1.9809367 , -2.33022193, -1.88752671, -0.72565398,\n",
       "          4.16168909,  2.64955068]),\n",
       "  array([ 0.53564929, -1.98218958, -2.33463782, -1.89154077, -0.72753431,\n",
       "          4.15949384,  2.64988553]),\n",
       "  array([ 0.53846707, -1.9834386 , -2.33903656, -1.89554051, -0.72939876,\n",
       "          4.15730195,  2.65021901]),\n",
       "  array([ 0.54127418, -1.98468379, -2.34341822, -1.89952601, -0.73124742,\n",
       "          4.15511339,  2.65055112]),\n",
       "  array([ 0.54407066, -1.98592516, -2.34778287, -1.90349733, -0.73308042,\n",
       "          4.15292815,  2.65088187]),\n",
       "  array([ 0.54685657, -1.9871627 , -2.35213058, -1.90745456, -0.73489787,\n",
       "          4.15074622,  2.65121125]),\n",
       "  array([ 0.54963195, -1.98839645, -2.35646142, -1.91139776, -0.73669988,\n",
       "          4.14856757,  2.65153928]),\n",
       "  array([ 0.55239684, -1.98962639, -2.36077547, -1.91532701, -0.73848656,\n",
       "          4.1463922 ,  2.65186597]),\n",
       "  array([ 0.5551513 , -1.99085255, -2.3650728 , -1.91924238, -0.74025802,\n",
       "          4.14422009,  2.65219131]),\n",
       "  array([ 0.55789536, -1.99207494, -2.36935346, -1.92314393, -0.74201438,\n",
       "          4.14205122,  2.65251531]),\n",
       "  array([ 0.56062907, -1.99329356, -2.37361754, -1.92703174, -0.74375574,\n",
       "          4.13988558,  2.65283799]),\n",
       "  array([ 0.56335247, -1.99450843, -2.3778651 , -1.93090588, -0.74548221,\n",
       "          4.13772316,  2.65315933]),\n",
       "  array([ 0.56606562, -1.99571955, -2.38209621, -1.93476642, -0.7471939 ,\n",
       "          4.13556393,  2.65347936]),\n",
       "  array([ 0.56876855, -1.99692695, -2.38631093, -1.93861342, -0.74889091,\n",
       "          4.13340789,  2.65379807]),\n",
       "  array([ 0.57146132, -1.99813061, -2.39050934, -1.94244695, -0.75057336,\n",
       "          4.13125502,  2.65411547]),\n",
       "  array([ 0.57414395, -1.99933057, -2.39469151, -1.94626708, -0.75224134,\n",
       "          4.1291053 ,  2.65443156]),\n",
       "  array([ 0.57681651, -2.00052682, -2.39885749, -1.95007388, -0.75389496,\n",
       "          4.12695873,  2.65474635]),\n",
       "  array([ 0.57947902, -2.00171938, -2.40300737, -1.95386741, -0.75553432,\n",
       "          4.12481528,  2.65505985]),\n",
       "  array([ 0.58213155, -2.00290827, -2.4071412 , -1.95764775, -0.75715953,\n",
       "          4.12267494,  2.65537206]),\n",
       "  array([ 0.58477412, -2.00409348, -2.41125904, -1.96141495, -0.75877068,\n",
       "          4.12053771,  2.65568299]),\n",
       "  array([ 0.58740678, -2.00527503, -2.41536098, -1.96516908, -0.76036788,\n",
       "          4.11840356,  2.65599264]),\n",
       "  array([ 0.59002957, -2.00645293, -2.41944707, -1.96891021, -0.76195124,\n",
       "          4.11627248,  2.65630101]),\n",
       "  array([ 0.59264255, -2.00762719, -2.42351738, -1.97263839, -0.76352084,\n",
       "          4.11414445,  2.65660812]),\n",
       "  array([ 0.59524574, -2.00879783, -2.42757198, -1.9763537 , -0.76507679,\n",
       "          4.11201948,  2.65691396]),\n",
       "  array([ 0.5978392 , -2.00996484, -2.43161093, -1.9800562 , -0.76661918,\n",
       "          4.10989753,  2.65721855]),\n",
       "  array([ 0.60042296, -2.01112825, -2.43563429, -1.98374594, -0.76814812,\n",
       "          4.1077786 ,  2.65752188]),\n",
       "  array([ 0.60299706, -2.01228807, -2.43964212, -1.987423  , -0.7696637 ,\n",
       "          4.10566268,  2.65782396]),\n",
       "  array([ 0.60556156, -2.01344429, -2.44363451, -1.99108744, -0.77116601,\n",
       "          4.10354975,  2.65812481]),\n",
       "  array([ 0.60811648, -2.01459694, -2.4476115 , -1.99473931, -0.77265516,\n",
       "          4.10143979,  2.65842442]),\n",
       "  array([ 0.61066188, -2.01574603, -2.45157316, -1.99837867, -0.77413123,\n",
       "          4.0993328 ,  2.65872279]),\n",
       "  array([ 0.61319778, -2.01689156, -2.45551956, -2.0020056 , -0.77559432,\n",
       "          4.09722876,  2.65901994]),\n",
       "  array([ 0.61572424, -2.01803355, -2.45945076, -2.00562014, -0.77704452,\n",
       "          4.09512767,  2.65931587]),\n",
       "  array([ 0.6182413 , -2.01917201, -2.46336681, -2.00922236, -0.77848192,\n",
       "          4.0930295 ,  2.65961059]),\n",
       "  array([ 0.62074898, -2.02030694, -2.46726779, -2.01281231, -0.77990662,\n",
       "          4.09093424,  2.65990409]),\n",
       "  array([ 0.62324735, -2.02143836, -2.47115376, -2.01639007, -0.78131871,\n",
       "          4.08884189,  2.66019639]),\n",
       "  array([ 0.62573642, -2.02256628, -2.47502477, -2.01995567, -0.78271827,\n",
       "          4.08675242,  2.66048749]),\n",
       "  array([ 0.62821625, -2.02369071, -2.4788809 , -2.02350919, -0.78410541,\n",
       "          4.08466584,  2.66077739]),\n",
       "  array([ 0.63068688, -2.02481166, -2.4827222 , -2.02705068, -0.78548019,\n",
       "          4.08258212,  2.6610661 ]),\n",
       "  array([ 0.63314834, -2.02592913, -2.48654873, -2.0305802 , -0.78684273,\n",
       "          4.08050125,  2.66135363]),\n",
       "  array([ 0.63560068, -2.02704315, -2.49036055, -2.03409781, -0.78819309,\n",
       "          4.07842322,  2.66163997]),\n",
       "  array([ 0.63804392, -2.02815372, -2.49415773, -2.03760355, -0.78953137,\n",
       "          4.07634803,  2.66192515]),\n",
       "  array([ 0.64047812, -2.02926086, -2.49794032, -2.04109749, -0.79085766,\n",
       "          4.07427565,  2.66220915]),\n",
       "  array([ 0.64290331, -2.03036456, -2.50170839, -2.04457969, -0.79217204,\n",
       "          4.07220608,  2.66249198]),\n",
       "  array([ 0.64531953, -2.03146485, -2.50546199, -2.0480502 , -0.79347459,\n",
       "          4.0701393 ,  2.66277366]),\n",
       "  array([ 0.64772682, -2.03256173, -2.50920119, -2.05150907, -0.79476541,\n",
       "          4.0680753 ,  2.66305419]),\n",
       "  array([ 0.65012521, -2.03365522, -2.51292605, -2.05495636, -0.79604456,\n",
       "          4.06601408,  2.66333356]),\n",
       "  array([ 0.65251475, -2.03474532, -2.51663662, -2.05839212, -0.79731215,\n",
       "          4.06395562,  2.66361179]),\n",
       "  array([ 0.65489547, -2.03583205, -2.52033296, -2.06181641, -0.79856825,\n",
       "          4.0618999 ,  2.66388888]),\n",
       "  array([ 0.65726741, -2.03691541, -2.52401513, -2.06522928, -0.79981293,\n",
       "          4.05984693,  2.66416483]),\n",
       "  array([ 0.65963061, -2.03799542, -2.52768319, -2.06863078, -0.80104629,\n",
       "          4.05779668,  2.66443965]),\n",
       "  array([ 0.66198511, -2.03907209, -2.53133721, -2.07202097, -0.80226841,\n",
       "          4.05574914,  2.66471335]),\n",
       "  array([ 0.66433093, -2.04014542, -2.53497722, -2.0753999 , -0.80347935,\n",
       "          4.05370431,  2.66498593]),\n",
       "  array([ 0.66666813, -2.04121543, -2.53860331, -2.07876762, -0.80467922,\n",
       "          4.05166218,  2.66525739]),\n",
       "  array([ 0.66899673, -2.04228213, -2.54221551, -2.08212418, -0.80586807,\n",
       "          4.04962273,  2.66552775]),\n",
       "  array([ 0.67131678, -2.04334553, -2.54581389, -2.08546964, -0.80704599,\n",
       "          4.04758595,  2.66579699]),\n",
       "  array([ 0.67362831, -2.04440563, -2.54939851, -2.08880404, -0.80821307,\n",
       "          4.04555183,  2.66606514]),\n",
       "  array([ 0.67593135, -2.04546246, -2.55296941, -2.09212744, -0.80936936,\n",
       "          4.04352037,  2.66633219]),\n",
       "  array([ 0.67822595, -2.04651602, -2.55652667, -2.09543988, -0.81051496,\n",
       "          4.04149154,  2.66659815]),\n",
       "  array([ 0.68051213, -2.04756632, -2.56007033, -2.09874142, -0.81164994,\n",
       "          4.03946535,  2.66686302]),\n",
       "  array([ 0.68278994, -2.04861337, -2.56360046, -2.10203211, -0.81277438,\n",
       "          4.03744178,  2.66712681]),\n",
       "  array([ 0.68505941, -2.04965718, -2.5671171 , -2.105312  , -0.81388834,\n",
       "          4.03542081,  2.66738953]),\n",
       "  array([ 0.68732058, -2.05069776, -2.57062031, -2.10858112, -0.8149919 ,\n",
       "          4.03340245,  2.66765117]),\n",
       "  array([ 0.68957347, -2.05173512, -2.57411015, -2.11183955, -0.81608514,\n",
       "          4.03138668,  2.66791175]),\n",
       "  array([ 0.69181814, -2.05276928, -2.57758667, -2.11508731, -0.81716814,\n",
       "          4.02937349,  2.66817126]),\n",
       "  array([ 0.6940546 , -2.05380024, -2.58104993, -2.11832446, -0.81824095,\n",
       "          4.02736286,  2.66842971]),\n",
       "  array([ 0.6962829 , -2.05482801, -2.58449998, -2.12155106, -0.81930366,\n",
       "          4.0253548 ,  2.66868712]),\n",
       "  array([ 0.69850307, -2.0558526 , -2.58793687, -2.12476713, -0.82035634,\n",
       "          4.02334929,  2.66894347]),\n",
       "  array([ 0.70071515, -2.05687403, -2.59136067, -2.12797274, -0.82139905,\n",
       "          4.02134632,  2.66919878]),\n",
       "  array([ 0.70291917, -2.05789231, -2.59477142, -2.13116793, -0.82243188,\n",
       "          4.01934588,  2.66945305]),\n",
       "  array([ 0.70511516, -2.05890743, -2.59816917, -2.13435274, -0.82345488,\n",
       "          4.01734797,  2.66970628]),\n",
       "  array([ 0.70730316, -2.05991943, -2.60155399, -2.13752723, -0.82446813,\n",
       "          4.01535256,  2.66995849]),\n",
       "  array([ 0.70948321, -2.06092829, -2.60492592, -2.14069143, -0.8254717 ,\n",
       "          4.01335966,  2.67020966]),\n",
       "  array([ 0.71165533, -2.06193404, -2.60828502, -2.1438454 , -0.82646566,\n",
       "          4.01136925,  2.67045982])])"
      ]
     },
     "execution_count": 58,
     "metadata": {},
     "output_type": "execute_result"
    }
   ],
   "source": [
    "gradient_descent(y_train, x_train, w, 500, 1.9)"
   ]
  },
  {
   "cell_type": "code",
   "execution_count": 59,
   "metadata": {},
   "outputs": [
    {
     "name": "stdout",
     "output_type": "stream",
     "text": [
      "-25.54935547662346\n",
      "-13.859355322734316\n",
      "-7.551189948344418\n",
      "-4.984044521393974\n",
      "-3.8811204165886637\n",
      "-3.2561654133744073\n",
      "-2.8479329011473378\n",
      "-2.5626950186040687\n",
      "-2.3563816087321845\n",
      "-2.2039159407770725\n",
      "-2.0889455946514683\n",
      "-1.9999205813609127\n",
      "-1.928486821535468\n",
      "-1.8687149646681127\n",
      "-1.8165751356667488\n",
      "-1.7694704281148421\n",
      "-1.7258155960015233\n",
      "-1.6846900840436285\n",
      "-1.6455808742675364\n",
      "-1.6082088382920001\n",
      "-1.572420379021376\n",
      "-1.538124344308646\n",
      "-1.5052576621313543\n",
      "-1.4737679450963517\n",
      "-1.4436055071251483\n",
      "-1.4147202757771828\n",
      "-1.387061059841614\n",
      "-1.3605758231321217\n",
      "-1.3352122923713492\n",
      "-1.3109185919151156\n",
      "-1.287643784240082\n",
      "-1.2653382839432759\n",
      "-1.2439541513170365\n",
      "-1.223445285089486\n",
      "-1.2037675361658713\n",
      "-1.1848787619298415\n",
      "-1.1667388370509002\n",
      "-1.1493096331657897\n",
      "-1.1325549767526837\n",
      "-1.1164405920994103\n",
      "-1.1009340344238845\n",
      "-1.0860046168319553\n",
      "-1.0716233337883496\n",
      "-1.057762783039367\n",
      "-1.0443970873890702\n",
      "-1.0315018173393409\n",
      "-1.0190539153177405\n",
      "-1.0070316220063835\n",
      "-0.9954144051287864\n",
      "-0.9841828909348859\n",
      "-0.9733187985363794\n",
      "-0.9628048771776679\n",
      "-0.9526248464765237\n",
      "-0.9427633396293196\n",
      "-0.9332058495454811\n",
      "-0.9239386778526975\n",
      "-0.9149488866968645\n",
      "-0.9062242532476491\n",
      "-0.8977532268110155\n",
      "-0.8895248884434677\n",
      "-0.8815289129584862\n",
      "-0.8737555332133682\n",
      "-0.8661955065639148\n",
      "-0.8588400833749751\n",
      "-0.8516809774764272\n",
      "-0.8447103384565573\n",
      "-0.8379207256878355\n",
      "-0.8313050839835804\n",
      "-0.8248567207878833\n",
      "-0.8185692848052752\n",
      "-0.812436745980888\n",
      "-0.806453376746226\n",
      "-0.8006137344500466\n",
      "-0.7949126448981931\n",
      "-0.7893451869305146\n",
      "-0.7839066779671924\n",
      "-0.7785926604608397\n",
      "-0.7733988891946698\n",
      "-0.7683213193707666\n",
      "-0.7633560954360896\n",
      "-0.7584995405972552\n",
      "-0.7537481469783684\n",
      "-0.7490985663792494\n",
      "-0.7445476015942745\n",
      "-0.7400921982547777\n",
      "-0.7357294371604945\n",
      "-0.7314565270679303\n",
      "-0.727270797905756\n",
      "-0.7231696943894262\n",
      "-0.7191507700091575\n",
      "-0.7152116813672104\n",
      "-0.7113501828421077\n",
      "-0.707564121558985\n",
      "-0.7038514326467189\n",
      "-0.7002101347638331\n",
      "-0.6966383258764297\n",
      "-0.693134179272547\n",
      "-0.6896959397984314\n",
      "-0.6863219203031917\n",
      "-0.6830104982792351\n",
      "-0.6797601126867298\n",
      "-0.6765692609511345\n",
      "-0.6734364961235619\n",
      "-0.6703604241944208\n",
      "-0.6673397015514099\n",
      "-0.664373032573514\n",
      "-0.661459167353195\n",
      "-0.658596899539465\n",
      "-0.6557850642949942\n",
      "-0.6530225363608338\n",
      "-0.6503082282227346\n",
      "-0.6476410883734071\n",
      "-0.6450200996654221\n",
      "-0.6424442777497593\n",
      "-0.6399126695953187\n",
      "-0.6374243520849832\n",
      "-0.6349784306840786\n",
      "-0.6325740381773208\n",
      "-0.6302103334705642\n",
      "-0.6278865004538748\n",
      "-0.6256017469226511\n",
      "-0.6233553035536996\n",
      "-0.621146422933339\n",
      "-0.6189743786347806\n",
      "-0.6168384643421703\n",
      "-0.614737993018834\n",
      "-0.612672296117389\n",
      "-0.6106407228295233\n",
      "-0.6086426393733505\n",
      "-0.606677428316372\n",
      "-0.6047444879321714\n",
      "-0.6028432315890784\n",
      "-0.6009730871691187\n",
      "-0.5991334965156686\n",
      "-0.5973239149083084\n",
      "-0.5955438105634479\n",
      "-0.5937926641593765\n",
      "-0.5920699683844572\n",
      "-0.5903752275072528\n",
      "-0.588707956967433\n",
      "-0.5870676829863759\n",
      "-0.5854539421964283\n",
      "-0.5838662812878508\n",
      "-0.5823042566725133\n",
      "-0.580767434163469\n",
      "-0.579255388669568\n",
      "-0.5777677039043236\n",
      "-0.5763039721082818\n",
      "-0.5748637937841842\n",
      "-0.5734467774442535\n",
      "-0.5720525393689634\n",
      "-0.5706807033766879\n",
      "-0.5693309006036629\n",
      "-0.5680027692937131\n",
      "-0.5666959545972338\n",
      "-0.5654101083789417\n",
      "-0.5641448890339334\n",
      "-0.5628999613116168\n",
      "-0.5616749961471008\n",
      "-0.5604696704996561\n",
      "-0.5592836671978734\n",
      "-0.5581166747911712\n",
      "-0.5569683874073217\n",
      "-0.5558385046156802\n",
      "-0.5547267312958234\n",
      "-0.553632777511313\n",
      "-0.5525563583883224\n",
      "-0.5514971939988728\n",
      "-0.5504550092484426\n",
      "-0.5494295337677257\n",
      "-0.5484205018083249\n",
      "-0.5474276521421818\n",
      "-0.5464507279645513\n",
      "-0.5454894768003438\n",
      "-0.5445436504136625\n",
      "-0.5436130047203797\n",
      "-0.5426972997035953\n",
      "-0.5417962993318415\n",
      "-0.5409097714798909\n",
      "-0.5400374878520486\n",
      "-0.5391792239077984\n",
      "-0.5383347587896992\n",
      "-0.5375038752534163\n",
      "-0.5366863595997902\n",
      "-0.5358820016088461\n",
      "-0.5350905944756523\n",
      "-0.5343119347479444\n",
      "-0.5335458222654322\n",
      "-0.5327920601007163\n",
      "-0.5320504545017372\n",
      "-0.5313208148356956\n",
      "-0.5306029535343748\n",
      "-0.5298966860408062\n",
      "-0.5292018307572215\n",
      "-0.5285182089942374\n",
      "-0.5278456449212202\n",
      "-0.5271839655177853\n",
      "-0.5265330005263831\n",
      "-0.52589258240593\n",
      "-0.5252625462864445\n",
      "-0.5246427299246484\n",
      "-0.5240329736604984\n",
      "-0.523433120374613\n",
      "-0.5228430154465636\n",
      "-0.5222625067139983\n",
      "-0.5216914444325687\n",
      "-0.521129681236635\n",
      "-0.5205770721007212\n",
      "-0.5200334743016971\n",
      "-0.5194987473816634\n",
      "-0.5189727531115182\n",
      "-0.5184553554551856\n",
      "-0.5179464205344836\n",
      "-0.5174458165946144\n",
      "-0.5169534139702622\n",
      "-0.5164690850522752\n",
      "-0.5159927042549229\n",
      "-0.5155241479837082\n",
      "-0.5150632946037234\n",
      "-0.5146100244085341\n",
      "-0.5141642195895801\n",
      "-0.5137257642060787\n",
      "-0.5132945441554199\n",
      "-0.5128704471440428\n",
      "-0.5124533626587808\n",
      "-0.5120431819386664\n",
      "-0.5116397979471853\n",
      "-0.5112431053449716\n",
      "-0.5108530004629329\n",
      "-0.5104693812757983\n",
      "-0.5100921473760818\n",
      "-0.50972119994845\n",
      "-0.50935644174449\n",
      "-0.5089977770578682\n",
      "-0.5086451116998726\n",
      "-0.5082983529753341\n",
      "-0.5079574096589164\n",
      "-0.5076221919717735\n",
      "-0.5072926115585614\n",
      "-0.506968581464806\n",
      "-0.5066500161146152\n",
      "-0.5063368312887334\n",
      "-0.5060289441029303\n",
      "-0.5057262729867209\n",
      "-0.5054287376624104\n",
      "-0.5051362591244597\n",
      "-0.5048487596191652\n",
      "-0.50456616262465\n",
      "-0.5042883928311612\n",
      "-0.5040153761216675\n",
      "-0.5037470395527548\n",
      "-0.503483311335815\n",
      "-0.503224120818521\n",
      "-0.5029693984665886\n",
      "-0.5027190758458169\n",
      "-0.5024730856044053\n",
      "-0.5022313614555437\n",
      "-0.5019938381602698\n",
      "-0.5017604515105915\n",
      "-0.5015311383128717\n",
      "-0.5013058363714672\n",
      "-0.5010844844726255\n",
      "-0.500867022368628\n",
      "-0.5006533907621815\n",
      "-0.5004435312910533\n",
      "-0.5002373865129454\n",
      "-0.5000348998906055\n",
      "-0.49983601577717024\n",
      "-0.49964067940174084\n",
      "-0.4994488368551817\n",
      "-0.49926043507614587\n",
      "-0.4990754218373193\n",
      "-0.49889374573188233\n",
      "-0.498715356160186\n",
      "-0.4985402033166389\n",
      "-0.4983682381768032\n",
      "-0.4981994124846945\n",
      "-0.4980336787402853\n",
      "-0.49787099018720754\n",
      "-0.49771130080065124\n",
      "-0.49755456527545766\n",
      "-0.49740073901440285\n",
      "-0.4972497781166697\n",
      "-0.4971016393665059\n",
      "-0.49695628022206384\n",
      "-0.4968136588044216\n",
      "-0.49667373388678\n",
      "-0.49653646488383757\n",
      "-0.49640181184133364\n",
      "-0.49626973542576513\n",
      "-0.49614019691426825\n",
      "-0.4960131581846658\n",
      "-0.4958885817056771\n",
      "-0.4957664305272874\n",
      "-0.49564666827127474\n",
      "-0.4955292591218924\n",
      "-0.49541416781670383\n",
      "-0.49530135963756794\n",
      "-0.49519080040177327\n",
      "-0.4950824564533174\n",
      "-0.49497629465433024\n",
      "-0.49487228237663855\n",
      "-0.49477038749347063\n",
      "-0.4946705783712978\n",
      "-0.4945728238618097\n",
      "-0.49447709329402467\n",
      "-0.49438335646652926\n",
      "-0.49429158363984715\n",
      "-0.49420174552893503\n",
      "-0.49411381329580323\n",
      "-0.49402775854225894\n",
      "-0.49394355330276973\n",
      "-0.4938611700374478\n",
      "-0.493780581625149\n",
      "-0.4937017613566892\n",
      "-0.4936246829281722\n",
      "-0.49354932043443034\n",
      "-0.4934756483625743\n",
      "-0.4934036415856509\n",
      "-0.49333327535640736\n",
      "-0.49326452530115933\n",
      "-0.49319736741376297\n",
      "-0.4931317780496871\n",
      "-0.49306773392018444\n",
      "-0.4930052120865622\n",
      "-0.49294418995454753\n",
      "-0.4928846452687482\n",
      "-0.4928265561072061\n",
      "-0.4927699008760424\n",
      "-0.4927146583041928\n",
      "-0.4926608074382314\n",
      "-0.49260832763728096\n",
      "-0.49255719856800945\n",
      "-0.49250740019971134\n",
      "-0.4924589127994696\n",
      "-0.4924117169274012\n",
      "-0.4923657934319821\n",
      "-0.49232112344544976\n",
      "-0.49227768837928465\n",
      "-0.4922354699197668\n",
      "-0.4921944500236071\n",
      "-0.4921546109136533\n",
      "-0.4921159350746657\n",
      "-0.49207840524916785\n",
      "-0.4920420044333624\n",
      "-0.4920067158731194\n",
      "-0.49197252306003064\n",
      "-0.4919394097275296\n",
      "-0.4919073598470777\n",
      "-0.4918763576244146\n",
      "-0.4918463874958703\n",
      "-0.4918174341247412\n",
      "-0.4917894823977248\n",
      "-0.4917625174214154\n",
      "-0.4917365245188589\n",
      "-0.49171148922616476\n",
      "-0.49168739728917443\n",
      "-0.49166423466018644\n",
      "-0.49164198749473587\n",
      "-0.4916206421484278\n",
      "-0.4916001851738238\n",
      "-0.49158060331738007\n",
      "-0.49156188351643737\n",
      "-0.49154401289626093\n",
      "-0.4915269787671294\n",
      "-0.49151076862147347\n",
      "-0.49149537013106076\n",
      "-0.49148077114422856\n",
      "-0.49146695968316223\n",
      "-0.4914539239412196\n",
      "-0.4914416522802985\n",
      "-0.4914301332282495\n",
      "-0.4914193554763304\n",
      "-0.4914093078767039\n",
      "-0.4913999794399762\n",
      "-0.4913913593327763\n",
      "-0.4913834368753759\n",
      "-0.49137620153934825\n",
      "-0.49136964294526553\n",
      "-0.491363750860435\n",
      "-0.49135851519667145\n",
      "-0.491353926008107\n",
      "-0.4913499734890373\n",
      "-0.4913466479718022\n",
      "-0.49134393992470216\n",
      "-0.491341839949948\n",
      "-0.4913403387816456\n",
      "-0.4913394272838123\n",
      "-0.4913390964484259\n",
      "-0.4913393373935067\n",
      "-0.49134014136123016\n",
      "-0.4913414997160696\n",
      "-0.49134340394297066\n",
      "-0.49134584564555445\n",
      "-0.4913488165443506\n",
      "-0.4913523084750585\n",
      "-0.49135631338683683\n",
      "-0.49136082334062114\n",
      "-0.4913658305074689\n",
      "-0.4913713271669306\n",
      "-0.49137730570544735\n",
      "-0.49138375861477507\n",
      "-0.4913906784904336\n",
      "-0.4913980580301805\n",
      "-0.49140589003250956\n",
      "-0.4914141673951742\n",
      "-0.4914228831137335\n",
      "-0.49143203028012217\n",
      "-0.4914416020812431\n",
      "-0.49145159179758313\n",
      "-0.49146199280184955\n",
      "-0.49147279855763\n",
      "-0.49148400261807235\n",
      "-0.49149559862458686\n",
      "-0.4915075803055674\n",
      "-0.4915199414751344\n",
      "-0.49153267603189726\n",
      "-0.4915457779577361\n",
      "-0.4915592413166029\n",
      "-0.49157306025334174\n",
      "-0.49158722899252766\n",
      "-0.4916017418373237\n",
      "-0.49161659316835543\n",
      "-0.49163177744260445\n",
      "-0.4916472891923177\n",
      "-0.4916631230239355\n",
      "-0.4916792736170344\n",
      "-0.4916957357232883\n",
      "-0.4917125041654453\n",
      "-0.49172957383631966\n",
      "-0.4917469396978004\n",
      "-0.4917645967798755\n",
      "-0.4917825401796697\n",
      "-0.4918007650604992\n",
      "-0.4918192666509394\n",
      "-0.4918380402439082\n",
      "-0.4918570811957625\n",
      "-0.49187638492540925\n",
      "-0.4918959469134303\n",
      "-0.4919157627012195\n",
      "-0.49193582789013485\n",
      "-0.4919561381406623\n",
      "-0.4919766891715929\n",
      "-0.4919974767592119\n",
      "-0.49201849673650144\n",
      "-0.492039744992354\n",
      "-0.49206121747079884\n",
      "-0.4920829101702399\n",
      "-0.4921048191427047\n",
      "-0.49212694049310524\n",
      "-0.4921492703785101\n",
      "-0.4921718050074273\n",
      "-0.49219454063909795\n",
      "-0.49221747358280055\n",
      "-0.49224060019716576\n",
      "-0.49226391688950155\n",
      "-0.4922874201151285\n",
      "-0.49231110637672487\n",
      "-0.4923349722236816\n",
      "-0.4923590142514665\n",
      "-0.4923832291009988\n",
      "-0.49240761345803225\n",
      "-0.4924321640525475\n",
      "-0.4924568776581538\n",
      "-0.49248175109149916\n",
      "-0.49250678121168967\n",
      "-0.49253196491971685\n",
      "-0.49255729915789437\n",
      "-0.4925827809093014\n",
      "-0.4926084071972362\n",
      "-0.492634175084676\n",
      "-0.49266008167374586\n",
      "-0.49268612410519486\n",
      "-0.49271229955788\n",
      "-0.4927386052482578\n",
      "-0.49276503842988245\n",
      "-0.4927915963929129\n",
      "-0.49281827646362564\n",
      "-0.49284507600393523\n",
      "-0.4928719924109213\n",
      "-0.4928990231163632\n",
      "-0.49292616558628016\n",
      "-0.4929534173204793\n",
      "-0.49298077585210953\n",
      "-0.49300823874722177\n",
      "-0.4930358036043356\n",
      "-0.4930634680540125\n",
      "-0.4930912297584343\n",
      "-0.4931190864109886\n",
      "-0.4931470357358595\n",
      "-0.4931750754876246\n",
      "-0.49320320345085694\n",
      "-0.49323141743973353\n",
      "-0.49325971529764917\n",
      "-0.493288094896835\n",
      "-0.4933165541379834\n",
      "-0.4933450909498778\n",
      "-0.4933737032890275\n",
      "-0.493402389139308\n",
      "-0.493431146511606\n"
     ]
    }
   ],
   "source": [
    "losses(y_train, x_train, w, 500, 1.9) "
   ]
  },
  {
   "cell_type": "code",
   "execution_count": 60,
   "metadata": {},
   "outputs": [
    {
     "data": {
      "image/png": "[encoded data removed]",
      "text/plain": [
       "<matplotlib.figure.Figure at 0x1a2040f710>"
      ]
     },
     "metadata": {},
     "output_type": "display_data"
    }
   ],
   "source": [
    "lossesplot(y_train, x_train, w, 500, 1.9)"
   ]
  },
  {
   "cell_type": "code",
   "execution_count": 61,
   "metadata": {},
   "outputs": [
    {
     "data": {
      "text/plain": [
       "array([ 0.71165533, -2.06193404, -2.60828502, -2.1438454 , -0.82646566,\n",
       "        4.01136925,  2.67045982])"
      ]
     },
     "execution_count": 61,
     "metadata": {},
     "output_type": "execute_result"
    }
   ],
   "source": [
    "parameters_train=np.array(last_iter_parameters(y_train,x_train,w,500,1.9))\n",
    "parameters_train"
   ]
  },
  {
   "cell_type": "markdown",
   "metadata": {},
   "source": [
    "# Model testing"
   ]
  },
  {
   "cell_type": "code",
   "execution_count": 62,
   "metadata": {},
   "outputs": [
    {
     "name": "stdout",
     "output_type": "stream",
     "text": [
      "training set accuracy with 500 iterations and step size 1.9: 0.7971830985915493\n",
      "test set accuracy with 500 iterations and step size 1.9: 0.8192090395480226\n"
     ]
    }
   ],
   "source": [
    "print(\"training set accuracy with 500 iterations and step size 1.9:\", accuracy(x_train,parameters_train,y_train))\n",
    "print(\"test set accuracy with 500 iterations and step size 1.9:\", accuracy(x_test,parameters_train,y_test))"
   ]
  },
  {
   "cell_type": "markdown",
   "metadata": {},
   "source": [
    "Got similar accuracies for both test and train set, which means that the model has low variance and good generalisation ability (not over fit), and high accuracy scores shows that the model has low bias and good prediction quality (not under fit)."
   ]
  },
  {
   "cell_type": "code",
   "execution_count": 63,
   "metadata": {},
   "outputs": [
    {
     "data": {
      "text/plain": [
       "array([[98, 14],\n",
       "       [18, 47]])"
      ]
     },
     "execution_count": 63,
     "metadata": {},
     "output_type": "execute_result"
    }
   ],
   "source": [
    "#Confusion matrix of test set\n",
    "from sklearn.metrics import confusion_matrix \n",
    "C = confusion_matrix(y_test, predictions(x_test,parameters_train))\n",
    "C"
   ]
  },
  {
   "cell_type": "code",
   "execution_count": 64,
   "metadata": {},
   "outputs": [
    {
     "data": {
      "text/plain": [
       "0.8192090395480226"
      ]
     },
     "execution_count": 64,
     "metadata": {},
     "output_type": "execute_result"
    }
   ],
   "source": [
    "accuracy_test = (C[0,0]+C[1,1])/y_test.shape\n",
    "accuracy_test[0]"
   ]
  },
  {
   "cell_type": "code",
   "execution_count": 65,
   "metadata": {},
   "outputs": [
    {
     "name": "stdout",
     "output_type": "stream",
     "text": [
      "             precision    recall  f1-score   support\n",
      "\n",
      "        0.0       0.84      0.88      0.86       112\n",
      "        1.0       0.77      0.72      0.75        65\n",
      "\n",
      "avg / total       0.82      0.82      0.82       177\n",
      "\n",
      "Accuracy: 0.819209039548\n"
     ]
    }
   ],
   "source": [
    "#Classification report of test set\n",
    "from sklearn import metrics\n",
    "from sklearn.metrics import classification_report\n",
    "print(classification_report(y_test,predictions(x_test,parameters_train)))\n",
    "print(\"Accuracy:\", metrics.accuracy_score(y_test, predictions(x_test,parameters_train)))"
   ]
  },
  {
   "cell_type": "markdown",
   "metadata": {},
   "source": [
    "# More tests to verify the model"
   ]
  },
  {
   "cell_type": "markdown",
   "metadata": {},
   "source": [
    "Take stepsize=1.5"
   ]
  },
  {
   "cell_type": "code",
   "execution_count": 66,
   "metadata": {
    "collapsed": true
   },
   "outputs": [],
   "source": [
    "np.random.seed(100)\n",
    "perm=np.random.permutation(887)\n",
    "x_train2,x_test2= Matrix_Combine[perm][177:][:,0:7],Matrix_Combine[perm][:177][:,0:7]\n",
    "y_train2,y_test2=Matrix_Combine[perm][177:][:,-1],Matrix_Combine[perm][:177][:,-1]"
   ]
  },
  {
   "cell_type": "code",
   "execution_count": 67,
   "metadata": {},
   "outputs": [
    {
     "name": "stdout",
     "output_type": "stream",
     "text": [
      "with 500 iterations and stepsize= 1.5 we get the following test accuracy: 0.7966101694915254\n",
      "with 1000 iterations and stepsize= 1.5 we get the following test accuracy: 0.7966101694915254\n",
      "with 1500 iterations and stepsize= 1.5 we get the following test accuracy: 0.7853107344632768\n",
      "with 2000 iterations and stepsize= 1.5 we get the following test accuracy: 0.7853107344632768\n",
      "with 2500 iterations and stepsize= 1.5 we get the following test accuracy: 0.7853107344632768\n",
      "with 3000 iterations and stepsize= 1.5 we get the following test accuracy: 0.7853107344632768\n",
      "with 3500 iterations and stepsize= 1.5 we get the following test accuracy: 0.7853107344632768\n",
      "with 4000 iterations and stepsize= 1.5 we get the following test accuracy: 0.7853107344632768\n",
      "with 4500 iterations and stepsize= 1.5 we get the following test accuracy: 0.7853107344632768\n"
     ]
    }
   ],
   "source": [
    "parameters_accuracies(y_train2,x_train2,1.5,x_test2,y_test2) #choose 1500 iterations"
   ]
  },
  {
   "cell_type": "code",
   "execution_count": 68,
   "metadata": {},
   "outputs": [
    {
     "data": {
      "text/plain": [
       "array([ 1.42063955, -2.41154329, -3.43315967, -2.83822331, -0.51895413,\n",
       "        1.5022834 ,  2.70669329])"
      ]
     },
     "execution_count": 68,
     "metadata": {},
     "output_type": "execute_result"
    }
   ],
   "source": [
    "parameters_train2=np.array(last_iter_parameters(y_train2,x_train2,w,1500,1.5))\n",
    "parameters_train2"
   ]
  },
  {
   "cell_type": "code",
   "execution_count": 69,
   "metadata": {},
   "outputs": [
    {
     "name": "stdout",
     "output_type": "stream",
     "text": [
      "training set accuracy: 0.8070422535211268 and test set accuracy: 0.7853107344632768\n"
     ]
    }
   ],
   "source": [
    "print(\"training set accuracy:\", accuracy(x_train2,parameters_train2,y_train2), \"and\",\n",
    "      \"test set accuracy:\", accuracy(x_test2,parameters_train2,y_test2))"
   ]
  },
  {
   "cell_type": "code",
   "execution_count": 70,
   "metadata": {
    "collapsed": true
   },
   "outputs": [],
   "source": [
    "np.random.seed(400)\n",
    "perm=np.random.permutation(887)\n",
    "x_train3,x_test3= Matrix_Combine[perm][177:][:,0:7],Matrix_Combine[perm][:177][:,0:7]\n",
    "y_train3,y_test3=Matrix_Combine[perm][177:][:,-1],Matrix_Combine[perm][:177][:,-1]"
   ]
  },
  {
   "cell_type": "code",
   "execution_count": 71,
   "metadata": {},
   "outputs": [
    {
     "name": "stdout",
     "output_type": "stream",
     "text": [
      "with 500 iterations and stepsize= 1.5 we get the following test accuracy: 0.7401129943502824\n",
      "with 1000 iterations and stepsize= 1.5 we get the following test accuracy: 0.7570621468926554\n",
      "with 1500 iterations and stepsize= 1.5 we get the following test accuracy: 0.7627118644067796\n",
      "with 2000 iterations and stepsize= 1.5 we get the following test accuracy: 0.7627118644067796\n",
      "with 2500 iterations and stepsize= 1.5 we get the following test accuracy: 0.7627118644067796\n",
      "with 3000 iterations and stepsize= 1.5 we get the following test accuracy: 0.7627118644067796\n",
      "with 3500 iterations and stepsize= 1.5 we get the following test accuracy: 0.7627118644067796\n",
      "with 4000 iterations and stepsize= 1.5 we get the following test accuracy: 0.7627118644067796\n",
      "with 4500 iterations and stepsize= 1.5 we get the following test accuracy: 0.7627118644067796\n"
     ]
    }
   ],
   "source": [
    "parameters_accuracies(y_train3,x_train3,1.5,x_test3,y_test3) #choose 1000 iterations"
   ]
  },
  {
   "cell_type": "code",
   "execution_count": 72,
   "metadata": {},
   "outputs": [
    {
     "data": {
      "text/plain": [
       "array([ 0.96738975, -2.15697429, -3.25371905, -3.03421842, -0.15046341,\n",
       "        3.63793018,  2.7935972 ])"
      ]
     },
     "execution_count": 72,
     "metadata": {},
     "output_type": "execute_result"
    }
   ],
   "source": [
    "parameters_train3=np.array(last_iter_parameters(y_train3,x_train3,w,1000,1.5))\n",
    "parameters_train3"
   ]
  },
  {
   "cell_type": "code",
   "execution_count": 73,
   "metadata": {},
   "outputs": [
    {
     "name": "stdout",
     "output_type": "stream",
     "text": [
      "training set accuracy: 0.8042253521126761 and test set accuracy: 0.7570621468926554\n"
     ]
    }
   ],
   "source": [
    "print(\"training set accuracy:\", accuracy(x_train3,parameters_train3,y_train3), \"and\",\n",
    "      \"test set accuracy:\", accuracy(x_test3,parameters_train3,y_test3))"
   ]
  },
  {
   "cell_type": "code",
   "execution_count": 74,
   "metadata": {
    "collapsed": true
   },
   "outputs": [],
   "source": [
    "np.random.seed(800)\n",
    "perm=np.random.permutation(887)\n",
    "x_train4,x_test4= Matrix_Combine[perm][177:][:,0:7],Matrix_Combine[perm][:177][:,0:7]\n",
    "y_train4,y_test4=Matrix_Combine[perm][177:][:,-1],Matrix_Combine[perm][:177][:,-1]"
   ]
  },
  {
   "cell_type": "code",
   "execution_count": 75,
   "metadata": {},
   "outputs": [
    {
     "data": {
      "text/plain": [
       "array([ 1.18714666, -2.17026338, -3.34357363, -3.62066547, -0.75258098,\n",
       "        2.33238094,  2.67417318])"
      ]
     },
     "execution_count": 75,
     "metadata": {},
     "output_type": "execute_result"
    }
   ],
   "source": [
    "parameters_train4=np.array(last_iter_parameters(y_train4,x_train4,w,1500,1.5))\n",
    "parameters_train4"
   ]
  },
  {
   "cell_type": "code",
   "execution_count": 76,
   "metadata": {},
   "outputs": [
    {
     "name": "stdout",
     "output_type": "stream",
     "text": [
      "training set accuracy: 0.7985915492957747 and test set accuracy: 0.8192090395480226\n"
     ]
    }
   ],
   "source": [
    "print(\"training set accuracy:\", accuracy(x_train4,parameters_train4,y_train4), \"and\",\n",
    "      \"test set accuracy:\", accuracy(x_test4,parameters_train4,y_test4))"
   ]
  },
  {
   "cell_type": "markdown",
   "metadata": {},
   "source": [
    "Comparing 90-10 split and 80-20 split"
   ]
  },
  {
   "cell_type": "code",
   "execution_count": 77,
   "metadata": {
    "collapsed": true
   },
   "outputs": [],
   "source": [
    "np.random.seed(800) #90-10 split\n",
    "perm=np.random.permutation(887)\n",
    "x_train5,x_test5= Matrix_Combine[perm][89:][:,0:7],Matrix_Combine[perm][:89][:,0:7]\n",
    "y_train5,y_test5=Matrix_Combine[perm][89:][:,-1],Matrix_Combine[perm][:89][:,-1]"
   ]
  },
  {
   "cell_type": "code",
   "execution_count": 78,
   "metadata": {},
   "outputs": [
    {
     "data": {
      "text/plain": [
       "array([ 1.2342154 , -2.23080976, -3.39074695, -3.03853795, -0.77948802,\n",
       "        2.30558597,  2.6609661 ])"
      ]
     },
     "execution_count": 78,
     "metadata": {},
     "output_type": "execute_result"
    }
   ],
   "source": [
    "parameters_train5=np.array(last_iter_parameters(y_train5,x_train5,w,1500,1.5))\n",
    "parameters_train5"
   ]
  },
  {
   "cell_type": "code",
   "execution_count": 79,
   "metadata": {},
   "outputs": [
    {
     "name": "stdout",
     "output_type": "stream",
     "text": [
      "training set accuracy: 0.7944862155388471 and test set accuracy: 0.8426966292134831\n"
     ]
    }
   ],
   "source": [
    "print(\"training set accuracy:\", accuracy(x_train5,parameters_train5,y_train5), \"and\",\n",
    "      \"test set accuracy:\", accuracy(x_test5,parameters_train5,y_test5))"
   ]
  },
  {
   "cell_type": "code",
   "execution_count": 80,
   "metadata": {
    "collapsed": true
   },
   "outputs": [],
   "source": [
    "np.random.seed(800) #80-20 split\n",
    "perm=np.random.permutation(887)\n",
    "x_train6,x_test6= Matrix_Combine[perm][177:][:,0:7],Matrix_Combine[perm][:177][:,0:7]\n",
    "y_train6,y_test6=Matrix_Combine[perm][177:][:,-1],Matrix_Combine[perm][:177][:,-1]"
   ]
  },
  {
   "cell_type": "code",
   "execution_count": 81,
   "metadata": {},
   "outputs": [
    {
     "data": {
      "text/plain": [
       "array([ 1.18714666, -2.17026338, -3.34357363, -3.62066547, -0.75258098,\n",
       "        2.33238094,  2.67417318])"
      ]
     },
     "execution_count": 81,
     "metadata": {},
     "output_type": "execute_result"
    }
   ],
   "source": [
    "parameters_train6=np.array(last_iter_parameters(y_train6,x_train6,w,1500,1.5))\n",
    "parameters_train6"
   ]
  },
  {
   "cell_type": "code",
   "execution_count": 82,
   "metadata": {},
   "outputs": [
    {
     "name": "stdout",
     "output_type": "stream",
     "text": [
      "training set accuracy: 0.7985915492957747 and test set accuracy: 0.8192090395480226\n"
     ]
    }
   ],
   "source": [
    "print(\"training set accuracy:\", accuracy(x_train6,parameters_train6,y_train6), \"and\",\n",
    "      \"test set accuracy:\", accuracy(x_test6,parameters_train6,y_test6))"
   ]
  },
  {
   "cell_type": "markdown",
   "metadata": {},
   "source": [
    "Got higher test accuracy for 90-10 split than for 80-20 split, using the same data"
   ]
  },
  {
   "cell_type": "markdown",
   "metadata": {},
   "source": [
    "# Cross Validation"
   ]
  },
  {
   "cell_type": "markdown",
   "metadata": {},
   "source": [
    "5 fold cross-validation: Use four folds of size 177 and one fold of size 179"
   ]
  },
  {
   "cell_type": "code",
   "execution_count": 83,
   "metadata": {
    "collapsed": true
   },
   "outputs": [],
   "source": [
    "#5 fold cross-validation\n",
    "\n",
    "x_fold1= Matrix_Combine[:177][:,0:7]\n",
    "y_fold1= Matrix_Combine[:177][:,-1]\n",
    "\n",
    "x_fold2= Matrix_Combine[177:354][:,0:7]\n",
    "y_fold2= Matrix_Combine[177:354][:,-1]\n",
    "\n",
    "x_fold3= Matrix_Combine[354:531][:,0:7]\n",
    "y_fold3= Matrix_Combine[354:531][:,-1]\n",
    "\n",
    "x_fold4= Matrix_Combine[531:708][:,0:7]\n",
    "y_fold4= Matrix_Combine[531:708][:,-1]\n",
    "\n",
    "x_fold5= Matrix_Combine[708:887][:,0:7]\n",
    "y_fold5= Matrix_Combine[708:887][:,-1]\n",
    "\n",
    "#test on fold 1\n",
    "x_train_1, x_test_1= np.concatenate((x_fold2,x_fold3,x_fold4,x_fold5),axis=0), x_fold1\n",
    "y_train_1, y_test_1= np.concatenate((y_fold2,y_fold3,y_fold4,y_fold5),axis=0), y_fold1\n",
    "#test on fold 2\n",
    "x_train_2, x_test_2= np.concatenate((x_fold1,x_fold3,x_fold4,x_fold5),axis=0), x_fold2\n",
    "y_train_2, y_test_2= np.concatenate((y_fold1,y_fold3,y_fold4,y_fold5),axis=0), y_fold2\n",
    "#test on fold 3\n",
    "x_train_3, x_test_3= np.concatenate((x_fold1,x_fold2,x_fold4,x_fold5),axis=0), x_fold3\n",
    "y_train_3, y_test_3= np.concatenate((y_fold1,y_fold2,y_fold4,y_fold5),axis=0), y_fold3\n",
    "#test on fold 4\n",
    "x_train_4, x_test_4= np.concatenate((x_fold1,x_fold2,x_fold3,x_fold5),axis=0), x_fold4\n",
    "y_train_4, y_test_4= np.concatenate((y_fold1,y_fold2,y_fold3,y_fold5),axis=0), y_fold4\n",
    "#test on fold 5\n",
    "x_train_5, x_test_5= np.concatenate((x_fold1,x_fold2,x_fold3,x_fold4),axis=0), x_fold5\n",
    "y_train_5, y_test_5= np.concatenate((y_fold1,y_fold2,y_fold3,y_fold4),axis=0), y_fold5"
   ]
  },
  {
   "cell_type": "markdown",
   "metadata": {},
   "source": [
    "Take stepsize, tau=1.9, max_iters=500 "
   ]
  },
  {
   "cell_type": "code",
   "execution_count": 84,
   "metadata": {},
   "outputs": [
    {
     "data": {
      "text/plain": [
       "array([ 0.68249687, -2.07204552, -2.4028372 , -1.74407173, -0.99131621,\n",
       "        3.95456535,  2.59695742])"
      ]
     },
     "execution_count": 84,
     "metadata": {},
     "output_type": "execute_result"
    }
   ],
   "source": [
    "parameters_train_1=np.array(last_iter_parameters(y_train_1,x_train_1,w,500,1.9))\n",
    "parameters_train_1"
   ]
  },
  {
   "cell_type": "code",
   "execution_count": 85,
   "metadata": {},
   "outputs": [
    {
     "data": {
      "text/plain": [
       "array([ 0.72151618, -2.11547432, -2.59947384, -2.69003883, -0.92275925,\n",
       "        3.28856083,  2.74981976])"
      ]
     },
     "execution_count": 85,
     "metadata": {},
     "output_type": "execute_result"
    }
   ],
   "source": [
    "parameters_train_2=np.array(last_iter_parameters(y_train_2,x_train_2,w,500,1.9))\n",
    "parameters_train_2"
   ]
  },
  {
   "cell_type": "code",
   "execution_count": 86,
   "metadata": {},
   "outputs": [
    {
     "data": {
      "text/plain": [
       "array([ 0.61905725, -1.82014976, -2.81299093, -2.49559891, -0.85949393,\n",
       "        4.28101527,  2.67915876])"
      ]
     },
     "execution_count": 86,
     "metadata": {},
     "output_type": "execute_result"
    }
   ],
   "source": [
    "parameters_train_3=np.array(last_iter_parameters(y_train_3,x_train_3,w,500,1.9))\n",
    "parameters_train_3"
   ]
  },
  {
   "cell_type": "code",
   "execution_count": 87,
   "metadata": {},
   "outputs": [
    {
     "data": {
      "text/plain": [
       "array([ 0.26024818, -1.595985  , -2.46021285, -2.79848064,  0.21709507,\n",
       "        3.37585938,  2.7464353 ])"
      ]
     },
     "execution_count": 87,
     "metadata": {},
     "output_type": "execute_result"
    }
   ],
   "source": [
    "parameters_train_4=np.array(last_iter_parameters(y_train_4,x_train_4,w,500,1.9))\n",
    "parameters_train_4"
   ]
  },
  {
   "cell_type": "code",
   "execution_count": 88,
   "metadata": {},
   "outputs": [
    {
     "data": {
      "text/plain": [
       "array([ 0.3947827 , -1.79334178, -2.06155767, -1.87525686, -1.23206349,\n",
       "        3.13395301,  2.67255468])"
      ]
     },
     "execution_count": 88,
     "metadata": {},
     "output_type": "execute_result"
    }
   ],
   "source": [
    "parameters_train_5=np.array(last_iter_parameters(y_train_5,x_train_5,w,500,1.9))\n",
    "parameters_train_5"
   ]
  },
  {
   "cell_type": "code",
   "execution_count": 89,
   "metadata": {},
   "outputs": [
    {
     "name": "stdout",
     "output_type": "stream",
     "text": [
      "test accuracy of fold 1: 0.8022598870056498\n",
      "test accuracy of fold 2: 0.7966101694915254\n",
      "test accuracy of fold 3: 0.7740112994350282\n",
      "test accuracy of fold 4: 0.751412429378531\n",
      "test accuracy of fold 5: 0.8324022346368715\n"
     ]
    }
   ],
   "source": [
    "print(\"test accuracy of fold 1:\", accuracy(x_test_1,parameters_train_1,y_test_1))\n",
    "print(\"test accuracy of fold 2:\", accuracy(x_test_2,parameters_train_2,y_test_2))\n",
    "print(\"test accuracy of fold 3:\", accuracy(x_test_3,parameters_train_3,y_test_3))\n",
    "print(\"test accuracy of fold 4:\", accuracy(x_test_4,parameters_train_4,y_test_4))\n",
    "print(\"test accuracy of fold 5:\", accuracy(x_test_5,parameters_train_5,y_test_5))"
   ]
  },
  {
   "cell_type": "markdown",
   "metadata": {},
   "source": [
    "Choosing the final parameters from cross validation, as the average of all the parameters."
   ]
  },
  {
   "cell_type": "code",
   "execution_count": 90,
   "metadata": {},
   "outputs": [
    {
     "data": {
      "text/plain": [
       "array([ 0.53562024, -1.87939928, -2.4674145 , -2.32068939, -0.75770756,\n",
       "        3.60679077,  2.68898518])"
      ]
     },
     "execution_count": 90,
     "metadata": {},
     "output_type": "execute_result"
    }
   ],
   "source": [
    "Final_parameters=(parameters_train_1+ parameters_train_2+ parameters_train_3+ parameters_train_4+ parameters_train_5)/5\n",
    "Final_parameters"
   ]
  },
  {
   "cell_type": "code",
   "execution_count": 91,
   "metadata": {},
   "outputs": [
    {
     "name": "stdout",
     "output_type": "stream",
     "text": [
      "test accuracy of final parameters on fold 1: 0.8022598870056498\n",
      "test accuracy of final parameters on fold 2: 0.8022598870056498\n",
      "test accuracy of final parameters on fold 3: 0.7740112994350282\n",
      "test accuracy of final parameters on fold 4: 0.7853107344632768\n",
      "test accuracy of final parameters on fold 5: 0.8324022346368715\n"
     ]
    }
   ],
   "source": [
    "print(\"test accuracy of final parameters on fold 1:\", accuracy(x_test_1,Final_parameters,y_test_1))\n",
    "print(\"test accuracy of final parameters on fold 2:\", accuracy(x_test_2,Final_parameters,y_test_2))\n",
    "print(\"test accuracy of final parameters on fold 3:\", accuracy(x_test_3,Final_parameters,y_test_3))\n",
    "print(\"test accuracy of final parameters on fold 4:\", accuracy(x_test_4,Final_parameters,y_test_4))\n",
    "print(\"test accuracy of final parameters on fold 5:\", accuracy(x_test_5,Final_parameters,y_test_5))"
   ]
  },
  {
   "cell_type": "code",
   "execution_count": 92,
   "metadata": {},
   "outputs": [
    {
     "name": "stdout",
     "output_type": "stream",
     "text": [
      "training accuracy of final parameters on fold 1: 0.7985915492957747\n",
      "training accuracy of final parameters on fold 2: 0.7985915492957747\n",
      "training accuracy of final parameters on fold 3: 0.8056338028169014\n",
      "training accuracy of final parameters on fold 4: 0.8028169014084507\n",
      "training accuracy of final parameters on fold 5: 0.7909604519774012\n"
     ]
    }
   ],
   "source": [
    "print(\"training accuracy of final parameters on fold 1:\", accuracy(x_train_1,Final_parameters,y_train_1))\n",
    "print(\"training accuracy of final parameters on fold 2:\", accuracy(x_train_2,Final_parameters,y_train_2))\n",
    "print(\"training accuracy of final parameters on fold 3:\", accuracy(x_train_3,Final_parameters,y_train_3))\n",
    "print(\"training accuracy of final parameters on fold 4:\", accuracy(x_train_4,Final_parameters,y_train_4))\n",
    "print(\"training accuracy of final parameters on fold 5:\", accuracy(x_train_5,Final_parameters,y_train_5))"
   ]
  },
  {
   "cell_type": "code",
   "execution_count": 93,
   "metadata": {},
   "outputs": [
    {
     "data": {
      "text/plain": [
       "0.7992614335763658"
      ]
     },
     "execution_count": 93,
     "metadata": {},
     "output_type": "execute_result"
    }
   ],
   "source": [
    "Final_parameters_averageaccuracy= (0.807909604519774+0.8022598870056498+0.7740112994350282+0.7853107344632768+0.8268156424581006)/5\n",
    "Final_parameters_averageaccuracy"
   ]
  },
  {
   "cell_type": "markdown",
   "metadata": {},
   "source": [
    "Test on x_test and y_test, randomly permuted 20% of the data"
   ]
  },
  {
   "cell_type": "code",
   "execution_count": 94,
   "metadata": {},
   "outputs": [
    {
     "name": "stdout",
     "output_type": "stream",
     "text": [
      "test accuracy of final parameters: 0.8135593220338984\n",
      "training accuracy of final parameters: 0.795774647887324\n"
     ]
    }
   ],
   "source": [
    "print(\"test accuracy of final parameters:\", accuracy(x_test,Final_parameters,y_test))\n",
    "print(\"training accuracy of final parameters:\", accuracy(x_train, Final_parameters,y_train))"
   ]
  },
  {
   "cell_type": "code",
   "execution_count": 95,
   "metadata": {},
   "outputs": [
    {
     "data": {
      "text/plain": [
       "array([[99, 13],\n",
       "       [20, 45]])"
      ]
     },
     "execution_count": 95,
     "metadata": {},
     "output_type": "execute_result"
    }
   ],
   "source": [
    "from sklearn.metrics import confusion_matrix \n",
    "confusion_matrix(y_test, predictions(x_test,Final_parameters))"
   ]
  },
  {
   "cell_type": "code",
   "execution_count": 96,
   "metadata": {},
   "outputs": [
    {
     "name": "stdout",
     "output_type": "stream",
     "text": [
      "             precision    recall  f1-score   support\n",
      "\n",
      "        0.0       0.83      0.88      0.86       112\n",
      "        1.0       0.78      0.69      0.73        65\n",
      "\n",
      "avg / total       0.81      0.81      0.81       177\n",
      "\n",
      "Accuracy: 0.813559322034\n"
     ]
    }
   ],
   "source": [
    "#Classification report of test set\n",
    "from sklearn import metrics\n",
    "from sklearn.metrics import classification_report\n",
    "print(classification_report(y_test,predictions(x_test,Final_parameters)))\n",
    "print(\"Accuracy:\", metrics.accuracy_score(y_test, predictions(x_test,Final_parameters)))"
   ]
  },
  {
   "cell_type": "markdown",
   "metadata": {},
   "source": [
    "The model has a good generalisation ability, as the training accuracy is similar to the test accuracy, and a good prediction quality, as the test accuracy is high. "
   ]
  },
  {
   "cell_type": "markdown",
   "metadata": {},
   "source": [
    "# Using Ridge regression"
   ]
  },
  {
   "cell_type": "code",
   "execution_count": 97,
   "metadata": {
    "collapsed": true
   },
   "outputs": [],
   "source": [
    "def compute_cost_r(y,m,w,gamma): #scalar\n",
    "    h=sigmoid(m,w)\n",
    "    arg= (y*np.log(h)+(1-y)*np.log(1-h)) \n",
    "    p= gamma/2*(w.T.dot(w))\n",
    "    return (-(arg.T.dot(arg)) -  p)/len(y) "
   ]
  },
  {
   "cell_type": "code",
   "execution_count": 98,
   "metadata": {
    "collapsed": true
   },
   "outputs": [],
   "source": [
    "def compute_gradient_r(y,m,w,gamma): #vector\n",
    "    err = sigmoid(m,w)-y\n",
    "    grad = (m.T.dot(err))/len(y) + (gamma*w)/len(y)\n",
    "    return grad, err"
   ]
  },
  {
   "cell_type": "code",
   "execution_count": 99,
   "metadata": {
    "collapsed": true
   },
   "outputs": [],
   "source": [
    "def gradient_descent_r(y, m, initial_w, max_iters, tau, gamma):\n",
    "    ws = [initial_w]\n",
    "    losses = []\n",
    "    w = initial_w\n",
    "    for n_iter in range(max_iters):\n",
    "        # compute loss, gradient\n",
    "        grad, err = compute_gradient_r(y, m, w,gamma)\n",
    "        loss = compute_cost_r(y,m,w,gamma)\n",
    "        # gradient descent update\n",
    "        w = w - tau * grad\n",
    "        # store w and loss\n",
    "        ws.append(w)\n",
    "        losses.append(loss)\n",
    "        print(\"Gradient Descent({bi}/{ti}): loss={l}, w0={w0}, w1={w1}, w2={w2}, w3={w3}, w4={w4}, w5={w5}, w6={w6}\".format(\n",
    "              bi=n_iter, ti=max_iters - 1, l=loss,  w0=w[0], w1=w[1], w2=w[2], w3=w[3], w4=w[4], w5=w[5], w6=w[6]))\n",
    "    return losses, ws"
   ]
  },
  {
   "cell_type": "code",
   "execution_count": 100,
   "metadata": {
    "collapsed": true
   },
   "outputs": [],
   "source": [
    "def last_iter_parameters_r(y, m, initial_w, max_iters, tau, gamma):\n",
    "    ws = [initial_w]\n",
    "    losses = np.array([])\n",
    "    w = initial_w\n",
    "    for n_iter in range(max_iters):\n",
    "        # compute loss, gradient\n",
    "        grad, err = compute_gradient_r(y, m, w,gamma)\n",
    "        # gradient descent update\n",
    "        w = w - tau * grad\n",
    "        # store w and loss\n",
    "        ws.append(w)\n",
    "    return [w[0],w[1], w[2], w[3], w[4], w[5], w[6]] #gives a list of parameters for the last iterate"
   ]
  },
  {
   "cell_type": "code",
   "execution_count": 101,
   "metadata": {
    "collapsed": true
   },
   "outputs": [],
   "source": [
    "def losses_r(y, m, initial_w, max_iters, tau, gamma):\n",
    "    ws = [initial_w]\n",
    "    losses = []\n",
    "    w = initial_w\n",
    "    for n_iter in range(max_iters):\n",
    "        # compute loss, gradient\n",
    "        grad, err = compute_gradient_r(y, m, w,gamma)\n",
    "        loss = compute_cost_r(y,m,w,gamma)\n",
    "        # gradient w by descent update\n",
    "        w = w - tau * grad\n",
    "        # store w and loss\n",
    "        losses.append(loss)\n",
    "        print (loss)"
   ]
  },
  {
   "cell_type": "code",
   "execution_count": 102,
   "metadata": {
    "collapsed": true
   },
   "outputs": [],
   "source": [
    "def lossesplot_r(y, m, initial_w, max_iters, tau, gamma):\n",
    "    ws = [initial_w]\n",
    "    losses = []\n",
    "    w = initial_w\n",
    "    for n_iter in range(max_iters):\n",
    "        # compute loss, gradient\n",
    "        grad, err = compute_gradient_r(y, m, w, gamma)\n",
    "        loss = compute_cost_r(y, m, w, gamma)\n",
    "        # gradient descent update\n",
    "        w = w - tau * grad\n",
    "        # store w and loss\n",
    "        losses.append(loss)\n",
    "    cost = list(losses)\n",
    "    n_iterations = [x for x in range(1,max_iters+1)]\n",
    "    plt.plot(n_iterations, cost)\n",
    "    plt.xlabel('No. of iterations')\n",
    "    plt.ylabel('Cost')"
   ]
  },
  {
   "cell_type": "code",
   "execution_count": 103,
   "metadata": {
    "collapsed": true
   },
   "outputs": [],
   "source": [
    "def parameters_accuracies_r(y,x,tau,xt,yt,gamma):\n",
    "    for i in range (500,5000,500):\n",
    "        a= last_iter_parameters_r(y,x,w,i,tau,gamma)\n",
    "        b=accuracy(xt,a,yt)\n",
    "        print(\"with\", i,\"iterations and stepsize=\", tau, \"we get the following test accuracy:\", b)"
   ]
  },
  {
   "cell_type": "markdown",
   "metadata": {},
   "source": [
    "Deciding the gamma"
   ]
  },
  {
   "cell_type": "code",
   "execution_count": 104,
   "metadata": {},
   "outputs": [
    {
     "name": "stdout",
     "output_type": "stream",
     "text": [
      "for gamma= 1 : accuracy= 0.8248587570621468\n",
      "for gamma= 2 : accuracy= 0.8248587570621468\n",
      "for gamma= 3 : accuracy= 0.8248587570621468\n",
      "for gamma= 4 : accuracy= 0.8248587570621468\n",
      "for gamma= 5 : accuracy= 0.8135593220338984\n",
      "for gamma= 6 : accuracy= 0.8135593220338984\n",
      "for gamma= 7 : accuracy= 0.807909604519774\n",
      "for gamma= 8 : accuracy= 0.807909604519774\n",
      "for gamma= 9 : accuracy= 0.807909604519774\n"
     ]
    }
   ],
   "source": [
    "for i in range(1,10):\n",
    "    t=last_iter_parameters_r(y_train, x_train, w, 500, 1.9, i)\n",
    "    print (\"for gamma=\",i,\":\",\"accuracy=\",accuracy(x_test,t,y_test))"
   ]
  },
  {
   "cell_type": "code",
   "execution_count": 105,
   "metadata": {},
   "outputs": [
    {
     "data": {
      "text/plain": [
       "[0.71165532696435918,\n",
       " -2.0619340446478729,\n",
       " -2.6082850169977938,\n",
       " -2.143845401185597,\n",
       " -0.82646566010860212,\n",
       " 4.0113692532653253,\n",
       " 2.6704598213126456]"
      ]
     },
     "execution_count": 105,
     "metadata": {},
     "output_type": "execute_result"
    }
   ],
   "source": [
    "wr= last_iter_parameters(y_train, x_train, w, 500, 1.9)\n",
    "wr"
   ]
  },
  {
   "cell_type": "code",
   "execution_count": 106,
   "metadata": {},
   "outputs": [
    {
     "data": {
      "text/plain": [
       "[0.15950670652630392,\n",
       " -1.7060305215019655,\n",
       " -1.0128043995213531,\n",
       " -0.58341227966934439,\n",
       " -0.16891995502936419,\n",
       " 0.42372665077876548,\n",
       " 2.1995515841993321]"
      ]
     },
     "execution_count": 106,
     "metadata": {},
     "output_type": "execute_result"
    }
   ],
   "source": [
    "r= last_iter_parameters_r(y_train, x_train, w, 500, 1.9, 4)\n",
    "r"
   ]
  },
  {
   "cell_type": "markdown",
   "metadata": {},
   "source": [
    "Ridge regression regularisation has shrunk the parameters"
   ]
  },
  {
   "cell_type": "code",
   "execution_count": 107,
   "metadata": {},
   "outputs": [
    {
     "name": "stdout",
     "output_type": "stream",
     "text": [
      "accuracy of test set without regularisation: 0.8192090395480226\n",
      "accuracy of test set using ridge regression: 0.8248587570621468\n"
     ]
    }
   ],
   "source": [
    "print(\"accuracy of test set without regularisation:\", accuracy(x_test,last_iter_parameters(y_train, x_train, w, 500, 1.9),y_test))\n",
    "print(\"accuracy of test set using ridge regression:\", accuracy(x_test,last_iter_parameters_r(y_train, x_train, w, 500, 1.9, 4),y_test))"
   ]
  },
  {
   "cell_type": "markdown",
   "metadata": {},
   "source": [
    "Got higher accuracy with ridge regression regularisation, using the same number of iterations and stepsize."
   ]
  },
  {
   "cell_type": "markdown",
   "metadata": {},
   "source": [
    "To check if the cost converges with the number of iterations"
   ]
  },
  {
   "cell_type": "code",
   "execution_count": 108,
   "metadata": {},
   "outputs": [
    {
     "data": {
      "image/png": "[encoded data removed]",
      "text/plain": [
       "<matplotlib.figure.Figure at 0x1a20c91da0>"
      ]
     },
     "metadata": {},
     "output_type": "display_data"
    }
   ],
   "source": [
    "lossesplot_r(y_train, x_train, w, 500, 1.9, 4)"
   ]
  },
  {
   "cell_type": "markdown",
   "metadata": {},
   "source": [
    "# Trying cross validation on ridge regression"
   ]
  },
  {
   "cell_type": "markdown",
   "metadata": {},
   "source": [
    "Take maximum iterations=500, stepsize=1.9, gamma=4"
   ]
  },
  {
   "cell_type": "code",
   "execution_count": 109,
   "metadata": {},
   "outputs": [
    {
     "data": {
      "text/plain": [
       "array([ 0.06298842, -1.5992358 , -0.9856386 , -0.63295391, -0.18479148,\n",
       "        0.34226685,  2.22306279])"
      ]
     },
     "execution_count": 109,
     "metadata": {},
     "output_type": "execute_result"
    }
   ],
   "source": [
    "r_parameters_train_1=np.array(last_iter_parameters_r(y_train_1,x_train_1,w,500,1.9,4))\n",
    "r_parameters_train_2=np.array(last_iter_parameters_r(y_train_2,x_train_2,w,500,1.9,4))\n",
    "r_parameters_train_3=np.array(last_iter_parameters_r(y_train_3,x_train_3,w,500,1.9,4))\n",
    "r_parameters_train_4=np.array(last_iter_parameters_r(y_train_4,x_train_4,w,500,1.9,4))\n",
    "r_parameters_train_5=np.array(last_iter_parameters_r(y_train_5,x_train_5,w,500,1.9,4))\n",
    "\n",
    "r_final_parameters_train= (r_parameters_train_1+r_parameters_train_2+r_parameters_train_3+r_parameters_train_4+r_parameters_train_5)/5\n",
    "r_final_parameters_train"
   ]
  },
  {
   "cell_type": "markdown",
   "metadata": {},
   "source": [
    "Test accuracies of r_final_parameters_train"
   ]
  },
  {
   "cell_type": "code",
   "execution_count": 110,
   "metadata": {},
   "outputs": [
    {
     "name": "stdout",
     "output_type": "stream",
     "text": [
      "test accuracy of final parameters on fold 1: 0.8192090395480226\n",
      "test accuracy of final parameters on fold 2: 0.807909604519774\n",
      "test accuracy of final parameters on fold 3: 0.7853107344632768\n",
      "test accuracy of final parameters on fold 4: 0.751412429378531\n",
      "test accuracy of final parameters on fold 5: 0.8156424581005587\n"
     ]
    }
   ],
   "source": [
    "print(\"test accuracy of final parameters on fold 1:\", accuracy(x_test_1,r_final_parameters_train,y_test_1))\n",
    "print(\"test accuracy of final parameters on fold 2:\", accuracy(x_test_2,r_final_parameters_train,y_test_2))\n",
    "print(\"test accuracy of final parameters on fold 3:\", accuracy(x_test_3,r_final_parameters_train,y_test_3))\n",
    "print(\"test accuracy of final parameters on fold 4:\", accuracy(x_test_4,r_final_parameters_train,y_test_4))\n",
    "print(\"test accuracy of final parameters on fold 5:\", accuracy(x_test_5,r_final_parameters_train,y_test_5))"
   ]
  },
  {
   "cell_type": "markdown",
   "metadata": {},
   "source": [
    "Training accuracies of r_final_parameters_train"
   ]
  },
  {
   "cell_type": "code",
   "execution_count": 111,
   "metadata": {},
   "outputs": [
    {
     "name": "stdout",
     "output_type": "stream",
     "text": [
      "training accuracy of final parameters on fold 1: 0.7901408450704225\n",
      "training accuracy of final parameters on fold 2: 0.7929577464788733\n",
      "training accuracy of final parameters on fold 3: 0.7985915492957747\n",
      "training accuracy of final parameters on fold 4: 0.8070422535211268\n",
      "training accuracy of final parameters on fold 5: 0.7909604519774012\n"
     ]
    }
   ],
   "source": [
    "print(\"training accuracy of final parameters on fold 1:\", accuracy(x_train_1,r_final_parameters_train,y_train_1))\n",
    "print(\"training accuracy of final parameters on fold 2:\", accuracy(x_train_2,r_final_parameters_train,y_train_2))\n",
    "print(\"training accuracy of final parameters on fold 3:\", accuracy(x_train_3,r_final_parameters_train,y_train_3))\n",
    "print(\"training accuracy of final parameters on fold 4:\", accuracy(x_train_4,r_final_parameters_train,y_train_4))\n",
    "print(\"training accuracy of final parameters on fold 5:\", accuracy(x_train_5,r_final_parameters_train,y_train_5))"
   ]
  },
  {
   "cell_type": "markdown",
   "metadata": {},
   "source": [
    "Comparing parameters with and without regularisation"
   ]
  },
  {
   "cell_type": "code",
   "execution_count": 112,
   "metadata": {},
   "outputs": [
    {
     "name": "stdout",
     "output_type": "stream",
     "text": [
      "without regularisation: [ 0.68249687 -2.07204552 -2.4028372  -1.74407173 -0.99131621  3.95456535\n",
      "  2.59695742]\n",
      "with regulaisation: [ 0.18395711 -1.75056431 -0.9138937  -0.45661725 -0.21305888  0.45659528\n",
      "  2.15698159]\n",
      "without regularisation: [ 0.72151618 -2.11547432 -2.59947384 -2.69003883 -0.92275925  3.28856083\n",
      "  2.74981976]\n",
      "with regulaisation: [ 0.12251896 -1.7148897  -1.00744585 -0.75101724 -0.23375923  0.28834296\n",
      "  2.21559165]\n",
      "without regularisation: [ 0.61905725 -1.82014976 -2.81299093 -2.49559891 -0.85949393  4.28101527\n",
      "  2.67915876]\n",
      "with regulaisation: [ 0.07744427 -1.55455188 -1.09699325 -0.67437463 -0.23707917  0.48312178\n",
      "  2.21719792]\n",
      "without regularisation: [ 0.26024818 -1.595985   -2.46021285 -2.79848064  0.21709507  3.37585938\n",
      "  2.7464353 ]\n",
      "with regulaisation: [-0.10385909 -1.41844246 -1.02660095 -0.7396667   0.07941254  0.26581126\n",
      "  2.30425419]\n",
      "without regularisation: [ 0.3947827  -1.79334178 -2.06155767 -1.87525686 -1.23206349  3.13395301\n",
      "  2.67255468]\n",
      "with regulaisation: [ 0.03488083 -1.55773067 -0.88325927 -0.54309374 -0.31947268  0.21746299\n",
      "  2.2212886 ]\n"
     ]
    }
   ],
   "source": [
    "print(\"without regularisation:\", parameters_train_1)\n",
    "print(\"with regulaisation:\",r_parameters_train_1)\n",
    "print(\"without regularisation:\",parameters_train_2)\n",
    "print(\"with regulaisation:\",r_parameters_train_2)\n",
    "print(\"without regularisation:\",parameters_train_3)\n",
    "print(\"with regulaisation:\",r_parameters_train_3)\n",
    "print(\"without regularisation:\",parameters_train_4)\n",
    "print(\"with regulaisation:\",r_parameters_train_4)\n",
    "print(\"without regularisation:\",parameters_train_5)\n",
    "print(\"with regulaisation:\",r_parameters_train_5)"
   ]
  },
  {
   "cell_type": "code",
   "execution_count": 113,
   "metadata": {},
   "outputs": [
    {
     "name": "stdout",
     "output_type": "stream",
     "text": [
      "final parameters without regulaisation: [ 0.53562024 -1.87939928 -2.4674145  -2.32068939 -0.75770756  3.60679077\n",
      "  2.68898518]\n",
      "final parameters with regulaisation: [ 0.06298842 -1.5992358  -0.9856386  -0.63295391 -0.18479148  0.34226685\n",
      "  2.22306279]\n"
     ]
    }
   ],
   "source": [
    "print(\"final parameters without regulaisation:\",Final_parameters)\n",
    "print(\"final parameters with regulaisation:\",r_final_parameters_train)"
   ]
  },
  {
   "cell_type": "markdown",
   "metadata": {},
   "source": [
    "Cross validation on permuted dataset"
   ]
  },
  {
   "cell_type": "code",
   "execution_count": 114,
   "metadata": {
    "collapsed": true
   },
   "outputs": [],
   "source": [
    "#5 fold cross-validation on permuted dataset\n",
    "\n",
    "np.random.seed(10) \n",
    "perm=np.random.permutation(887)\n",
    "\n",
    "px_fold1= Matrix_Combine[perm][:177][:,0:7]\n",
    "py_fold1= Matrix_Combine[perm][:177][:,-1]\n",
    "\n",
    "px_fold2= Matrix_Combine[perm][177:354][:,0:7]\n",
    "py_fold2= Matrix_Combine[perm][177:354][:,-1]\n",
    "\n",
    "px_fold3= Matrix_Combine[perm][354:531][:,0:7]\n",
    "py_fold3= Matrix_Combine[perm][354:531][:,-1]\n",
    "\n",
    "px_fold4= Matrix_Combine[perm][531:708][:,0:7]\n",
    "py_fold4= Matrix_Combine[perm][531:708][:,-1]\n",
    "\n",
    "px_fold5= Matrix_Combine[perm][708:887][:,0:7]\n",
    "py_fold5= Matrix_Combine[perm][708:887][:,-1]\n",
    "\n",
    "#test on fold 1\n",
    "px_train_1, px_test_1= np.concatenate((px_fold2,px_fold3,px_fold4,px_fold5),axis=0), px_fold1\n",
    "py_train_1, py_test_1= np.concatenate((py_fold2,py_fold3,py_fold4,py_fold5),axis=0), py_fold1\n",
    "#test on fold 2\n",
    "px_train_2, px_test_2= np.concatenate((px_fold1,px_fold3,px_fold4,px_fold5),axis=0), px_fold2\n",
    "py_train_2, py_test_2= np.concatenate((py_fold1,py_fold3,py_fold4,py_fold5),axis=0), py_fold2\n",
    "#test on fold 3\n",
    "px_train_3, px_test_3= np.concatenate((px_fold1,px_fold2,px_fold4,px_fold5),axis=0), px_fold3\n",
    "py_train_3, py_test_3= np.concatenate((py_fold1,py_fold2,py_fold4,py_fold5),axis=0), py_fold3\n",
    "#test on fold 4\n",
    "px_train_4, px_test_4= np.concatenate((px_fold1,px_fold2,px_fold3,px_fold5),axis=0), px_fold4\n",
    "py_train_4, py_test_4= np.concatenate((py_fold1,py_fold2,py_fold3,py_fold5),axis=0), py_fold4\n",
    "#test on fold 5\n",
    "px_train_5, px_test_5= np.concatenate((px_fold1,px_fold2,px_fold3,px_fold4),axis=0), px_fold5\n",
    "py_train_5, py_test_5= np.concatenate((py_fold1,py_fold2,py_fold3,py_fold4),axis=0), py_fold5"
   ]
  },
  {
   "cell_type": "code",
   "execution_count": 115,
   "metadata": {},
   "outputs": [
    {
     "data": {
      "text/plain": [
       "array([ 0.06515621, -1.60184463, -0.9827436 , -0.62455225, -0.19086593,\n",
       "        0.34345629,  2.22434256])"
      ]
     },
     "execution_count": 115,
     "metadata": {},
     "output_type": "execute_result"
    }
   ],
   "source": [
    "pr_parameters_train_1=np.array(last_iter_parameters_r(py_train_1,px_train_1,w,500,1.9,4))\n",
    "pr_parameters_train_2=np.array(last_iter_parameters_r(py_train_2,px_train_2,w,500,1.9,4))\n",
    "pr_parameters_train_3=np.array(last_iter_parameters_r(py_train_3,px_train_3,w,500,1.9,4))\n",
    "pr_parameters_train_4=np.array(last_iter_parameters_r(py_train_4,px_train_4,w,500,1.9,4))\n",
    "pr_parameters_train_5=np.array(last_iter_parameters_r(py_train_5,px_train_5,w,500,1.9,4))\n",
    "\n",
    "pr_final_parameters_train= (pr_parameters_train_1+pr_parameters_train_2+pr_parameters_train_3+pr_parameters_train_4+pr_parameters_train_5)/5\n",
    "pr_final_parameters_train"
   ]
  },
  {
   "cell_type": "markdown",
   "metadata": {},
   "source": [
    "Test accuracies of pr_final_parameters_train"
   ]
  },
  {
   "cell_type": "code",
   "execution_count": 116,
   "metadata": {},
   "outputs": [
    {
     "name": "stdout",
     "output_type": "stream",
     "text": [
      "test accuracy of final parameters on fold 1: 0.8192090395480226\n",
      "test accuracy of final parameters on fold 2: 0.8135593220338984\n",
      "test accuracy of final parameters on fold 3: 0.7796610169491526\n",
      "test accuracy of final parameters on fold 4: 0.768361581920904\n",
      "test accuracy of final parameters on fold 5: 0.7988826815642458\n"
     ]
    }
   ],
   "source": [
    "print(\"test accuracy of final parameters on fold 1:\", accuracy(px_test_1,pr_final_parameters_train,py_test_1))\n",
    "print(\"test accuracy of final parameters on fold 2:\", accuracy(px_test_2,pr_final_parameters_train,py_test_2))\n",
    "print(\"test accuracy of final parameters on fold 3:\", accuracy(px_test_3,pr_final_parameters_train,py_test_3))\n",
    "print(\"test accuracy of final parameters on fold 4:\", accuracy(px_test_4,pr_final_parameters_train,py_test_4))\n",
    "print(\"test accuracy of final parameters on fold 5:\", accuracy(px_test_5,pr_final_parameters_train,py_test_5))"
   ]
  },
  {
   "cell_type": "markdown",
   "metadata": {},
   "source": [
    "Training accuracies of r_final_parameters_train"
   ]
  },
  {
   "cell_type": "code",
   "execution_count": 117,
   "metadata": {},
   "outputs": [
    {
     "name": "stdout",
     "output_type": "stream",
     "text": [
      "training accuracy of final parameters on fold 1: 0.7901408450704225\n",
      "training accuracy of final parameters on fold 2: 0.7915492957746478\n",
      "training accuracy of final parameters on fold 3: 0.8\n",
      "training accuracy of final parameters on fold 4: 0.8028169014084507\n",
      "training accuracy of final parameters on fold 5: 0.7951977401129944\n"
     ]
    }
   ],
   "source": [
    "print(\"training accuracy of final parameters on fold 1:\", accuracy(px_train_1,pr_final_parameters_train,py_train_1))\n",
    "print(\"training accuracy of final parameters on fold 2:\", accuracy(px_train_2,pr_final_parameters_train,py_train_2))\n",
    "print(\"training accuracy of final parameters on fold 3:\", accuracy(px_train_3,pr_final_parameters_train,py_train_3))\n",
    "print(\"training accuracy of final parameters on fold 4:\", accuracy(px_train_4,pr_final_parameters_train,py_train_4))\n",
    "print(\"training accuracy of final parameters on fold 5:\", accuracy(px_train_5,pr_final_parameters_train,py_train_5))"
   ]
  },
  {
   "cell_type": "markdown",
   "metadata": {},
   "source": [
    "Testing on x_test and y_test, defined earlier, in out of sample validation"
   ]
  },
  {
   "cell_type": "code",
   "execution_count": 118,
   "metadata": {},
   "outputs": [
    {
     "data": {
      "text/plain": [
       "0.8192090395480226"
      ]
     },
     "execution_count": 118,
     "metadata": {},
     "output_type": "execute_result"
    }
   ],
   "source": [
    "accuracy(x_test,pr_final_parameters_train,y_test)"
   ]
  },
  {
   "cell_type": "code",
   "execution_count": 119,
   "metadata": {},
   "outputs": [
    {
     "data": {
      "text/plain": [
       "array([[100,  12],\n",
       "       [ 20,  45]])"
      ]
     },
     "execution_count": 119,
     "metadata": {},
     "output_type": "execute_result"
    }
   ],
   "source": [
    "from sklearn.metrics import confusion_matrix \n",
    "confusion_matrix(y_test, predictions(x_test,pr_final_parameters_train))"
   ]
  },
  {
   "cell_type": "code",
   "execution_count": 120,
   "metadata": {},
   "outputs": [
    {
     "name": "stdout",
     "output_type": "stream",
     "text": [
      "             precision    recall  f1-score   support\n",
      "\n",
      "        0.0       0.83      0.89      0.86       112\n",
      "        1.0       0.79      0.69      0.74        65\n",
      "\n",
      "avg / total       0.82      0.82      0.82       177\n",
      "\n",
      "Accuracy: 0.819209039548\n"
     ]
    }
   ],
   "source": [
    "#Classification report of test set\n",
    "from sklearn import metrics\n",
    "from sklearn.metrics import classification_report\n",
    "print(classification_report(y_test,predictions(x_test,pr_final_parameters_train)))\n",
    "print(\"Accuracy:\", metrics.accuracy_score(y_test, predictions(x_test,pr_final_parameters_train)))"
   ]
  },
  {
   "cell_type": "markdown",
   "metadata": {},
   "source": [
    "# Reduced model- just including age and fare"
   ]
  },
  {
   "cell_type": "code",
   "execution_count": 121,
   "metadata": {
    "collapsed": true
   },
   "outputs": [],
   "source": [
    "def last_iter_parameters2(y, m, initial_w, max_iters, gamma):\n",
    "    ws = [initial_w]\n",
    "    losses = np.array([])\n",
    "    w = initial_w\n",
    "    for n_iter in range(max_iters):\n",
    "        # compute loss, gradient\n",
    "        grad, err = compute_gradient(y, m, w)\n",
    "        # gradient descent update\n",
    "        w = w - gamma * grad\n",
    "        # store w and loss\n",
    "        ws.append(w)\n",
    "    return [w[0],w[1],w[2]]"
   ]
  },
  {
   "cell_type": "code",
   "execution_count": 122,
   "metadata": {},
   "outputs": [
    {
     "data": {
      "text/plain": [
       "array([[ 1.        ,  0.27117366,  0.01415106],\n",
       "       [ 1.        ,  0.4722292 ,  0.13913574],\n",
       "       [ 1.        ,  0.32143755,  0.01546857],\n",
       "       ..., \n",
       "       [ 1.        ,  0.08268409,  0.04577135],\n",
       "       [ 1.        ,  0.32143755,  0.0585561 ],\n",
       "       [ 1.        ,  0.39683338,  0.01512699]])"
      ]
     },
     "execution_count": 122,
     "metadata": {},
     "output_type": "execute_result"
    }
   ],
   "source": [
    "#age, fare reduced model\n",
    "rm=Matrix[:,[0,2,5]]\n",
    "rm"
   ]
  },
  {
   "cell_type": "code",
   "execution_count": 123,
   "metadata": {
    "collapsed": true
   },
   "outputs": [],
   "source": [
    "#out of sample validation on reduced sample\n",
    "x_tr,x_te=rm[177:],rm[:177]\n",
    "y_tr,y_te=Output[177:],Output[:177]"
   ]
  },
  {
   "cell_type": "code",
   "execution_count": 124,
   "metadata": {},
   "outputs": [
    {
     "data": {
      "text/plain": [
       "[-0.4798951256098678, -1.0333451241214351, 7.2337381072714289]"
      ]
     },
     "execution_count": 124,
     "metadata": {},
     "output_type": "execute_result"
    }
   ],
   "source": [
    "prm=last_iter_parameters2(y_tr, x_tr, np.array([1,2,3]), 500, 1.9)\n",
    "prm"
   ]
  },
  {
   "cell_type": "code",
   "execution_count": 125,
   "metadata": {},
   "outputs": [
    {
     "data": {
      "text/plain": [
       "0.6440677966101694"
      ]
     },
     "execution_count": 125,
     "metadata": {},
     "output_type": "execute_result"
    }
   ],
   "source": [
    "accuracy(x_te,prm,y_te)"
   ]
  },
  {
   "cell_type": "markdown",
   "metadata": {},
   "source": [
    "# Reduced model- just including pclass and gender"
   ]
  },
  {
   "cell_type": "code",
   "execution_count": 126,
   "metadata": {
    "collapsed": true
   },
   "outputs": [],
   "source": [
    "def last_iter_parameters2(y, m, initial_w, max_iters, gamma):\n",
    "    ws = [initial_w]\n",
    "    losses = np.array([])\n",
    "    w = initial_w\n",
    "    for n_iter in range(max_iters):\n",
    "        # compute loss, gradient\n",
    "        grad, err = compute_gradient(y, m, w)\n",
    "        # gradient descent update\n",
    "        w = w - gamma * grad\n",
    "        # store w and loss\n",
    "        ws.append(w)\n",
    "    return [w[0],w[1],w[2]]"
   ]
  },
  {
   "cell_type": "code",
   "execution_count": 127,
   "metadata": {},
   "outputs": [
    {
     "data": {
      "text/plain": [
       "array([[ 1.,  1.,  0.],\n",
       "       [ 1.,  0.,  1.],\n",
       "       [ 1.,  1.,  1.],\n",
       "       ..., \n",
       "       [ 1.,  1.,  1.],\n",
       "       [ 1.,  0.,  0.],\n",
       "       [ 1.,  1.,  0.]])"
      ]
     },
     "execution_count": 127,
     "metadata": {},
     "output_type": "execute_result"
    }
   ],
   "source": [
    "#pclass and gender reduced model\n",
    "rm2=Matrix[:,[0,1,6]]\n",
    "rm2"
   ]
  },
  {
   "cell_type": "code",
   "execution_count": 128,
   "metadata": {
    "collapsed": true
   },
   "outputs": [],
   "source": [
    "#out of sample validation on reduced sample\n",
    "x_tr2,x_te2=rm2[177:],rm2[:177]\n",
    "y_tr2,y_te2=Output[177:],Output[:177]"
   ]
  },
  {
   "cell_type": "code",
   "execution_count": 129,
   "metadata": {},
   "outputs": [
    {
     "data": {
      "text/plain": [
       "[-0.10195279396348159, -2.1312159982494516, 2.5719217888881869]"
      ]
     },
     "execution_count": 129,
     "metadata": {},
     "output_type": "execute_result"
    }
   ],
   "source": [
    "prm2=last_iter_parameters2(y_tr2, x_tr2, np.array([1,2,3]), 500, 1.9)\n",
    "prm2"
   ]
  },
  {
   "cell_type": "code",
   "execution_count": 130,
   "metadata": {},
   "outputs": [
    {
     "data": {
      "text/plain": [
       "0.8135593220338984"
      ]
     },
     "execution_count": 130,
     "metadata": {},
     "output_type": "execute_result"
    }
   ],
   "source": [
    "accuracy(x_te2,prm2,y_te2)"
   ]
  },
  {
   "cell_type": "markdown",
   "metadata": {},
   "source": [
    "# Reduced model- just including, pclass, fare and gender"
   ]
  },
  {
   "cell_type": "code",
   "execution_count": 131,
   "metadata": {
    "collapsed": true
   },
   "outputs": [],
   "source": [
    "def last_iter_parameters3(y, m, initial_w, max_iters, gamma):\n",
    "    ws = [initial_w]\n",
    "    losses = np.array([])\n",
    "    w = initial_w\n",
    "    for n_iter in range(max_iters):\n",
    "        # compute loss, gradient\n",
    "        grad, err = compute_gradient(y, m, w)\n",
    "        # gradient descent update\n",
    "        w = w - gamma * grad\n",
    "        # store w and loss\n",
    "        ws.append(w)\n",
    "    return [w[0],w[1],w[2],w[3]]"
   ]
  },
  {
   "cell_type": "code",
   "execution_count": 132,
   "metadata": {},
   "outputs": [
    {
     "data": {
      "text/plain": [
       "array([[ 1.        ,  1.        ,  0.01415106,  0.        ],\n",
       "       [ 1.        ,  0.        ,  0.13913574,  1.        ],\n",
       "       [ 1.        ,  1.        ,  0.01546857,  1.        ],\n",
       "       ..., \n",
       "       [ 1.        ,  1.        ,  0.04577135,  1.        ],\n",
       "       [ 1.        ,  0.        ,  0.0585561 ,  0.        ],\n",
       "       [ 1.        ,  1.        ,  0.01512699,  0.        ]])"
      ]
     },
     "execution_count": 132,
     "metadata": {},
     "output_type": "execute_result"
    }
   ],
   "source": [
    "#pclass, fare and gender reduced model\n",
    "rm3=Matrix[:,[0,1,5,6]]\n",
    "rm3"
   ]
  },
  {
   "cell_type": "code",
   "execution_count": 133,
   "metadata": {
    "collapsed": true
   },
   "outputs": [],
   "source": [
    "#out of sample validation on reduced sample\n",
    "x_tr3,x_te3=rm3[177:],rm3[:177]\n",
    "y_tr3,y_te3=Output[177:],Output[:177]"
   ]
  },
  {
   "cell_type": "code",
   "execution_count": 134,
   "metadata": {},
   "outputs": [
    {
     "data": {
      "text/plain": [
       "[-0.36561340958303801,\n",
       " -1.8866118048076956,\n",
       " 2.1331621415259483,\n",
       " 2.5319970206435349]"
      ]
     },
     "execution_count": 134,
     "metadata": {},
     "output_type": "execute_result"
    }
   ],
   "source": [
    "prm3=last_iter_parameters3(y_tr3, x_tr3, np.array([1,2,3,4]), 500, 1.9)\n",
    "prm3"
   ]
  },
  {
   "cell_type": "code",
   "execution_count": 135,
   "metadata": {},
   "outputs": [
    {
     "data": {
      "text/plain": [
       "0.8022598870056498"
      ]
     },
     "execution_count": 135,
     "metadata": {},
     "output_type": "execute_result"
    }
   ],
   "source": [
    "accuracy(x_te3,prm3,y_te3)"
   ]
  },
  {
   "cell_type": "code",
   "execution_count": 136,
   "metadata": {},
   "outputs": [
    {
     "data": {
      "text/plain": [
       "0.8192090395480226"
      ]
     },
     "execution_count": 136,
     "metadata": {},
     "output_type": "execute_result"
    }
   ],
   "source": [
    "#accuracy of full model\n",
    "accuracy(x_test,wr,y_test)"
   ]
  },
  {
   "cell_type": "code",
   "execution_count": 137,
   "metadata": {},
   "outputs": [
    {
     "data": {
      "text/plain": [
       "0.8248587570621468"
      ]
     },
     "execution_count": 137,
     "metadata": {},
     "output_type": "execute_result"
    }
   ],
   "source": [
    "#accuracy of full model with ridge regression\n",
    "accuracy(x_test,r,y_test)"
   ]
  },
  {
   "cell_type": "markdown",
   "metadata": {},
   "source": [
    "# Summary of functions used"
   ]
  },
  {
   "cell_type": "code",
   "execution_count": 138,
   "metadata": {},
   "outputs": [],
   "source": [
    "#Initial weights\n",
    "w=np.array([1,2,3,4,5,6,7])\n",
    "\n",
    "def sigmoid(m,w): \n",
    "    return 1.0/(1 + np.exp(-np.dot(m,w))) \n",
    "\n",
    "def compute_cost(y,m,w): \n",
    "    h=sigmoid(m,w)\n",
    "    arg= (y*np.log(h)+(1-y)*np.log(1-h)) \n",
    "    return -(arg.T.dot(arg))/len(y) \n",
    "\n",
    "def compute_gradient(y,m,w): \n",
    "    err = sigmoid(m,w)-y\n",
    "    grad = (m.T.dot(err))/len(y) \n",
    "    return grad, err\n",
    "\n",
    "def gradient_descent(y, m, initial_w, max_iters, tau):\n",
    "    ws = [initial_w]\n",
    "    losses = []\n",
    "    w = initial_w\n",
    "    for n_iter in range(max_iters):\n",
    "        # compute loss, gradient\n",
    "        grad, err = compute_gradient(y, m, w)\n",
    "        loss = compute_cost(y,m,w)\n",
    "        # gradient descent update\n",
    "        w = w - tau * grad\n",
    "        # store w and loss\n",
    "        ws.append(w)\n",
    "        losses.append(loss)\n",
    "        print(\"Gradient Descent({bi}/{ti}): loss={l}, w0={w0}, w1={w1}, w2={w2}, w3={w3}, w4={w4}, w5={w5}, w6={w6}\".format(\n",
    "              bi=n_iter, ti=max_iters - 1, l=loss,  w0=w[0], w1=w[1], w2=w[2], w3=w[3], w4=w[4], w5=w[5], w6=w[6])) \n",
    "    return losses, ws\n",
    "\n",
    "def last_iter_parameters(y, m, initial_w, max_iters, tau):\n",
    "    ws = [initial_w]\n",
    "    losses = np.array([])\n",
    "    w = initial_w\n",
    "    for n_iter in range(max_iters):\n",
    "        # compute loss, gradient\n",
    "        grad, err = compute_gradient(y, m, w)\n",
    "        # gradient w by descent update\n",
    "        w = w - tau * grad\n",
    "        # store w and loss\n",
    "        ws.append(w)\n",
    "    return [w[0],w[1], w[2], w[3], w[4], w[5], w[6]] #gives a list of parameters for the last iterate\n",
    "\n",
    "def losses(y, m, initial_w, max_iters, tau):\n",
    "    ws = [initial_w]\n",
    "    losses = []\n",
    "    w = initial_w\n",
    "    for n_iter in range(max_iters):\n",
    "        # compute loss, gradient\n",
    "        grad, err = compute_gradient(y, m, w)\n",
    "        loss = compute_cost(y,m,w)\n",
    "        # gradient w by descent update\n",
    "        w = w - tau * grad\n",
    "        # store w and loss\n",
    "        losses.append(loss)\n",
    "        print (loss)\n",
    "        \n",
    "def lossesplot(y, m, initial_w, max_iters, tau):\n",
    "    ws = [initial_w]\n",
    "    losses = []\n",
    "    w = initial_w\n",
    "    for n_iter in range(max_iters):\n",
    "        # compute loss, gradient\n",
    "        grad, err = compute_gradient(y, m, w)\n",
    "        loss = compute_cost(y,m,w)\n",
    "        # gradient descent update\n",
    "        w = w - tau * grad\n",
    "        # store w and loss\n",
    "        losses.append(loss)\n",
    "    cost = list(losses)\n",
    "    n_iterations = [x for x in range(1,max_iters+1)]\n",
    "    plt.plot(n_iterations, cost)\n",
    "    plt.xlabel('No. of iterations')\n",
    "    plt.ylabel('Cost')\n",
    "        \n",
    "def predictions(X,w):\n",
    "    preds=[]\n",
    "    for i in sigmoid(X, w):\n",
    "        if i> 0.5:\n",
    "            preds.append(1)\n",
    "        if i < 0.5:\n",
    "            preds.append(0)\n",
    "    return np.array(preds)\n",
    "\n",
    "def accuracy(X,w,y):\n",
    "    return len(np.array((np.where(predictions(X,w)==y))).T)/len(y)\n",
    "\n",
    "def parameters_accuracies(y,x,tau,xt,yt):\n",
    "    for i in range (500,5000,500):\n",
    "        a= last_iter_parameters(y,x,w,i,gamma)\n",
    "        b=accuracy(xt,a,yt)\n",
    "        print(\"with\", i,\"iterations and stepsize=\", tau, \"we get the following test accuracy:\", b)\n",
    "        \n",
    "#Ridge logistric regression   \n",
    "\n",
    "def compute_cost_r(y,m,w,gamma): \n",
    "    h=sigmoid(m,w)\n",
    "    arg= (y*np.log(h)+(1-y)*np.log(1-h)) \n",
    "    p= gamma/2*(w.T.dot(w))\n",
    "    return (-(arg.T.dot(arg)) -  p)/len(y) \n",
    "\n",
    "def compute_gradient_r(y,m,w,gamma):\n",
    "    err = sigmoid(m,w)-y\n",
    "    grad = (m.T.dot(err))/len(y) + (gamma*w)/len(y)\n",
    "    return grad, err\n",
    "\n",
    "def gradient_descent_r(y, m, initial_w, max_iters, tau, gamma):\n",
    "    ws = [initial_w]\n",
    "    losses = []\n",
    "    w = initial_w\n",
    "    for n_iter in range(max_iters):\n",
    "        # compute loss, gradient\n",
    "        grad, err = compute_gradient_r(y, m, w,gamma)\n",
    "        loss = compute_cost_r(y,m,w,gamma)\n",
    "        # gradient descent update\n",
    "        w = w - tau * grad\n",
    "        # store w and loss\n",
    "        ws.append(w)\n",
    "        losses.append(loss)\n",
    "        print(\"Gradient Descent({bi}/{ti}): loss={l}, w0={w0}, w1={w1}, w2={w2}, w3={w3}, w4={w4}, w5={w5}, w6={w6}\".format(\n",
    "              bi=n_iter, ti=max_iters - 1, l=loss,  w0=w[0], w1=w[1], w2=w[2], w3=w[3], w4=w[4], w5=w[5], w6=w[6]))    \n",
    "    return losses, ws\n",
    "\n",
    "def last_iter_parameters_r(y, m, initial_w, max_iters, tau, gamma):\n",
    "    ws = [initial_w]\n",
    "    losses = np.array([])\n",
    "    w = initial_w\n",
    "    for n_iter in range(max_iters):\n",
    "        # compute loss, gradient\n",
    "        grad, err = compute_gradient_r(y, m, w,gamma)\n",
    "        # gradient descent update\n",
    "        w = w - tau * grad\n",
    "        # store w and loss\n",
    "        ws.append(w)\n",
    "    return [w[0],w[1], w[2], w[3], w[4], w[5], w[6]] #gives a list of parameters for the last iterate\n",
    "\n",
    "def losses_r(y, m, initial_w, max_iters, tau, gamma):\n",
    "    ws = [initial_w]\n",
    "    losses = []\n",
    "    w = initial_w\n",
    "    for n_iter in range(max_iters):\n",
    "        # compute loss, gradient\n",
    "        grad, err = compute_gradient_r(y, m, w,gamma)\n",
    "        loss = compute_cost_r(y,m,w,gamma)\n",
    "        # gradient w by descent update\n",
    "        w = w - tau * grad\n",
    "        # store w and loss\n",
    "        losses.append(loss)\n",
    "        print (loss)\n",
    "\n",
    "def lossesplot_r(y, m, initial_w, max_iters, tau, gamma):\n",
    "    ws = [initial_w]\n",
    "    losses = []\n",
    "    w = initial_w\n",
    "    for n_iter in range(max_iters):\n",
    "        # compute loss, gradient\n",
    "        grad, err = compute_gradient_r(y, m, w, gamma)\n",
    "        loss = compute_cost_r(y, m, w, gamma)\n",
    "        # gradient descent update\n",
    "        w = w - tau * grad\n",
    "        # store w and loss\n",
    "        losses.append(loss)\n",
    "    cost = list(losses)\n",
    "    n_iterations = [x for x in range(1,max_iters+1)]\n",
    "    plt.plot(n_iterations, cost)\n",
    "    plt.xlabel('No. of iterations')\n",
    "    plt.ylabel('Cost')\n",
    "        \n",
    "def parameters_accuracies_r(y,x,tau,xt,yt,gamma):\n",
    "    for i in range (500,5000,500):\n",
    "        a= last_iter_parameters_r(y,x,w,i,tau,gamma)\n",
    "        b=accuracy(xt,a,yt)\n",
    "        print(\"with\", i,\"iterations and stepsize=\", tau, \"we get the following test accuracy:\", b)\n",
    "        \n",
    "#out of sample validation\n",
    "np.random.seed(10) #20-80 split\n",
    "perm=np.random.permutation(887)\n",
    "x_train,x_test= Matrix_Combine[perm][177:][:,0:7],Matrix_Combine[perm][:177][:,0:7]\n",
    "y_train,y_test=Matrix_Combine[perm][177:][:,-1],Matrix_Combine[perm][:177][:,-1]\n",
    "    \n",
    "#5 fold cross-validation\n",
    "x_fold1= Matrix_Combine[:177][:,0:7]\n",
    "y_fold1= Matrix_Combine[:177][:,-1]\n",
    "x_fold2= Matrix_Combine[177:354][:,0:7]\n",
    "y_fold2= Matrix_Combine[177:354][:,-1]\n",
    "x_fold3= Matrix_Combine[354:531][:,0:7]\n",
    "y_fold3= Matrix_Combine[354:531][:,-1]\n",
    "x_fold4= Matrix_Combine[531:708][:,0:7]\n",
    "y_fold4= Matrix_Combine[531:708][:,-1]\n",
    "x_fold5= Matrix_Combine[708:887][:,0:7]\n",
    "y_fold5= Matrix_Combine[708:887][:,-1]\n",
    "#test on fold 1\n",
    "x_train_1, x_test_1= np.concatenate((x_fold2,x_fold3,x_fold4,x_fold5),axis=0), x_fold1\n",
    "y_train_1, y_test_1= np.concatenate((y_fold2,y_fold3,y_fold4,y_fold5),axis=0), y_fold1\n",
    "#test on fold 2\n",
    "x_train_2, x_test_2= np.concatenate((x_fold1,x_fold3,x_fold4,x_fold5),axis=0), x_fold2\n",
    "y_train_2, y_test_2= np.concatenate((y_fold1,y_fold3,y_fold4,y_fold5),axis=0), y_fold2\n",
    "#test on fold 3\n",
    "x_train_3, x_test_3= np.concatenate((x_fold1,x_fold2,x_fold4,x_fold5),axis=0), x_fold3\n",
    "y_train_3, y_test_3= np.concatenate((y_fold1,y_fold2,y_fold4,y_fold5),axis=0), y_fold3\n",
    "#test on fold 4\n",
    "x_train_4, x_test_4= np.concatenate((x_fold1,x_fold2,x_fold3,x_fold5),axis=0), x_fold4\n",
    "y_train_4, y_test_4= np.concatenate((y_fold1,y_fold2,y_fold3,y_fold5),axis=0), y_fold4\n",
    "#test on fold 5\n",
    "x_train_5, x_test_5= np.concatenate((x_fold1,x_fold2,x_fold3,x_fold4),axis=0), x_fold5\n",
    "y_train_5, y_test_5= np.concatenate((y_fold1,y_fold2,y_fold3,y_fold4),axis=0), y_fold5\n",
    "\n",
    "#5 fold cross-validation on permuted dataset\n",
    "np.random.seed(1) \n",
    "perm=np.random.permutation(887)\n",
    "px_fold1= Matrix_Combine[perm][:177][:,0:7]\n",
    "py_fold1= Matrix_Combine[perm][:177][:,-1]\n",
    "px_fold2= Matrix_Combine[perm][177:354][:,0:7]\n",
    "py_fold2= Matrix_Combine[perm][177:354][:,-1]\n",
    "px_fold3= Matrix_Combine[perm][354:531][:,0:7]\n",
    "py_fold3= Matrix_Combine[perm][354:531][:,-1]\n",
    "px_fold4= Matrix_Combine[perm][531:708][:,0:7]\n",
    "py_fold4= Matrix_Combine[perm][531:708][:,-1]\n",
    "px_fold5= Matrix_Combine[perm][708:887][:,0:7]\n",
    "py_fold5= Matrix_Combine[perm][708:887][:,-1]\n",
    "#test on fold 1\n",
    "px_train_1, px_test_1= np.concatenate((px_fold2,px_fold3,px_fold4,px_fold5),axis=0), px_fold1\n",
    "py_train_1, py_test_1= np.concatenate((py_fold2,py_fold3,py_fold4,py_fold5),axis=0), py_fold1\n",
    "#test on fold 2\n",
    "px_train_2, px_test_2= np.concatenate((px_fold1,px_fold3,px_fold4,px_fold5),axis=0), px_fold2\n",
    "py_train_2, py_test_2= np.concatenate((py_fold1,py_fold3,py_fold4,py_fold5),axis=0), py_fold2\n",
    "#test on fold 3\n",
    "px_train_3, px_test_3= np.concatenate((px_fold1,px_fold2,px_fold4,px_fold5),axis=0), px_fold3\n",
    "py_train_3, py_test_3= np.concatenate((py_fold1,py_fold2,py_fold4,py_fold5),axis=0), py_fold3\n",
    "#test on fold 4\n",
    "px_train_4, px_test_4= np.concatenate((px_fold1,px_fold2,px_fold3,px_fold5),axis=0), px_fold4\n",
    "py_train_4, py_test_4= np.concatenate((py_fold1,py_fold2,py_fold3,py_fold5),axis=0), py_fold4\n",
    "#test on fold 5\n",
    "px_train_5, px_test_5= np.concatenate((px_fold1,px_fold2,px_fold3,px_fold4),axis=0), px_fold5\n",
    "py_train_5, py_test_5= np.concatenate((py_fold1,py_fold2,py_fold3,py_fold4),axis=0), py_fold5"
   ]
  },
  {
   "cell_type": "code",
   "execution_count": null,
   "metadata": {
    "collapsed": true
   },
   "outputs": [],
   "source": []
  },
  {
   "cell_type": "code",
   "execution_count": null,
   "metadata": {
    "collapsed": true
   },
   "outputs": [],
   "source": []
  },
  {
   "cell_type": "code",
   "execution_count": null,
   "metadata": {
    "collapsed": true
   },
   "outputs": [],
   "source": []
  }
 ],
 "metadata": {
  "kernelspec": {
   "display_name": "Python 3",
   "language": "python",
   "name": "python3"
  },
  "language_info": {
   "codemirror_mode": {
    "name": "ipython",
    "version": 3
   },
   "file_extension": ".py",
   "mimetype": "text/x-python",
   "name": "python",
   "nbconvert_exporter": "python",
   "pygments_lexer": "ipython3",
   "version": "3.6.2"
  }
 },
 "nbformat": 4,
 "nbformat_minor": 2
}
